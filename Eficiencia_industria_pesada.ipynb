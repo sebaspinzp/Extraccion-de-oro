{
 "cells": [
  {
   "cell_type": "markdown",
   "metadata": {},
   "source": [
    "# Proyecto\n",
    "Preparar un prototipo de un modelo de machine learning para Zyfra. La empresa desarrolla soluciones de eficiencia para la industria pesada.\n",
    "\n",
    "El modelo debe predecir la cantidad de oro extraído del mineral de oro. Dispones de los datos de extracción y purificación. El modelo ayudará a optimizar la producción y a eliminar los parámetros no rentables."
   ]
  },
  {
   "cell_type": "markdown",
   "metadata": {},
   "source": [
    "# 1. Preparacion de datos"
   ]
  },
  {
   "cell_type": "markdown",
   "metadata": {},
   "source": [
    "# 1.1 Lectura y verificacion de datos"
   ]
  },
  {
   "cell_type": "markdown",
   "metadata": {},
   "source": [
    "1.1.1 Importar librerias"
   ]
  },
  {
   "cell_type": "code",
   "execution_count": 40,
   "metadata": {
    "trusted": false
   },
   "outputs": [],
   "source": [
    "import pandas as pd\n",
    "import numpy as np\n",
    "import seaborn as sns\n",
    "from scipy import stats as st\n",
    "from matplotlib import pyplot as plt\n",
    "from sklearn.tree import DecisionTreeRegressor\n",
    "from sklearn.ensemble import RandomForestRegressor\n",
    "from sklearn.linear_model import LinearRegression\n",
    "from sklearn.model_selection import train_test_split\n",
    "from sklearn.metrics import mean_squared_error\n",
    "from sklearn.preprocessing import StandardScaler\n",
    "from sklearn.model_selection import cross_val_score"
   ]
  },
  {
   "cell_type": "markdown",
   "metadata": {},
   "source": [
    "1.1.2 Lectura de datos"
   ]
  },
  {
   "cell_type": "code",
   "execution_count": 41,
   "metadata": {
    "trusted": false
   },
   "outputs": [],
   "source": [
    "gold_recovery_train= pd.read_csv(\"/datasets/gold_recovery_train.csv\")\n",
    "gold_recovery_test= pd.read_csv(\"/datasets/gold_recovery_test.csv\")\n",
    "gold_recovery_full= pd.read_csv(\"/datasets/gold_recovery_full.csv\")"
   ]
  },
  {
   "cell_type": "markdown",
   "metadata": {},
   "source": [
    "1.1.3 Verificacion de los conjuntos de datos disponibles: "
   ]
  },
  {
   "cell_type": "markdown",
   "metadata": {},
   "source": [
    "Conjunto de datos: gold_recovery_full"
   ]
  },
  {
   "cell_type": "code",
   "execution_count": 42,
   "metadata": {
    "scrolled": true,
    "trusted": false
   },
   "outputs": [
    {
     "name": "stdout",
     "output_type": "stream",
     "text": [
      "<class 'pandas.core.frame.DataFrame'>\n",
      "RangeIndex: 22716 entries, 0 to 22715\n",
      "Data columns (total 87 columns):\n",
      " #   Column                                              Non-Null Count  Dtype  \n",
      "---  ------                                              --------------  -----  \n",
      " 0   date                                                22716 non-null  object \n",
      " 1   final.output.concentrate_ag                         22627 non-null  float64\n",
      " 2   final.output.concentrate_pb                         22629 non-null  float64\n",
      " 3   final.output.concentrate_sol                        22331 non-null  float64\n",
      " 4   final.output.concentrate_au                         22630 non-null  float64\n",
      " 5   final.output.recovery                               20753 non-null  float64\n",
      " 6   final.output.tail_ag                                22633 non-null  float64\n",
      " 7   final.output.tail_pb                                22516 non-null  float64\n",
      " 8   final.output.tail_sol                               22445 non-null  float64\n",
      " 9   final.output.tail_au                                22635 non-null  float64\n",
      " 10  primary_cleaner.input.sulfate                       21107 non-null  float64\n",
      " 11  primary_cleaner.input.depressant                    21170 non-null  float64\n",
      " 12  primary_cleaner.input.feed_size                     22716 non-null  float64\n",
      " 13  primary_cleaner.input.xanthate                      21565 non-null  float64\n",
      " 14  primary_cleaner.output.concentrate_ag               22618 non-null  float64\n",
      " 15  primary_cleaner.output.concentrate_pb               22268 non-null  float64\n",
      " 16  primary_cleaner.output.concentrate_sol              21918 non-null  float64\n",
      " 17  primary_cleaner.output.concentrate_au               22618 non-null  float64\n",
      " 18  primary_cleaner.output.tail_ag                      22614 non-null  float64\n",
      " 19  primary_cleaner.output.tail_pb                      22594 non-null  float64\n",
      " 20  primary_cleaner.output.tail_sol                     22365 non-null  float64\n",
      " 21  primary_cleaner.output.tail_au                      22617 non-null  float64\n",
      " 22  primary_cleaner.state.floatbank8_a_air              22660 non-null  float64\n",
      " 23  primary_cleaner.state.floatbank8_a_level            22667 non-null  float64\n",
      " 24  primary_cleaner.state.floatbank8_b_air              22660 non-null  float64\n",
      " 25  primary_cleaner.state.floatbank8_b_level            22673 non-null  float64\n",
      " 26  primary_cleaner.state.floatbank8_c_air              22662 non-null  float64\n",
      " 27  primary_cleaner.state.floatbank8_c_level            22673 non-null  float64\n",
      " 28  primary_cleaner.state.floatbank8_d_air              22661 non-null  float64\n",
      " 29  primary_cleaner.state.floatbank8_d_level            22673 non-null  float64\n",
      " 30  rougher.calculation.sulfate_to_au_concentrate       22672 non-null  float64\n",
      " 31  rougher.calculation.floatbank10_sulfate_to_au_feed  22672 non-null  float64\n",
      " 32  rougher.calculation.floatbank11_sulfate_to_au_feed  22672 non-null  float64\n",
      " 33  rougher.calculation.au_pb_ratio                     21089 non-null  float64\n",
      " 34  rougher.input.feed_ag                               22618 non-null  float64\n",
      " 35  rougher.input.feed_pb                               22472 non-null  float64\n",
      " 36  rougher.input.feed_rate                             22163 non-null  float64\n",
      " 37  rougher.input.feed_size                             22277 non-null  float64\n",
      " 38  rougher.input.feed_sol                              22357 non-null  float64\n",
      " 39  rougher.input.feed_au                               22617 non-null  float64\n",
      " 40  rougher.input.floatbank10_sulfate                   21415 non-null  float64\n",
      " 41  rougher.input.floatbank10_xanthate                  22247 non-null  float64\n",
      " 42  rougher.input.floatbank11_sulfate                   22038 non-null  float64\n",
      " 43  rougher.input.floatbank11_xanthate                  20459 non-null  float64\n",
      " 44  rougher.output.concentrate_ag                       22618 non-null  float64\n",
      " 45  rougher.output.concentrate_pb                       22618 non-null  float64\n",
      " 46  rougher.output.concentrate_sol                      22526 non-null  float64\n",
      " 47  rougher.output.concentrate_au                       22618 non-null  float64\n",
      " 48  rougher.output.recovery                             19597 non-null  float64\n",
      " 49  rougher.output.tail_ag                              19979 non-null  float64\n",
      " 50  rougher.output.tail_pb                              22618 non-null  float64\n",
      " 51  rougher.output.tail_sol                             19980 non-null  float64\n",
      " 52  rougher.output.tail_au                              19980 non-null  float64\n",
      " 53  rougher.state.floatbank10_a_air                     22646 non-null  float64\n",
      " 54  rougher.state.floatbank10_a_level                   22647 non-null  float64\n",
      " 55  rougher.state.floatbank10_b_air                     22646 non-null  float64\n",
      " 56  rougher.state.floatbank10_b_level                   22647 non-null  float64\n",
      " 57  rougher.state.floatbank10_c_air                     22646 non-null  float64\n",
      " 58  rougher.state.floatbank10_c_level                   22654 non-null  float64\n",
      " 59  rougher.state.floatbank10_d_air                     22641 non-null  float64\n",
      " 60  rougher.state.floatbank10_d_level                   22649 non-null  float64\n",
      " 61  rougher.state.floatbank10_e_air                     22096 non-null  float64\n",
      " 62  rougher.state.floatbank10_e_level                   22649 non-null  float64\n",
      " 63  rougher.state.floatbank10_f_air                     22641 non-null  float64\n",
      " 64  rougher.state.floatbank10_f_level                   22642 non-null  float64\n",
      " 65  secondary_cleaner.output.tail_ag                    22616 non-null  float64\n",
      " 66  secondary_cleaner.output.tail_pb                    22600 non-null  float64\n",
      " 67  secondary_cleaner.output.tail_sol                   20501 non-null  float64\n",
      " 68  secondary_cleaner.output.tail_au                    22618 non-null  float64\n",
      " 69  secondary_cleaner.state.floatbank2_a_air            22333 non-null  float64\n",
      " 70  secondary_cleaner.state.floatbank2_a_level          22591 non-null  float64\n",
      " 71  secondary_cleaner.state.floatbank2_b_air            22538 non-null  float64\n",
      " 72  secondary_cleaner.state.floatbank2_b_level          22588 non-null  float64\n",
      " 73  secondary_cleaner.state.floatbank3_a_air            22585 non-null  float64\n",
      " 74  secondary_cleaner.state.floatbank3_a_level          22587 non-null  float64\n",
      " 75  secondary_cleaner.state.floatbank3_b_air            22592 non-null  float64\n",
      " 76  secondary_cleaner.state.floatbank3_b_level          22590 non-null  float64\n",
      " 77  secondary_cleaner.state.floatbank4_a_air            22571 non-null  float64\n",
      " 78  secondary_cleaner.state.floatbank4_a_level          22587 non-null  float64\n",
      " 79  secondary_cleaner.state.floatbank4_b_air            22608 non-null  float64\n",
      " 80  secondary_cleaner.state.floatbank4_b_level          22607 non-null  float64\n",
      " 81  secondary_cleaner.state.floatbank5_a_air            22615 non-null  float64\n",
      " 82  secondary_cleaner.state.floatbank5_a_level          22615 non-null  float64\n",
      " 83  secondary_cleaner.state.floatbank5_b_air            22615 non-null  float64\n",
      " 84  secondary_cleaner.state.floatbank5_b_level          22616 non-null  float64\n",
      " 85  secondary_cleaner.state.floatbank6_a_air            22597 non-null  float64\n",
      " 86  secondary_cleaner.state.floatbank6_a_level          22615 non-null  float64\n",
      "dtypes: float64(86), object(1)\n",
      "memory usage: 15.1+ MB\n"
     ]
    }
   ],
   "source": [
    "gold_recovery_full.info()"
   ]
  },
  {
   "cell_type": "markdown",
   "metadata": {},
   "source": [
    "Conjunto de datos: gold_recovery_train"
   ]
  },
  {
   "cell_type": "code",
   "execution_count": 43,
   "metadata": {
    "scrolled": true,
    "trusted": false
   },
   "outputs": [
    {
     "name": "stdout",
     "output_type": "stream",
     "text": [
      "<class 'pandas.core.frame.DataFrame'>\n",
      "RangeIndex: 16860 entries, 0 to 16859\n",
      "Data columns (total 87 columns):\n",
      " #   Column                                              Non-Null Count  Dtype  \n",
      "---  ------                                              --------------  -----  \n",
      " 0   date                                                16860 non-null  object \n",
      " 1   final.output.concentrate_ag                         16788 non-null  float64\n",
      " 2   final.output.concentrate_pb                         16788 non-null  float64\n",
      " 3   final.output.concentrate_sol                        16490 non-null  float64\n",
      " 4   final.output.concentrate_au                         16789 non-null  float64\n",
      " 5   final.output.recovery                               15339 non-null  float64\n",
      " 6   final.output.tail_ag                                16794 non-null  float64\n",
      " 7   final.output.tail_pb                                16677 non-null  float64\n",
      " 8   final.output.tail_sol                               16715 non-null  float64\n",
      " 9   final.output.tail_au                                16794 non-null  float64\n",
      " 10  primary_cleaner.input.sulfate                       15553 non-null  float64\n",
      " 11  primary_cleaner.input.depressant                    15598 non-null  float64\n",
      " 12  primary_cleaner.input.feed_size                     16860 non-null  float64\n",
      " 13  primary_cleaner.input.xanthate                      15875 non-null  float64\n",
      " 14  primary_cleaner.output.concentrate_ag               16778 non-null  float64\n",
      " 15  primary_cleaner.output.concentrate_pb               16502 non-null  float64\n",
      " 16  primary_cleaner.output.concentrate_sol              16224 non-null  float64\n",
      " 17  primary_cleaner.output.concentrate_au               16778 non-null  float64\n",
      " 18  primary_cleaner.output.tail_ag                      16777 non-null  float64\n",
      " 19  primary_cleaner.output.tail_pb                      16761 non-null  float64\n",
      " 20  primary_cleaner.output.tail_sol                     16579 non-null  float64\n",
      " 21  primary_cleaner.output.tail_au                      16777 non-null  float64\n",
      " 22  primary_cleaner.state.floatbank8_a_air              16820 non-null  float64\n",
      " 23  primary_cleaner.state.floatbank8_a_level            16827 non-null  float64\n",
      " 24  primary_cleaner.state.floatbank8_b_air              16820 non-null  float64\n",
      " 25  primary_cleaner.state.floatbank8_b_level            16833 non-null  float64\n",
      " 26  primary_cleaner.state.floatbank8_c_air              16822 non-null  float64\n",
      " 27  primary_cleaner.state.floatbank8_c_level            16833 non-null  float64\n",
      " 28  primary_cleaner.state.floatbank8_d_air              16821 non-null  float64\n",
      " 29  primary_cleaner.state.floatbank8_d_level            16833 non-null  float64\n",
      " 30  rougher.calculation.sulfate_to_au_concentrate       16833 non-null  float64\n",
      " 31  rougher.calculation.floatbank10_sulfate_to_au_feed  16833 non-null  float64\n",
      " 32  rougher.calculation.floatbank11_sulfate_to_au_feed  16833 non-null  float64\n",
      " 33  rougher.calculation.au_pb_ratio                     15618 non-null  float64\n",
      " 34  rougher.input.feed_ag                               16778 non-null  float64\n",
      " 35  rougher.input.feed_pb                               16632 non-null  float64\n",
      " 36  rougher.input.feed_rate                             16347 non-null  float64\n",
      " 37  rougher.input.feed_size                             16443 non-null  float64\n",
      " 38  rougher.input.feed_sol                              16568 non-null  float64\n",
      " 39  rougher.input.feed_au                               16777 non-null  float64\n",
      " 40  rougher.input.floatbank10_sulfate                   15816 non-null  float64\n",
      " 41  rougher.input.floatbank10_xanthate                  16514 non-null  float64\n",
      " 42  rougher.input.floatbank11_sulfate                   16237 non-null  float64\n",
      " 43  rougher.input.floatbank11_xanthate                  14956 non-null  float64\n",
      " 44  rougher.output.concentrate_ag                       16778 non-null  float64\n",
      " 45  rougher.output.concentrate_pb                       16778 non-null  float64\n",
      " 46  rougher.output.concentrate_sol                      16698 non-null  float64\n",
      " 47  rougher.output.concentrate_au                       16778 non-null  float64\n",
      " 48  rougher.output.recovery                             14287 non-null  float64\n",
      " 49  rougher.output.tail_ag                              14610 non-null  float64\n",
      " 50  rougher.output.tail_pb                              16778 non-null  float64\n",
      " 51  rougher.output.tail_sol                             14611 non-null  float64\n",
      " 52  rougher.output.tail_au                              14611 non-null  float64\n",
      " 53  rougher.state.floatbank10_a_air                     16807 non-null  float64\n",
      " 54  rougher.state.floatbank10_a_level                   16807 non-null  float64\n",
      " 55  rougher.state.floatbank10_b_air                     16807 non-null  float64\n",
      " 56  rougher.state.floatbank10_b_level                   16807 non-null  float64\n",
      " 57  rougher.state.floatbank10_c_air                     16807 non-null  float64\n",
      " 58  rougher.state.floatbank10_c_level                   16814 non-null  float64\n",
      " 59  rougher.state.floatbank10_d_air                     16802 non-null  float64\n",
      " 60  rougher.state.floatbank10_d_level                   16809 non-null  float64\n",
      " 61  rougher.state.floatbank10_e_air                     16257 non-null  float64\n",
      " 62  rougher.state.floatbank10_e_level                   16809 non-null  float64\n",
      " 63  rougher.state.floatbank10_f_air                     16802 non-null  float64\n",
      " 64  rougher.state.floatbank10_f_level                   16802 non-null  float64\n",
      " 65  secondary_cleaner.output.tail_ag                    16776 non-null  float64\n",
      " 66  secondary_cleaner.output.tail_pb                    16764 non-null  float64\n",
      " 67  secondary_cleaner.output.tail_sol                   14874 non-null  float64\n",
      " 68  secondary_cleaner.output.tail_au                    16778 non-null  float64\n",
      " 69  secondary_cleaner.state.floatbank2_a_air            16497 non-null  float64\n",
      " 70  secondary_cleaner.state.floatbank2_a_level          16751 non-null  float64\n",
      " 71  secondary_cleaner.state.floatbank2_b_air            16705 non-null  float64\n",
      " 72  secondary_cleaner.state.floatbank2_b_level          16748 non-null  float64\n",
      " 73  secondary_cleaner.state.floatbank3_a_air            16763 non-null  float64\n",
      " 74  secondary_cleaner.state.floatbank3_a_level          16747 non-null  float64\n",
      " 75  secondary_cleaner.state.floatbank3_b_air            16752 non-null  float64\n",
      " 76  secondary_cleaner.state.floatbank3_b_level          16750 non-null  float64\n",
      " 77  secondary_cleaner.state.floatbank4_a_air            16731 non-null  float64\n",
      " 78  secondary_cleaner.state.floatbank4_a_level          16747 non-null  float64\n",
      " 79  secondary_cleaner.state.floatbank4_b_air            16768 non-null  float64\n",
      " 80  secondary_cleaner.state.floatbank4_b_level          16767 non-null  float64\n",
      " 81  secondary_cleaner.state.floatbank5_a_air            16775 non-null  float64\n",
      " 82  secondary_cleaner.state.floatbank5_a_level          16775 non-null  float64\n",
      " 83  secondary_cleaner.state.floatbank5_b_air            16775 non-null  float64\n",
      " 84  secondary_cleaner.state.floatbank5_b_level          16776 non-null  float64\n",
      " 85  secondary_cleaner.state.floatbank6_a_air            16757 non-null  float64\n",
      " 86  secondary_cleaner.state.floatbank6_a_level          16775 non-null  float64\n",
      "dtypes: float64(86), object(1)\n",
      "memory usage: 11.2+ MB\n"
     ]
    }
   ],
   "source": [
    "gold_recovery_train.info()"
   ]
  },
  {
   "cell_type": "markdown",
   "metadata": {},
   "source": [
    "Conjunto de datos: gold_recovery_test"
   ]
  },
  {
   "cell_type": "code",
   "execution_count": 44,
   "metadata": {
    "scrolled": true,
    "trusted": false
   },
   "outputs": [
    {
     "name": "stdout",
     "output_type": "stream",
     "text": [
      "<class 'pandas.core.frame.DataFrame'>\n",
      "RangeIndex: 5856 entries, 0 to 5855\n",
      "Data columns (total 53 columns):\n",
      " #   Column                                      Non-Null Count  Dtype  \n",
      "---  ------                                      --------------  -----  \n",
      " 0   date                                        5856 non-null   object \n",
      " 1   primary_cleaner.input.sulfate               5554 non-null   float64\n",
      " 2   primary_cleaner.input.depressant            5572 non-null   float64\n",
      " 3   primary_cleaner.input.feed_size             5856 non-null   float64\n",
      " 4   primary_cleaner.input.xanthate              5690 non-null   float64\n",
      " 5   primary_cleaner.state.floatbank8_a_air      5840 non-null   float64\n",
      " 6   primary_cleaner.state.floatbank8_a_level    5840 non-null   float64\n",
      " 7   primary_cleaner.state.floatbank8_b_air      5840 non-null   float64\n",
      " 8   primary_cleaner.state.floatbank8_b_level    5840 non-null   float64\n",
      " 9   primary_cleaner.state.floatbank8_c_air      5840 non-null   float64\n",
      " 10  primary_cleaner.state.floatbank8_c_level    5840 non-null   float64\n",
      " 11  primary_cleaner.state.floatbank8_d_air      5840 non-null   float64\n",
      " 12  primary_cleaner.state.floatbank8_d_level    5840 non-null   float64\n",
      " 13  rougher.input.feed_ag                       5840 non-null   float64\n",
      " 14  rougher.input.feed_pb                       5840 non-null   float64\n",
      " 15  rougher.input.feed_rate                     5816 non-null   float64\n",
      " 16  rougher.input.feed_size                     5834 non-null   float64\n",
      " 17  rougher.input.feed_sol                      5789 non-null   float64\n",
      " 18  rougher.input.feed_au                       5840 non-null   float64\n",
      " 19  rougher.input.floatbank10_sulfate           5599 non-null   float64\n",
      " 20  rougher.input.floatbank10_xanthate          5733 non-null   float64\n",
      " 21  rougher.input.floatbank11_sulfate           5801 non-null   float64\n",
      " 22  rougher.input.floatbank11_xanthate          5503 non-null   float64\n",
      " 23  rougher.state.floatbank10_a_air             5839 non-null   float64\n",
      " 24  rougher.state.floatbank10_a_level           5840 non-null   float64\n",
      " 25  rougher.state.floatbank10_b_air             5839 non-null   float64\n",
      " 26  rougher.state.floatbank10_b_level           5840 non-null   float64\n",
      " 27  rougher.state.floatbank10_c_air             5839 non-null   float64\n",
      " 28  rougher.state.floatbank10_c_level           5840 non-null   float64\n",
      " 29  rougher.state.floatbank10_d_air             5839 non-null   float64\n",
      " 30  rougher.state.floatbank10_d_level           5840 non-null   float64\n",
      " 31  rougher.state.floatbank10_e_air             5839 non-null   float64\n",
      " 32  rougher.state.floatbank10_e_level           5840 non-null   float64\n",
      " 33  rougher.state.floatbank10_f_air             5839 non-null   float64\n",
      " 34  rougher.state.floatbank10_f_level           5840 non-null   float64\n",
      " 35  secondary_cleaner.state.floatbank2_a_air    5836 non-null   float64\n",
      " 36  secondary_cleaner.state.floatbank2_a_level  5840 non-null   float64\n",
      " 37  secondary_cleaner.state.floatbank2_b_air    5833 non-null   float64\n",
      " 38  secondary_cleaner.state.floatbank2_b_level  5840 non-null   float64\n",
      " 39  secondary_cleaner.state.floatbank3_a_air    5822 non-null   float64\n",
      " 40  secondary_cleaner.state.floatbank3_a_level  5840 non-null   float64\n",
      " 41  secondary_cleaner.state.floatbank3_b_air    5840 non-null   float64\n",
      " 42  secondary_cleaner.state.floatbank3_b_level  5840 non-null   float64\n",
      " 43  secondary_cleaner.state.floatbank4_a_air    5840 non-null   float64\n",
      " 44  secondary_cleaner.state.floatbank4_a_level  5840 non-null   float64\n",
      " 45  secondary_cleaner.state.floatbank4_b_air    5840 non-null   float64\n",
      " 46  secondary_cleaner.state.floatbank4_b_level  5840 non-null   float64\n",
      " 47  secondary_cleaner.state.floatbank5_a_air    5840 non-null   float64\n",
      " 48  secondary_cleaner.state.floatbank5_a_level  5840 non-null   float64\n",
      " 49  secondary_cleaner.state.floatbank5_b_air    5840 non-null   float64\n",
      " 50  secondary_cleaner.state.floatbank5_b_level  5840 non-null   float64\n",
      " 51  secondary_cleaner.state.floatbank6_a_air    5840 non-null   float64\n",
      " 52  secondary_cleaner.state.floatbank6_a_level  5840 non-null   float64\n",
      "dtypes: float64(52), object(1)\n",
      "memory usage: 2.4+ MB\n"
     ]
    }
   ],
   "source": [
    "gold_recovery_test.info()"
   ]
  },
  {
   "cell_type": "markdown",
   "metadata": {},
   "source": [
    "1.1.4 Transformacion del tipo de dato de la variable date tipo object a date tipo datetime en el conjunto de datos full, train y test."
   ]
  },
  {
   "cell_type": "code",
   "execution_count": 45,
   "metadata": {
    "trusted": false
   },
   "outputs": [
    {
     "name": "stdout",
     "output_type": "stream",
     "text": [
      "0    2016-01-15 00:00:00\n",
      "1    2016-01-15 01:00:00\n",
      "Name: date, dtype: object\n"
     ]
    }
   ],
   "source": [
    "# Verificacion de formato\n",
    "print(gold_recovery_train[\"date\"].head(2)) # format=\"%Y-%m-%d %H:%M:%S\n",
    "\n",
    "gold_recovery_full[\"date\"]= pd.to_datetime(gold_recovery_full[\"date\"],format=\"%Y-%m-%d %H:%M:%S\")\n",
    "gold_recovery_train[\"date\"]= pd.to_datetime(gold_recovery_train[\"date\"],format=\"%Y-%m-%d %H:%M:%S\")\n",
    "gold_recovery_test[\"date\"]= pd.to_datetime(gold_recovery_test[\"date\"],format=\"%Y-%m-%d %H:%M:%S\")"
   ]
  },
  {
   "cell_type": "markdown",
   "metadata": {},
   "source": [
    "1.1.5 Verificacion y eliminacion de las columnas no necesarias para la creacion del modelo y el analisis de datos.\n",
    "\n",
    "Para la creacion y verificacion del modelo solo se utilizaran las columnas que reflejen concentracion de los minerales durante todo el proceso de Mezcla de mineral y la fecha correspondiente. El resto de columnas seran eliminadas de los conjuntos de datos."
   ]
  },
  {
   "cell_type": "markdown",
   "metadata": {},
   "source": [
    "gold_recovery_train"
   ]
  },
  {
   "cell_type": "code",
   "execution_count": 46,
   "metadata": {
    "trusted": false
   },
   "outputs": [
    {
     "name": "stdout",
     "output_type": "stream",
     "text": [
      "<class 'pandas.core.frame.DataFrame'>\n",
      "RangeIndex: 12620 entries, 0 to 12619\n",
      "Data columns (total 28 columns):\n",
      " #   Column                                 Non-Null Count  Dtype         \n",
      "---  ------                                 --------------  -----         \n",
      " 0   date                                   12620 non-null  datetime64[ns]\n",
      " 1   final.output.concentrate_ag            12620 non-null  float64       \n",
      " 2   final.output.concentrate_pb            12620 non-null  float64       \n",
      " 3   final.output.concentrate_au            12620 non-null  float64       \n",
      " 4   final.output.recovery                  12620 non-null  float64       \n",
      " 5   final.output.tail_ag                   12620 non-null  float64       \n",
      " 6   final.output.tail_pb                   12620 non-null  float64       \n",
      " 7   final.output.tail_au                   12620 non-null  float64       \n",
      " 8   primary_cleaner.output.concentrate_ag  12620 non-null  float64       \n",
      " 9   primary_cleaner.output.concentrate_pb  12620 non-null  float64       \n",
      " 10  primary_cleaner.output.concentrate_au  12620 non-null  float64       \n",
      " 11  primary_cleaner.output.tail_ag         12620 non-null  float64       \n",
      " 12  primary_cleaner.output.tail_pb         12620 non-null  float64       \n",
      " 13  primary_cleaner.output.tail_au         12620 non-null  float64       \n",
      " 14  rougher.input.feed_ag                  12620 non-null  float64       \n",
      " 15  rougher.input.feed_pb                  12620 non-null  float64       \n",
      " 16  rougher.input.feed_size                12620 non-null  float64       \n",
      " 17  rougher.input.feed_au                  12620 non-null  float64       \n",
      " 18  rougher.output.concentrate_ag          12620 non-null  float64       \n",
      " 19  rougher.output.concentrate_pb          12620 non-null  float64       \n",
      " 20  rougher.output.concentrate_au          12620 non-null  float64       \n",
      " 21  rougher.output.recovery                12620 non-null  float64       \n",
      " 22  rougher.output.tail_ag                 12620 non-null  float64       \n",
      " 23  rougher.output.tail_pb                 12620 non-null  float64       \n",
      " 24  rougher.output.tail_au                 12620 non-null  float64       \n",
      " 25  secondary_cleaner.output.tail_ag       12620 non-null  float64       \n",
      " 26  secondary_cleaner.output.tail_pb       12620 non-null  float64       \n",
      " 27  secondary_cleaner.output.tail_au       12620 non-null  float64       \n",
      "dtypes: datetime64[ns](1), float64(27)\n",
      "memory usage: 2.7 MB\n"
     ]
    }
   ],
   "source": [
    "cols_included= [\"date\",\"rougher.output.recovery\",\"final.output.recovery\",\"rougher.input.feed_size\",\n",
    "                \"final.output.concentrate_au\",\"final.output.tail_au\",\"primary_cleaner.output.concentrate_au\",\"primary_cleaner.output.tail_au\",\"rougher.input.feed_au\",\"rougher.output.concentrate_au\",\"rougher.output.tail_au\",\"secondary_cleaner.output.tail_au\",\n",
    "                \"final.output.concentrate_ag\",\"final.output.tail_ag\",\"primary_cleaner.output.concentrate_ag\",\"primary_cleaner.output.tail_ag\",\"rougher.input.feed_ag\",\"rougher.output.concentrate_ag\",\"rougher.output.tail_ag\",\"secondary_cleaner.output.tail_ag\",\n",
    "                \"final.output.concentrate_pb\",\"final.output.tail_pb\",\"primary_cleaner.output.concentrate_pb\",\"primary_cleaner.output.tail_pb\",\"rougher.input.feed_pb\",\"rougher.output.concentrate_pb\",\"rougher.output.tail_pb\",\"secondary_cleaner.output.tail_pb\"]\n",
    "\n",
    "cols_not_included=[]\n",
    "for col in gold_recovery_train.columns:\n",
    "    if col not in cols_included:\n",
    "        cols_not_included.append(col)\n",
    "\n",
    "# Se remueven las columnas no necesarias\n",
    "gold_recovery_train.drop(cols_not_included,axis=1,inplace=True)\n",
    "# Se remueven los valores en 0 que pueden causar una division por cero en el calculo de la recuperacion\n",
    "gold_recovery_train= gold_recovery_train[(gold_recovery_train != 0).all(axis=1)]\n",
    "# Se eliminan valores ausentes y se restablece el indice\n",
    "gold_recovery_train.dropna(inplace=True)\n",
    "gold_recovery_train.reset_index(drop=True,inplace=True)\n",
    "\n",
    "gold_recovery_train.info()"
   ]
  },
  {
   "cell_type": "markdown",
   "metadata": {},
   "source": [
    "gold_recovery_full"
   ]
  },
  {
   "cell_type": "code",
   "execution_count": 47,
   "metadata": {
    "trusted": false
   },
   "outputs": [
    {
     "name": "stdout",
     "output_type": "stream",
     "text": [
      "<class 'pandas.core.frame.DataFrame'>\n",
      "RangeIndex: 22716 entries, 0 to 22715\n",
      "Data columns (total 28 columns):\n",
      " #   Column                                 Non-Null Count  Dtype         \n",
      "---  ------                                 --------------  -----         \n",
      " 0   date                                   22716 non-null  datetime64[ns]\n",
      " 1   final.output.concentrate_ag            22627 non-null  float64       \n",
      " 2   final.output.concentrate_pb            22629 non-null  float64       \n",
      " 3   final.output.concentrate_au            22630 non-null  float64       \n",
      " 4   final.output.recovery                  20753 non-null  float64       \n",
      " 5   final.output.tail_ag                   22633 non-null  float64       \n",
      " 6   final.output.tail_pb                   22516 non-null  float64       \n",
      " 7   final.output.tail_au                   22635 non-null  float64       \n",
      " 8   primary_cleaner.output.concentrate_ag  22618 non-null  float64       \n",
      " 9   primary_cleaner.output.concentrate_pb  22268 non-null  float64       \n",
      " 10  primary_cleaner.output.concentrate_au  22618 non-null  float64       \n",
      " 11  primary_cleaner.output.tail_ag         22614 non-null  float64       \n",
      " 12  primary_cleaner.output.tail_pb         22594 non-null  float64       \n",
      " 13  primary_cleaner.output.tail_au         22617 non-null  float64       \n",
      " 14  rougher.input.feed_ag                  22618 non-null  float64       \n",
      " 15  rougher.input.feed_pb                  22472 non-null  float64       \n",
      " 16  rougher.input.feed_size                22277 non-null  float64       \n",
      " 17  rougher.input.feed_au                  22617 non-null  float64       \n",
      " 18  rougher.output.concentrate_ag          22618 non-null  float64       \n",
      " 19  rougher.output.concentrate_pb          22618 non-null  float64       \n",
      " 20  rougher.output.concentrate_au          22618 non-null  float64       \n",
      " 21  rougher.output.recovery                19597 non-null  float64       \n",
      " 22  rougher.output.tail_ag                 19979 non-null  float64       \n",
      " 23  rougher.output.tail_pb                 22618 non-null  float64       \n",
      " 24  rougher.output.tail_au                 19980 non-null  float64       \n",
      " 25  secondary_cleaner.output.tail_ag       22616 non-null  float64       \n",
      " 26  secondary_cleaner.output.tail_pb       22600 non-null  float64       \n",
      " 27  secondary_cleaner.output.tail_au       22618 non-null  float64       \n",
      "dtypes: datetime64[ns](1), float64(27)\n",
      "memory usage: 4.9 MB\n"
     ]
    }
   ],
   "source": [
    "gold_recovery_full.drop(cols_not_included,axis=1,inplace=True)\n",
    "gold_recovery_full.info()"
   ]
  },
  {
   "cell_type": "markdown",
   "metadata": {},
   "source": [
    "gold_recovery_test"
   ]
  },
  {
   "cell_type": "code",
   "execution_count": 48,
   "metadata": {
    "trusted": false
   },
   "outputs": [
    {
     "name": "stdout",
     "output_type": "stream",
     "text": [
      "<class 'pandas.core.frame.DataFrame'>\n",
      "RangeIndex: 5856 entries, 0 to 5855\n",
      "Data columns (total 5 columns):\n",
      " #   Column                   Non-Null Count  Dtype         \n",
      "---  ------                   --------------  -----         \n",
      " 0   date                     5856 non-null   datetime64[ns]\n",
      " 1   rougher.input.feed_ag    5840 non-null   float64       \n",
      " 2   rougher.input.feed_pb    5840 non-null   float64       \n",
      " 3   rougher.input.feed_size  5834 non-null   float64       \n",
      " 4   rougher.input.feed_au    5840 non-null   float64       \n",
      "dtypes: datetime64[ns](1), float64(4)\n",
      "memory usage: 228.9 KB\n"
     ]
    }
   ],
   "source": [
    "cols_not_included=[]\n",
    "for col in gold_recovery_test.columns:\n",
    "    if col not in cols_included:\n",
    "        cols_not_included.append(col)\n",
    "\n",
    "gold_recovery_test.drop(cols_not_included,axis=1,inplace=True)\n",
    "gold_recovery_test.info()"
   ]
  },
  {
   "cell_type": "markdown",
   "metadata": {},
   "source": [
    "# 1.2 Comprueba que el cálculo de la recuperación sea correcto. Calcula la recuperación de la característica rougher.output.recovery mediante el conjunto de entrenamiento. Encuentra el EAM entre tus cálculos y los valores de la característica. Facilita los resultados."
   ]
  },
  {
   "cell_type": "markdown",
   "metadata": {},
   "source": [
    "1.2.1 Calcula la recuperación de la característica rougher.output.recovery mediante el conjunto de entrenamiento."
   ]
  },
  {
   "attachments": {
    "Image%20%283%29.png": {
     "image/png": "[encoded data removed]"
    }
   },
   "cell_type": "markdown",
   "metadata": {},
   "source": [
    "![Image%20%283%29.png](attachment:Image%20%283%29.png)"
   ]
  },
  {
   "cell_type": "markdown",
   "metadata": {},
   "source": [
    "Al reemplazar los valores de la formula, se estan generando multiples divisiones por 0, que causan error en los calculos y no permite realizar la verificacion correspondiente.\n",
    "\n",
    "Se utilizaran solo las observaciones donde no exista ninguna valor ausente.\n",
    "\n",
    "-------------------------------------------------------------------------------------------------------------------------------"
   ]
  },
  {
   "cell_type": "markdown",
   "metadata": {},
   "source": [
    "- RECUPERACION ROUGHER TRAIN\n",
    "\n",
    "\"rougher.output.recovery\""
   ]
  },
  {
   "cell_type": "code",
   "execution_count": 49,
   "metadata": {
    "trusted": false
   },
   "outputs": [],
   "source": [
    "gold_recovery_train_no_missing_values= gold_recovery_train\n",
    "\n",
    "\n",
    "c= gold_recovery_train_no_missing_values[\"rougher.output.concentrate_au\"]\n",
    "f= gold_recovery_train_no_missing_values[\"rougher.input.feed_au\"]\n",
    "t= gold_recovery_train_no_missing_values[\"rougher.output.tail_au\"]\n",
    "\n",
    "num_recovery = (c*(f-t))\n",
    "den_recovery = (f*(c-t))\n",
    "\n",
    "rougher_output_recovery_manual= (num_recovery/den_recovery)*100"
   ]
  },
  {
   "cell_type": "markdown",
   "metadata": {},
   "source": [
    "Encuentra el EAM entre tus cálculos y los valores de la característica. Facilita los resultados."
   ]
  },
  {
   "cell_type": "code",
   "execution_count": 50,
   "metadata": {
    "trusted": false
   },
   "outputs": [
    {
     "name": "stdout",
     "output_type": "stream",
     "text": [
      "Error absoluto medio del calculo manual y los valores dados en el conjunto de datos de la columna \"rougher.output.recovery\":  9.54278037115526e-15\n"
     ]
    }
   ],
   "source": [
    "temp=0\n",
    "for i in range(len(rougher_output_recovery_manual)):\n",
    "    temp  += abs(rougher_output_recovery_manual.loc[i] - gold_recovery_train_no_missing_values[\"rougher.output.recovery\"].loc[i])     \n",
    "eam= temp / len(rougher_output_recovery_manual)\n",
    "print(f'Error absoluto medio del calculo manual y los valores dados en el conjunto de datos de la columna \"rougher.output.recovery\":  {eam}')"
   ]
  },
  {
   "cell_type": "markdown",
   "metadata": {},
   "source": [
    "El error medio de \"rougher.output.recovery\" entre los valores calculados y el valor dado por el conjunto de datos es 9.460144184559453e-15, lo que significa que los calculos de este variable son correctos.\n",
    "\n",
    "-------------------------------------------------------------------------------------------------------------------------------"
   ]
  },
  {
   "cell_type": "markdown",
   "metadata": {},
   "source": [
    "- RECUPERACION FINAL TRAIN\n",
    "\n",
    "\"final.output.recovery\""
   ]
  },
  {
   "cell_type": "code",
   "execution_count": 51,
   "metadata": {
    "trusted": false
   },
   "outputs": [],
   "source": [
    "c= gold_recovery_train_no_missing_values[\"final.output.concentrate_au\"]\n",
    "f= gold_recovery_train_no_missing_values[\"rougher.output.concentrate_au\"]\n",
    "t= gold_recovery_train_no_missing_values[\"secondary_cleaner.output.tail_au\"]\n",
    "        \n",
    "num_recovery = (c*(f-t))\n",
    "den_recovery = (f*(c-t))\n",
    "\n",
    "final_output_recovery_manual= (num_recovery/den_recovery)*100"
   ]
  },
  {
   "cell_type": "code",
   "execution_count": 52,
   "metadata": {
    "trusted": false
   },
   "outputs": [
    {
     "name": "stdout",
     "output_type": "stream",
     "text": [
      "Error absoluto medio del calculo manual y los valores dados en el conjunto de datos de la columna \"final.output.recovery\":   \n",
      " 20.195322769078167\n"
     ]
    }
   ],
   "source": [
    "temp=0\n",
    "for i in range(len(final_output_recovery_manual)):\n",
    "    temp += abs(final_output_recovery_manual[i] - gold_recovery_train_no_missing_values[\"final.output.recovery\"][i])    \n",
    "eam= temp / len(final_output_recovery_manual)\n",
    "print('Error absoluto medio del calculo manual y los valores dados en el conjunto de datos de la columna \"final.output.recovery\":  ','\\n',eam)"
   ]
  },
  {
   "cell_type": "markdown",
   "metadata": {},
   "source": [
    "El error medio de \"final.output.recovery\" entre los valores calculados y el valor dado por el conjunto de datos es 20.195322769078167, lo que significa que los calculos de este variable son incorrectos, los datos \"final.output.recovery\", se reemplazaran por los valores correctos."
   ]
  },
  {
   "cell_type": "code",
   "execution_count": 53,
   "metadata": {
    "trusted": false
   },
   "outputs": [],
   "source": [
    "gold_recovery_train_no_missing_values[\"final.output.recovery\"]= final_output_recovery_manual"
   ]
  },
  {
   "cell_type": "markdown",
   "metadata": {},
   "source": [
    "# 1.3. Analiza las características no disponibles en el conjunto de prueba. ¿Cuáles son estos parámetros? ¿Cuál es su tipo?\n",
    "\n",
    "gold_recovery_test"
   ]
  },
  {
   "cell_type": "markdown",
   "metadata": {},
   "source": [
    "En el conjunto de datos de prueba existen columnas ausentes, necesarias para el posterior analisis de predicciones del modelo. Estas columnas faltantes se obtendran mediante la union del conjunto de datos full al conjunto de prueba mediante la columna de fecha."
   ]
  },
  {
   "cell_type": "code",
   "execution_count": 54,
   "metadata": {
    "trusted": false
   },
   "outputs": [],
   "source": [
    "gold_recovery_test_full= gold_recovery_test.merge(gold_recovery_full, on=\"date\",how=\"left\")"
   ]
  },
  {
   "cell_type": "markdown",
   "metadata": {},
   "source": [
    "- Se eliminaran las observaciones con valores ausentes y con valores en 0"
   ]
  },
  {
   "cell_type": "code",
   "execution_count": 55,
   "metadata": {
    "trusted": false
   },
   "outputs": [],
   "source": [
    "#Eliminar observaciones con valores en 0 que pueden generar division por 0\n",
    "gold_recovery_test_full= gold_recovery_test_full[(gold_recovery_test_full != 0).all(axis=1)]\n",
    "# Eliminacion de las observaciones con valores ausentes\n",
    "gold_recovery_test_full.dropna(inplace=True)\n",
    "# Reset del indice\n",
    "gold_recovery_test_full.reset_index(drop=True,inplace=True)"
   ]
  },
  {
   "cell_type": "markdown",
   "metadata": {},
   "source": [
    "- Se reemplaza el calculo erroneo de la columna \"final.output.recovery\", por el calculado manualmente."
   ]
  },
  {
   "cell_type": "code",
   "execution_count": 56,
   "metadata": {
    "trusted": false
   },
   "outputs": [],
   "source": [
    "c= gold_recovery_test_full[\"final.output.concentrate_au\"]\n",
    "f= gold_recovery_test_full[\"rougher.output.concentrate_au\"]\n",
    "t= gold_recovery_test_full[\"secondary_cleaner.output.tail_au\"]\n",
    "        \n",
    "num_recovery = (c*(f-t))\n",
    "den_recovery = (f*(c-t))\n",
    "\n",
    "final_output_recovery_test_manual= (num_recovery/den_recovery)*100\n",
    "gold_recovery_test_full[\"final.output.recovery\"]= final_output_recovery_test_manual\n"
   ]
  },
  {
   "cell_type": "markdown",
   "metadata": {},
   "source": [
    "# 2. Analisis de datos"
   ]
  },
  {
   "cell_type": "markdown",
   "metadata": {},
   "source": [
    "Conjunto de datos despues del preprocesamiento:\n",
    "\n",
    "- Conjunto de entrenamiento: gold_recovery_train_no_missing_values\n",
    "\n",
    "- Conjunto de prueba: gold_recovery_test_full"
   ]
  },
  {
   "cell_type": "markdown",
   "metadata": {},
   "source": [
    "# 2.1. Observa cómo cambia la concentración de metales (Au, Ag, Pb) en función de la etapa de purificación."
   ]
  },
  {
   "cell_type": "markdown",
   "metadata": {},
   "source": [
    "- Antes de la purificacion\n",
    "\n",
    "[\"rougher.output.concentrate_au\"],\n",
    "[\"rougher.output.concentrate_ag\"],\n",
    "[\"rougher.output.concentrate_pb\"]\n",
    "\n",
    "- Despues de la purificacion\n",
    "\n",
    "[\"final.output.concentrate_au\"],\n",
    "[\"final.output.concentrate_ag\"],\n",
    "[\"final.output.concentrate_pb\"]"
   ]
  },
  {
   "cell_type": "markdown",
   "metadata": {},
   "source": [
    "- Cambios de concentracion despues de la purificacion"
   ]
  },
  {
   "cell_type": "markdown",
   "metadata": {},
   "source": [
    "Au\n",
    "\n",
    "--------------------------------------------------------------------------------------------------------------------"
   ]
  },
  {
   "cell_type": "code",
   "execution_count": 57,
   "metadata": {
    "trusted": false
   },
   "outputs": [
    {
     "data": {
      "image/png": "[encoded data removed]",
      "text/plain": [
       "<Figure size 640x480 with 1 Axes>"
      ]
     },
     "metadata": {},
     "output_type": "display_data"
    }
   ],
   "source": [
    "gold_recovery_train_no_missing_values[\"rougher.output.concentrate_au\"].plot(kind=\"hist\",bins=30,legend=True,title=\"Histograma de concentracion de Au antes y despues de la purificacion\")\n",
    "gold_recovery_train_no_missing_values[\"final.output.concentrate_au\"].plot(kind=\"hist\",bins=30,alpha=0.6,grid=True,legend=True)\n",
    "plt.show()"
   ]
  },
  {
   "cell_type": "markdown",
   "metadata": {},
   "source": [
    "Ag\n",
    "\n",
    "--------------------------------------------------------------------------------------------------------------------"
   ]
  },
  {
   "cell_type": "code",
   "execution_count": 58,
   "metadata": {
    "trusted": false
   },
   "outputs": [
    {
     "data": {
      "image/png": "[encoded data removed]",
      "text/plain": [
       "<Figure size 640x480 with 1 Axes>"
      ]
     },
     "metadata": {},
     "output_type": "display_data"
    }
   ],
   "source": [
    "gold_recovery_train_no_missing_values[\"rougher.output.concentrate_ag\"].plot(kind=\"hist\",bins=30,legend=True,title=\"Histograma de concentracion de Ag antes y despues de la purificacion\")\n",
    "gold_recovery_train_no_missing_values[\"final.output.concentrate_ag\"].plot(kind=\"hist\",bins=30,alpha=0.6,grid=True,legend=True)\n",
    "plt.show()"
   ]
  },
  {
   "cell_type": "markdown",
   "metadata": {},
   "source": [
    "Pb\n",
    "\n",
    "--------------------------------------------------------------------------------------------------------------------"
   ]
  },
  {
   "cell_type": "code",
   "execution_count": 59,
   "metadata": {
    "trusted": false
   },
   "outputs": [
    {
     "data": {
      "image/png": "[encoded data removed]",
      "text/plain": [
       "<Figure size 640x480 with 1 Axes>"
      ]
     },
     "metadata": {},
     "output_type": "display_data"
    }
   ],
   "source": [
    "gold_recovery_train_no_missing_values[\"rougher.output.concentrate_pb\"].plot(kind=\"hist\",bins=30,legend=True,title=\"Histograma de concentracion de Pb antes y despues de la purificacion\")\n",
    "gold_recovery_train_no_missing_values[\"final.output.concentrate_pb\"].plot(kind=\"hist\",bins=30,alpha=0.6,grid=True,legend=True)\n",
    "plt.show()"
   ]
  },
  {
   "cell_type": "markdown",
   "metadata": {},
   "source": [
    "# HALLAZGOS\n",
    "\n",
    "- Au\n",
    "\n",
    "Se evidencia un aumento significativo en su concentracion despues de la purificacion, enfocada en la obtencio del oro.\n",
    "\n",
    "- Ag\n",
    "\n",
    "Se evidencia una disminucion en su concentracion.\n",
    "\n",
    "- Pb\n",
    "\n",
    "Se evidencia un aumento en su concentracion. Sin embargo, no es tan sigificativa como el oro.\n",
    "\n",
    "La filtracion es efectiva para el mineral principal que es el oro, el cual se puede evidenciar en la distribucion de sus concentraciones, donde su media aumento."
   ]
  },
  {
   "cell_type": "markdown",
   "metadata": {},
   "source": [
    "# 2.2. Compara las distribuciones del tamaño de las partículas de la alimentación en el conjunto de entrenamiento y en el conjunto de prueba. Si las distribuciones varían significativamente, la evaluación del modelo no será correcta."
   ]
  },
  {
   "cell_type": "code",
   "execution_count": 60,
   "metadata": {
    "trusted": false
   },
   "outputs": [
    {
     "data": {
      "image/png": "[encoded data removed]",
      "text/plain": [
       "<Figure size 640x480 with 1 Axes>"
      ]
     },
     "metadata": {},
     "output_type": "display_data"
    }
   ],
   "source": [
    "gold_recovery_train_no_missing_values[\"rougher.input.feed_size\"].plot(kind=\"hist\",bins=30,title=\"Histograma del tamaño de las particulas el conjunto de entrenamiento y prueba\")\n",
    "gold_recovery_test_full[\"rougher.input.feed_size_x\"].plot(kind=\"hist\",bins=30,alpha=0.6,grid=True)\n",
    "labels=[\"rougher.input.feed_size TRAIN\",\"rougher.input.feed_size TEST\"]\n",
    "plt.legend(labels)\n",
    "plt.show()"
   ]
  },
  {
   "cell_type": "markdown",
   "metadata": {},
   "source": [
    "- Verificacion de las distribuciones"
   ]
  },
  {
   "cell_type": "code",
   "execution_count": 66,
   "metadata": {
    "trusted": false
   },
   "outputs": [
    {
     "name": "stdout",
     "output_type": "stream",
     "text": [
      "Tamaño de particula en la alimentacion, conjunto de entrenamiento\n"
     ]
    },
    {
     "data": {
      "text/plain": [
       "count    12620.000000\n",
       "mean        59.253038\n",
       "std         21.330880\n",
       "min          9.659576\n",
       "25%         48.979193\n",
       "50%         55.258536\n",
       "75%         64.926494\n",
       "max        484.967466\n",
       "Name: rougher.input.feed_size, dtype: float64"
      ]
     },
     "execution_count": 66,
     "metadata": {},
     "output_type": "execute_result"
    }
   ],
   "source": [
    "print(\"Tamaño de particula en la alimentacion, conjunto de entrenamiento\")\n",
    "gold_recovery_train_no_missing_values[\"rougher.input.feed_size\"].describe()"
   ]
  },
  {
   "cell_type": "code",
   "execution_count": 67,
   "metadata": {
    "trusted": false
   },
   "outputs": [
    {
     "name": "stdout",
     "output_type": "stream",
     "text": [
      "Tamaño de particula en la alimentacion, conjunto de prueba\n"
     ]
    },
    {
     "data": {
      "text/plain": [
       "count    4933.000000\n",
       "mean       55.886079\n",
       "std        18.258523\n",
       "min         0.046369\n",
       "25%        43.845498\n",
       "50%        50.694580\n",
       "75%        62.520715\n",
       "max       368.035882\n",
       "Name: rougher.input.feed_size_x, dtype: float64"
      ]
     },
     "execution_count": 67,
     "metadata": {},
     "output_type": "execute_result"
    }
   ],
   "source": [
    "print(\"Tamaño de particula en la alimentacion, conjunto de prueba\")\n",
    "gold_recovery_test_full[\"rougher.input.feed_size_x\"].describe()"
   ]
  },
  {
   "cell_type": "markdown",
   "metadata": {},
   "source": [
    "- Hipotesis de igualdad entre dos poblaciones\n",
    "\n",
    "H0 no hay diferencia en el tamaño de particula entre el conjunto de entrenamiento y el de prueba.\n",
    "\n",
    "H1 Si hay diferencia en el tamaño de particula."
   ]
  },
  {
   "cell_type": "code",
   "execution_count": 23,
   "metadata": {
    "trusted": false
   },
   "outputs": [
    {
     "name": "stdout",
     "output_type": "stream",
     "text": [
      "Prueba de Levene:\n",
      "valor p levene test:  0.009094396690540501\n",
      "Statistic value=  6.805707607940417\n",
      "Rechazamos la hipótesis nula ----  equal_var= False \n",
      "\n",
      "valor p:  1.7827649441896125e-25\n",
      "Rechazamos la hipótesis nula\n"
     ]
    }
   ],
   "source": [
    "# Prueba de levene para verificar la igualdad de varianzas-----------------------------------------------------------\n",
    "result=st.levene(gold_recovery_test_full[\"rougher.input.feed_size_x\"],gold_recovery_train_no_missing_values[\"rougher.input.feed_size\"])\n",
    "print(\"Prueba de Levene:\")\n",
    "print('valor p levene test: ', result.pvalue)\n",
    "print(\"Statistic value= \",result.statistic)\n",
    "alpha=0.05\n",
    "if result.pvalue < alpha:\n",
    "    print(\"Rechazamos la hipótesis nula\",\"---- \",\"equal_var= False\",\"\\n\")\n",
    "else:\n",
    "    print(\"No podemos rechazar la hipótesis nula\",\"----- \",\"equal_var= True\",\"\\n\")\n",
    "\n",
    "\n",
    "# Verificacion de igualdad de medias entre 2 distribuciones----------------------------------------------------------\n",
    "alpha = 0.05\n",
    "results = st.ttest_ind(gold_recovery_test_full[\"rougher.input.feed_size_x\"],gold_recovery_train_no_missing_values[\"rougher.input.feed_size\"],equal_var= False)\n",
    "\n",
    "print('valor p: ', results.pvalue) # extraer el valor p\n",
    "\n",
    "if results.pvalue < alpha: # comparar el valor p con el umbral\n",
    "    print(\"Rechazamos la hipótesis nula\")\n",
    "else:\n",
    "    print(\"No podemos rechazar la hipótesis nula\")"
   ]
  },
  {
   "cell_type": "markdown",
   "metadata": {},
   "source": [
    "# HALLAZGOS:\n",
    "\n",
    "Al verificar el tamaño de particula de alimentacion en el conjunto de entrenamiento y test desde diferentes angulos se evidencia:\n",
    "\n",
    "1) En el histograma las variacion entre los valores de las distribuciones no es significativa.\n",
    "\n",
    "\n",
    "2) Al calcular manualmente valores de promedio, mediana, min, max y varianza.\n",
    "\n",
    "Promedio train:  59.25303837773885 -- Promedio test:  55.886079422565324\n",
    "\n",
    "Mediana train:  55.25853554509831 -- Mediana test:  50.69458035017644\n",
    "\n",
    "Valor maximo train:  484.9674664939735 -- Valor maximo test:  368.0358824536935\n",
    "\n",
    "Valor minimo train:  9.659576314610517 -- Valor minimo test:  0.0463687988171973\n",
    "\n",
    "Varianza train:  455.00645109597775 -- Varianza test:  333.3736680929642\n",
    "\n",
    "Se evidencia que los valores de media y mediana son similares. Sin embargo, min, max y varianza varian significativamente.\n",
    "\n",
    "\n",
    "3) Se realizo una prueba de hipotesis de diferencia de medias donde:\n",
    "\n",
    "H0 no hay diferencia en el tamaño de particula entre el conjunto de entrenamiento y el de prueba.\n",
    "\n",
    "H1 Si hay diferencia en el tamaño de particula.\n",
    "\n",
    "Segun la prueba, se rechaza H0 y no se podria evaluar correctamente el modelo. Sin embargo, se utilizaran ambos conjuntos de prueba, ya que fueron dados inicialmente en el proyecto."
   ]
  },
  {
   "cell_type": "markdown",
   "metadata": {},
   "source": [
    "# 2.3. Considera las concentraciones totales de todas las sustancias en las diferentes etapas: materia prima, concentrado rougher y concentrado final. ¿Observas algún valor anormal en la distribución total? Si es así, ¿merece la pena eliminar esos valores de ambas muestras? Describe los resultados y elimina las anomalías."
   ]
  },
  {
   "cell_type": "markdown",
   "metadata": {},
   "source": [
    "- MATERIA PRIMA\n",
    "---------------------------------------------------------------------------------------------------"
   ]
  },
  {
   "cell_type": "code",
   "execution_count": 24,
   "metadata": {
    "trusted": false
   },
   "outputs": [
    {
     "data": {
      "image/png": "[encoded data removed]",
      "text/plain": [
       "<Figure size 800x500 with 1 Axes>"
      ]
     },
     "metadata": {},
     "output_type": "display_data"
    }
   ],
   "source": [
    "# Au\n",
    "gold_recovery_train_no_missing_values[\"rougher.input.feed_au\"].plot(kind=\"hist\",bins=30,legend=True,title=\"Histograma de concentracion de sustancias en Materia Prima\")\n",
    "# Ag\n",
    "gold_recovery_train_no_missing_values[\"rougher.input.feed_ag\"].plot(kind=\"hist\",bins=30,alpha=0.6,legend=True)\n",
    "# Pb\n",
    "gold_recovery_train_no_missing_values[\"rougher.input.feed_pb\"].plot(kind=\"hist\",bins=30,figsize=[8,5],alpha=0.3,grid=True,legend=True)\n",
    "plt.show()"
   ]
  },
  {
   "cell_type": "code",
   "execution_count": 25,
   "metadata": {
    "trusted": false
   },
   "outputs": [
    {
     "data": {
      "text/plain": [
       "<AxesSubplot:>"
      ]
     },
     "execution_count": 25,
     "metadata": {},
     "output_type": "execute_result"
    },
    {
     "data": {
      "image/png": "[encoded data removed]",
      "text/plain": [
       "<Figure size 800x600 with 1 Axes>"
      ]
     },
     "metadata": {},
     "output_type": "display_data"
    }
   ],
   "source": [
    "plt.figure(figsize=(8, 6))\n",
    "sns.boxplot(data=gold_recovery_train_no_missing_values[[\"rougher.input.feed_au\",\"rougher.input.feed_ag\",\"rougher.input.feed_pb\"]])"
   ]
  },
  {
   "cell_type": "markdown",
   "metadata": {},
   "source": [
    "- Concentrado rougher\n",
    "---------------------------------------------------------------------------------------------------"
   ]
  },
  {
   "cell_type": "code",
   "execution_count": 26,
   "metadata": {
    "trusted": false
   },
   "outputs": [
    {
     "data": {
      "image/png": "[encoded data removed]",
      "text/plain": [
       "<Figure size 800x500 with 1 Axes>"
      ]
     },
     "metadata": {},
     "output_type": "display_data"
    }
   ],
   "source": [
    "# Au\n",
    "gold_recovery_train_no_missing_values[\"rougher.output.concentrate_au\"].plot(kind=\"hist\",bins=30,legend=True,title=\"Histograma de concentracion de sustancias en Concentrado Rougher\")\n",
    "# Ag\n",
    "gold_recovery_train_no_missing_values[\"rougher.output.concentrate_ag\"].plot(kind=\"hist\",bins=30,alpha=0.6,legend=True)\n",
    "# Pb\n",
    "gold_recovery_train_no_missing_values[\"rougher.output.concentrate_pb\"].plot(kind=\"hist\",bins=30,figsize=[8,5],alpha=0.3,grid=True,legend=True)\n",
    "plt.show()"
   ]
  },
  {
   "cell_type": "code",
   "execution_count": 27,
   "metadata": {
    "trusted": false
   },
   "outputs": [
    {
     "data": {
      "text/plain": [
       "<AxesSubplot:>"
      ]
     },
     "execution_count": 27,
     "metadata": {},
     "output_type": "execute_result"
    },
    {
     "data": {
      "image/png": "[encoded data removed]",
      "text/plain": [
       "<Figure size 900x600 with 1 Axes>"
      ]
     },
     "metadata": {},
     "output_type": "display_data"
    }
   ],
   "source": [
    "plt.figure(figsize=(9, 6))\n",
    "sns.boxplot(data=gold_recovery_train_no_missing_values[[\"rougher.output.concentrate_au\",\"rougher.output.concentrate_ag\",\"rougher.output.concentrate_pb\"]])"
   ]
  },
  {
   "cell_type": "markdown",
   "metadata": {},
   "source": [
    "<div class=\"alert alert-block alert-success\">\n",
    "<b>Comentario del revisor</b> <a class=\"tocSkip\"></a>\n",
    "\n",
    "Bien, este nivel de concentración se estudió adecuadamente.\n",
    "</div>"
   ]
  },
  {
   "cell_type": "markdown",
   "metadata": {},
   "source": [
    "- Concentrado final\n",
    "---------------------------------------------------------------------------------------------------"
   ]
  },
  {
   "cell_type": "code",
   "execution_count": 28,
   "metadata": {
    "trusted": false
   },
   "outputs": [
    {
     "data": {
      "image/png": "[encoded data removed]",
      "text/plain": [
       "<Figure size 800x500 with 1 Axes>"
      ]
     },
     "metadata": {},
     "output_type": "display_data"
    }
   ],
   "source": [
    "# Au\n",
    "gold_recovery_train_no_missing_values[\"final.output.concentrate_au\"].plot(kind=\"hist\",bins=30,legend=True,title=\"Histograma de concentracion de sustancias en Concentrado Final\")\n",
    "# Ag\n",
    "gold_recovery_train_no_missing_values[\"final.output.concentrate_ag\"].plot(kind=\"hist\",bins=30,alpha=0.6,legend=True)\n",
    "# Pb\n",
    "gold_recovery_train_no_missing_values[\"final.output.concentrate_pb\"].plot(kind=\"hist\",bins=30,figsize=[8,5],alpha=0.3,grid=True,legend=True)\n",
    "plt.show()"
   ]
  },
  {
   "cell_type": "code",
   "execution_count": 29,
   "metadata": {
    "trusted": false
   },
   "outputs": [
    {
     "data": {
      "text/plain": [
       "<AxesSubplot:>"
      ]
     },
     "execution_count": 29,
     "metadata": {},
     "output_type": "execute_result"
    },
    {
     "data": {
      "image/png": "[encoded data removed]",
      "text/plain": [
       "<Figure size 800x600 with 1 Axes>"
      ]
     },
     "metadata": {},
     "output_type": "display_data"
    }
   ],
   "source": [
    "plt.figure(figsize=(8, 6))\n",
    "sns.boxplot(data=gold_recovery_train_no_missing_values[[\"final.output.concentrate_au\",\"final.output.concentrate_ag\",\"final.output.concentrate_pb\"]])"
   ]
  },
  {
   "cell_type": "markdown",
   "metadata": {},
   "source": [
    "HALLAZGOS:\n",
    "\n",
    "Verificando las distribuciones, se puede evidenciar que las concentraciones de los metales en cada etapa poseen valores atipicos tanto inferiores como superiores y asi mismo la concentracion de oro es la distribucion con mayor numero de valores atipicos. Si se llegara a eliminar los valores atipicos de cualquiera de estas distribuciones, se corre el riesgo de eliminar datos importantes que se encuentren dentro de Q3 Y Q1.\n",
    "\n",
    "Las distribuciones corresponden a la etapa en que se encuentran:\n",
    "\n",
    "1) Mineral en bruto con la concentracion inicial de todos los metales.\n",
    "\n",
    "2) Flotacion, en donde la concentracion de los metales aumenta debido a este proceso de separacion, no solo el oro es separado en esta etapa.\n",
    "\n",
    "3) Purificacion, en el cual se utilizan tecnicas de purificacion enfocadas en la extraccion de oro, provocando un aumento considerable en la extraccion de oro con respecto a los otros metales. "
   ]
  },
  {
   "cell_type": "markdown",
   "metadata": {},
   "source": [
    "# 3. Construye el modelo"
   ]
  },
  {
   "cell_type": "markdown",
   "metadata": {},
   "source": [
    "# 3.1. Escribe una función para calcular el valor final de sMAPE."
   ]
  },
  {
   "cell_type": "code",
   "execution_count": 30,
   "metadata": {
    "trusted": false
   },
   "outputs": [],
   "source": [
    "def val_smape(target_rougher_output,prediction_rougher_output,target_final_output,prediction_final_output):\n",
    "    \n",
    "    #rougher.output.recovery\n",
    "    temp_smape_rougher_output=0\n",
    "    for i in range(len(target_rougher_output)):\n",
    "        temp_smape_rougher_output += ((abs(target_rougher_output[i] - prediction_rougher_output[i])) / ((abs(target_rougher_output[i]) + abs(prediction_rougher_output[i]))/2))*100\n",
    "    \n",
    "    smape_rougher_output  = (1/len(target_rougher_output))*temp_smape_rougher_output            \n",
    "    \n",
    "    #final.output.recovery\n",
    "    temp_smape_final_output=0\n",
    "    for i in range(len(target_final_output)):\n",
    "        temp_smape_final_output += ((abs(target_final_output[i]-prediction_final_output[i]))/((abs(target_final_output[i])+abs(prediction_final_output[i]))/2))*100\n",
    "    \n",
    "    smape_final_output= (1/len(target_final_output))*temp_smape_final_output\n",
    "    \n",
    "    smape_final= ((0.25*smape_rougher_output)+(0.75*smape_final_output))\n",
    "                               \n",
    "    return smape_final"
   ]
  },
  {
   "cell_type": "markdown",
   "metadata": {},
   "source": [
    "# 3.2 Entrena diferentes modelos. Evalúalos aplicando la validación cruzada. Elige el mejor modelo y pruébalo utilizando la muestra de prueba. Facilita los resultados."
   ]
  },
  {
   "cell_type": "markdown",
   "metadata": {},
   "source": [
    "3.2.1 Separacion de los conjuntos de datos y ultimas verificaciones."
   ]
  },
  {
   "cell_type": "markdown",
   "metadata": {},
   "source": [
    "Separacion de los conjuntos de datos de entrenamiento en:\n",
    "\n",
    "- features_train\n",
    "\n",
    "- target_train"
   ]
  },
  {
   "cell_type": "code",
   "execution_count": 31,
   "metadata": {
    "trusted": false
   },
   "outputs": [],
   "source": [
    "features_train= gold_recovery_train_no_missing_values.drop([\"date\",\"rougher.output.recovery\",\"final.output.recovery\"],axis=1)\n",
    "target_train= gold_recovery_train_no_missing_values[[\"rougher.output.recovery\",\"final.output.recovery\"]]"
   ]
  },
  {
   "cell_type": "markdown",
   "metadata": {},
   "source": [
    "Separacion de los conjuntos de datos de prueba en:\n",
    "\n",
    "- features_test\n",
    "\n",
    "- target_test"
   ]
  },
  {
   "cell_type": "markdown",
   "metadata": {},
   "source": [
    "El conjunto de datos de prueba poseen 4 columnas duplicadas con (y) al final debido al merge con el dataset full, estas columnas seran eliminadas"
   ]
  },
  {
   "cell_type": "code",
   "execution_count": 32,
   "metadata": {
    "trusted": false
   },
   "outputs": [],
   "source": [
    "gold_recovery_test_full.drop([\"rougher.input.feed_ag_y\",\"rougher.input.feed_pb_y\",\"rougher.input.feed_size_y\",\"rougher.input.feed_au_y\"],axis=1,inplace=True)"
   ]
  },
  {
   "cell_type": "markdown",
   "metadata": {},
   "source": [
    "El nombre de las columnas con (x) al final, sera corregido."
   ]
  },
  {
   "cell_type": "code",
   "execution_count": 33,
   "metadata": {
    "trusted": false
   },
   "outputs": [],
   "source": [
    "new_cols=[]\n",
    "for col in gold_recovery_test_full.columns:\n",
    "    if col==\"rougher.input.feed_ag_x\":\n",
    "        new_cols.append(\"rougher.input.feed_ag\")\n",
    "    elif col == \"rougher.input.feed_pb_x\":\n",
    "        new_cols.append(\"rougher.input.feed_pb\")\n",
    "    elif col == \"rougher.input.feed_size_x\":\n",
    "        new_cols.append(\"rougher.input.feed_size\")\n",
    "    elif col == \"rougher.input.feed_au_x\":\n",
    "        new_cols.append(\"rougher.input.feed_au\")\n",
    "    else:\n",
    "        new_cols.append(col)\n",
    "gold_recovery_test_full.columns=new_cols"
   ]
  },
  {
   "cell_type": "markdown",
   "metadata": {},
   "source": [
    "Separacion de los conjuntos."
   ]
  },
  {
   "cell_type": "code",
   "execution_count": 34,
   "metadata": {
    "trusted": false
   },
   "outputs": [],
   "source": [
    "features_test= gold_recovery_test_full.drop([\"date\",\"rougher.output.recovery\",\"final.output.recovery\"],axis=1)\n",
    "target_test= gold_recovery_test_full[[\"rougher.output.recovery\",\"final.output.recovery\"]]"
   ]
  },
  {
   "cell_type": "markdown",
   "metadata": {},
   "source": [
    "3.2.2 Creacion de distintos modelos y evaluacion mediante la validacion cruzada en 5 grupos para predecir las columnas requeridas:\n",
    "\n",
    "\"rougher.output.recovery\"\n",
    "\n",
    "\"final.output.recovery\""
   ]
  },
  {
   "cell_type": "markdown",
   "metadata": {},
   "source": [
    "- Decision Tree Regressor"
   ]
  },
  {
   "cell_type": "code",
   "execution_count": 35,
   "metadata": {
    "trusted": false
   },
   "outputs": [
    {
     "name": "stdout",
     "output_type": "stream",
     "text": [
      "Puntuacion maxima media de evaluacion del modelo Decision Tree Regressor 0.06907606517248366 obtenida con un depth de: 19\n"
     ]
    }
   ],
   "source": [
    "best_depth=0\n",
    "best_score=0\n",
    "for depth in range(1,20):\n",
    "    model=DecisionTreeRegressor(random_state=12345,max_depth=depth)\n",
    "    scores= cross_val_score(model,features_train,target_train,cv=5)\n",
    "    final_score= scores.mean()\n",
    "    if final_score>best_score:\n",
    "        best_score= final_score\n",
    "        best_depth=depth\n",
    "    \n",
    "print(f\"Puntuacion maxima media de evaluacion del modelo Decision Tree Regressor {best_score} obtenida con un depth de: {best_depth}\")"
   ]
  },
  {
   "cell_type": "markdown",
   "metadata": {},
   "source": [
    "- Random Forest Regressor"
   ]
  },
  {
   "cell_type": "code",
   "execution_count": 36,
   "metadata": {
    "trusted": false
   },
   "outputs": [
    {
     "data": {
      "text/plain": [
       "'\\n%%time\\nbest_depth=0\\nbest_score=0\\nbest_est=0\\n\\nfor depth in range(1,20):\\n    for est in range(1,51,10):\\n        model=RandomForestRegressor(random_state=12345,max_depth=depth,n_estimators=est)\\n        scores= cross_val_score(model,features_train,target_train,cv=5)\\n        final_score= scores.mean()\\n        if final_score>best_score:\\n            best_score= final_score\\n            best_depth=depth\\n            best_est=est\\n        print(f\"final_score {final_score}  depth {depth}  est {est}\")\\n    \\nprint(f\"Puntuacion maxima media de evaluacion del modelo Random Forest Regressor {best_score} obtenida con un depth: {best_depth} y n: {best_est}\")\\n'"
      ]
     },
     "execution_count": 36,
     "metadata": {},
     "output_type": "execute_result"
    }
   ],
   "source": [
    "'''\n",
    "%%time\n",
    "best_depth=0\n",
    "best_score=0\n",
    "best_est=0\n",
    "\n",
    "for depth in range(1,20):\n",
    "    for est in range(1,51,10):\n",
    "        model=RandomForestRegressor(random_state=12345,max_depth=depth,n_estimators=est)\n",
    "        scores= cross_val_score(model,features_train,target_train,cv=5)\n",
    "        final_score= scores.mean()\n",
    "        if final_score>best_score:\n",
    "            best_score= final_score\n",
    "            best_depth=depth\n",
    "            best_est=est\n",
    "        print(f\"final_score {final_score}  depth {depth}  est {est}\")\n",
    "    \n",
    "print(f\"Puntuacion maxima media de evaluacion del modelo Random Forest Regressor {best_score} obtenida con un depth: {best_depth} y n: {best_est}\")\n",
    "'''"
   ]
  },
  {
   "cell_type": "markdown",
   "metadata": {},
   "source": [
    "Puntuacion maxima media de evaluacion del modelo Random Forest Regressor: 0.4529749781103794 obtenida con un depth: 16 y n: 30"
   ]
  },
  {
   "cell_type": "markdown",
   "metadata": {},
   "source": [
    "La ejecucuion del codigo Random Forest Regressor genera un alto consumo de recursos y un largo tiempo de respuesta, por este motivo, se agrego la respuesta manualmente y el codigo se dejo en comentario."
   ]
  },
  {
   "cell_type": "markdown",
   "metadata": {},
   "source": [
    "- Linear Regression"
   ]
  },
  {
   "cell_type": "code",
   "execution_count": 37,
   "metadata": {
    "trusted": false
   },
   "outputs": [
    {
     "name": "stdout",
     "output_type": "stream",
     "text": [
      "Puntuacion maxima media de evaluacion del modelo Linear Regressor 0.5475209850764642\n"
     ]
    }
   ],
   "source": [
    "model=LinearRegression()\n",
    "scores= cross_val_score(model,features_train,target_train,cv=5)\n",
    "final_score= scores.mean()\n",
    "print(f\"Puntuacion maxima media de evaluacion del modelo Linear Regressor {final_score}\")"
   ]
  },
  {
   "cell_type": "markdown",
   "metadata": {},
   "source": [
    "---------------------------------------------------------------------------------------------------"
   ]
  },
  {
   "cell_type": "markdown",
   "metadata": {},
   "source": [
    "Acorde al score resultante el mejor modelo para la obtencion de \"rougher.output.recovery\" y \"final.output.recovery\" es Linear Regression. Sin embargo, al realizar el calculo del sMAPE, utilizando los mejores hiperparametros obtenidos anteriormente en Random Forest Regressor (depth: 16, n: 30), el valor de esta metrica es menor.\n"
   ]
  },
  {
   "cell_type": "markdown",
   "metadata": {},
   "source": [
    "---------------------------------------------------------------------------------------------------"
   ]
  },
  {
   "cell_type": "markdown",
   "metadata": {},
   "source": [
    "3.2.3 Prueba del modelo con los datos de prueba:"
   ]
  },
  {
   "cell_type": "code",
   "execution_count": 38,
   "metadata": {
    "trusted": false
   },
   "outputs": [],
   "source": [
    "model=RandomForestRegressor(random_state=12345,max_depth=16,n_estimators=30)\n",
    "model.fit(features_train,target_train)\n",
    "output_recovery_prediction= model.predict(features_test)\n",
    "\n",
    "target_test_rougher= target_test[\"rougher.output.recovery\"]\n",
    "rougher_output_recovery_prediction= output_recovery_prediction[:,0]\n",
    "target_test_final= target_test[\"final.output.recovery\"]\n",
    "final_output_recovery_prediction= output_recovery_prediction[:,1]"
   ]
  },
  {
   "cell_type": "markdown",
   "metadata": {},
   "source": [
    "3.2.4 Calculo del sMAPE final"
   ]
  },
  {
   "cell_type": "code",
   "execution_count": 39,
   "metadata": {
    "trusted": false
   },
   "outputs": [
    {
     "name": "stdout",
     "output_type": "stream",
     "text": [
      "Valor sMAPE final:  13.268293087171468 %\n"
     ]
    }
   ],
   "source": [
    "smape_final= val_smape(target_test_rougher,rougher_output_recovery_prediction,target_test_final,final_output_recovery_prediction)\n",
    "print(f\"Valor sMAPE final:  {smape_final} %\")"
   ]
  },
  {
   "cell_type": "markdown",
   "metadata": {},
   "source": [
    "# 4 CONCLUSIONES\n",
    "\n",
    "\n",
    "\n",
    "\n",
    "\n",
    "\n"
   ]
  },
  {
   "cell_type": "markdown",
   "metadata": {},
   "source": [
    "Despues de realizar el preprocesamiento, analisis y creacion del modelo con los datos de extraccion de mineral. Se obtuvo un sMAPE (Error porcentual absoluto medio simétrico) de: 13.268293087171468 %, lo que significa que nuestros modelos de machine learning presentan una menor diferencia porcentual entre los valores predichos y los reales. Es decir, su fiabilidad al momento de predecir datos es alta."
   ]
  },
  {
   "cell_type": "code",
   "execution_count": null,
   "metadata": {
    "trusted": false
   },
   "outputs": [],
   "source": []
  }
 ],
 "metadata": {
  "ExecuteTimeLog": [
   {
    "duration": 2711,
    "start_time": "2025-03-24T22:06:21.823Z"
   },
   {
    "duration": 614,
    "start_time": "2025-03-24T22:08:11.476Z"
   },
   {
    "duration": 3,
    "start_time": "2025-03-24T22:09:26.560Z"
   },
   {
    "duration": 81,
    "start_time": "2025-03-24T22:09:27.177Z"
   },
   {
    "duration": 685,
    "start_time": "2025-03-24T22:10:12.740Z"
   },
   {
    "duration": 530,
    "start_time": "2025-03-24T22:10:46.166Z"
   },
   {
    "duration": 14,
    "start_time": "2025-03-24T22:11:24.472Z"
   },
   {
    "duration": 89,
    "start_time": "2025-03-24T22:12:15.432Z"
   },
   {
    "duration": 9,
    "start_time": "2025-03-24T22:12:23.710Z"
   },
   {
    "duration": 7,
    "start_time": "2025-03-24T22:14:46.691Z"
   },
   {
    "duration": 14,
    "start_time": "2025-03-24T22:58:19.808Z"
   },
   {
    "duration": 9,
    "start_time": "2025-03-24T22:59:04.789Z"
   },
   {
    "duration": 18,
    "start_time": "2025-03-24T23:09:44.313Z"
   },
   {
    "duration": 13,
    "start_time": "2025-03-24T23:09:56.855Z"
   },
   {
    "duration": 14,
    "start_time": "2025-03-24T23:10:33.255Z"
   },
   {
    "duration": 24,
    "start_time": "2025-03-24T23:38:07.110Z"
   },
   {
    "duration": 10,
    "start_time": "2025-03-24T23:39:28.851Z"
   },
   {
    "duration": 5,
    "start_time": "2025-03-24T23:42:04.872Z"
   },
   {
    "duration": 6,
    "start_time": "2025-03-24T23:42:14.453Z"
   },
   {
    "duration": 24,
    "start_time": "2025-03-24T23:43:10.558Z"
   },
   {
    "duration": 8,
    "start_time": "2025-03-24T23:43:25.981Z"
   },
   {
    "duration": 14,
    "start_time": "2025-03-24T23:44:19.289Z"
   },
   {
    "duration": 8,
    "start_time": "2025-03-24T23:48:11.102Z"
   },
   {
    "duration": 7,
    "start_time": "2025-03-24T23:48:50.093Z"
   },
   {
    "duration": 9,
    "start_time": "2025-03-24T23:49:02.277Z"
   },
   {
    "duration": 16,
    "start_time": "2025-03-24T23:49:13.112Z"
   },
   {
    "duration": 13,
    "start_time": "2025-03-24T23:49:29.905Z"
   },
   {
    "duration": 27,
    "start_time": "2025-03-24T23:50:23.555Z"
   },
   {
    "duration": 1091,
    "start_time": "2025-03-25T00:01:28.290Z"
   },
   {
    "duration": 739,
    "start_time": "2025-03-25T00:01:29.384Z"
   },
   {
    "duration": 21,
    "start_time": "2025-03-25T00:01:30.128Z"
   },
   {
    "duration": 17,
    "start_time": "2025-03-25T00:01:30.151Z"
   },
   {
    "duration": 13,
    "start_time": "2025-03-25T00:01:30.170Z"
   },
   {
    "duration": 9,
    "start_time": "2025-03-25T00:01:30.185Z"
   },
   {
    "duration": 40,
    "start_time": "2025-03-25T00:01:30.196Z"
   },
   {
    "duration": 9,
    "start_time": "2025-03-25T00:06:51.052Z"
   },
   {
    "duration": 987,
    "start_time": "2025-03-25T00:07:09.254Z"
   },
   {
    "duration": 11,
    "start_time": "2025-03-25T00:07:13.868Z"
   },
   {
    "duration": 9,
    "start_time": "2025-03-25T00:08:02.660Z"
   },
   {
    "duration": 10,
    "start_time": "2025-03-25T00:09:18.931Z"
   },
   {
    "duration": 10,
    "start_time": "2025-03-25T00:10:15.301Z"
   },
   {
    "duration": 9,
    "start_time": "2025-03-25T00:10:33.816Z"
   },
   {
    "duration": 10,
    "start_time": "2025-03-25T00:11:37.672Z"
   },
   {
    "duration": 8,
    "start_time": "2025-03-25T00:17:29.312Z"
   },
   {
    "duration": 24,
    "start_time": "2025-03-25T00:20:44.495Z"
   },
   {
    "duration": 31,
    "start_time": "2025-03-25T00:22:38.363Z"
   },
   {
    "duration": 21,
    "start_time": "2025-03-25T00:22:42.623Z"
   },
   {
    "duration": 23,
    "start_time": "2025-03-25T00:22:55.253Z"
   },
   {
    "duration": 10,
    "start_time": "2025-03-25T00:23:13.143Z"
   },
   {
    "duration": 11,
    "start_time": "2025-03-25T00:23:31.431Z"
   },
   {
    "duration": 10,
    "start_time": "2025-03-25T00:24:11.306Z"
   },
   {
    "duration": 19,
    "start_time": "2025-03-25T00:24:21.621Z"
   },
   {
    "duration": 20,
    "start_time": "2025-03-25T00:26:30.620Z"
   },
   {
    "duration": 12,
    "start_time": "2025-03-25T00:29:31.374Z"
   },
   {
    "duration": 22,
    "start_time": "2025-03-25T00:29:37.158Z"
   },
   {
    "duration": 22,
    "start_time": "2025-03-25T00:29:46.119Z"
   },
   {
    "duration": 17,
    "start_time": "2025-03-25T00:31:42.325Z"
   },
   {
    "duration": 20,
    "start_time": "2025-03-25T00:32:49.091Z"
   },
   {
    "duration": 21,
    "start_time": "2025-03-25T00:33:33.076Z"
   },
   {
    "duration": 158,
    "start_time": "2025-03-25T13:11:43.825Z"
   },
   {
    "duration": 2800,
    "start_time": "2025-03-25T17:07:28.746Z"
   },
   {
    "duration": 701,
    "start_time": "2025-03-25T17:07:31.548Z"
   },
   {
    "duration": 15,
    "start_time": "2025-03-25T17:07:32.251Z"
   },
   {
    "duration": 16,
    "start_time": "2025-03-25T17:07:32.268Z"
   },
   {
    "duration": 34,
    "start_time": "2025-03-25T17:07:32.287Z"
   },
   {
    "duration": 7,
    "start_time": "2025-03-25T17:07:32.324Z"
   },
   {
    "duration": 9,
    "start_time": "2025-03-25T17:07:32.333Z"
   },
   {
    "duration": 308,
    "start_time": "2025-03-25T17:10:54.630Z"
   },
   {
    "duration": 253,
    "start_time": "2025-03-25T17:11:54.521Z"
   },
   {
    "duration": 533,
    "start_time": "2025-03-25T17:12:36.456Z"
   },
   {
    "duration": 209,
    "start_time": "2025-03-25T17:12:45.477Z"
   },
   {
    "duration": 218,
    "start_time": "2025-03-25T17:13:16.829Z"
   },
   {
    "duration": 324,
    "start_time": "2025-03-25T17:13:39.128Z"
   },
   {
    "duration": 295,
    "start_time": "2025-03-25T17:14:13.072Z"
   },
   {
    "duration": 293,
    "start_time": "2025-03-25T17:15:11.890Z"
   },
   {
    "duration": 7,
    "start_time": "2025-03-25T17:16:04.983Z"
   },
   {
    "duration": 207,
    "start_time": "2025-03-25T17:16:15.381Z"
   },
   {
    "duration": 229,
    "start_time": "2025-03-25T17:16:37.475Z"
   },
   {
    "duration": 7,
    "start_time": "2025-03-25T17:17:22.251Z"
   },
   {
    "duration": 6,
    "start_time": "2025-03-25T17:19:40.034Z"
   },
   {
    "duration": 12,
    "start_time": "2025-03-25T17:19:47.663Z"
   },
   {
    "duration": 13,
    "start_time": "2025-03-25T17:20:16.979Z"
   },
   {
    "duration": 6,
    "start_time": "2025-03-25T17:23:20.631Z"
   },
   {
    "duration": 60,
    "start_time": "2025-03-25T17:23:25.475Z"
   },
   {
    "duration": 79,
    "start_time": "2025-03-25T17:24:16.655Z"
   },
   {
    "duration": 15,
    "start_time": "2025-03-25T17:24:51.830Z"
   },
   {
    "duration": 532,
    "start_time": "2025-03-25T17:27:36.158Z"
   },
   {
    "duration": 4,
    "start_time": "2025-03-25T17:27:59.736Z"
   },
   {
    "duration": 59,
    "start_time": "2025-03-25T17:28:07.839Z"
   },
   {
    "duration": 91,
    "start_time": "2025-03-25T17:28:36.702Z"
   },
   {
    "duration": 6,
    "start_time": "2025-03-25T17:29:27.825Z"
   },
   {
    "duration": 130,
    "start_time": "2025-03-25T17:29:35.544Z"
   },
   {
    "duration": 15,
    "start_time": "2025-03-25T17:30:11.991Z"
   },
   {
    "duration": 145,
    "start_time": "2025-03-25T17:31:28.646Z"
   },
   {
    "duration": 66,
    "start_time": "2025-03-25T17:32:09.237Z"
   },
   {
    "duration": 26,
    "start_time": "2025-03-25T18:01:31.425Z"
   },
   {
    "duration": 31,
    "start_time": "2025-03-25T18:02:06.444Z"
   },
   {
    "duration": 960,
    "start_time": "2025-03-25T18:02:25.232Z"
   },
   {
    "duration": 589,
    "start_time": "2025-03-25T18:02:26.194Z"
   },
   {
    "duration": 19,
    "start_time": "2025-03-25T18:02:26.785Z"
   },
   {
    "duration": 16,
    "start_time": "2025-03-25T18:02:26.806Z"
   },
   {
    "duration": 23,
    "start_time": "2025-03-25T18:02:26.828Z"
   },
   {
    "duration": 16,
    "start_time": "2025-03-25T18:02:26.855Z"
   },
   {
    "duration": 24,
    "start_time": "2025-03-25T18:02:26.877Z"
   },
   {
    "duration": 1103,
    "start_time": "2025-03-25T18:02:26.903Z"
   },
   {
    "duration": 91,
    "start_time": "2025-03-25T18:02:47.256Z"
   },
   {
    "duration": 178,
    "start_time": "2025-03-25T18:03:12.724Z"
   },
   {
    "duration": 148,
    "start_time": "2025-03-25T18:04:01.784Z"
   },
   {
    "duration": 179,
    "start_time": "2025-03-25T18:04:09.723Z"
   },
   {
    "duration": 142,
    "start_time": "2025-03-25T18:04:21.067Z"
   },
   {
    "duration": 142,
    "start_time": "2025-03-25T18:04:50.311Z"
   },
   {
    "duration": 111,
    "start_time": "2025-03-25T18:05:47.324Z"
   },
   {
    "duration": 23,
    "start_time": "2025-03-25T18:06:05.039Z"
   },
   {
    "duration": 112,
    "start_time": "2025-03-25T18:06:07.363Z"
   },
   {
    "duration": 43,
    "start_time": "2025-03-25T18:07:39.223Z"
   },
   {
    "duration": 152,
    "start_time": "2025-03-25T18:08:53.307Z"
   },
   {
    "duration": 175,
    "start_time": "2025-03-25T18:09:18.621Z"
   },
   {
    "duration": 146,
    "start_time": "2025-03-25T18:09:49.144Z"
   },
   {
    "duration": 90,
    "start_time": "2025-03-25T18:10:16.767Z"
   },
   {
    "duration": 86,
    "start_time": "2025-03-25T18:11:43.281Z"
   },
   {
    "duration": 94,
    "start_time": "2025-03-25T18:12:16.161Z"
   },
   {
    "duration": 89,
    "start_time": "2025-03-25T18:12:28.079Z"
   },
   {
    "duration": 91,
    "start_time": "2025-03-25T18:12:45.685Z"
   },
   {
    "duration": 75,
    "start_time": "2025-03-25T18:13:17.760Z"
   },
   {
    "duration": 58,
    "start_time": "2025-03-25T18:14:12.735Z"
   },
   {
    "duration": 80,
    "start_time": "2025-03-25T18:14:25.829Z"
   },
   {
    "duration": 82,
    "start_time": "2025-03-25T18:14:34.000Z"
   },
   {
    "duration": 269,
    "start_time": "2025-03-25T18:15:46.618Z"
   },
   {
    "duration": 167,
    "start_time": "2025-03-25T18:15:54.381Z"
   },
   {
    "duration": 228,
    "start_time": "2025-03-25T18:16:10.850Z"
   },
   {
    "duration": 274,
    "start_time": "2025-03-25T18:18:10.160Z"
   },
   {
    "duration": 202,
    "start_time": "2025-03-25T18:18:39.491Z"
   },
   {
    "duration": 157,
    "start_time": "2025-03-25T18:18:51.419Z"
   },
   {
    "duration": 194,
    "start_time": "2025-03-25T18:19:02.966Z"
   },
   {
    "duration": 199,
    "start_time": "2025-03-25T18:19:34.992Z"
   },
   {
    "duration": 174,
    "start_time": "2025-03-25T18:19:44.104Z"
   },
   {
    "duration": 128,
    "start_time": "2025-03-25T18:20:02.766Z"
   },
   {
    "duration": 152,
    "start_time": "2025-03-25T18:20:10.599Z"
   },
   {
    "duration": 179,
    "start_time": "2025-03-25T18:20:24.494Z"
   },
   {
    "duration": 153,
    "start_time": "2025-03-25T18:20:48.940Z"
   },
   {
    "duration": 195,
    "start_time": "2025-03-25T18:21:14.924Z"
   },
   {
    "duration": 201,
    "start_time": "2025-03-25T18:21:40.598Z"
   },
   {
    "duration": 138,
    "start_time": "2025-03-25T18:21:51.894Z"
   },
   {
    "duration": 14,
    "start_time": "2025-03-25T18:22:42.339Z"
   },
   {
    "duration": 17,
    "start_time": "2025-03-25T18:23:14.727Z"
   },
   {
    "duration": 13,
    "start_time": "2025-03-25T18:23:27.743Z"
   },
   {
    "duration": 15,
    "start_time": "2025-03-25T18:23:38.534Z"
   },
   {
    "duration": 12,
    "start_time": "2025-03-25T18:24:19.242Z"
   },
   {
    "duration": 14,
    "start_time": "2025-03-25T18:26:11.286Z"
   },
   {
    "duration": 12,
    "start_time": "2025-03-25T18:26:23.360Z"
   },
   {
    "duration": 27,
    "start_time": "2025-03-25T18:26:29.308Z"
   },
   {
    "duration": 12,
    "start_time": "2025-03-25T18:26:40.435Z"
   },
   {
    "duration": 11,
    "start_time": "2025-03-25T18:26:52.951Z"
   },
   {
    "duration": 18,
    "start_time": "2025-03-25T18:27:06.633Z"
   },
   {
    "duration": 12,
    "start_time": "2025-03-25T18:29:56.632Z"
   },
   {
    "duration": 379,
    "start_time": "2025-03-25T18:31:25.731Z"
   },
   {
    "duration": 47,
    "start_time": "2025-03-25T18:31:40.320Z"
   },
   {
    "duration": 122,
    "start_time": "2025-03-25T18:32:52.396Z"
   },
   {
    "duration": 35,
    "start_time": "2025-03-25T18:32:59.727Z"
   },
   {
    "duration": 11,
    "start_time": "2025-03-25T18:33:06.234Z"
   },
   {
    "duration": 13,
    "start_time": "2025-03-25T18:36:29.904Z"
   },
   {
    "duration": 15,
    "start_time": "2025-03-25T18:37:25.342Z"
   },
   {
    "duration": 14,
    "start_time": "2025-03-25T18:37:42.343Z"
   },
   {
    "duration": 20,
    "start_time": "2025-03-25T18:38:35.100Z"
   },
   {
    "duration": 16,
    "start_time": "2025-03-25T18:38:59.105Z"
   },
   {
    "duration": 11,
    "start_time": "2025-03-25T18:39:41.707Z"
   },
   {
    "duration": 9,
    "start_time": "2025-03-25T18:42:26.048Z"
   },
   {
    "duration": 10,
    "start_time": "2025-03-25T18:43:10.545Z"
   },
   {
    "duration": 10,
    "start_time": "2025-03-25T18:44:03.103Z"
   },
   {
    "duration": 14,
    "start_time": "2025-03-25T18:46:55.446Z"
   },
   {
    "duration": 11,
    "start_time": "2025-03-25T19:01:40.904Z"
   },
   {
    "duration": 41,
    "start_time": "2025-03-25T19:01:52.589Z"
   },
   {
    "duration": 37,
    "start_time": "2025-03-25T19:02:34.457Z"
   },
   {
    "duration": 11,
    "start_time": "2025-03-25T19:05:54.463Z"
   },
   {
    "duration": 11,
    "start_time": "2025-03-25T19:06:13.508Z"
   },
   {
    "duration": 14,
    "start_time": "2025-03-25T19:06:26.734Z"
   },
   {
    "duration": 14,
    "start_time": "2025-03-25T19:07:31.905Z"
   },
   {
    "duration": 15,
    "start_time": "2025-03-25T19:08:17.572Z"
   },
   {
    "duration": 151,
    "start_time": "2025-03-25T19:09:00.594Z"
   },
   {
    "duration": 147,
    "start_time": "2025-03-25T19:09:13.446Z"
   },
   {
    "duration": 15,
    "start_time": "2025-03-25T19:10:05.513Z"
   },
   {
    "duration": 147,
    "start_time": "2025-03-25T19:10:09.770Z"
   },
   {
    "duration": 922,
    "start_time": "2025-03-25T19:13:04.553Z"
   },
   {
    "duration": 490,
    "start_time": "2025-03-25T19:13:05.477Z"
   },
   {
    "duration": 15,
    "start_time": "2025-03-25T19:13:05.968Z"
   },
   {
    "duration": 27,
    "start_time": "2025-03-25T19:13:05.985Z"
   },
   {
    "duration": 10,
    "start_time": "2025-03-25T19:13:06.014Z"
   },
   {
    "duration": 6,
    "start_time": "2025-03-25T19:13:06.025Z"
   },
   {
    "duration": 16,
    "start_time": "2025-03-25T19:13:06.033Z"
   },
   {
    "duration": 15,
    "start_time": "2025-03-25T19:13:06.051Z"
   },
   {
    "duration": 183,
    "start_time": "2025-03-25T19:13:06.068Z"
   },
   {
    "duration": 889,
    "start_time": "2025-03-25T19:14:16.750Z"
   },
   {
    "duration": 518,
    "start_time": "2025-03-25T19:14:17.641Z"
   },
   {
    "duration": 14,
    "start_time": "2025-03-25T19:14:18.161Z"
   },
   {
    "duration": 13,
    "start_time": "2025-03-25T19:14:18.177Z"
   },
   {
    "duration": 25,
    "start_time": "2025-03-25T19:14:18.192Z"
   },
   {
    "duration": 6,
    "start_time": "2025-03-25T19:14:18.219Z"
   },
   {
    "duration": 16,
    "start_time": "2025-03-25T19:14:18.226Z"
   },
   {
    "duration": 15,
    "start_time": "2025-03-25T19:14:18.244Z"
   },
   {
    "duration": 193,
    "start_time": "2025-03-25T19:14:18.260Z"
   },
   {
    "duration": 75,
    "start_time": "2025-03-25T19:17:31.384Z"
   },
   {
    "duration": 79,
    "start_time": "2025-03-25T19:17:45.940Z"
   },
   {
    "duration": 107,
    "start_time": "2025-03-25T19:17:57.359Z"
   },
   {
    "duration": 13,
    "start_time": "2025-03-25T19:46:33.244Z"
   },
   {
    "duration": 136,
    "start_time": "2025-03-25T19:56:42.289Z"
   },
   {
    "duration": 790,
    "start_time": "2025-03-25T19:56:50.014Z"
   },
   {
    "duration": 5,
    "start_time": "2025-03-25T19:57:54.383Z"
   },
   {
    "duration": 4,
    "start_time": "2025-03-25T19:57:59.291Z"
   },
   {
    "duration": 4,
    "start_time": "2025-03-25T19:58:07.963Z"
   },
   {
    "duration": 4,
    "start_time": "2025-03-25T19:58:18.973Z"
   },
   {
    "duration": 4,
    "start_time": "2025-03-25T19:58:33.623Z"
   },
   {
    "duration": 23,
    "start_time": "2025-03-25T20:06:32.598Z"
   },
   {
    "duration": 18,
    "start_time": "2025-03-25T20:11:06.101Z"
   },
   {
    "duration": 15,
    "start_time": "2025-03-25T20:11:28.371Z"
   },
   {
    "duration": 871,
    "start_time": "2025-03-25T20:14:21.297Z"
   },
   {
    "duration": 513,
    "start_time": "2025-03-25T20:14:22.171Z"
   },
   {
    "duration": 14,
    "start_time": "2025-03-25T20:14:22.686Z"
   },
   {
    "duration": 18,
    "start_time": "2025-03-25T20:14:22.701Z"
   },
   {
    "duration": 10,
    "start_time": "2025-03-25T20:14:22.722Z"
   },
   {
    "duration": 294,
    "start_time": "2025-03-25T20:14:22.733Z"
   },
   {
    "duration": 20,
    "start_time": "2025-03-25T20:14:23.029Z"
   },
   {
    "duration": 303,
    "start_time": "2025-03-25T20:14:23.051Z"
   },
   {
    "duration": 0,
    "start_time": "2025-03-25T20:14:23.356Z"
   },
   {
    "duration": 0,
    "start_time": "2025-03-25T20:14:23.357Z"
   },
   {
    "duration": 0,
    "start_time": "2025-03-25T20:14:23.358Z"
   },
   {
    "duration": 0,
    "start_time": "2025-03-25T20:14:23.359Z"
   },
   {
    "duration": 13943,
    "start_time": "2025-03-25T20:17:30.323Z"
   },
   {
    "duration": 722,
    "start_time": "2025-03-25T20:18:05.522Z"
   },
   {
    "duration": 55,
    "start_time": "2025-03-25T20:18:39.807Z"
   },
   {
    "duration": 21,
    "start_time": "2025-03-25T20:19:56.283Z"
   },
   {
    "duration": 891,
    "start_time": "2025-03-25T20:29:31.202Z"
   },
   {
    "duration": 536,
    "start_time": "2025-03-25T20:29:32.095Z"
   },
   {
    "duration": 16,
    "start_time": "2025-03-25T20:29:32.633Z"
   },
   {
    "duration": 13,
    "start_time": "2025-03-25T20:29:32.650Z"
   },
   {
    "duration": 11,
    "start_time": "2025-03-25T20:29:32.666Z"
   },
   {
    "duration": 80,
    "start_time": "2025-03-25T20:29:32.678Z"
   },
   {
    "duration": 105,
    "start_time": "2025-03-25T20:29:32.761Z"
   },
   {
    "duration": 294,
    "start_time": "2025-03-25T20:29:32.868Z"
   },
   {
    "duration": 0,
    "start_time": "2025-03-25T20:29:33.165Z"
   },
   {
    "duration": 0,
    "start_time": "2025-03-25T20:29:33.166Z"
   },
   {
    "duration": 13,
    "start_time": "2025-03-25T20:30:02.480Z"
   },
   {
    "duration": 16,
    "start_time": "2025-03-25T20:30:50.725Z"
   },
   {
    "duration": 85,
    "start_time": "2025-03-25T21:04:15.206Z"
   },
   {
    "duration": 85,
    "start_time": "2025-03-25T21:04:23.686Z"
   },
   {
    "duration": 13,
    "start_time": "2025-03-25T21:04:41.610Z"
   },
   {
    "duration": 14,
    "start_time": "2025-03-25T21:05:20.636Z"
   },
   {
    "duration": 2596,
    "start_time": "2025-03-26T14:10:00.247Z"
   },
   {
    "duration": 605,
    "start_time": "2025-03-26T14:10:02.845Z"
   },
   {
    "duration": 15,
    "start_time": "2025-03-26T14:10:03.451Z"
   },
   {
    "duration": 12,
    "start_time": "2025-03-26T14:10:03.467Z"
   },
   {
    "duration": 10,
    "start_time": "2025-03-26T14:10:03.481Z"
   },
   {
    "duration": 76,
    "start_time": "2025-03-26T14:10:03.493Z"
   },
   {
    "duration": 97,
    "start_time": "2025-03-26T14:10:03.572Z"
   },
   {
    "duration": 12,
    "start_time": "2025-03-26T14:10:03.671Z"
   },
   {
    "duration": 243,
    "start_time": "2025-03-26T14:10:03.685Z"
   },
   {
    "duration": 0,
    "start_time": "2025-03-26T14:10:03.930Z"
   },
   {
    "duration": 18,
    "start_time": "2025-03-26T14:33:56.624Z"
   },
   {
    "duration": 16,
    "start_time": "2025-03-26T14:34:25.298Z"
   },
   {
    "duration": 17,
    "start_time": "2025-03-26T14:34:32.792Z"
   },
   {
    "duration": 208,
    "start_time": "2025-03-26T14:34:40.316Z"
   },
   {
    "duration": 858,
    "start_time": "2025-03-26T14:35:03.158Z"
   },
   {
    "duration": 523,
    "start_time": "2025-03-26T14:35:04.018Z"
   },
   {
    "duration": 14,
    "start_time": "2025-03-26T14:35:04.543Z"
   },
   {
    "duration": 12,
    "start_time": "2025-03-26T14:35:04.558Z"
   },
   {
    "duration": 10,
    "start_time": "2025-03-26T14:35:04.572Z"
   },
   {
    "duration": 72,
    "start_time": "2025-03-26T14:35:04.584Z"
   },
   {
    "duration": 95,
    "start_time": "2025-03-26T14:35:04.658Z"
   },
   {
    "duration": 12,
    "start_time": "2025-03-26T14:35:04.755Z"
   },
   {
    "duration": 10,
    "start_time": "2025-03-26T14:35:04.768Z"
   },
   {
    "duration": 227,
    "start_time": "2025-03-26T14:35:04.780Z"
   },
   {
    "duration": 318,
    "start_time": "2025-03-26T14:35:50.407Z"
   },
   {
    "duration": 132,
    "start_time": "2025-03-26T14:36:49.323Z"
   },
   {
    "duration": 22,
    "start_time": "2025-03-26T14:37:07.520Z"
   },
   {
    "duration": 9,
    "start_time": "2025-03-26T14:37:23.024Z"
   },
   {
    "duration": 281,
    "start_time": "2025-03-26T14:38:26.190Z"
   },
   {
    "duration": 4,
    "start_time": "2025-03-26T14:39:01.710Z"
   },
   {
    "duration": 3,
    "start_time": "2025-03-26T14:39:11.500Z"
   },
   {
    "duration": 3,
    "start_time": "2025-03-26T14:39:39.222Z"
   },
   {
    "duration": 294,
    "start_time": "2025-03-26T14:40:06.312Z"
   },
   {
    "duration": 892,
    "start_time": "2025-03-26T14:41:35.694Z"
   },
   {
    "duration": 488,
    "start_time": "2025-03-26T14:41:36.588Z"
   },
   {
    "duration": 13,
    "start_time": "2025-03-26T14:41:37.078Z"
   },
   {
    "duration": 12,
    "start_time": "2025-03-26T14:41:37.095Z"
   },
   {
    "duration": 23,
    "start_time": "2025-03-26T14:41:37.108Z"
   },
   {
    "duration": 53,
    "start_time": "2025-03-26T14:41:37.132Z"
   },
   {
    "duration": 103,
    "start_time": "2025-03-26T14:41:37.187Z"
   },
   {
    "duration": 13,
    "start_time": "2025-03-26T14:41:37.292Z"
   },
   {
    "duration": 19,
    "start_time": "2025-03-26T14:41:37.306Z"
   },
   {
    "duration": 4,
    "start_time": "2025-03-26T14:41:37.327Z"
   },
   {
    "duration": 361,
    "start_time": "2025-03-26T14:41:37.332Z"
   },
   {
    "duration": 163,
    "start_time": "2025-03-26T14:44:27.825Z"
   },
   {
    "duration": 87,
    "start_time": "2025-03-26T14:45:27.994Z"
   },
   {
    "duration": 323,
    "start_time": "2025-03-26T14:47:44.743Z"
   },
   {
    "duration": 147,
    "start_time": "2025-03-26T14:49:53.794Z"
   },
   {
    "duration": 93,
    "start_time": "2025-03-26T14:50:11.906Z"
   },
   {
    "duration": 96,
    "start_time": "2025-03-26T14:50:40.478Z"
   },
   {
    "duration": 11,
    "start_time": "2025-03-26T15:01:34.732Z"
   },
   {
    "duration": 11,
    "start_time": "2025-03-26T15:03:17.145Z"
   },
   {
    "duration": 3,
    "start_time": "2025-03-26T15:03:25.367Z"
   },
   {
    "duration": 515,
    "start_time": "2025-03-26T15:03:25.535Z"
   },
   {
    "duration": 14,
    "start_time": "2025-03-26T15:03:26.052Z"
   },
   {
    "duration": 65,
    "start_time": "2025-03-26T15:03:26.074Z"
   },
   {
    "duration": 10,
    "start_time": "2025-03-26T15:03:26.352Z"
   },
   {
    "duration": 14,
    "start_time": "2025-03-26T15:03:27.026Z"
   },
   {
    "duration": 5,
    "start_time": "2025-03-26T15:05:07.104Z"
   },
   {
    "duration": 5,
    "start_time": "2025-03-26T15:08:07.098Z"
   },
   {
    "duration": 11,
    "start_time": "2025-03-26T15:08:27.168Z"
   },
   {
    "duration": 12,
    "start_time": "2025-03-26T15:22:35.879Z"
   },
   {
    "duration": 49,
    "start_time": "2025-03-26T15:32:11.856Z"
   },
   {
    "duration": 45,
    "start_time": "2025-03-26T15:41:44.185Z"
   },
   {
    "duration": 90,
    "start_time": "2025-03-26T15:42:57.322Z"
   },
   {
    "duration": 7,
    "start_time": "2025-03-26T16:03:13.319Z"
   },
   {
    "duration": 17,
    "start_time": "2025-03-26T16:07:34.102Z"
   },
   {
    "duration": 368,
    "start_time": "2025-03-26T16:08:25.936Z"
   },
   {
    "duration": 45,
    "start_time": "2025-03-26T16:08:53.659Z"
   },
   {
    "duration": 37,
    "start_time": "2025-03-26T16:09:03.025Z"
   },
   {
    "duration": 34,
    "start_time": "2025-03-26T16:09:23.521Z"
   },
   {
    "duration": 33,
    "start_time": "2025-03-26T16:09:30.297Z"
   },
   {
    "duration": 34,
    "start_time": "2025-03-26T16:10:03.963Z"
   },
   {
    "duration": 33,
    "start_time": "2025-03-26T16:12:21.664Z"
   },
   {
    "duration": 32,
    "start_time": "2025-03-26T16:12:46.957Z"
   },
   {
    "duration": 33,
    "start_time": "2025-03-26T16:13:42.204Z"
   },
   {
    "duration": 383,
    "start_time": "2025-03-26T16:13:59.289Z"
   },
   {
    "duration": 37,
    "start_time": "2025-03-26T16:16:31.329Z"
   },
   {
    "duration": 158,
    "start_time": "2025-03-26T16:16:43.974Z"
   },
   {
    "duration": 160,
    "start_time": "2025-03-26T16:17:56.991Z"
   },
   {
    "duration": 157,
    "start_time": "2025-03-26T16:20:41.901Z"
   },
   {
    "duration": 160,
    "start_time": "2025-03-26T16:21:07.643Z"
   },
   {
    "duration": 158,
    "start_time": "2025-03-26T16:22:16.607Z"
   },
   {
    "duration": 157,
    "start_time": "2025-03-26T16:23:30.087Z"
   },
   {
    "duration": 206,
    "start_time": "2025-03-26T16:24:29.028Z"
   },
   {
    "duration": 286,
    "start_time": "2025-03-26T16:26:55.819Z"
   },
   {
    "duration": 936,
    "start_time": "2025-03-26T16:28:22.941Z"
   },
   {
    "duration": 506,
    "start_time": "2025-03-26T16:28:23.879Z"
   },
   {
    "duration": 15,
    "start_time": "2025-03-26T16:28:24.387Z"
   },
   {
    "duration": 23,
    "start_time": "2025-03-26T16:28:24.404Z"
   },
   {
    "duration": 11,
    "start_time": "2025-03-26T16:28:24.430Z"
   },
   {
    "duration": 12,
    "start_time": "2025-03-26T16:28:24.443Z"
   },
   {
    "duration": 45,
    "start_time": "2025-03-26T16:28:24.456Z"
   },
   {
    "duration": 123,
    "start_time": "2025-03-26T16:28:24.503Z"
   },
   {
    "duration": 12,
    "start_time": "2025-03-26T16:28:24.627Z"
   },
   {
    "duration": 299,
    "start_time": "2025-03-26T16:28:24.641Z"
   },
   {
    "duration": 0,
    "start_time": "2025-03-26T16:28:24.942Z"
   },
   {
    "duration": 0,
    "start_time": "2025-03-26T16:28:24.943Z"
   },
   {
    "duration": 0,
    "start_time": "2025-03-26T16:28:24.944Z"
   },
   {
    "duration": 0,
    "start_time": "2025-03-26T16:28:24.945Z"
   },
   {
    "duration": 0,
    "start_time": "2025-03-26T16:28:24.947Z"
   },
   {
    "duration": 0,
    "start_time": "2025-03-26T16:28:24.948Z"
   },
   {
    "duration": 0,
    "start_time": "2025-03-26T16:28:24.949Z"
   },
   {
    "duration": 157,
    "start_time": "2025-03-26T16:28:54.036Z"
   },
   {
    "duration": 219,
    "start_time": "2025-03-26T16:28:57.345Z"
   },
   {
    "duration": 155,
    "start_time": "2025-03-26T16:30:03.026Z"
   },
   {
    "duration": 161,
    "start_time": "2025-03-26T16:30:11.065Z"
   },
   {
    "duration": 501,
    "start_time": "2025-03-26T16:52:51.117Z"
   },
   {
    "duration": 15,
    "start_time": "2025-03-26T16:52:51.620Z"
   },
   {
    "duration": 16,
    "start_time": "2025-03-26T16:52:51.906Z"
   },
   {
    "duration": 11,
    "start_time": "2025-03-26T16:52:52.576Z"
   },
   {
    "duration": 22,
    "start_time": "2025-03-26T16:52:53.323Z"
   },
   {
    "duration": 9,
    "start_time": "2025-03-26T16:53:20.719Z"
   },
   {
    "duration": 17,
    "start_time": "2025-03-26T16:53:32.915Z"
   },
   {
    "duration": 22,
    "start_time": "2025-03-26T16:54:50.824Z"
   },
   {
    "duration": 12,
    "start_time": "2025-03-26T16:55:34.210Z"
   },
   {
    "duration": 27,
    "start_time": "2025-03-26T16:56:43.734Z"
   },
   {
    "duration": 41,
    "start_time": "2025-03-26T16:56:58.669Z"
   },
   {
    "duration": 40,
    "start_time": "2025-03-26T16:57:41.668Z"
   },
   {
    "duration": 86,
    "start_time": "2025-03-26T16:58:03.803Z"
   },
   {
    "duration": 3,
    "start_time": "2025-03-26T16:58:21.335Z"
   },
   {
    "duration": 511,
    "start_time": "2025-03-26T16:58:21.653Z"
   },
   {
    "duration": 13,
    "start_time": "2025-03-26T16:58:22.166Z"
   },
   {
    "duration": 13,
    "start_time": "2025-03-26T16:58:22.415Z"
   },
   {
    "duration": 10,
    "start_time": "2025-03-26T16:58:22.733Z"
   },
   {
    "duration": 80,
    "start_time": "2025-03-26T16:58:23.048Z"
   },
   {
    "duration": 783,
    "start_time": "2025-03-26T16:58:48.578Z"
   },
   {
    "duration": 145,
    "start_time": "2025-03-26T16:58:59.462Z"
   },
   {
    "duration": 231,
    "start_time": "2025-03-26T16:59:25.277Z"
   },
   {
    "duration": 311,
    "start_time": "2025-03-26T16:59:45.721Z"
   },
   {
    "duration": 257,
    "start_time": "2025-03-26T17:01:58.931Z"
   },
   {
    "duration": 266,
    "start_time": "2025-03-26T17:03:27.361Z"
   },
   {
    "duration": 262,
    "start_time": "2025-03-26T17:04:14.830Z"
   },
   {
    "duration": 280,
    "start_time": "2025-03-26T17:05:52.623Z"
   },
   {
    "duration": 509,
    "start_time": "2025-03-26T17:06:16.385Z"
   },
   {
    "duration": 263,
    "start_time": "2025-03-26T17:06:23.247Z"
   },
   {
    "duration": 473,
    "start_time": "2025-03-26T17:06:53.322Z"
   },
   {
    "duration": 275,
    "start_time": "2025-03-26T17:07:17.971Z"
   },
   {
    "duration": 25,
    "start_time": "2025-03-26T17:09:54.812Z"
   },
   {
    "duration": 272,
    "start_time": "2025-03-26T17:10:02.965Z"
   },
   {
    "duration": 458,
    "start_time": "2025-03-26T17:10:32.740Z"
   },
   {
    "duration": 262,
    "start_time": "2025-03-26T17:12:14.128Z"
   },
   {
    "duration": 263,
    "start_time": "2025-03-26T17:13:12.247Z"
   },
   {
    "duration": 462,
    "start_time": "2025-03-26T17:13:18.631Z"
   },
   {
    "duration": 29,
    "start_time": "2025-03-26T17:14:28.037Z"
   },
   {
    "duration": 218,
    "start_time": "2025-03-26T17:14:52.505Z"
   },
   {
    "duration": 12324,
    "start_time": "2025-03-26T17:15:29.255Z"
   },
   {
    "duration": 12135,
    "start_time": "2025-03-26T17:16:14.291Z"
   },
   {
    "duration": 12093,
    "start_time": "2025-03-26T17:17:02.731Z"
   },
   {
    "duration": 12364,
    "start_time": "2025-03-26T17:18:15.546Z"
   },
   {
    "duration": 12205,
    "start_time": "2025-03-26T17:18:59.900Z"
   },
   {
    "duration": 12165,
    "start_time": "2025-03-26T17:19:49.247Z"
   },
   {
    "duration": 12084,
    "start_time": "2025-03-26T17:20:39.060Z"
   },
   {
    "duration": 6,
    "start_time": "2025-03-26T17:24:53.977Z"
   },
   {
    "duration": 12630,
    "start_time": "2025-03-26T17:25:25.134Z"
   },
   {
    "duration": 12617,
    "start_time": "2025-03-26T17:26:06.587Z"
   },
   {
    "duration": 183,
    "start_time": "2025-03-26T19:23:40.733Z"
   },
   {
    "duration": 17,
    "start_time": "2025-03-26T19:23:54.680Z"
   },
   {
    "duration": 3232,
    "start_time": "2025-03-26T19:24:00.548Z"
   },
   {
    "duration": 785,
    "start_time": "2025-03-26T19:24:03.785Z"
   },
   {
    "duration": 18,
    "start_time": "2025-03-26T19:24:04.573Z"
   },
   {
    "duration": 38,
    "start_time": "2025-03-26T19:24:04.594Z"
   },
   {
    "duration": 13,
    "start_time": "2025-03-26T19:24:04.649Z"
   },
   {
    "duration": 11,
    "start_time": "2025-03-26T19:24:04.665Z"
   },
   {
    "duration": 13270,
    "start_time": "2025-03-26T19:24:04.678Z"
   },
   {
    "duration": 17,
    "start_time": "2025-03-26T19:24:17.957Z"
   },
   {
    "duration": 53,
    "start_time": "2025-03-26T19:24:17.976Z"
   },
   {
    "duration": 115,
    "start_time": "2025-03-26T19:24:18.032Z"
   },
   {
    "duration": 8,
    "start_time": "2025-03-26T19:24:18.149Z"
   },
   {
    "duration": 193,
    "start_time": "2025-03-26T19:24:18.159Z"
   },
   {
    "duration": 242,
    "start_time": "2025-03-26T19:24:18.354Z"
   },
   {
    "duration": 60,
    "start_time": "2025-03-26T19:24:18.598Z"
   },
   {
    "duration": 96,
    "start_time": "2025-03-26T19:24:18.662Z"
   },
   {
    "duration": 13,
    "start_time": "2025-03-26T19:24:18.760Z"
   },
   {
    "duration": 12,
    "start_time": "2025-03-26T19:24:18.775Z"
   },
   {
    "duration": 156,
    "start_time": "2025-03-26T19:24:18.788Z"
   },
   {
    "duration": 291,
    "start_time": "2025-03-26T19:24:18.949Z"
   },
   {
    "duration": 23,
    "start_time": "2025-03-26T19:24:58.408Z"
   },
   {
    "duration": 28,
    "start_time": "2025-03-26T19:25:10.608Z"
   },
   {
    "duration": 14,
    "start_time": "2025-03-26T19:25:44.577Z"
   },
   {
    "duration": 15,
    "start_time": "2025-03-26T19:26:21.120Z"
   },
   {
    "duration": 25,
    "start_time": "2025-03-26T19:26:47.999Z"
   },
   {
    "duration": 13,
    "start_time": "2025-03-26T19:27:00.060Z"
   },
   {
    "duration": 19,
    "start_time": "2025-03-26T19:27:32.513Z"
   },
   {
    "duration": 19,
    "start_time": "2025-03-26T19:28:14.114Z"
   },
   {
    "duration": 13,
    "start_time": "2025-03-26T19:28:52.774Z"
   },
   {
    "duration": 16,
    "start_time": "2025-03-26T19:29:19.355Z"
   },
   {
    "duration": 16,
    "start_time": "2025-03-26T19:29:48.855Z"
   },
   {
    "duration": 335,
    "start_time": "2025-03-26T19:31:08.114Z"
   },
   {
    "duration": 100,
    "start_time": "2025-03-26T19:31:15.216Z"
   },
   {
    "duration": 7,
    "start_time": "2025-03-26T19:33:22.353Z"
   },
   {
    "duration": 16,
    "start_time": "2025-03-26T19:33:26.989Z"
   },
   {
    "duration": 21,
    "start_time": "2025-03-26T19:33:36.491Z"
   },
   {
    "duration": 378,
    "start_time": "2025-03-26T21:50:35.152Z"
   },
   {
    "duration": 281,
    "start_time": "2025-03-26T21:51:03.013Z"
   },
   {
    "duration": 316,
    "start_time": "2025-03-26T21:51:18.789Z"
   },
   {
    "duration": 162,
    "start_time": "2025-03-26T21:51:45.998Z"
   },
   {
    "duration": 161,
    "start_time": "2025-03-26T21:52:51.388Z"
   },
   {
    "duration": 2616,
    "start_time": "2025-04-01T01:33:06.179Z"
   },
   {
    "duration": 643,
    "start_time": "2025-04-01T01:33:08.798Z"
   },
   {
    "duration": 15,
    "start_time": "2025-04-01T01:33:09.442Z"
   },
   {
    "duration": 13,
    "start_time": "2025-04-01T01:33:09.459Z"
   },
   {
    "duration": 22,
    "start_time": "2025-04-01T01:33:09.474Z"
   },
   {
    "duration": 6,
    "start_time": "2025-04-01T01:33:09.498Z"
   },
   {
    "duration": 7,
    "start_time": "2025-04-01T01:33:42.214Z"
   },
   {
    "duration": 6,
    "start_time": "2025-04-01T01:33:48.550Z"
   },
   {
    "duration": 7,
    "start_time": "2025-04-01T01:33:59.684Z"
   },
   {
    "duration": 7,
    "start_time": "2025-04-01T01:34:21.905Z"
   },
   {
    "duration": 6,
    "start_time": "2025-04-01T01:34:30.268Z"
   },
   {
    "duration": 5,
    "start_time": "2025-04-01T01:35:58.308Z"
   },
   {
    "duration": 7,
    "start_time": "2025-04-01T01:36:16.715Z"
   },
   {
    "duration": 7,
    "start_time": "2025-04-01T01:36:47.784Z"
   },
   {
    "duration": 10,
    "start_time": "2025-04-01T01:46:48.821Z"
   },
   {
    "duration": 13,
    "start_time": "2025-04-01T01:47:28.426Z"
   },
   {
    "duration": 12,
    "start_time": "2025-04-01T01:47:31.992Z"
   },
   {
    "duration": 137,
    "start_time": "2025-04-01T01:48:00.150Z"
   },
   {
    "duration": 181,
    "start_time": "2025-04-01T01:48:05.307Z"
   },
   {
    "duration": 25,
    "start_time": "2025-04-01T01:48:08.082Z"
   },
   {
    "duration": 11,
    "start_time": "2025-04-01T01:48:11.053Z"
   },
   {
    "duration": 10,
    "start_time": "2025-04-01T01:48:29.261Z"
   },
   {
    "duration": 16,
    "start_time": "2025-04-01T01:49:18.433Z"
   },
   {
    "duration": 71,
    "start_time": "2025-04-01T01:49:40.926Z"
   },
   {
    "duration": 10,
    "start_time": "2025-04-01T01:50:10.400Z"
   },
   {
    "duration": 26,
    "start_time": "2025-04-01T01:54:51.349Z"
   },
   {
    "duration": 3,
    "start_time": "2025-04-01T01:57:51.986Z"
   },
   {
    "duration": 20,
    "start_time": "2025-04-01T01:59:50.059Z"
   },
   {
    "duration": 8,
    "start_time": "2025-04-01T01:59:58.887Z"
   },
   {
    "duration": 19,
    "start_time": "2025-04-01T02:00:11.704Z"
   },
   {
    "duration": 19,
    "start_time": "2025-04-01T02:00:21.008Z"
   },
   {
    "duration": 16,
    "start_time": "2025-04-01T02:00:55.217Z"
   },
   {
    "duration": 3,
    "start_time": "2025-04-01T02:04:00.714Z"
   },
   {
    "duration": 3,
    "start_time": "2025-04-01T02:04:22.240Z"
   },
   {
    "duration": 4,
    "start_time": "2025-04-01T02:04:48.711Z"
   },
   {
    "duration": 3,
    "start_time": "2025-04-01T02:05:15.664Z"
   },
   {
    "duration": 5,
    "start_time": "2025-04-01T02:05:53.568Z"
   },
   {
    "duration": 4,
    "start_time": "2025-04-01T02:06:11.848Z"
   },
   {
    "duration": 6,
    "start_time": "2025-04-01T02:06:33.608Z"
   },
   {
    "duration": 8,
    "start_time": "2025-04-01T02:06:38.525Z"
   },
   {
    "duration": 9,
    "start_time": "2025-04-01T02:07:02.172Z"
   },
   {
    "duration": 5,
    "start_time": "2025-04-01T02:07:09.744Z"
   },
   {
    "duration": 4,
    "start_time": "2025-04-01T02:07:14.980Z"
   },
   {
    "duration": 4,
    "start_time": "2025-04-01T02:07:44.224Z"
   },
   {
    "duration": 7,
    "start_time": "2025-04-01T02:08:41.245Z"
   },
   {
    "duration": 6,
    "start_time": "2025-04-01T02:08:51.596Z"
   },
   {
    "duration": 5,
    "start_time": "2025-04-01T02:10:33.122Z"
   },
   {
    "duration": 4,
    "start_time": "2025-04-01T02:12:33.311Z"
   },
   {
    "duration": 19,
    "start_time": "2025-04-01T02:12:58.194Z"
   },
   {
    "duration": 15,
    "start_time": "2025-04-01T02:13:11.682Z"
   },
   {
    "duration": 4,
    "start_time": "2025-04-01T02:13:19.894Z"
   },
   {
    "duration": 10,
    "start_time": "2025-04-01T02:14:24.038Z"
   },
   {
    "duration": 11,
    "start_time": "2025-04-01T02:17:10.519Z"
   },
   {
    "duration": 9,
    "start_time": "2025-04-01T02:18:54.419Z"
   },
   {
    "duration": 10,
    "start_time": "2025-04-01T02:19:15.822Z"
   },
   {
    "duration": 13,
    "start_time": "2025-04-01T02:19:40.718Z"
   },
   {
    "duration": 9,
    "start_time": "2025-04-01T02:20:49.709Z"
   },
   {
    "duration": 9,
    "start_time": "2025-04-01T02:21:14.901Z"
   },
   {
    "duration": 4,
    "start_time": "2025-04-01T02:21:43.449Z"
   },
   {
    "duration": 7,
    "start_time": "2025-04-01T02:21:57.986Z"
   },
   {
    "duration": 8,
    "start_time": "2025-04-01T02:22:03.656Z"
   },
   {
    "duration": 10,
    "start_time": "2025-04-01T02:22:35.223Z"
   },
   {
    "duration": 38,
    "start_time": "2025-04-01T02:26:11.925Z"
   },
   {
    "duration": 38,
    "start_time": "2025-04-01T02:26:22.619Z"
   },
   {
    "duration": 9,
    "start_time": "2025-04-01T02:45:03.472Z"
   },
   {
    "duration": 9,
    "start_time": "2025-04-01T02:45:45.225Z"
   },
   {
    "duration": 8,
    "start_time": "2025-04-01T02:47:55.681Z"
   },
   {
    "duration": 20,
    "start_time": "2025-04-01T02:50:44.379Z"
   },
   {
    "duration": 40,
    "start_time": "2025-04-01T02:50:53.148Z"
   },
   {
    "duration": 6,
    "start_time": "2025-04-01T02:51:16.106Z"
   },
   {
    "duration": 39,
    "start_time": "2025-04-01T02:51:23.151Z"
   },
   {
    "duration": 5,
    "start_time": "2025-04-01T02:51:39.128Z"
   },
   {
    "duration": 40,
    "start_time": "2025-04-01T02:51:41.006Z"
   },
   {
    "duration": 7,
    "start_time": "2025-04-01T02:52:38.332Z"
   },
   {
    "duration": 5,
    "start_time": "2025-04-01T02:53:06.919Z"
   },
   {
    "duration": 41,
    "start_time": "2025-04-01T02:53:08.599Z"
   },
   {
    "duration": 41,
    "start_time": "2025-04-01T02:53:25.175Z"
   },
   {
    "duration": 42,
    "start_time": "2025-04-01T02:54:03.816Z"
   },
   {
    "duration": 41,
    "start_time": "2025-04-01T02:54:20.616Z"
   },
   {
    "duration": 122,
    "start_time": "2025-04-01T02:55:03.929Z"
   },
   {
    "duration": 49,
    "start_time": "2025-04-01T02:56:00.643Z"
   },
   {
    "duration": 47,
    "start_time": "2025-04-01T02:56:17.564Z"
   },
   {
    "duration": 47,
    "start_time": "2025-04-01T02:57:10.432Z"
   },
   {
    "duration": 40,
    "start_time": "2025-04-01T02:57:32.971Z"
   },
   {
    "duration": 40,
    "start_time": "2025-04-01T02:58:15.792Z"
   },
   {
    "duration": 42,
    "start_time": "2025-04-01T02:58:20.725Z"
   },
   {
    "duration": 40,
    "start_time": "2025-04-01T02:58:26.537Z"
   },
   {
    "duration": 40,
    "start_time": "2025-04-01T02:58:52.001Z"
   },
   {
    "duration": 40,
    "start_time": "2025-04-01T02:59:05.287Z"
   },
   {
    "duration": 13,
    "start_time": "2025-04-01T03:00:32.412Z"
   },
   {
    "duration": 12,
    "start_time": "2025-04-01T03:00:51.375Z"
   },
   {
    "duration": 10,
    "start_time": "2025-04-01T03:00:52.350Z"
   },
   {
    "duration": 10,
    "start_time": "2025-04-01T03:00:53.341Z"
   },
   {
    "duration": 8,
    "start_time": "2025-04-01T03:00:54.592Z"
   },
   {
    "duration": 39,
    "start_time": "2025-04-01T03:00:56.166Z"
   },
   {
    "duration": 41,
    "start_time": "2025-04-01T03:01:27.065Z"
   },
   {
    "duration": 39,
    "start_time": "2025-04-01T03:01:31.598Z"
   },
   {
    "duration": 82,
    "start_time": "2025-04-01T03:01:59.947Z"
   },
   {
    "duration": 74,
    "start_time": "2025-04-01T03:05:30.575Z"
   },
   {
    "duration": 72,
    "start_time": "2025-04-01T03:06:11.831Z"
   },
   {
    "duration": 80,
    "start_time": "2025-04-01T03:06:20.222Z"
   },
   {
    "duration": 74,
    "start_time": "2025-04-01T03:06:25.215Z"
   },
   {
    "duration": 80,
    "start_time": "2025-04-01T03:06:37.541Z"
   },
   {
    "duration": 73,
    "start_time": "2025-04-01T03:06:44.988Z"
   },
   {
    "duration": 74,
    "start_time": "2025-04-01T03:06:54.020Z"
   },
   {
    "duration": 73,
    "start_time": "2025-04-01T03:07:19.069Z"
   },
   {
    "duration": 10,
    "start_time": "2025-04-01T03:09:31.787Z"
   },
   {
    "duration": 11,
    "start_time": "2025-04-01T03:09:35.051Z"
   },
   {
    "duration": 10,
    "start_time": "2025-04-01T03:09:35.963Z"
   },
   {
    "duration": 18,
    "start_time": "2025-04-01T03:09:38.713Z"
   },
   {
    "duration": 10,
    "start_time": "2025-04-01T03:09:42.632Z"
   },
   {
    "duration": 330,
    "start_time": "2025-04-01T03:10:15.931Z"
   },
   {
    "duration": 62,
    "start_time": "2025-04-01T03:10:53.656Z"
   },
   {
    "duration": 50,
    "start_time": "2025-04-01T03:11:02.272Z"
   },
   {
    "duration": 56,
    "start_time": "2025-04-01T03:11:23.816Z"
   },
   {
    "duration": 84,
    "start_time": "2025-04-01T03:12:24.473Z"
   },
   {
    "duration": 149,
    "start_time": "2025-04-01T03:12:53.077Z"
   },
   {
    "duration": 118,
    "start_time": "2025-04-01T03:13:48.307Z"
   },
   {
    "duration": 418,
    "start_time": "2025-04-01T03:14:21.965Z"
   },
   {
    "duration": 11,
    "start_time": "2025-04-01T03:15:29.429Z"
   },
   {
    "duration": 10,
    "start_time": "2025-04-01T03:15:34.880Z"
   },
   {
    "duration": 8,
    "start_time": "2025-04-01T03:15:36.347Z"
   },
   {
    "duration": 114,
    "start_time": "2025-04-01T03:15:39.023Z"
   },
   {
    "duration": 115,
    "start_time": "2025-04-01T03:16:06.233Z"
   },
   {
    "duration": 112,
    "start_time": "2025-04-01T03:16:14.893Z"
   },
   {
    "duration": 930,
    "start_time": "2025-04-01T03:17:15.620Z"
   },
   {
    "duration": 525,
    "start_time": "2025-04-01T03:17:16.553Z"
   },
   {
    "duration": 17,
    "start_time": "2025-04-01T03:17:17.079Z"
   },
   {
    "duration": 14,
    "start_time": "2025-04-01T03:17:17.099Z"
   },
   {
    "duration": 10,
    "start_time": "2025-04-01T03:17:17.114Z"
   },
   {
    "duration": 13,
    "start_time": "2025-04-01T03:17:17.126Z"
   },
   {
    "duration": 9,
    "start_time": "2025-04-01T03:17:17.141Z"
   },
   {
    "duration": 42,
    "start_time": "2025-04-01T03:17:17.151Z"
   },
   {
    "duration": 9,
    "start_time": "2025-04-01T03:17:17.195Z"
   },
   {
    "duration": 6,
    "start_time": "2025-04-01T03:17:17.206Z"
   },
   {
    "duration": 78,
    "start_time": "2025-04-01T03:17:17.213Z"
   },
   {
    "duration": 14,
    "start_time": "2025-04-01T03:17:50.507Z"
   },
   {
    "duration": 73,
    "start_time": "2025-04-01T03:17:54.969Z"
   },
   {
    "duration": 10,
    "start_time": "2025-04-01T03:18:01.973Z"
   },
   {
    "duration": 48,
    "start_time": "2025-04-01T03:18:13.340Z"
   },
   {
    "duration": 741,
    "start_time": "2025-04-01T03:22:49.020Z"
   },
   {
    "duration": 194,
    "start_time": "2025-04-01T03:23:07.399Z"
   },
   {
    "duration": 51,
    "start_time": "2025-04-01T03:23:27.963Z"
   },
   {
    "duration": 208,
    "start_time": "2025-04-01T03:23:30.450Z"
   },
   {
    "duration": 192,
    "start_time": "2025-04-01T03:25:29.856Z"
   },
   {
    "duration": 2566,
    "start_time": "2025-04-01T14:26:11.383Z"
   },
   {
    "duration": 627,
    "start_time": "2025-04-01T14:26:13.951Z"
   },
   {
    "duration": 14,
    "start_time": "2025-04-01T14:26:14.580Z"
   },
   {
    "duration": 13,
    "start_time": "2025-04-01T14:26:14.597Z"
   },
   {
    "duration": 10,
    "start_time": "2025-04-01T14:26:14.623Z"
   },
   {
    "duration": 14,
    "start_time": "2025-04-01T14:26:16.556Z"
   },
   {
    "duration": 12,
    "start_time": "2025-04-01T14:26:23.185Z"
   },
   {
    "duration": 70,
    "start_time": "2025-04-01T14:37:55.155Z"
   },
   {
    "duration": 49,
    "start_time": "2025-04-01T14:38:25.513Z"
   },
   {
    "duration": 14,
    "start_time": "2025-04-01T14:38:44.683Z"
   },
   {
    "duration": 11,
    "start_time": "2025-04-01T14:38:46.060Z"
   },
   {
    "duration": 18,
    "start_time": "2025-04-01T14:38:47.279Z"
   },
   {
    "duration": 11,
    "start_time": "2025-04-01T14:38:50.341Z"
   },
   {
    "duration": 10,
    "start_time": "2025-04-01T14:38:55.005Z"
   },
   {
    "duration": 42,
    "start_time": "2025-04-01T14:39:04.938Z"
   },
   {
    "duration": 7,
    "start_time": "2025-04-01T14:39:16.111Z"
   },
   {
    "duration": 45,
    "start_time": "2025-04-01T14:39:18.074Z"
   },
   {
    "duration": 8,
    "start_time": "2025-04-01T14:49:45.346Z"
   },
   {
    "duration": 4,
    "start_time": "2025-04-01T14:49:55.001Z"
   },
   {
    "duration": 5,
    "start_time": "2025-04-01T14:50:58.021Z"
   },
   {
    "duration": 5,
    "start_time": "2025-04-01T14:51:20.461Z"
   },
   {
    "duration": 44,
    "start_time": "2025-04-01T14:51:40.887Z"
   },
   {
    "duration": 75,
    "start_time": "2025-04-01T14:53:04.706Z"
   },
   {
    "duration": 75,
    "start_time": "2025-04-01T14:54:02.112Z"
   },
   {
    "duration": 77,
    "start_time": "2025-04-01T15:07:07.340Z"
   },
   {
    "duration": 198,
    "start_time": "2025-04-01T15:07:57.773Z"
   },
   {
    "duration": 7,
    "start_time": "2025-04-01T15:13:42.093Z"
   },
   {
    "duration": 10,
    "start_time": "2025-04-01T15:14:03.559Z"
   },
   {
    "duration": 935,
    "start_time": "2025-04-01T15:14:16.174Z"
   },
   {
    "duration": 529,
    "start_time": "2025-04-01T15:14:17.112Z"
   },
   {
    "duration": 15,
    "start_time": "2025-04-01T15:14:17.643Z"
   },
   {
    "duration": 13,
    "start_time": "2025-04-01T15:14:17.660Z"
   },
   {
    "duration": 10,
    "start_time": "2025-04-01T15:14:17.676Z"
   },
   {
    "duration": 39,
    "start_time": "2025-04-01T15:14:17.688Z"
   },
   {
    "duration": 11,
    "start_time": "2025-04-01T15:14:17.729Z"
   },
   {
    "duration": 12,
    "start_time": "2025-04-01T15:14:17.741Z"
   },
   {
    "duration": 9,
    "start_time": "2025-04-01T15:14:17.755Z"
   },
   {
    "duration": 8,
    "start_time": "2025-04-01T15:14:17.766Z"
   },
   {
    "duration": 241,
    "start_time": "2025-04-01T15:14:17.777Z"
   },
   {
    "duration": 214,
    "start_time": "2025-04-01T15:14:18.024Z"
   },
   {
    "duration": 844,
    "start_time": "2025-04-01T15:15:06.865Z"
   },
   {
    "duration": 493,
    "start_time": "2025-04-01T15:15:07.711Z"
   },
   {
    "duration": 20,
    "start_time": "2025-04-01T15:15:08.205Z"
   },
   {
    "duration": 12,
    "start_time": "2025-04-01T15:15:08.227Z"
   },
   {
    "duration": 10,
    "start_time": "2025-04-01T15:15:08.240Z"
   },
   {
    "duration": 13,
    "start_time": "2025-04-01T15:15:08.251Z"
   },
   {
    "duration": 10,
    "start_time": "2025-04-01T15:15:08.265Z"
   },
   {
    "duration": 9,
    "start_time": "2025-04-01T15:15:08.277Z"
   },
   {
    "duration": 41,
    "start_time": "2025-04-01T15:15:08.288Z"
   },
   {
    "duration": 6,
    "start_time": "2025-04-01T15:15:08.331Z"
   },
   {
    "duration": 306,
    "start_time": "2025-04-01T15:15:08.339Z"
   },
   {
    "duration": 0,
    "start_time": "2025-04-01T15:15:08.646Z"
   },
   {
    "duration": 22,
    "start_time": "2025-04-01T15:15:25.824Z"
   },
   {
    "duration": 21,
    "start_time": "2025-04-01T15:15:45.354Z"
   },
   {
    "duration": 21,
    "start_time": "2025-04-01T15:15:51.515Z"
   },
   {
    "duration": 113,
    "start_time": "2025-04-01T15:16:25.989Z"
   },
   {
    "duration": 103,
    "start_time": "2025-04-01T15:17:06.289Z"
   },
   {
    "duration": 102,
    "start_time": "2025-04-01T15:17:15.335Z"
   },
   {
    "duration": 117,
    "start_time": "2025-04-01T15:17:45.156Z"
   },
   {
    "duration": 108,
    "start_time": "2025-04-01T15:17:50.866Z"
   },
   {
    "duration": 206,
    "start_time": "2025-04-01T15:17:59.374Z"
   },
   {
    "duration": 135,
    "start_time": "2025-04-01T15:18:53.411Z"
   },
   {
    "duration": 139,
    "start_time": "2025-04-01T15:19:26.146Z"
   },
   {
    "duration": 199,
    "start_time": "2025-04-01T15:19:47.539Z"
   },
   {
    "duration": 194,
    "start_time": "2025-04-01T15:20:16.453Z"
   },
   {
    "duration": 194,
    "start_time": "2025-04-01T15:20:34.251Z"
   },
   {
    "duration": 204,
    "start_time": "2025-04-01T15:21:02.017Z"
   },
   {
    "duration": 840,
    "start_time": "2025-04-01T15:22:26.970Z"
   },
   {
    "duration": 490,
    "start_time": "2025-04-01T15:22:27.813Z"
   },
   {
    "duration": 15,
    "start_time": "2025-04-01T15:22:28.304Z"
   },
   {
    "duration": 16,
    "start_time": "2025-04-01T15:22:28.328Z"
   },
   {
    "duration": 9,
    "start_time": "2025-04-01T15:22:28.347Z"
   },
   {
    "duration": 13,
    "start_time": "2025-04-01T15:22:28.358Z"
   },
   {
    "duration": 10,
    "start_time": "2025-04-01T15:22:28.372Z"
   },
   {
    "duration": 10,
    "start_time": "2025-04-01T15:22:28.384Z"
   },
   {
    "duration": 35,
    "start_time": "2025-04-01T15:22:28.396Z"
   },
   {
    "duration": 6,
    "start_time": "2025-04-01T15:22:28.432Z"
   },
   {
    "duration": 227,
    "start_time": "2025-04-01T15:22:28.440Z"
   },
   {
    "duration": 211,
    "start_time": "2025-04-01T15:22:28.669Z"
   },
   {
    "duration": 113,
    "start_time": "2025-04-01T15:25:33.144Z"
   },
   {
    "duration": 152,
    "start_time": "2025-04-01T15:25:51.906Z"
   },
   {
    "duration": 47,
    "start_time": "2025-04-01T15:26:08.871Z"
   },
   {
    "duration": 900,
    "start_time": "2025-04-01T15:39:58.238Z"
   },
   {
    "duration": 507,
    "start_time": "2025-04-01T15:39:59.141Z"
   },
   {
    "duration": 14,
    "start_time": "2025-04-01T15:39:59.651Z"
   },
   {
    "duration": 13,
    "start_time": "2025-04-01T15:39:59.667Z"
   },
   {
    "duration": 9,
    "start_time": "2025-04-01T15:39:59.683Z"
   },
   {
    "duration": 34,
    "start_time": "2025-04-01T15:39:59.694Z"
   },
   {
    "duration": 9,
    "start_time": "2025-04-01T15:39:59.730Z"
   },
   {
    "duration": 2,
    "start_time": "2025-04-01T15:39:59.742Z"
   },
   {
    "duration": 10,
    "start_time": "2025-04-01T15:39:59.745Z"
   },
   {
    "duration": 8,
    "start_time": "2025-04-01T15:39:59.757Z"
   },
   {
    "duration": 5,
    "start_time": "2025-04-01T15:39:59.767Z"
   },
   {
    "duration": 242,
    "start_time": "2025-04-01T15:39:59.774Z"
   },
   {
    "duration": 61,
    "start_time": "2025-04-01T15:40:00.018Z"
   },
   {
    "duration": 235,
    "start_time": "2025-04-01T15:40:00.082Z"
   },
   {
    "duration": 55,
    "start_time": "2025-04-01T15:40:20.621Z"
   },
   {
    "duration": 60,
    "start_time": "2025-04-01T15:40:41.136Z"
   },
   {
    "duration": 219,
    "start_time": "2025-04-01T15:41:25.317Z"
   },
   {
    "duration": 219,
    "start_time": "2025-04-01T15:42:22.937Z"
   },
   {
    "duration": 300,
    "start_time": "2025-04-01T15:42:55.378Z"
   },
   {
    "duration": 163,
    "start_time": "2025-04-01T15:43:34.529Z"
   },
   {
    "duration": 152,
    "start_time": "2025-04-01T15:44:01.406Z"
   },
   {
    "duration": 484,
    "start_time": "2025-04-01T16:01:24.553Z"
   },
   {
    "duration": 14,
    "start_time": "2025-04-01T16:01:25.039Z"
   },
   {
    "duration": 60,
    "start_time": "2025-04-01T16:01:25.235Z"
   },
   {
    "duration": 10,
    "start_time": "2025-04-01T16:01:25.806Z"
   },
   {
    "duration": 13,
    "start_time": "2025-04-01T16:01:28.427Z"
   },
   {
    "duration": 11,
    "start_time": "2025-04-01T16:01:35.490Z"
   },
   {
    "duration": 11,
    "start_time": "2025-04-01T16:01:50.837Z"
   },
   {
    "duration": 10,
    "start_time": "2025-04-01T16:02:39.532Z"
   },
   {
    "duration": 14,
    "start_time": "2025-04-01T16:03:02.187Z"
   },
   {
    "duration": 13,
    "start_time": "2025-04-01T16:03:58.497Z"
   },
   {
    "duration": 13,
    "start_time": "2025-04-01T16:04:43.428Z"
   },
   {
    "duration": 11,
    "start_time": "2025-04-01T16:07:38.429Z"
   },
   {
    "duration": 10,
    "start_time": "2025-04-01T16:07:56.884Z"
   },
   {
    "duration": 3,
    "start_time": "2025-04-01T16:07:57.051Z"
   },
   {
    "duration": 11,
    "start_time": "2025-04-01T16:07:57.364Z"
   },
   {
    "duration": 9,
    "start_time": "2025-04-01T16:07:57.763Z"
   },
   {
    "duration": 6,
    "start_time": "2025-04-01T16:07:58.252Z"
   },
   {
    "duration": 13,
    "start_time": "2025-04-01T16:08:00.003Z"
   },
   {
    "duration": 10,
    "start_time": "2025-04-01T16:08:00.172Z"
   },
   {
    "duration": 220,
    "start_time": "2025-04-01T16:08:00.485Z"
   },
   {
    "duration": 883,
    "start_time": "2025-04-01T16:08:27.001Z"
   },
   {
    "duration": 497,
    "start_time": "2025-04-01T16:08:27.887Z"
   },
   {
    "duration": 14,
    "start_time": "2025-04-01T16:08:28.386Z"
   },
   {
    "duration": 23,
    "start_time": "2025-04-01T16:08:28.401Z"
   },
   {
    "duration": 9,
    "start_time": "2025-04-01T16:08:28.427Z"
   },
   {
    "duration": 12,
    "start_time": "2025-04-01T16:08:28.438Z"
   },
   {
    "duration": 10,
    "start_time": "2025-04-01T16:08:28.452Z"
   },
   {
    "duration": 2,
    "start_time": "2025-04-01T16:08:28.463Z"
   },
   {
    "duration": 10,
    "start_time": "2025-04-01T16:08:28.467Z"
   },
   {
    "duration": 9,
    "start_time": "2025-04-01T16:08:28.478Z"
   },
   {
    "duration": 39,
    "start_time": "2025-04-01T16:08:28.488Z"
   },
   {
    "duration": 12,
    "start_time": "2025-04-01T16:08:28.529Z"
   },
   {
    "duration": 9,
    "start_time": "2025-04-01T16:08:28.543Z"
   },
   {
    "duration": 250,
    "start_time": "2025-04-01T16:08:28.554Z"
   },
   {
    "duration": 884,
    "start_time": "2025-04-01T16:10:20.892Z"
   },
   {
    "duration": 512,
    "start_time": "2025-04-01T16:10:21.778Z"
   },
   {
    "duration": 15,
    "start_time": "2025-04-01T16:10:22.291Z"
   },
   {
    "duration": 21,
    "start_time": "2025-04-01T16:10:22.308Z"
   },
   {
    "duration": 9,
    "start_time": "2025-04-01T16:10:22.332Z"
   },
   {
    "duration": 13,
    "start_time": "2025-04-01T16:10:22.343Z"
   },
   {
    "duration": 10,
    "start_time": "2025-04-01T16:10:22.357Z"
   },
   {
    "duration": 3,
    "start_time": "2025-04-01T16:10:22.369Z"
   },
   {
    "duration": 11,
    "start_time": "2025-04-01T16:10:22.373Z"
   },
   {
    "duration": 41,
    "start_time": "2025-04-01T16:10:22.385Z"
   },
   {
    "duration": 5,
    "start_time": "2025-04-01T16:10:22.428Z"
   },
   {
    "duration": 12,
    "start_time": "2025-04-01T16:10:22.436Z"
   },
   {
    "duration": 9,
    "start_time": "2025-04-01T16:10:22.450Z"
   },
   {
    "duration": 252,
    "start_time": "2025-04-01T16:10:22.462Z"
   },
   {
    "duration": 13,
    "start_time": "2025-04-01T17:08:38.046Z"
   },
   {
    "duration": 11,
    "start_time": "2025-04-01T17:09:01.701Z"
   },
   {
    "duration": 13,
    "start_time": "2025-04-01T17:09:05.014Z"
   },
   {
    "duration": 5,
    "start_time": "2025-04-01T17:09:14.202Z"
   },
   {
    "duration": 4,
    "start_time": "2025-04-01T17:09:16.070Z"
   },
   {
    "duration": 14,
    "start_time": "2025-04-01T17:14:43.197Z"
   },
   {
    "duration": 882,
    "start_time": "2025-04-01T17:14:53.820Z"
   },
   {
    "duration": 556,
    "start_time": "2025-04-01T17:14:54.703Z"
   },
   {
    "duration": 18,
    "start_time": "2025-04-01T17:14:55.261Z"
   },
   {
    "duration": 17,
    "start_time": "2025-04-01T17:14:55.282Z"
   },
   {
    "duration": 23,
    "start_time": "2025-04-01T17:14:55.301Z"
   },
   {
    "duration": 13,
    "start_time": "2025-04-01T17:14:55.326Z"
   },
   {
    "duration": 6,
    "start_time": "2025-04-01T17:14:55.341Z"
   },
   {
    "duration": 5,
    "start_time": "2025-04-01T17:14:55.351Z"
   },
   {
    "duration": 13,
    "start_time": "2025-04-01T17:14:55.357Z"
   },
   {
    "duration": 310,
    "start_time": "2025-04-01T17:14:55.373Z"
   },
   {
    "duration": 0,
    "start_time": "2025-04-01T17:14:55.685Z"
   },
   {
    "duration": 0,
    "start_time": "2025-04-01T17:14:55.686Z"
   },
   {
    "duration": 0,
    "start_time": "2025-04-01T17:14:55.688Z"
   },
   {
    "duration": 10,
    "start_time": "2025-04-01T17:15:44.384Z"
   },
   {
    "duration": 15,
    "start_time": "2025-04-01T17:16:03.921Z"
   },
   {
    "duration": 7,
    "start_time": "2025-04-01T17:17:43.700Z"
   },
   {
    "duration": 902,
    "start_time": "2025-04-01T17:17:51.776Z"
   },
   {
    "duration": 493,
    "start_time": "2025-04-01T17:17:52.680Z"
   },
   {
    "duration": 15,
    "start_time": "2025-04-01T17:17:53.174Z"
   },
   {
    "duration": 13,
    "start_time": "2025-04-01T17:17:53.191Z"
   },
   {
    "duration": 11,
    "start_time": "2025-04-01T17:17:53.224Z"
   },
   {
    "duration": 17,
    "start_time": "2025-04-01T17:17:53.236Z"
   },
   {
    "duration": 4,
    "start_time": "2025-04-01T17:17:53.255Z"
   },
   {
    "duration": 4,
    "start_time": "2025-04-01T17:17:53.262Z"
   },
   {
    "duration": 13,
    "start_time": "2025-04-01T17:17:53.268Z"
   },
   {
    "duration": 8,
    "start_time": "2025-04-01T17:17:53.283Z"
   },
   {
    "duration": 6,
    "start_time": "2025-04-01T17:17:53.325Z"
   },
   {
    "duration": 285,
    "start_time": "2025-04-01T17:17:53.332Z"
   },
   {
    "duration": 0,
    "start_time": "2025-04-01T17:17:53.618Z"
   },
   {
    "duration": 25,
    "start_time": "2025-04-01T17:18:09.555Z"
   },
   {
    "duration": 875,
    "start_time": "2025-04-01T17:19:25.116Z"
   },
   {
    "duration": 504,
    "start_time": "2025-04-01T17:19:25.994Z"
   },
   {
    "duration": 14,
    "start_time": "2025-04-01T17:19:26.500Z"
   },
   {
    "duration": 12,
    "start_time": "2025-04-01T17:19:26.524Z"
   },
   {
    "duration": 10,
    "start_time": "2025-04-01T17:19:26.539Z"
   },
   {
    "duration": 12,
    "start_time": "2025-04-01T17:19:26.551Z"
   },
   {
    "duration": 4,
    "start_time": "2025-04-01T17:19:26.565Z"
   },
   {
    "duration": 4,
    "start_time": "2025-04-01T17:19:26.571Z"
   },
   {
    "duration": 47,
    "start_time": "2025-04-01T17:19:26.577Z"
   },
   {
    "duration": 9,
    "start_time": "2025-04-01T17:19:26.626Z"
   },
   {
    "duration": 5,
    "start_time": "2025-04-01T17:19:26.637Z"
   },
   {
    "duration": 296,
    "start_time": "2025-04-01T17:19:26.644Z"
   },
   {
    "duration": 0,
    "start_time": "2025-04-01T17:19:26.942Z"
   },
   {
    "duration": 1005,
    "start_time": "2025-04-01T18:44:20.120Z"
   },
   {
    "duration": 525,
    "start_time": "2025-04-01T18:44:21.128Z"
   },
   {
    "duration": 13,
    "start_time": "2025-04-01T18:44:21.655Z"
   },
   {
    "duration": 13,
    "start_time": "2025-04-01T18:44:21.672Z"
   },
   {
    "duration": 10,
    "start_time": "2025-04-01T18:44:21.687Z"
   },
   {
    "duration": 16,
    "start_time": "2025-04-01T18:44:21.723Z"
   },
   {
    "duration": 5,
    "start_time": "2025-04-01T18:44:21.741Z"
   },
   {
    "duration": 6,
    "start_time": "2025-04-01T18:44:21.748Z"
   },
   {
    "duration": 16,
    "start_time": "2025-04-01T18:44:21.755Z"
   },
   {
    "duration": 10,
    "start_time": "2025-04-01T18:44:21.774Z"
   },
   {
    "duration": 39,
    "start_time": "2025-04-01T18:44:21.786Z"
   },
   {
    "duration": 351,
    "start_time": "2025-04-01T18:44:21.827Z"
   },
   {
    "duration": 0,
    "start_time": "2025-04-01T18:44:22.180Z"
   },
   {
    "duration": 10,
    "start_time": "2025-04-01T18:44:32.286Z"
   },
   {
    "duration": 11,
    "start_time": "2025-04-01T18:45:35.640Z"
   },
   {
    "duration": 856,
    "start_time": "2025-04-01T18:45:41.211Z"
   },
   {
    "duration": 514,
    "start_time": "2025-04-01T18:45:42.069Z"
   },
   {
    "duration": 16,
    "start_time": "2025-04-01T18:45:42.585Z"
   },
   {
    "duration": 21,
    "start_time": "2025-04-01T18:45:42.603Z"
   },
   {
    "duration": 10,
    "start_time": "2025-04-01T18:45:42.626Z"
   },
   {
    "duration": 12,
    "start_time": "2025-04-01T18:45:42.637Z"
   },
   {
    "duration": 9,
    "start_time": "2025-04-01T18:45:42.651Z"
   },
   {
    "duration": 4,
    "start_time": "2025-04-01T18:45:42.662Z"
   },
   {
    "duration": 18,
    "start_time": "2025-04-01T18:45:42.668Z"
   },
   {
    "duration": 38,
    "start_time": "2025-04-01T18:45:42.691Z"
   },
   {
    "duration": 6,
    "start_time": "2025-04-01T18:45:42.730Z"
   },
   {
    "duration": 9,
    "start_time": "2025-04-01T18:45:42.738Z"
   },
   {
    "duration": 209,
    "start_time": "2025-04-01T18:45:42.748Z"
   },
   {
    "duration": 868,
    "start_time": "2025-04-01T18:46:43.989Z"
   },
   {
    "duration": 503,
    "start_time": "2025-04-01T18:46:45.021Z"
   },
   {
    "duration": 15,
    "start_time": "2025-04-01T18:46:46.213Z"
   },
   {
    "duration": 13,
    "start_time": "2025-04-01T18:46:48.264Z"
   },
   {
    "duration": 12,
    "start_time": "2025-04-01T18:46:49.745Z"
   },
   {
    "duration": 14,
    "start_time": "2025-04-01T18:46:59.066Z"
   },
   {
    "duration": 5,
    "start_time": "2025-04-01T18:47:39.483Z"
   },
   {
    "duration": 10,
    "start_time": "2025-04-01T18:47:51.633Z"
   },
   {
    "duration": 6,
    "start_time": "2025-04-01T18:48:05.314Z"
   },
   {
    "duration": 23,
    "start_time": "2025-04-01T18:48:15.353Z"
   },
   {
    "duration": 53,
    "start_time": "2025-04-01T18:48:40.188Z"
   },
   {
    "duration": 11,
    "start_time": "2025-04-01T18:49:29.778Z"
   },
   {
    "duration": 6,
    "start_time": "2025-04-01T18:49:43.955Z"
   },
   {
    "duration": 10,
    "start_time": "2025-04-01T18:49:44.703Z"
   },
   {
    "duration": 6,
    "start_time": "2025-04-01T18:50:28.385Z"
   },
   {
    "duration": 880,
    "start_time": "2025-04-01T18:51:23.321Z"
   },
   {
    "duration": 513,
    "start_time": "2025-04-01T18:51:24.203Z"
   },
   {
    "duration": 14,
    "start_time": "2025-04-01T18:51:28.870Z"
   },
   {
    "duration": 13,
    "start_time": "2025-04-01T18:51:34.840Z"
   },
   {
    "duration": 11,
    "start_time": "2025-04-01T18:51:38.604Z"
   },
   {
    "duration": 14,
    "start_time": "2025-04-01T18:51:45.956Z"
   },
   {
    "duration": 14,
    "start_time": "2025-04-01T18:52:06.413Z"
   },
   {
    "duration": 5,
    "start_time": "2025-04-01T18:52:13.182Z"
   },
   {
    "duration": 10,
    "start_time": "2025-04-01T18:52:17.246Z"
   },
   {
    "duration": 11,
    "start_time": "2025-04-01T18:52:31.349Z"
   },
   {
    "duration": 21,
    "start_time": "2025-04-01T18:56:58.584Z"
   },
   {
    "duration": 16,
    "start_time": "2025-04-01T20:29:24.437Z"
   },
   {
    "duration": 876,
    "start_time": "2025-04-01T20:30:03.625Z"
   },
   {
    "duration": 490,
    "start_time": "2025-04-01T20:30:04.503Z"
   },
   {
    "duration": 16,
    "start_time": "2025-04-01T20:30:04.996Z"
   },
   {
    "duration": 20,
    "start_time": "2025-04-01T20:30:05.015Z"
   },
   {
    "duration": 11,
    "start_time": "2025-04-01T20:30:05.037Z"
   },
   {
    "duration": 13,
    "start_time": "2025-04-01T20:30:05.050Z"
   },
   {
    "duration": 4,
    "start_time": "2025-04-01T20:30:05.065Z"
   },
   {
    "duration": 9,
    "start_time": "2025-04-01T20:30:05.073Z"
   },
   {
    "duration": 42,
    "start_time": "2025-04-01T20:30:05.084Z"
   },
   {
    "duration": 7,
    "start_time": "2025-04-01T20:30:05.128Z"
   },
   {
    "duration": 5,
    "start_time": "2025-04-01T20:30:05.137Z"
   },
   {
    "duration": 9,
    "start_time": "2025-04-01T20:30:05.144Z"
   },
   {
    "duration": 226,
    "start_time": "2025-04-01T20:30:05.155Z"
   },
   {
    "duration": 10,
    "start_time": "2025-04-01T20:30:52.897Z"
   },
   {
    "duration": 900,
    "start_time": "2025-04-01T20:30:58.306Z"
   },
   {
    "duration": 513,
    "start_time": "2025-04-01T20:30:59.209Z"
   },
   {
    "duration": 17,
    "start_time": "2025-04-01T20:30:59.724Z"
   },
   {
    "duration": 13,
    "start_time": "2025-04-01T20:30:59.743Z"
   },
   {
    "duration": 9,
    "start_time": "2025-04-01T20:30:59.759Z"
   },
   {
    "duration": 13,
    "start_time": "2025-04-01T20:30:59.770Z"
   },
   {
    "duration": 40,
    "start_time": "2025-04-01T20:30:59.784Z"
   },
   {
    "duration": 7,
    "start_time": "2025-04-01T20:30:59.826Z"
   },
   {
    "duration": 14,
    "start_time": "2025-04-01T20:30:59.834Z"
   },
   {
    "duration": 8,
    "start_time": "2025-04-01T20:30:59.849Z"
   },
   {
    "duration": 5,
    "start_time": "2025-04-01T20:30:59.859Z"
   },
   {
    "duration": 9,
    "start_time": "2025-04-01T20:30:59.866Z"
   },
   {
    "duration": 225,
    "start_time": "2025-04-01T20:30:59.877Z"
   },
   {
    "duration": 11,
    "start_time": "2025-04-01T20:32:03.369Z"
   },
   {
    "duration": 15,
    "start_time": "2025-04-01T20:45:49.956Z"
   },
   {
    "duration": 12,
    "start_time": "2025-04-01T20:46:27.467Z"
   },
   {
    "duration": 882,
    "start_time": "2025-04-01T20:50:40.513Z"
   },
   {
    "duration": 513,
    "start_time": "2025-04-01T20:50:41.397Z"
   },
   {
    "duration": 23,
    "start_time": "2025-04-01T20:50:41.912Z"
   },
   {
    "duration": 12,
    "start_time": "2025-04-01T20:50:41.937Z"
   },
   {
    "duration": 10,
    "start_time": "2025-04-01T20:50:41.950Z"
   },
   {
    "duration": 13,
    "start_time": "2025-04-01T20:50:41.962Z"
   },
   {
    "duration": 9,
    "start_time": "2025-04-01T20:50:41.977Z"
   },
   {
    "duration": 4,
    "start_time": "2025-04-01T20:50:41.988Z"
   },
   {
    "duration": 32,
    "start_time": "2025-04-01T20:50:41.993Z"
   },
   {
    "duration": 13,
    "start_time": "2025-04-01T20:50:42.028Z"
   },
   {
    "duration": 7,
    "start_time": "2025-04-01T20:50:42.043Z"
   },
   {
    "duration": 11,
    "start_time": "2025-04-01T20:50:42.051Z"
   },
   {
    "duration": 5,
    "start_time": "2025-04-01T20:50:42.063Z"
   },
   {
    "duration": 232,
    "start_time": "2025-04-01T20:50:42.069Z"
   },
   {
    "duration": 943,
    "start_time": "2025-04-01T20:51:42.076Z"
   },
   {
    "duration": 496,
    "start_time": "2025-04-01T20:51:43.022Z"
   },
   {
    "duration": 16,
    "start_time": "2025-04-01T20:51:43.523Z"
   },
   {
    "duration": 15,
    "start_time": "2025-04-01T20:51:43.543Z"
   },
   {
    "duration": 13,
    "start_time": "2025-04-01T20:51:43.560Z"
   },
   {
    "duration": 17,
    "start_time": "2025-04-01T20:51:43.576Z"
   },
   {
    "duration": 15,
    "start_time": "2025-04-01T20:51:43.625Z"
   },
   {
    "duration": 8,
    "start_time": "2025-04-01T20:51:43.644Z"
   },
   {
    "duration": 6,
    "start_time": "2025-04-01T20:51:43.654Z"
   },
   {
    "duration": 17,
    "start_time": "2025-04-01T20:51:43.663Z"
   },
   {
    "duration": 11,
    "start_time": "2025-04-01T20:51:43.682Z"
   },
   {
    "duration": 38,
    "start_time": "2025-04-01T20:51:43.695Z"
   },
   {
    "duration": 6,
    "start_time": "2025-04-01T20:51:43.735Z"
   },
   {
    "duration": 288,
    "start_time": "2025-04-01T20:51:43.743Z"
   },
   {
    "duration": 891,
    "start_time": "2025-04-01T20:53:05.945Z"
   },
   {
    "duration": 486,
    "start_time": "2025-04-01T20:53:06.838Z"
   },
   {
    "duration": 14,
    "start_time": "2025-04-01T20:53:07.325Z"
   },
   {
    "duration": 12,
    "start_time": "2025-04-01T20:53:07.343Z"
   },
   {
    "duration": 10,
    "start_time": "2025-04-01T20:53:07.357Z"
   },
   {
    "duration": 13,
    "start_time": "2025-04-01T20:53:07.369Z"
   },
   {
    "duration": 41,
    "start_time": "2025-04-01T20:53:07.383Z"
   },
   {
    "duration": 4,
    "start_time": "2025-04-01T20:53:07.425Z"
   },
   {
    "duration": 3,
    "start_time": "2025-04-01T20:53:07.431Z"
   },
   {
    "duration": 13,
    "start_time": "2025-04-01T20:53:07.437Z"
   },
   {
    "duration": 7,
    "start_time": "2025-04-01T20:53:07.452Z"
   },
   {
    "duration": 11,
    "start_time": "2025-04-01T20:53:07.461Z"
   },
   {
    "duration": 5,
    "start_time": "2025-04-01T20:53:07.473Z"
   },
   {
    "duration": 227,
    "start_time": "2025-04-01T20:53:07.480Z"
   },
   {
    "duration": 890,
    "start_time": "2025-04-01T20:54:40.724Z"
   },
   {
    "duration": 500,
    "start_time": "2025-04-01T20:54:41.616Z"
   },
   {
    "duration": 18,
    "start_time": "2025-04-01T20:54:42.117Z"
   },
   {
    "duration": 12,
    "start_time": "2025-04-01T20:54:42.138Z"
   },
   {
    "duration": 11,
    "start_time": "2025-04-01T20:54:42.151Z"
   },
   {
    "duration": 13,
    "start_time": "2025-04-01T20:54:42.163Z"
   },
   {
    "duration": 11,
    "start_time": "2025-04-01T20:54:42.178Z"
   },
   {
    "duration": 35,
    "start_time": "2025-04-01T20:54:42.190Z"
   },
   {
    "duration": 3,
    "start_time": "2025-04-01T20:54:42.227Z"
   },
   {
    "duration": 13,
    "start_time": "2025-04-01T20:54:42.233Z"
   },
   {
    "duration": 8,
    "start_time": "2025-04-01T20:54:42.247Z"
   },
   {
    "duration": 11,
    "start_time": "2025-04-01T20:54:42.256Z"
   },
   {
    "duration": 4,
    "start_time": "2025-04-01T20:54:42.269Z"
   },
   {
    "duration": 250,
    "start_time": "2025-04-01T20:54:42.275Z"
   },
   {
    "duration": 886,
    "start_time": "2025-04-01T20:54:56.559Z"
   },
   {
    "duration": 534,
    "start_time": "2025-04-01T20:54:57.448Z"
   },
   {
    "duration": 19,
    "start_time": "2025-04-01T20:54:57.984Z"
   },
   {
    "duration": 23,
    "start_time": "2025-04-01T20:54:58.006Z"
   },
   {
    "duration": 14,
    "start_time": "2025-04-01T20:54:58.032Z"
   },
   {
    "duration": 15,
    "start_time": "2025-04-01T20:54:58.048Z"
   },
   {
    "duration": 12,
    "start_time": "2025-04-01T20:54:58.065Z"
   },
   {
    "duration": 5,
    "start_time": "2025-04-01T20:54:58.079Z"
   },
   {
    "duration": 44,
    "start_time": "2025-04-01T20:54:58.086Z"
   },
   {
    "duration": 13,
    "start_time": "2025-04-01T20:54:58.132Z"
   },
   {
    "duration": 9,
    "start_time": "2025-04-01T20:54:58.147Z"
   },
   {
    "duration": 15,
    "start_time": "2025-04-01T20:54:58.158Z"
   },
   {
    "duration": 7,
    "start_time": "2025-04-01T20:54:58.175Z"
   },
   {
    "duration": 239,
    "start_time": "2025-04-01T20:54:58.185Z"
   },
   {
    "duration": 1019,
    "start_time": "2025-04-01T20:55:24.900Z"
   },
   {
    "duration": 888,
    "start_time": "2025-04-01T20:55:49.967Z"
   },
   {
    "duration": 497,
    "start_time": "2025-04-01T20:55:50.857Z"
   },
   {
    "duration": 14,
    "start_time": "2025-04-01T20:55:51.356Z"
   },
   {
    "duration": 13,
    "start_time": "2025-04-01T20:55:51.372Z"
   },
   {
    "duration": 10,
    "start_time": "2025-04-01T20:55:51.388Z"
   },
   {
    "duration": 33,
    "start_time": "2025-04-01T20:55:51.400Z"
   },
   {
    "duration": 9,
    "start_time": "2025-04-01T20:55:51.435Z"
   },
   {
    "duration": 9,
    "start_time": "2025-04-01T20:55:51.446Z"
   },
   {
    "duration": 8,
    "start_time": "2025-04-01T20:55:51.456Z"
   },
   {
    "duration": 12,
    "start_time": "2025-04-01T20:55:51.465Z"
   },
   {
    "duration": 7,
    "start_time": "2025-04-01T20:55:51.479Z"
   },
   {
    "duration": 45,
    "start_time": "2025-04-01T20:55:51.488Z"
   },
   {
    "duration": 4,
    "start_time": "2025-04-01T20:55:51.535Z"
   },
   {
    "duration": 240,
    "start_time": "2025-04-01T20:55:51.542Z"
   },
   {
    "duration": 13,
    "start_time": "2025-04-01T20:56:44.095Z"
   },
   {
    "duration": 12,
    "start_time": "2025-04-01T20:58:01.801Z"
   },
   {
    "duration": 12,
    "start_time": "2025-04-01T20:58:21.097Z"
   },
   {
    "duration": 15,
    "start_time": "2025-04-01T21:00:22.460Z"
   },
   {
    "duration": 13,
    "start_time": "2025-04-01T21:00:56.950Z"
   },
   {
    "duration": 290,
    "start_time": "2025-04-01T21:02:19.096Z"
   },
   {
    "duration": 13,
    "start_time": "2025-04-01T21:03:16.334Z"
   },
   {
    "duration": 194,
    "start_time": "2025-04-01T21:04:02.402Z"
   },
   {
    "duration": 10,
    "start_time": "2025-04-01T21:16:24.620Z"
   },
   {
    "duration": 18,
    "start_time": "2025-04-01T21:16:37.321Z"
   },
   {
    "duration": 8,
    "start_time": "2025-04-01T21:16:58.809Z"
   },
   {
    "duration": 648,
    "start_time": "2025-04-01T21:21:00.313Z"
   },
   {
    "duration": 36,
    "start_time": "2025-04-01T21:21:30.900Z"
   },
   {
    "duration": 36,
    "start_time": "2025-04-01T21:21:42.947Z"
   },
   {
    "duration": 7,
    "start_time": "2025-04-01T21:23:42.276Z"
   },
   {
    "duration": 12,
    "start_time": "2025-04-01T21:24:04.376Z"
   },
   {
    "duration": 5,
    "start_time": "2025-04-01T21:27:04.688Z"
   },
   {
    "duration": 4,
    "start_time": "2025-04-01T21:39:08.969Z"
   },
   {
    "duration": 3,
    "start_time": "2025-04-01T21:39:30.759Z"
   },
   {
    "duration": 915,
    "start_time": "2025-04-01T21:39:52.447Z"
   },
   {
    "duration": 493,
    "start_time": "2025-04-01T21:39:53.364Z"
   },
   {
    "duration": 17,
    "start_time": "2025-04-01T21:39:53.859Z"
   },
   {
    "duration": 12,
    "start_time": "2025-04-01T21:39:53.879Z"
   },
   {
    "duration": 10,
    "start_time": "2025-04-01T21:39:53.893Z"
   },
   {
    "duration": 15,
    "start_time": "2025-04-01T21:39:53.924Z"
   },
   {
    "duration": 4,
    "start_time": "2025-04-01T21:39:53.942Z"
   },
   {
    "duration": 3,
    "start_time": "2025-04-01T21:39:53.948Z"
   },
   {
    "duration": 22,
    "start_time": "2025-04-01T21:39:53.953Z"
   },
   {
    "duration": 180,
    "start_time": "2025-04-01T21:39:53.979Z"
   },
   {
    "duration": 16,
    "start_time": "2025-04-01T21:39:54.161Z"
   },
   {
    "duration": 8,
    "start_time": "2025-04-01T21:39:54.179Z"
   },
   {
    "duration": 18,
    "start_time": "2025-04-01T21:55:50.121Z"
   },
   {
    "duration": 977,
    "start_time": "2025-04-01T21:56:17.343Z"
   },
   {
    "duration": 563,
    "start_time": "2025-04-01T21:56:18.323Z"
   },
   {
    "duration": 15,
    "start_time": "2025-04-01T21:56:18.888Z"
   },
   {
    "duration": 26,
    "start_time": "2025-04-01T21:56:18.905Z"
   },
   {
    "duration": 16,
    "start_time": "2025-04-01T21:56:18.935Z"
   },
   {
    "duration": 18,
    "start_time": "2025-04-01T21:56:18.954Z"
   },
   {
    "duration": 8,
    "start_time": "2025-04-01T21:56:18.974Z"
   },
   {
    "duration": 3,
    "start_time": "2025-04-01T21:56:18.984Z"
   },
   {
    "duration": 39,
    "start_time": "2025-04-01T21:56:18.989Z"
   },
   {
    "duration": 194,
    "start_time": "2025-04-01T21:56:19.030Z"
   },
   {
    "duration": 16,
    "start_time": "2025-04-01T21:56:19.226Z"
   },
   {
    "duration": 11,
    "start_time": "2025-04-01T21:56:19.244Z"
   },
   {
    "duration": 19,
    "start_time": "2025-04-01T21:56:19.257Z"
   },
   {
    "duration": 848,
    "start_time": "2025-04-01T21:58:22.059Z"
   },
   {
    "duration": 512,
    "start_time": "2025-04-01T21:58:22.909Z"
   },
   {
    "duration": 14,
    "start_time": "2025-04-01T21:58:23.422Z"
   },
   {
    "duration": 14,
    "start_time": "2025-04-01T21:58:23.438Z"
   },
   {
    "duration": 10,
    "start_time": "2025-04-01T21:58:23.455Z"
   },
   {
    "duration": 13,
    "start_time": "2025-04-01T21:58:23.467Z"
   },
   {
    "duration": 5,
    "start_time": "2025-04-01T21:58:23.482Z"
   },
   {
    "duration": 36,
    "start_time": "2025-04-01T21:58:23.489Z"
   },
   {
    "duration": 21,
    "start_time": "2025-04-01T21:58:23.527Z"
   },
   {
    "duration": 167,
    "start_time": "2025-04-01T21:58:23.550Z"
   },
   {
    "duration": 26,
    "start_time": "2025-04-01T21:58:23.718Z"
   },
   {
    "duration": 9,
    "start_time": "2025-04-01T21:58:23.746Z"
   },
   {
    "duration": 79,
    "start_time": "2025-04-01T21:58:23.756Z"
   },
   {
    "duration": 19,
    "start_time": "2025-04-01T22:00:13.723Z"
   },
   {
    "duration": 11,
    "start_time": "2025-04-01T22:01:31.938Z"
   },
   {
    "duration": 10,
    "start_time": "2025-04-01T22:01:59.538Z"
   },
   {
    "duration": 4,
    "start_time": "2025-04-01T22:02:44.349Z"
   },
   {
    "duration": 944,
    "start_time": "2025-04-02T01:17:32.527Z"
   },
   {
    "duration": 573,
    "start_time": "2025-04-02T01:17:33.473Z"
   },
   {
    "duration": 14,
    "start_time": "2025-04-02T01:17:34.048Z"
   },
   {
    "duration": 13,
    "start_time": "2025-04-02T01:17:34.064Z"
   },
   {
    "duration": 10,
    "start_time": "2025-04-02T01:17:34.079Z"
   },
   {
    "duration": 34,
    "start_time": "2025-04-02T01:17:34.091Z"
   },
   {
    "duration": 6,
    "start_time": "2025-04-02T01:17:34.128Z"
   },
   {
    "duration": 5,
    "start_time": "2025-04-02T01:17:34.136Z"
   },
   {
    "duration": 17,
    "start_time": "2025-04-02T01:17:34.142Z"
   },
   {
    "duration": 208,
    "start_time": "2025-04-02T01:17:34.161Z"
   },
   {
    "duration": 143,
    "start_time": "2025-04-02T01:17:34.371Z"
   },
   {
    "duration": 0,
    "start_time": "2025-04-02T01:17:34.516Z"
   },
   {
    "duration": 16,
    "start_time": "2025-04-02T01:27:19.612Z"
   },
   {
    "duration": 12,
    "start_time": "2025-04-02T01:33:13.561Z"
   },
   {
    "duration": 5,
    "start_time": "2025-04-02T01:33:13.962Z"
   },
   {
    "duration": 156,
    "start_time": "2025-04-02T01:33:20.428Z"
   },
   {
    "duration": 5,
    "start_time": "2025-04-02T01:33:37.821Z"
   },
   {
    "duration": 16,
    "start_time": "2025-04-02T01:34:08.015Z"
   },
   {
    "duration": 4,
    "start_time": "2025-04-02T01:34:25.029Z"
   },
   {
    "duration": 12,
    "start_time": "2025-04-02T01:34:46.050Z"
   },
   {
    "duration": 877,
    "start_time": "2025-04-02T01:35:12.616Z"
   },
   {
    "duration": 491,
    "start_time": "2025-04-02T01:35:13.495Z"
   },
   {
    "duration": 14,
    "start_time": "2025-04-02T01:35:13.987Z"
   },
   {
    "duration": 21,
    "start_time": "2025-04-02T01:35:14.003Z"
   },
   {
    "duration": 11,
    "start_time": "2025-04-02T01:35:14.028Z"
   },
   {
    "duration": 16,
    "start_time": "2025-04-02T01:35:14.041Z"
   },
   {
    "duration": 6,
    "start_time": "2025-04-02T01:35:14.059Z"
   },
   {
    "duration": 4,
    "start_time": "2025-04-02T01:35:14.067Z"
   },
   {
    "duration": 13,
    "start_time": "2025-04-02T01:35:14.073Z"
   },
   {
    "duration": 158,
    "start_time": "2025-04-02T01:35:14.123Z"
   },
   {
    "duration": 15,
    "start_time": "2025-04-02T01:35:14.282Z"
   },
   {
    "duration": 57,
    "start_time": "2025-04-02T01:35:14.299Z"
   },
   {
    "duration": 11,
    "start_time": "2025-04-02T01:35:14.358Z"
   },
   {
    "duration": 81,
    "start_time": "2025-04-02T01:35:14.372Z"
   },
   {
    "duration": 38,
    "start_time": "2025-04-02T01:35:51.492Z"
   },
   {
    "duration": 11,
    "start_time": "2025-04-02T01:35:53.428Z"
   },
   {
    "duration": 16,
    "start_time": "2025-04-02T01:35:54.657Z"
   },
   {
    "duration": 40,
    "start_time": "2025-04-02T01:36:52.151Z"
   },
   {
    "duration": 40,
    "start_time": "2025-04-02T01:36:58.123Z"
   },
   {
    "duration": 38,
    "start_time": "2025-04-02T01:37:11.663Z"
   },
   {
    "duration": 39,
    "start_time": "2025-04-02T01:38:22.025Z"
   },
   {
    "duration": 38,
    "start_time": "2025-04-02T01:38:25.944Z"
   },
   {
    "duration": 223,
    "start_time": "2025-04-02T01:49:14.141Z"
   },
   {
    "duration": 32,
    "start_time": "2025-04-02T01:49:24.443Z"
   },
   {
    "duration": 29,
    "start_time": "2025-04-02T01:49:35.737Z"
   },
   {
    "duration": 11,
    "start_time": "2025-04-02T01:50:14.839Z"
   },
   {
    "duration": 13,
    "start_time": "2025-04-02T01:50:28.210Z"
   },
   {
    "duration": 18,
    "start_time": "2025-04-02T01:50:30.271Z"
   },
   {
    "duration": 21,
    "start_time": "2025-04-02T01:51:04.258Z"
   },
   {
    "duration": 222,
    "start_time": "2025-04-02T01:51:10.816Z"
   },
   {
    "duration": 13,
    "start_time": "2025-04-02T01:51:11.427Z"
   },
   {
    "duration": 907,
    "start_time": "2025-04-02T01:51:41.751Z"
   },
   {
    "duration": 497,
    "start_time": "2025-04-02T01:51:42.661Z"
   },
   {
    "duration": 14,
    "start_time": "2025-04-02T01:51:43.160Z"
   },
   {
    "duration": 13,
    "start_time": "2025-04-02T01:51:43.176Z"
   },
   {
    "duration": 10,
    "start_time": "2025-04-02T01:51:43.192Z"
   },
   {
    "duration": 13,
    "start_time": "2025-04-02T01:51:43.224Z"
   },
   {
    "duration": 4,
    "start_time": "2025-04-02T01:51:43.239Z"
   },
   {
    "duration": 4,
    "start_time": "2025-04-02T01:51:43.245Z"
   },
   {
    "duration": 13,
    "start_time": "2025-04-02T01:51:43.250Z"
   },
   {
    "duration": 177,
    "start_time": "2025-04-02T01:51:43.265Z"
   },
   {
    "duration": 246,
    "start_time": "2025-04-02T01:51:43.444Z"
   },
   {
    "duration": 294,
    "start_time": "2025-04-02T01:51:43.692Z"
   },
   {
    "duration": 0,
    "start_time": "2025-04-02T01:51:43.988Z"
   },
   {
    "duration": 24,
    "start_time": "2025-04-02T01:52:54.152Z"
   },
   {
    "duration": 947,
    "start_time": "2025-04-02T01:53:16.478Z"
   },
   {
    "duration": 540,
    "start_time": "2025-04-02T01:53:17.428Z"
   },
   {
    "duration": 16,
    "start_time": "2025-04-02T01:53:17.970Z"
   },
   {
    "duration": 16,
    "start_time": "2025-04-02T01:53:17.990Z"
   },
   {
    "duration": 14,
    "start_time": "2025-04-02T01:53:18.024Z"
   },
   {
    "duration": 18,
    "start_time": "2025-04-02T01:53:18.040Z"
   },
   {
    "duration": 5,
    "start_time": "2025-04-02T01:53:18.061Z"
   },
   {
    "duration": 4,
    "start_time": "2025-04-02T01:53:18.068Z"
   },
   {
    "duration": 17,
    "start_time": "2025-04-02T01:53:18.074Z"
   },
   {
    "duration": 194,
    "start_time": "2025-04-02T01:53:18.094Z"
   },
   {
    "duration": 244,
    "start_time": "2025-04-02T01:53:18.289Z"
   },
   {
    "duration": 6,
    "start_time": "2025-04-02T01:53:18.534Z"
   },
   {
    "duration": 100,
    "start_time": "2025-04-02T01:53:18.542Z"
   },
   {
    "duration": 872,
    "start_time": "2025-04-02T01:53:40.516Z"
   },
   {
    "duration": 490,
    "start_time": "2025-04-02T01:53:41.390Z"
   },
   {
    "duration": 15,
    "start_time": "2025-04-02T01:53:41.882Z"
   },
   {
    "duration": 26,
    "start_time": "2025-04-02T01:53:41.898Z"
   },
   {
    "duration": 9,
    "start_time": "2025-04-02T01:53:41.928Z"
   },
   {
    "duration": 15,
    "start_time": "2025-04-02T01:53:41.939Z"
   },
   {
    "duration": 4,
    "start_time": "2025-04-02T01:53:41.957Z"
   },
   {
    "duration": 5,
    "start_time": "2025-04-02T01:53:41.963Z"
   },
   {
    "duration": 15,
    "start_time": "2025-04-02T01:53:41.970Z"
   },
   {
    "duration": 179,
    "start_time": "2025-04-02T01:53:41.987Z"
   },
   {
    "duration": 238,
    "start_time": "2025-04-02T01:53:42.168Z"
   },
   {
    "duration": 20,
    "start_time": "2025-04-02T01:53:42.408Z"
   },
   {
    "duration": 61,
    "start_time": "2025-04-02T01:53:42.429Z"
   },
   {
    "duration": 13,
    "start_time": "2025-04-02T01:54:27.756Z"
   },
   {
    "duration": 18,
    "start_time": "2025-04-02T01:54:37.592Z"
   },
   {
    "duration": 17,
    "start_time": "2025-04-02T01:54:38.291Z"
   },
   {
    "duration": 11,
    "start_time": "2025-04-02T01:55:11.356Z"
   },
   {
    "duration": 8,
    "start_time": "2025-04-02T01:57:33.350Z"
   },
   {
    "duration": 105,
    "start_time": "2025-04-02T02:00:17.976Z"
   },
   {
    "duration": 845,
    "start_time": "2025-04-02T02:00:30.362Z"
   },
   {
    "duration": 156,
    "start_time": "2025-04-02T02:01:51.790Z"
   },
   {
    "duration": 204,
    "start_time": "2025-04-02T02:01:57.800Z"
   },
   {
    "duration": 164,
    "start_time": "2025-04-02T02:02:43.883Z"
   },
   {
    "duration": 154,
    "start_time": "2025-04-02T02:03:56.767Z"
   },
   {
    "duration": 13,
    "start_time": "2025-04-02T02:03:56.943Z"
   },
   {
    "duration": 161,
    "start_time": "2025-04-02T02:03:57.124Z"
   },
   {
    "duration": 16,
    "start_time": "2025-04-02T02:07:03.265Z"
   },
   {
    "duration": 567,
    "start_time": "2025-04-02T02:07:23.154Z"
   },
   {
    "duration": 152,
    "start_time": "2025-04-02T02:08:08.889Z"
   },
   {
    "duration": 118,
    "start_time": "2025-04-02T02:09:08.147Z"
   },
   {
    "duration": 113,
    "start_time": "2025-04-02T02:09:18.861Z"
   },
   {
    "duration": 42,
    "start_time": "2025-04-02T02:09:45.917Z"
   },
   {
    "duration": 13,
    "start_time": "2025-04-02T02:10:15.356Z"
   },
   {
    "duration": 8,
    "start_time": "2025-04-02T02:10:16.001Z"
   },
   {
    "duration": 44,
    "start_time": "2025-04-02T02:10:20.700Z"
   },
   {
    "duration": 116,
    "start_time": "2025-04-02T02:10:35.629Z"
   },
   {
    "duration": 142,
    "start_time": "2025-04-02T02:10:54.857Z"
   },
   {
    "duration": 147,
    "start_time": "2025-04-02T02:11:07.037Z"
   },
   {
    "duration": 2637,
    "start_time": "2025-04-02T14:57:17.351Z"
   },
   {
    "duration": 607,
    "start_time": "2025-04-02T14:57:19.990Z"
   },
   {
    "duration": 15,
    "start_time": "2025-04-02T14:57:20.599Z"
   },
   {
    "duration": 12,
    "start_time": "2025-04-02T14:57:20.615Z"
   },
   {
    "duration": 9,
    "start_time": "2025-04-02T14:57:20.630Z"
   },
   {
    "duration": 13,
    "start_time": "2025-04-02T14:57:20.641Z"
   },
   {
    "duration": 5,
    "start_time": "2025-04-02T14:57:20.686Z"
   },
   {
    "duration": 4,
    "start_time": "2025-04-02T14:57:20.693Z"
   },
   {
    "duration": 14,
    "start_time": "2025-04-02T14:57:20.699Z"
   },
   {
    "duration": 171,
    "start_time": "2025-04-02T14:57:20.715Z"
   },
   {
    "duration": 17,
    "start_time": "2025-04-02T14:57:20.888Z"
   },
   {
    "duration": 9,
    "start_time": "2025-04-02T14:57:20.907Z"
   },
   {
    "duration": 7,
    "start_time": "2025-04-02T14:57:20.918Z"
   },
   {
    "duration": 196,
    "start_time": "2025-04-02T14:57:20.929Z"
   },
   {
    "duration": 222,
    "start_time": "2025-04-02T14:57:21.127Z"
   },
   {
    "duration": 169,
    "start_time": "2025-04-02T14:57:21.351Z"
   },
   {
    "duration": 163,
    "start_time": "2025-04-02T14:57:21.523Z"
   },
   {
    "duration": 124,
    "start_time": "2025-04-02T14:57:21.688Z"
   },
   {
    "duration": 129,
    "start_time": "2025-04-02T14:57:21.814Z"
   },
   {
    "duration": 144,
    "start_time": "2025-04-02T14:57:21.945Z"
   },
   {
    "duration": 135,
    "start_time": "2025-04-02T14:57:22.091Z"
   },
   {
    "duration": 133,
    "start_time": "2025-04-02T14:57:22.228Z"
   },
   {
    "duration": 133,
    "start_time": "2025-04-02T14:57:22.363Z"
   },
   {
    "duration": 207,
    "start_time": "2025-04-02T14:57:22.497Z"
   },
   {
    "duration": 135,
    "start_time": "2025-04-02T14:57:22.706Z"
   },
   {
    "duration": 135,
    "start_time": "2025-04-02T14:57:22.843Z"
   },
   {
    "duration": 245,
    "start_time": "2025-04-02T14:58:30.520Z"
   },
   {
    "duration": 381,
    "start_time": "2025-04-02T15:00:08.048Z"
   },
   {
    "duration": 376,
    "start_time": "2025-04-02T15:00:45.289Z"
   },
   {
    "duration": 431,
    "start_time": "2025-04-02T15:01:06.600Z"
   },
   {
    "duration": 346,
    "start_time": "2025-04-02T15:01:28.965Z"
   },
   {
    "duration": 367,
    "start_time": "2025-04-02T15:01:39.962Z"
   },
   {
    "duration": 448,
    "start_time": "2025-04-02T15:01:49.465Z"
   },
   {
    "duration": 336,
    "start_time": "2025-04-02T15:02:11.762Z"
   },
   {
    "duration": 176,
    "start_time": "2025-04-02T15:05:18.427Z"
   },
   {
    "duration": 192,
    "start_time": "2025-04-02T15:05:48.511Z"
   },
   {
    "duration": 222,
    "start_time": "2025-04-02T15:06:12.214Z"
   },
   {
    "duration": 312,
    "start_time": "2025-04-02T15:06:34.781Z"
   },
   {
    "duration": 243,
    "start_time": "2025-04-02T15:06:45.992Z"
   },
   {
    "duration": 237,
    "start_time": "2025-04-02T15:07:46.255Z"
   },
   {
    "duration": 229,
    "start_time": "2025-04-02T15:26:29.077Z"
   },
   {
    "duration": 204,
    "start_time": "2025-04-02T15:28:47.266Z"
   },
   {
    "duration": 191,
    "start_time": "2025-04-02T15:29:23.739Z"
   },
   {
    "duration": 272,
    "start_time": "2025-04-02T15:29:41.235Z"
   },
   {
    "duration": 149,
    "start_time": "2025-04-02T15:33:26.695Z"
   },
   {
    "duration": 171,
    "start_time": "2025-04-02T15:33:40.800Z"
   },
   {
    "duration": 176,
    "start_time": "2025-04-02T15:35:44.397Z"
   },
   {
    "duration": 187,
    "start_time": "2025-04-02T15:36:08.665Z"
   },
   {
    "duration": 322,
    "start_time": "2025-04-02T15:36:28.090Z"
   },
   {
    "duration": 239,
    "start_time": "2025-04-02T15:36:39.634Z"
   },
   {
    "duration": 7,
    "start_time": "2025-04-02T16:12:28.053Z"
   },
   {
    "duration": 5,
    "start_time": "2025-04-02T16:13:41.639Z"
   },
   {
    "duration": 6,
    "start_time": "2025-04-02T16:14:59.236Z"
   },
   {
    "duration": 4,
    "start_time": "2025-04-02T16:20:10.113Z"
   },
   {
    "duration": 4,
    "start_time": "2025-04-02T16:20:12.519Z"
   },
   {
    "duration": 4,
    "start_time": "2025-04-02T16:27:51.688Z"
   },
   {
    "duration": 5,
    "start_time": "2025-04-02T16:43:06.439Z"
   },
   {
    "duration": 4,
    "start_time": "2025-04-02T16:43:16.056Z"
   },
   {
    "duration": 4,
    "start_time": "2025-04-02T16:45:11.811Z"
   },
   {
    "duration": 4,
    "start_time": "2025-04-02T16:45:14.990Z"
   },
   {
    "duration": 4,
    "start_time": "2025-04-02T16:45:19.448Z"
   },
   {
    "duration": 5,
    "start_time": "2025-04-02T16:46:53.707Z"
   },
   {
    "duration": 913,
    "start_time": "2025-04-02T16:47:21.537Z"
   },
   {
    "duration": 534,
    "start_time": "2025-04-02T16:47:22.453Z"
   },
   {
    "duration": 14,
    "start_time": "2025-04-02T16:47:22.988Z"
   },
   {
    "duration": 13,
    "start_time": "2025-04-02T16:47:23.004Z"
   },
   {
    "duration": 11,
    "start_time": "2025-04-02T16:47:23.019Z"
   },
   {
    "duration": 14,
    "start_time": "2025-04-02T16:47:23.031Z"
   },
   {
    "duration": 5,
    "start_time": "2025-04-02T16:47:23.046Z"
   },
   {
    "duration": 35,
    "start_time": "2025-04-02T16:47:23.052Z"
   },
   {
    "duration": 5,
    "start_time": "2025-04-02T16:47:23.089Z"
   },
   {
    "duration": 3,
    "start_time": "2025-04-02T16:47:23.095Z"
   },
   {
    "duration": 7,
    "start_time": "2025-04-02T16:47:23.099Z"
   },
   {
    "duration": 12,
    "start_time": "2025-04-02T16:47:23.107Z"
   },
   {
    "duration": 192,
    "start_time": "2025-04-02T16:47:23.121Z"
   },
   {
    "duration": 14,
    "start_time": "2025-04-02T16:47:23.317Z"
   },
   {
    "duration": 10,
    "start_time": "2025-04-02T16:47:23.333Z"
   },
   {
    "duration": 6,
    "start_time": "2025-04-02T16:47:23.344Z"
   },
   {
    "duration": 269,
    "start_time": "2025-04-02T16:47:23.352Z"
   },
   {
    "duration": 194,
    "start_time": "2025-04-02T16:47:23.623Z"
   },
   {
    "duration": 215,
    "start_time": "2025-04-02T16:47:23.819Z"
   },
   {
    "duration": 193,
    "start_time": "2025-04-02T16:47:24.035Z"
   },
   {
    "duration": 252,
    "start_time": "2025-04-02T16:47:24.230Z"
   },
   {
    "duration": 308,
    "start_time": "2025-04-02T16:47:24.483Z"
   },
   {
    "duration": 260,
    "start_time": "2025-04-02T16:47:24.793Z"
   },
   {
    "duration": 4,
    "start_time": "2025-04-02T16:47:25.055Z"
   },
   {
    "duration": 5,
    "start_time": "2025-04-02T16:48:56.020Z"
   },
   {
    "duration": 4,
    "start_time": "2025-04-02T16:48:58.313Z"
   },
   {
    "duration": 17,
    "start_time": "2025-04-02T16:57:14.713Z"
   },
   {
    "duration": 981,
    "start_time": "2025-04-02T16:57:29.236Z"
   },
   {
    "duration": 642,
    "start_time": "2025-04-02T16:57:30.220Z"
   },
   {
    "duration": 26,
    "start_time": "2025-04-02T16:57:30.863Z"
   },
   {
    "duration": 19,
    "start_time": "2025-04-02T16:57:30.891Z"
   },
   {
    "duration": 12,
    "start_time": "2025-04-02T16:57:30.914Z"
   },
   {
    "duration": 15,
    "start_time": "2025-04-02T16:57:30.928Z"
   },
   {
    "duration": 5,
    "start_time": "2025-04-02T16:57:30.945Z"
   },
   {
    "duration": 36,
    "start_time": "2025-04-02T16:57:30.953Z"
   },
   {
    "duration": 9,
    "start_time": "2025-04-02T16:57:30.992Z"
   },
   {
    "duration": 6,
    "start_time": "2025-04-02T16:57:31.004Z"
   },
   {
    "duration": 5,
    "start_time": "2025-04-02T16:57:31.012Z"
   },
   {
    "duration": 24,
    "start_time": "2025-04-02T16:57:31.019Z"
   },
   {
    "duration": 13,
    "start_time": "2025-04-02T16:57:31.045Z"
   },
   {
    "duration": 259,
    "start_time": "2025-04-02T16:57:31.088Z"
   },
   {
    "duration": 14,
    "start_time": "2025-04-02T16:57:31.349Z"
   },
   {
    "duration": 25,
    "start_time": "2025-04-02T16:57:31.366Z"
   },
   {
    "duration": 6,
    "start_time": "2025-04-02T16:57:31.393Z"
   },
   {
    "duration": 302,
    "start_time": "2025-04-02T16:57:31.401Z"
   },
   {
    "duration": 200,
    "start_time": "2025-04-02T16:57:31.706Z"
   },
   {
    "duration": 283,
    "start_time": "2025-04-02T16:57:31.909Z"
   },
   {
    "duration": 195,
    "start_time": "2025-04-02T16:57:32.195Z"
   },
   {
    "duration": 293,
    "start_time": "2025-04-02T16:57:32.393Z"
   },
   {
    "duration": 350,
    "start_time": "2025-04-02T16:57:32.688Z"
   },
   {
    "duration": 386,
    "start_time": "2025-04-02T16:57:33.041Z"
   },
   {
    "duration": 6,
    "start_time": "2025-04-02T16:57:33.430Z"
   },
   {
    "duration": 5,
    "start_time": "2025-04-02T16:58:15.184Z"
   },
   {
    "duration": 5,
    "start_time": "2025-04-02T16:58:15.563Z"
   },
   {
    "duration": 14,
    "start_time": "2025-04-02T16:58:16.365Z"
   },
   {
    "duration": 933,
    "start_time": "2025-04-02T16:58:25.764Z"
   },
   {
    "duration": 503,
    "start_time": "2025-04-02T16:58:26.699Z"
   },
   {
    "duration": 13,
    "start_time": "2025-04-02T16:58:27.204Z"
   },
   {
    "duration": 12,
    "start_time": "2025-04-02T16:58:27.221Z"
   },
   {
    "duration": 10,
    "start_time": "2025-04-02T16:58:27.236Z"
   },
   {
    "duration": 13,
    "start_time": "2025-04-02T16:58:27.247Z"
   },
   {
    "duration": 6,
    "start_time": "2025-04-02T16:58:27.286Z"
   },
   {
    "duration": 4,
    "start_time": "2025-04-02T16:58:27.294Z"
   },
   {
    "duration": 5,
    "start_time": "2025-04-02T16:58:27.300Z"
   },
   {
    "duration": 4,
    "start_time": "2025-04-02T16:58:27.309Z"
   },
   {
    "duration": 4,
    "start_time": "2025-04-02T16:58:27.314Z"
   },
   {
    "duration": 16,
    "start_time": "2025-04-02T16:58:27.319Z"
   },
   {
    "duration": 53,
    "start_time": "2025-04-02T16:58:27.336Z"
   },
   {
    "duration": 157,
    "start_time": "2025-04-02T16:58:27.391Z"
   },
   {
    "duration": 15,
    "start_time": "2025-04-02T16:58:27.550Z"
   },
   {
    "duration": 22,
    "start_time": "2025-04-02T16:58:27.566Z"
   },
   {
    "duration": 6,
    "start_time": "2025-04-02T16:58:27.590Z"
   },
   {
    "duration": 275,
    "start_time": "2025-04-02T16:58:27.598Z"
   },
   {
    "duration": 223,
    "start_time": "2025-04-02T16:58:27.876Z"
   },
   {
    "duration": 217,
    "start_time": "2025-04-02T16:58:28.101Z"
   },
   {
    "duration": 197,
    "start_time": "2025-04-02T16:58:28.320Z"
   },
   {
    "duration": 258,
    "start_time": "2025-04-02T16:58:28.519Z"
   },
   {
    "duration": 342,
    "start_time": "2025-04-02T16:58:28.779Z"
   },
   {
    "duration": 252,
    "start_time": "2025-04-02T16:58:29.123Z"
   },
   {
    "duration": 9,
    "start_time": "2025-04-02T16:58:29.377Z"
   },
   {
    "duration": 5,
    "start_time": "2025-04-02T17:09:22.645Z"
   },
   {
    "duration": 4,
    "start_time": "2025-04-02T17:09:37.821Z"
   },
   {
    "duration": 5,
    "start_time": "2025-04-02T17:09:53.302Z"
   },
   {
    "duration": 5,
    "start_time": "2025-04-02T17:10:50.937Z"
   },
   {
    "duration": 5,
    "start_time": "2025-04-02T17:10:56.799Z"
   },
   {
    "duration": 5,
    "start_time": "2025-04-02T17:12:41.412Z"
   },
   {
    "duration": 12,
    "start_time": "2025-04-02T17:12:48.826Z"
   },
   {
    "duration": 12,
    "start_time": "2025-04-02T17:13:54.794Z"
   },
   {
    "duration": 982,
    "start_time": "2025-04-02T17:14:48.422Z"
   },
   {
    "duration": 547,
    "start_time": "2025-04-02T17:14:49.406Z"
   },
   {
    "duration": 14,
    "start_time": "2025-04-02T17:14:49.955Z"
   },
   {
    "duration": 29,
    "start_time": "2025-04-02T17:14:49.970Z"
   },
   {
    "duration": 16,
    "start_time": "2025-04-02T17:14:50.002Z"
   },
   {
    "duration": 19,
    "start_time": "2025-04-02T17:14:50.020Z"
   },
   {
    "duration": 13,
    "start_time": "2025-04-02T17:14:50.041Z"
   },
   {
    "duration": 36,
    "start_time": "2025-04-02T17:14:50.057Z"
   },
   {
    "duration": 15,
    "start_time": "2025-04-02T17:14:50.095Z"
   },
   {
    "duration": 246,
    "start_time": "2025-04-02T17:14:50.114Z"
   },
   {
    "duration": 11,
    "start_time": "2025-04-02T17:14:50.362Z"
   },
   {
    "duration": 27,
    "start_time": "2025-04-02T17:14:50.376Z"
   },
   {
    "duration": 8,
    "start_time": "2025-04-02T17:14:50.405Z"
   },
   {
    "duration": 288,
    "start_time": "2025-04-02T17:14:50.417Z"
   },
   {
    "duration": 206,
    "start_time": "2025-04-02T17:14:50.707Z"
   },
   {
    "duration": 210,
    "start_time": "2025-04-02T17:14:50.915Z"
   },
   {
    "duration": 722,
    "start_time": "2025-04-02T17:14:51.129Z"
   },
   {
    "duration": 0,
    "start_time": "2025-04-02T17:14:51.853Z"
   },
   {
    "duration": 0,
    "start_time": "2025-04-02T17:14:51.854Z"
   },
   {
    "duration": 0,
    "start_time": "2025-04-02T17:14:51.856Z"
   },
   {
    "duration": 0,
    "start_time": "2025-04-02T17:14:51.858Z"
   },
   {
    "duration": 1054,
    "start_time": "2025-04-02T17:16:34.728Z"
   },
   {
    "duration": 510,
    "start_time": "2025-04-02T17:16:35.785Z"
   },
   {
    "duration": 15,
    "start_time": "2025-04-02T17:16:36.298Z"
   },
   {
    "duration": 14,
    "start_time": "2025-04-02T17:16:36.316Z"
   },
   {
    "duration": 10,
    "start_time": "2025-04-02T17:16:36.332Z"
   },
   {
    "duration": 13,
    "start_time": "2025-04-02T17:16:36.344Z"
   },
   {
    "duration": 39,
    "start_time": "2025-04-02T17:16:36.359Z"
   },
   {
    "duration": 15,
    "start_time": "2025-04-02T17:16:36.400Z"
   },
   {
    "duration": 12,
    "start_time": "2025-04-02T17:16:36.417Z"
   },
   {
    "duration": 12,
    "start_time": "2025-04-02T17:16:36.433Z"
   },
   {
    "duration": 218,
    "start_time": "2025-04-02T17:16:36.448Z"
   },
   {
    "duration": 18,
    "start_time": "2025-04-02T17:16:36.668Z"
   },
   {
    "duration": 6,
    "start_time": "2025-04-02T17:16:36.688Z"
   },
   {
    "duration": 8,
    "start_time": "2025-04-02T17:16:36.696Z"
   },
   {
    "duration": 268,
    "start_time": "2025-04-02T17:16:36.706Z"
   },
   {
    "duration": 205,
    "start_time": "2025-04-02T17:16:36.976Z"
   },
   {
    "duration": 204,
    "start_time": "2025-04-02T17:16:37.186Z"
   },
   {
    "duration": 687,
    "start_time": "2025-04-02T17:16:37.392Z"
   },
   {
    "duration": 0,
    "start_time": "2025-04-02T17:16:38.081Z"
   },
   {
    "duration": 0,
    "start_time": "2025-04-02T17:16:38.082Z"
   },
   {
    "duration": 0,
    "start_time": "2025-04-02T17:16:38.083Z"
   },
   {
    "duration": 0,
    "start_time": "2025-04-02T17:16:38.091Z"
   },
   {
    "duration": 963,
    "start_time": "2025-04-02T17:17:16.583Z"
   },
   {
    "duration": 632,
    "start_time": "2025-04-02T17:17:17.548Z"
   },
   {
    "duration": 27,
    "start_time": "2025-04-02T17:17:18.182Z"
   },
   {
    "duration": 17,
    "start_time": "2025-04-02T17:17:18.212Z"
   },
   {
    "duration": 11,
    "start_time": "2025-04-02T17:17:18.232Z"
   },
   {
    "duration": 13,
    "start_time": "2025-04-02T17:17:18.245Z"
   },
   {
    "duration": 36,
    "start_time": "2025-04-02T17:17:18.260Z"
   },
   {
    "duration": 19,
    "start_time": "2025-04-02T17:17:18.298Z"
   },
   {
    "duration": 15,
    "start_time": "2025-04-02T17:17:18.321Z"
   },
   {
    "duration": 11,
    "start_time": "2025-04-02T17:17:18.338Z"
   },
   {
    "duration": 263,
    "start_time": "2025-04-02T17:17:18.351Z"
   },
   {
    "duration": 14,
    "start_time": "2025-04-02T17:17:18.616Z"
   },
   {
    "duration": 7,
    "start_time": "2025-04-02T17:17:18.632Z"
   },
   {
    "duration": 888,
    "start_time": "2025-04-02T17:17:18.642Z"
   },
   {
    "duration": 0,
    "start_time": "2025-04-02T17:17:19.532Z"
   },
   {
    "duration": 0,
    "start_time": "2025-04-02T17:17:19.532Z"
   },
   {
    "duration": 0,
    "start_time": "2025-04-02T17:17:19.533Z"
   },
   {
    "duration": 0,
    "start_time": "2025-04-02T17:17:19.534Z"
   },
   {
    "duration": 0,
    "start_time": "2025-04-02T17:17:19.534Z"
   },
   {
    "duration": 0,
    "start_time": "2025-04-02T17:17:19.536Z"
   },
   {
    "duration": 0,
    "start_time": "2025-04-02T17:17:19.537Z"
   },
   {
    "duration": 0,
    "start_time": "2025-04-02T17:17:19.537Z"
   },
   {
    "duration": 1041,
    "start_time": "2025-04-02T17:18:12.143Z"
   },
   {
    "duration": 717,
    "start_time": "2025-04-02T17:18:13.186Z"
   },
   {
    "duration": 23,
    "start_time": "2025-04-02T17:18:13.910Z"
   },
   {
    "duration": 13,
    "start_time": "2025-04-02T17:18:13.936Z"
   },
   {
    "duration": 10,
    "start_time": "2025-04-02T17:18:13.952Z"
   },
   {
    "duration": 32,
    "start_time": "2025-04-02T17:18:13.964Z"
   },
   {
    "duration": 17,
    "start_time": "2025-04-02T17:18:13.998Z"
   },
   {
    "duration": 16,
    "start_time": "2025-04-02T17:18:14.017Z"
   },
   {
    "duration": 13,
    "start_time": "2025-04-02T17:18:14.035Z"
   },
   {
    "duration": 44,
    "start_time": "2025-04-02T17:18:14.050Z"
   },
   {
    "duration": 247,
    "start_time": "2025-04-02T17:18:14.097Z"
   },
   {
    "duration": 9,
    "start_time": "2025-04-02T17:18:14.346Z"
   },
   {
    "duration": 7,
    "start_time": "2025-04-02T17:18:14.357Z"
   },
   {
    "duration": 22,
    "start_time": "2025-04-02T17:18:14.367Z"
   },
   {
    "duration": 290,
    "start_time": "2025-04-02T17:18:14.392Z"
   },
   {
    "duration": 255,
    "start_time": "2025-04-02T17:18:14.684Z"
   },
   {
    "duration": 248,
    "start_time": "2025-04-02T17:18:14.941Z"
   },
   {
    "duration": 295,
    "start_time": "2025-04-02T17:18:15.193Z"
   },
   {
    "duration": 305,
    "start_time": "2025-04-02T17:18:15.490Z"
   },
   {
    "duration": 408,
    "start_time": "2025-04-02T17:18:15.797Z"
   },
   {
    "duration": 278,
    "start_time": "2025-04-02T17:18:16.210Z"
   },
   {
    "duration": 6,
    "start_time": "2025-04-02T17:18:16.494Z"
   },
   {
    "duration": 16,
    "start_time": "2025-04-02T17:19:38.725Z"
   },
   {
    "duration": 17,
    "start_time": "2025-04-02T17:20:04.526Z"
   },
   {
    "duration": 5,
    "start_time": "2025-04-02T18:01:51.379Z"
   },
   {
    "duration": 2,
    "start_time": "2025-04-02T18:59:45.263Z"
   },
   {
    "duration": 5,
    "start_time": "2025-04-02T19:04:45.710Z"
   },
   {
    "duration": 217,
    "start_time": "2025-04-02T19:04:58.717Z"
   },
   {
    "duration": 3,
    "start_time": "2025-04-02T19:05:19.157Z"
   },
   {
    "duration": 6,
    "start_time": "2025-04-02T19:07:46.170Z"
   },
   {
    "duration": 20,
    "start_time": "2025-04-02T19:11:04.857Z"
   },
   {
    "duration": 35,
    "start_time": "2025-04-02T19:14:45.036Z"
   },
   {
    "duration": 2,
    "start_time": "2025-04-02T19:14:51.951Z"
   },
   {
    "duration": 3,
    "start_time": "2025-04-02T19:15:41.057Z"
   },
   {
    "duration": 15,
    "start_time": "2025-04-02T19:15:50.103Z"
   },
   {
    "duration": 1474,
    "start_time": "2025-04-02T19:15:59.114Z"
   },
   {
    "duration": 1456,
    "start_time": "2025-04-02T19:16:11.548Z"
   },
   {
    "duration": 6750,
    "start_time": "2025-04-02T19:25:05.013Z"
   },
   {
    "duration": 6801,
    "start_time": "2025-04-02T19:25:19.910Z"
   },
   {
    "duration": 18780,
    "start_time": "2025-04-02T19:26:12.809Z"
   },
   {
    "duration": 11703,
    "start_time": "2025-04-02T19:28:41.202Z"
   },
   {
    "duration": 11663,
    "start_time": "2025-04-02T19:29:13.041Z"
   },
   {
    "duration": 909,
    "start_time": "2025-04-02T19:36:41.104Z"
   },
   {
    "duration": 534,
    "start_time": "2025-04-02T19:36:42.015Z"
   },
   {
    "duration": 64,
    "start_time": "2025-04-02T19:36:42.551Z"
   },
   {
    "duration": 11,
    "start_time": "2025-04-02T19:36:42.617Z"
   },
   {
    "duration": 10,
    "start_time": "2025-04-02T19:36:42.631Z"
   },
   {
    "duration": 13,
    "start_time": "2025-04-02T19:36:42.642Z"
   },
   {
    "duration": 35,
    "start_time": "2025-04-02T19:36:42.656Z"
   },
   {
    "duration": 11,
    "start_time": "2025-04-02T19:36:42.693Z"
   },
   {
    "duration": 9,
    "start_time": "2025-04-02T19:36:42.706Z"
   },
   {
    "duration": 9,
    "start_time": "2025-04-02T19:36:42.717Z"
   },
   {
    "duration": 212,
    "start_time": "2025-04-02T19:36:42.728Z"
   },
   {
    "duration": 9,
    "start_time": "2025-04-02T19:36:42.941Z"
   },
   {
    "duration": 5,
    "start_time": "2025-04-02T19:36:42.951Z"
   },
   {
    "duration": 228,
    "start_time": "2025-04-02T19:36:42.960Z"
   },
   {
    "duration": 196,
    "start_time": "2025-04-02T19:36:43.192Z"
   },
   {
    "duration": 192,
    "start_time": "2025-04-02T19:36:43.390Z"
   },
   {
    "duration": 191,
    "start_time": "2025-04-02T19:36:43.587Z"
   },
   {
    "duration": 250,
    "start_time": "2025-04-02T19:36:43.780Z"
   },
   {
    "duration": 302,
    "start_time": "2025-04-02T19:36:44.032Z"
   },
   {
    "duration": 245,
    "start_time": "2025-04-02T19:36:44.336Z"
   },
   {
    "duration": 4,
    "start_time": "2025-04-02T19:36:44.586Z"
   },
   {
    "duration": 7,
    "start_time": "2025-04-02T19:36:44.592Z"
   },
   {
    "duration": 393,
    "start_time": "2025-04-02T19:36:44.601Z"
   },
   {
    "duration": 0,
    "start_time": "2025-04-02T19:36:44.996Z"
   },
   {
    "duration": 11571,
    "start_time": "2025-04-02T19:37:25.473Z"
   },
   {
    "duration": 126898,
    "start_time": "2025-04-02T19:37:40.594Z"
   },
   {
    "duration": 15,
    "start_time": "2025-04-02T19:54:54.117Z"
   },
   {
    "duration": 398,
    "start_time": "2025-04-02T19:55:14.190Z"
   },
   {
    "duration": 53,
    "start_time": "2025-04-02T19:55:29.261Z"
   },
   {
    "duration": 154,
    "start_time": "2025-04-02T19:55:34.038Z"
   },
   {
    "duration": 5,
    "start_time": "2025-04-02T20:02:13.223Z"
   },
   {
    "duration": 5,
    "start_time": "2025-04-02T20:02:35.701Z"
   },
   {
    "duration": 5,
    "start_time": "2025-04-02T20:44:55.822Z"
   },
   {
    "duration": 11306,
    "start_time": "2025-04-02T20:44:56.287Z"
   },
   {
    "duration": 123256,
    "start_time": "2025-04-02T20:45:07.595Z"
   },
   {
    "duration": 341,
    "start_time": "2025-04-02T20:47:10.854Z"
   },
   {
    "duration": 415,
    "start_time": "2025-04-02T20:47:11.200Z"
   },
   {
    "duration": 329,
    "start_time": "2025-04-02T20:48:34.098Z"
   },
   {
    "duration": 6,
    "start_time": "2025-04-02T20:48:40.108Z"
   },
   {
    "duration": 439,
    "start_time": "2025-04-02T20:48:42.808Z"
   },
   {
    "duration": 381,
    "start_time": "2025-04-02T20:51:50.264Z"
   },
   {
    "duration": 324,
    "start_time": "2025-04-02T20:52:01.508Z"
   },
   {
    "duration": 6,
    "start_time": "2025-04-02T20:58:11.984Z"
   },
   {
    "duration": 5,
    "start_time": "2025-04-02T20:58:52.258Z"
   },
   {
    "duration": 7,
    "start_time": "2025-04-02T20:59:29.108Z"
   },
   {
    "duration": 323,
    "start_time": "2025-04-02T20:59:33.379Z"
   },
   {
    "duration": 332,
    "start_time": "2025-04-02T21:00:06.343Z"
   },
   {
    "duration": 325,
    "start_time": "2025-04-02T21:00:22.226Z"
   },
   {
    "duration": 660,
    "start_time": "2025-04-02T21:01:23.218Z"
   },
   {
    "duration": 278,
    "start_time": "2025-04-02T21:03:17.687Z"
   },
   {
    "duration": 614,
    "start_time": "2025-04-02T21:05:59.741Z"
   },
   {
    "duration": 892,
    "start_time": "2025-04-02T21:06:36.373Z"
   },
   {
    "duration": 509,
    "start_time": "2025-04-02T21:06:37.267Z"
   },
   {
    "duration": 65,
    "start_time": "2025-04-02T21:06:37.777Z"
   },
   {
    "duration": 15,
    "start_time": "2025-04-02T21:06:37.844Z"
   },
   {
    "duration": 26,
    "start_time": "2025-04-02T21:06:37.861Z"
   },
   {
    "duration": 13,
    "start_time": "2025-04-02T21:06:37.890Z"
   },
   {
    "duration": 13,
    "start_time": "2025-04-02T21:06:37.904Z"
   },
   {
    "duration": 12,
    "start_time": "2025-04-02T21:06:37.919Z"
   },
   {
    "duration": 9,
    "start_time": "2025-04-02T21:06:37.932Z"
   },
   {
    "duration": 9,
    "start_time": "2025-04-02T21:06:37.942Z"
   },
   {
    "duration": 239,
    "start_time": "2025-04-02T21:06:37.953Z"
   },
   {
    "duration": 10,
    "start_time": "2025-04-02T21:06:38.194Z"
   },
   {
    "duration": 6,
    "start_time": "2025-04-02T21:06:38.205Z"
   },
   {
    "duration": 202,
    "start_time": "2025-04-02T21:06:38.214Z"
   },
   {
    "duration": 187,
    "start_time": "2025-04-02T21:06:38.418Z"
   },
   {
    "duration": 193,
    "start_time": "2025-04-02T21:06:38.606Z"
   },
   {
    "duration": 198,
    "start_time": "2025-04-02T21:06:38.801Z"
   },
   {
    "duration": 259,
    "start_time": "2025-04-02T21:06:39.001Z"
   },
   {
    "duration": 300,
    "start_time": "2025-04-02T21:06:39.261Z"
   },
   {
    "duration": 250,
    "start_time": "2025-04-02T21:06:39.563Z"
   },
   {
    "duration": 4,
    "start_time": "2025-04-02T21:06:39.814Z"
   },
   {
    "duration": 9,
    "start_time": "2025-04-02T21:06:39.820Z"
   },
   {
    "duration": 11166,
    "start_time": "2025-04-02T21:06:39.831Z"
   },
   {
    "duration": 122650,
    "start_time": "2025-04-02T21:06:51.001Z"
   },
   {
    "duration": 338,
    "start_time": "2025-04-02T21:08:53.653Z"
   },
   {
    "duration": 749,
    "start_time": "2025-04-02T21:08:53.993Z"
   },
   {
    "duration": 256,
    "start_time": "2025-04-02T21:08:54.743Z"
   },
   {
    "duration": 929,
    "start_time": "2025-04-02T21:10:43.805Z"
   },
   {
    "duration": 512,
    "start_time": "2025-04-02T21:10:44.736Z"
   },
   {
    "duration": 69,
    "start_time": "2025-04-02T21:10:45.249Z"
   },
   {
    "duration": 12,
    "start_time": "2025-04-02T21:10:45.319Z"
   },
   {
    "duration": 10,
    "start_time": "2025-04-02T21:10:45.334Z"
   },
   {
    "duration": 12,
    "start_time": "2025-04-02T21:10:45.346Z"
   },
   {
    "duration": 37,
    "start_time": "2025-04-02T21:10:45.360Z"
   },
   {
    "duration": 13,
    "start_time": "2025-04-02T21:10:45.398Z"
   },
   {
    "duration": 9,
    "start_time": "2025-04-02T21:10:45.412Z"
   },
   {
    "duration": 10,
    "start_time": "2025-04-02T21:10:45.422Z"
   },
   {
    "duration": 217,
    "start_time": "2025-04-02T21:10:45.433Z"
   },
   {
    "duration": 9,
    "start_time": "2025-04-02T21:10:45.652Z"
   },
   {
    "duration": 5,
    "start_time": "2025-04-02T21:10:45.662Z"
   },
   {
    "duration": 203,
    "start_time": "2025-04-02T21:10:45.670Z"
   },
   {
    "duration": 179,
    "start_time": "2025-04-02T21:10:45.874Z"
   },
   {
    "duration": 208,
    "start_time": "2025-04-02T21:10:46.054Z"
   },
   {
    "duration": 192,
    "start_time": "2025-04-02T21:10:46.263Z"
   },
   {
    "duration": 249,
    "start_time": "2025-04-02T21:10:46.456Z"
   },
   {
    "duration": 298,
    "start_time": "2025-04-02T21:10:46.708Z"
   },
   {
    "duration": 237,
    "start_time": "2025-04-02T21:10:47.008Z"
   },
   {
    "duration": 4,
    "start_time": "2025-04-02T21:10:47.247Z"
   },
   {
    "duration": 10,
    "start_time": "2025-04-02T21:10:47.252Z"
   },
   {
    "duration": 5,
    "start_time": "2025-04-02T21:10:47.264Z"
   },
   {
    "duration": 19,
    "start_time": "2025-04-02T21:10:47.270Z"
   },
   {
    "duration": 302,
    "start_time": "2025-04-02T21:10:47.291Z"
   },
   {
    "duration": 763,
    "start_time": "2025-04-02T21:10:47.595Z"
   },
   {
    "duration": 261,
    "start_time": "2025-04-02T21:10:48.360Z"
   },
   {
    "duration": 18,
    "start_time": "2025-04-02T21:11:25.801Z"
   },
   {
    "duration": 13,
    "start_time": "2025-04-02T21:11:35.191Z"
   },
   {
    "duration": 15,
    "start_time": "2025-04-02T21:11:40.709Z"
   },
   {
    "duration": 42,
    "start_time": "2025-04-02T21:11:47.940Z"
   },
   {
    "duration": 43,
    "start_time": "2025-04-02T21:11:58.861Z"
   },
   {
    "duration": 45,
    "start_time": "2025-04-02T21:12:30.588Z"
   },
   {
    "duration": 4,
    "start_time": "2025-04-02T21:15:11.756Z"
   },
   {
    "duration": 4,
    "start_time": "2025-04-02T21:16:53.852Z"
   },
   {
    "duration": 3,
    "start_time": "2025-04-02T21:17:12.417Z"
   },
   {
    "duration": 17,
    "start_time": "2025-04-02T21:17:20.788Z"
   },
   {
    "duration": 5,
    "start_time": "2025-04-02T21:17:45.009Z"
   },
   {
    "duration": 26,
    "start_time": "2025-04-02T21:17:53.363Z"
   },
   {
    "duration": 16,
    "start_time": "2025-04-02T21:19:24.339Z"
   },
   {
    "duration": 4,
    "start_time": "2025-04-02T21:19:33.239Z"
   },
   {
    "duration": 3,
    "start_time": "2025-04-02T21:19:50.362Z"
   },
   {
    "duration": 3,
    "start_time": "2025-04-02T21:20:22.140Z"
   },
   {
    "duration": 46,
    "start_time": "2025-04-02T21:21:41.974Z"
   },
   {
    "duration": 47,
    "start_time": "2025-04-02T21:22:21.239Z"
   },
   {
    "duration": 51,
    "start_time": "2025-04-02T21:22:55.754Z"
   },
   {
    "duration": 2,
    "start_time": "2025-04-02T21:24:14.297Z"
   },
   {
    "duration": 3,
    "start_time": "2025-04-02T21:24:26.192Z"
   },
   {
    "duration": 7,
    "start_time": "2025-04-02T21:26:13.318Z"
   },
   {
    "duration": 5,
    "start_time": "2025-04-02T21:26:56.916Z"
   },
   {
    "duration": 46,
    "start_time": "2025-04-02T21:27:01.589Z"
   },
   {
    "duration": 4,
    "start_time": "2025-04-02T21:28:41.794Z"
   },
   {
    "duration": 27,
    "start_time": "2025-04-02T21:29:16.480Z"
   },
   {
    "duration": 96,
    "start_time": "2025-04-02T21:29:34.003Z"
   },
   {
    "duration": 5,
    "start_time": "2025-04-02T21:30:45.464Z"
   },
   {
    "duration": 29,
    "start_time": "2025-04-02T21:31:00.158Z"
   },
   {
    "duration": 42,
    "start_time": "2025-04-02T21:31:50.470Z"
   },
   {
    "duration": 28,
    "start_time": "2025-04-02T21:31:56.806Z"
   },
   {
    "duration": 3,
    "start_time": "2025-04-02T21:32:23.245Z"
   },
   {
    "duration": 3,
    "start_time": "2025-04-02T21:32:40.219Z"
   },
   {
    "duration": 486,
    "start_time": "2025-04-02T21:34:36.960Z"
   },
   {
    "duration": 4,
    "start_time": "2025-04-02T21:34:48.865Z"
   },
   {
    "duration": 16,
    "start_time": "2025-04-02T21:36:01.090Z"
   },
   {
    "duration": 373,
    "start_time": "2025-04-02T22:18:49.822Z"
   },
   {
    "duration": 42,
    "start_time": "2025-04-02T22:19:24.267Z"
   },
   {
    "duration": 41,
    "start_time": "2025-04-02T22:19:31.768Z"
   },
   {
    "duration": 951,
    "start_time": "2025-04-02T22:19:53.419Z"
   },
   {
    "duration": 555,
    "start_time": "2025-04-02T22:19:54.373Z"
   },
   {
    "duration": 75,
    "start_time": "2025-04-02T22:19:54.930Z"
   },
   {
    "duration": 11,
    "start_time": "2025-04-02T22:19:55.007Z"
   },
   {
    "duration": 11,
    "start_time": "2025-04-02T22:19:55.021Z"
   },
   {
    "duration": 12,
    "start_time": "2025-04-02T22:19:55.034Z"
   },
   {
    "duration": 13,
    "start_time": "2025-04-02T22:19:55.048Z"
   },
   {
    "duration": 14,
    "start_time": "2025-04-02T22:19:55.086Z"
   },
   {
    "duration": 11,
    "start_time": "2025-04-02T22:19:55.102Z"
   },
   {
    "duration": 10,
    "start_time": "2025-04-02T22:19:55.115Z"
   },
   {
    "duration": 207,
    "start_time": "2025-04-02T22:19:55.127Z"
   },
   {
    "duration": 10,
    "start_time": "2025-04-02T22:19:55.336Z"
   },
   {
    "duration": 6,
    "start_time": "2025-04-02T22:19:55.347Z"
   },
   {
    "duration": 217,
    "start_time": "2025-04-02T22:19:55.357Z"
   },
   {
    "duration": 203,
    "start_time": "2025-04-02T22:19:55.576Z"
   },
   {
    "duration": 205,
    "start_time": "2025-04-02T22:19:55.781Z"
   },
   {
    "duration": 327,
    "start_time": "2025-04-02T22:19:55.989Z"
   },
   {
    "duration": 306,
    "start_time": "2025-04-02T22:19:56.318Z"
   },
   {
    "duration": 355,
    "start_time": "2025-04-02T22:19:56.626Z"
   },
   {
    "duration": 270,
    "start_time": "2025-04-02T22:19:56.987Z"
   },
   {
    "duration": 6,
    "start_time": "2025-04-02T22:19:57.261Z"
   },
   {
    "duration": 22,
    "start_time": "2025-04-02T22:19:57.269Z"
   },
   {
    "duration": 4,
    "start_time": "2025-04-02T22:19:57.292Z"
   },
   {
    "duration": 4,
    "start_time": "2025-04-02T22:19:57.297Z"
   },
   {
    "duration": 383,
    "start_time": "2025-04-02T22:19:57.303Z"
   },
   {
    "duration": 737,
    "start_time": "2025-04-02T22:19:57.689Z"
   },
   {
    "duration": 47,
    "start_time": "2025-04-02T22:19:58.427Z"
   },
   {
    "duration": 47,
    "start_time": "2025-04-02T22:19:58.486Z"
   },
   {
    "duration": 29,
    "start_time": "2025-04-02T22:19:58.535Z"
   },
   {
    "duration": 32,
    "start_time": "2025-04-02T22:19:58.566Z"
   },
   {
    "duration": 889,
    "start_time": "2025-04-02T22:29:04.687Z"
   },
   {
    "duration": 513,
    "start_time": "2025-04-02T22:29:05.578Z"
   },
   {
    "duration": 58,
    "start_time": "2025-04-02T22:29:06.093Z"
   },
   {
    "duration": 13,
    "start_time": "2025-04-02T22:29:06.153Z"
   },
   {
    "duration": 26,
    "start_time": "2025-04-02T22:29:06.168Z"
   },
   {
    "duration": 13,
    "start_time": "2025-04-02T22:29:06.195Z"
   },
   {
    "duration": 13,
    "start_time": "2025-04-02T22:29:06.210Z"
   },
   {
    "duration": 12,
    "start_time": "2025-04-02T22:29:06.225Z"
   },
   {
    "duration": 9,
    "start_time": "2025-04-02T22:29:06.238Z"
   },
   {
    "duration": 43,
    "start_time": "2025-04-02T22:29:06.251Z"
   },
   {
    "duration": 191,
    "start_time": "2025-04-02T22:29:06.295Z"
   },
   {
    "duration": 9,
    "start_time": "2025-04-02T22:29:06.488Z"
   },
   {
    "duration": 5,
    "start_time": "2025-04-02T22:29:06.499Z"
   },
   {
    "duration": 197,
    "start_time": "2025-04-02T22:29:06.505Z"
   },
   {
    "duration": 193,
    "start_time": "2025-04-02T22:29:06.704Z"
   },
   {
    "duration": 194,
    "start_time": "2025-04-02T22:29:06.899Z"
   },
   {
    "duration": 194,
    "start_time": "2025-04-02T22:29:07.095Z"
   },
   {
    "duration": 246,
    "start_time": "2025-04-02T22:29:07.291Z"
   },
   {
    "duration": 300,
    "start_time": "2025-04-02T22:29:07.539Z"
   },
   {
    "duration": 259,
    "start_time": "2025-04-02T22:29:07.842Z"
   },
   {
    "duration": 5,
    "start_time": "2025-04-02T22:29:08.103Z"
   },
   {
    "duration": 11,
    "start_time": "2025-04-02T22:29:08.110Z"
   },
   {
    "duration": 11192,
    "start_time": "2025-04-02T22:29:08.123Z"
   },
   {
    "duration": 699582,
    "start_time": "2025-04-02T22:29:19.316Z"
   },
   {
    "duration": 190,
    "start_time": "2025-04-02T22:40:58.900Z"
   },
   {
    "duration": 758,
    "start_time": "2025-04-02T22:40:59.092Z"
   },
   {
    "duration": 51,
    "start_time": "2025-04-02T22:40:59.852Z"
   },
   {
    "duration": 957,
    "start_time": "2025-04-02T22:55:47.909Z"
   },
   {
    "duration": 514,
    "start_time": "2025-04-02T22:55:48.868Z"
   },
   {
    "duration": 59,
    "start_time": "2025-04-02T22:55:49.384Z"
   },
   {
    "duration": 11,
    "start_time": "2025-04-02T22:55:49.445Z"
   },
   {
    "duration": 10,
    "start_time": "2025-04-02T22:55:49.458Z"
   },
   {
    "duration": 29,
    "start_time": "2025-04-02T22:55:49.469Z"
   },
   {
    "duration": 12,
    "start_time": "2025-04-02T22:55:49.500Z"
   },
   {
    "duration": 11,
    "start_time": "2025-04-02T22:55:49.514Z"
   },
   {
    "duration": 9,
    "start_time": "2025-04-02T22:55:49.527Z"
   },
   {
    "duration": 10,
    "start_time": "2025-04-02T22:55:49.540Z"
   },
   {
    "duration": 230,
    "start_time": "2025-04-02T22:55:49.551Z"
   },
   {
    "duration": 11,
    "start_time": "2025-04-02T22:55:49.782Z"
   },
   {
    "duration": 5,
    "start_time": "2025-04-02T22:55:49.794Z"
   },
   {
    "duration": 193,
    "start_time": "2025-04-02T22:55:49.801Z"
   },
   {
    "duration": 183,
    "start_time": "2025-04-02T22:55:49.996Z"
   },
   {
    "duration": 209,
    "start_time": "2025-04-02T22:55:50.181Z"
   },
   {
    "duration": 208,
    "start_time": "2025-04-02T22:55:50.392Z"
   },
   {
    "duration": 280,
    "start_time": "2025-04-02T22:55:50.603Z"
   },
   {
    "duration": 304,
    "start_time": "2025-04-02T22:55:50.884Z"
   },
   {
    "duration": 232,
    "start_time": "2025-04-02T22:55:51.190Z"
   },
   {
    "duration": 4,
    "start_time": "2025-04-02T22:55:51.424Z"
   },
   {
    "duration": 11,
    "start_time": "2025-04-02T22:55:51.430Z"
   },
   {
    "duration": 11217,
    "start_time": "2025-04-02T22:55:51.442Z"
   },
   {
    "duration": 4,
    "start_time": "2025-04-02T22:56:02.660Z"
   },
   {
    "duration": 137,
    "start_time": "2025-04-02T22:56:02.666Z"
   },
   {
    "duration": 393,
    "start_time": "2025-04-02T22:56:02.804Z"
   },
   {
    "duration": 0,
    "start_time": "2025-04-02T22:56:03.199Z"
   },
   {
    "duration": 916,
    "start_time": "2025-04-02T22:56:45.527Z"
   },
   {
    "duration": 513,
    "start_time": "2025-04-02T22:56:46.445Z"
   },
   {
    "duration": 70,
    "start_time": "2025-04-02T22:56:46.960Z"
   },
   {
    "duration": 13,
    "start_time": "2025-04-02T22:56:47.031Z"
   },
   {
    "duration": 9,
    "start_time": "2025-04-02T22:56:47.047Z"
   },
   {
    "duration": 30,
    "start_time": "2025-04-02T22:56:47.058Z"
   },
   {
    "duration": 13,
    "start_time": "2025-04-02T22:56:47.089Z"
   },
   {
    "duration": 11,
    "start_time": "2025-04-02T22:56:47.106Z"
   },
   {
    "duration": 10,
    "start_time": "2025-04-02T22:56:47.119Z"
   },
   {
    "duration": 9,
    "start_time": "2025-04-02T22:56:47.131Z"
   },
   {
    "duration": 232,
    "start_time": "2025-04-02T22:56:47.141Z"
   },
   {
    "duration": 16,
    "start_time": "2025-04-02T22:56:47.375Z"
   },
   {
    "duration": 5,
    "start_time": "2025-04-02T22:56:47.393Z"
   },
   {
    "duration": 194,
    "start_time": "2025-04-02T22:56:47.401Z"
   },
   {
    "duration": 187,
    "start_time": "2025-04-02T22:56:47.597Z"
   },
   {
    "duration": 201,
    "start_time": "2025-04-02T22:56:47.785Z"
   },
   {
    "duration": 200,
    "start_time": "2025-04-02T22:56:47.988Z"
   },
   {
    "duration": 241,
    "start_time": "2025-04-02T22:56:48.190Z"
   },
   {
    "duration": 299,
    "start_time": "2025-04-02T22:56:48.433Z"
   },
   {
    "duration": 238,
    "start_time": "2025-04-02T22:56:48.734Z"
   },
   {
    "duration": 4,
    "start_time": "2025-04-02T22:56:48.974Z"
   },
   {
    "duration": 11,
    "start_time": "2025-04-02T22:56:48.987Z"
   },
   {
    "duration": 11182,
    "start_time": "2025-04-02T22:56:49.000Z"
   },
   {
    "duration": 4,
    "start_time": "2025-04-02T22:57:00.187Z"
   },
   {
    "duration": 200,
    "start_time": "2025-04-02T22:57:00.192Z"
   },
   {
    "duration": 8206,
    "start_time": "2025-04-02T22:57:00.393Z"
   },
   {
    "duration": 0,
    "start_time": "2025-04-02T22:57:08.601Z"
   },
   {
    "duration": 936,
    "start_time": "2025-04-02T22:57:14.946Z"
   },
   {
    "duration": 549,
    "start_time": "2025-04-02T22:57:15.884Z"
   },
   {
    "duration": 79,
    "start_time": "2025-04-02T22:57:16.435Z"
   },
   {
    "duration": 16,
    "start_time": "2025-04-02T22:57:16.517Z"
   },
   {
    "duration": 12,
    "start_time": "2025-04-02T22:57:16.535Z"
   },
   {
    "duration": 14,
    "start_time": "2025-04-02T22:57:16.548Z"
   },
   {
    "duration": 33,
    "start_time": "2025-04-02T22:57:16.563Z"
   },
   {
    "duration": 12,
    "start_time": "2025-04-02T22:57:16.598Z"
   },
   {
    "duration": 8,
    "start_time": "2025-04-02T22:57:16.611Z"
   },
   {
    "duration": 10,
    "start_time": "2025-04-02T22:57:16.622Z"
   },
   {
    "duration": 217,
    "start_time": "2025-04-02T22:57:16.633Z"
   },
   {
    "duration": 9,
    "start_time": "2025-04-02T22:57:16.852Z"
   },
   {
    "duration": 5,
    "start_time": "2025-04-02T22:57:16.863Z"
   },
   {
    "duration": 191,
    "start_time": "2025-04-02T22:57:16.886Z"
   },
   {
    "duration": 184,
    "start_time": "2025-04-02T22:57:17.079Z"
   },
   {
    "duration": 194,
    "start_time": "2025-04-02T22:57:17.265Z"
   },
   {
    "duration": 204,
    "start_time": "2025-04-02T22:57:17.460Z"
   },
   {
    "duration": 260,
    "start_time": "2025-04-02T22:57:17.666Z"
   },
   {
    "duration": 321,
    "start_time": "2025-04-02T22:57:17.927Z"
   },
   {
    "duration": 238,
    "start_time": "2025-04-02T22:57:18.250Z"
   },
   {
    "duration": 4,
    "start_time": "2025-04-02T22:57:18.490Z"
   },
   {
    "duration": 10,
    "start_time": "2025-04-02T22:57:18.496Z"
   },
   {
    "duration": 11256,
    "start_time": "2025-04-02T22:57:18.507Z"
   },
   {
    "duration": 4,
    "start_time": "2025-04-02T22:57:29.765Z"
   },
   {
    "duration": 206,
    "start_time": "2025-04-02T22:57:29.786Z"
   },
   {
    "duration": 16319,
    "start_time": "2025-04-02T22:57:29.994Z"
   },
   {
    "duration": 45,
    "start_time": "2025-04-02T22:57:46.315Z"
   },
   {
    "duration": 5,
    "start_time": "2025-04-02T22:58:43.696Z"
   },
   {
    "duration": 46,
    "start_time": "2025-04-03T03:26:48.586Z"
   },
   {
    "duration": 48,
    "start_time": "2025-04-03T03:26:58.391Z"
   },
   {
    "duration": 1014,
    "start_time": "2025-04-03T03:27:19.949Z"
   },
   {
    "duration": 526,
    "start_time": "2025-04-03T03:27:20.965Z"
   },
   {
    "duration": 81,
    "start_time": "2025-04-03T03:27:21.492Z"
   },
   {
    "duration": 22,
    "start_time": "2025-04-03T03:27:21.576Z"
   },
   {
    "duration": 12,
    "start_time": "2025-04-03T03:27:21.600Z"
   },
   {
    "duration": 14,
    "start_time": "2025-04-03T03:27:21.614Z"
   },
   {
    "duration": 15,
    "start_time": "2025-04-03T03:27:21.630Z"
   },
   {
    "duration": 46,
    "start_time": "2025-04-03T03:27:21.647Z"
   },
   {
    "duration": 11,
    "start_time": "2025-04-03T03:27:21.695Z"
   },
   {
    "duration": 11,
    "start_time": "2025-04-03T03:27:21.709Z"
   },
   {
    "duration": 221,
    "start_time": "2025-04-03T03:27:21.722Z"
   },
   {
    "duration": 13,
    "start_time": "2025-04-03T03:27:21.947Z"
   },
   {
    "duration": 7,
    "start_time": "2025-04-03T03:27:21.962Z"
   },
   {
    "duration": 234,
    "start_time": "2025-04-03T03:27:21.971Z"
   },
   {
    "duration": 198,
    "start_time": "2025-04-03T03:27:22.207Z"
   },
   {
    "duration": 206,
    "start_time": "2025-04-03T03:27:22.407Z"
   },
   {
    "duration": 208,
    "start_time": "2025-04-03T03:27:22.616Z"
   },
   {
    "duration": 302,
    "start_time": "2025-04-03T03:27:22.826Z"
   },
   {
    "duration": 351,
    "start_time": "2025-04-03T03:27:23.130Z"
   },
   {
    "duration": 245,
    "start_time": "2025-04-03T03:27:23.486Z"
   },
   {
    "duration": 5,
    "start_time": "2025-04-03T03:27:23.733Z"
   },
   {
    "duration": 12,
    "start_time": "2025-04-03T03:27:23.740Z"
   },
   {
    "duration": 11416,
    "start_time": "2025-04-03T03:27:23.754Z"
   },
   {
    "duration": 4,
    "start_time": "2025-04-03T03:27:35.172Z"
   },
   {
    "duration": 314,
    "start_time": "2025-04-03T03:27:35.187Z"
   },
   {
    "duration": 16479,
    "start_time": "2025-04-03T03:27:35.503Z"
   },
   {
    "duration": 51,
    "start_time": "2025-04-03T03:27:51.986Z"
   },
   {
    "duration": 4,
    "start_time": "2025-04-03T03:27:52.041Z"
   },
   {
    "duration": 47,
    "start_time": "2025-04-03T03:28:49.091Z"
   },
   {
    "duration": 3,
    "start_time": "2025-04-03T03:29:28.052Z"
   },
   {
    "duration": 155,
    "start_time": "2025-04-03T14:45:43.225Z"
   },
   {
    "duration": 2664,
    "start_time": "2025-04-03T15:36:47.789Z"
   },
   {
    "duration": 573,
    "start_time": "2025-04-03T15:36:50.455Z"
   },
   {
    "duration": 15,
    "start_time": "2025-04-03T15:36:51.030Z"
   },
   {
    "duration": 12,
    "start_time": "2025-04-03T15:36:51.048Z"
   },
   {
    "duration": 10,
    "start_time": "2025-04-03T15:36:51.062Z"
   },
   {
    "duration": 38,
    "start_time": "2025-04-03T15:36:51.074Z"
   },
   {
    "duration": 13,
    "start_time": "2025-04-03T15:36:51.113Z"
   },
   {
    "duration": 10,
    "start_time": "2025-04-03T15:36:51.128Z"
   },
   {
    "duration": 8,
    "start_time": "2025-04-03T15:36:51.140Z"
   },
   {
    "duration": 11,
    "start_time": "2025-04-03T15:36:51.150Z"
   },
   {
    "duration": 220,
    "start_time": "2025-04-03T15:36:51.163Z"
   },
   {
    "duration": 9,
    "start_time": "2025-04-03T15:36:51.385Z"
   },
   {
    "duration": 16,
    "start_time": "2025-04-03T15:36:51.396Z"
   },
   {
    "duration": 190,
    "start_time": "2025-04-03T15:36:51.416Z"
   },
   {
    "duration": 179,
    "start_time": "2025-04-03T15:36:51.611Z"
   },
   {
    "duration": 242,
    "start_time": "2025-04-03T15:36:51.792Z"
   },
   {
    "duration": 209,
    "start_time": "2025-04-03T15:36:52.036Z"
   },
   {
    "duration": 254,
    "start_time": "2025-04-03T15:36:52.248Z"
   },
   {
    "duration": 241,
    "start_time": "2025-04-03T15:36:52.504Z"
   },
   {
    "duration": 233,
    "start_time": "2025-04-03T15:36:52.747Z"
   },
   {
    "duration": 4,
    "start_time": "2025-04-03T15:36:52.982Z"
   },
   {
    "duration": 4,
    "start_time": "2025-04-03T15:36:52.988Z"
   },
   {
    "duration": 18,
    "start_time": "2025-04-03T15:36:52.994Z"
   },
   {
    "duration": 9,
    "start_time": "2025-04-03T15:36:53.014Z"
   },
   {
    "duration": 11104,
    "start_time": "2025-04-03T15:36:53.025Z"
   },
   {
    "duration": 5,
    "start_time": "2025-04-03T15:37:04.130Z"
   },
   {
    "duration": 189,
    "start_time": "2025-04-03T15:37:04.136Z"
   },
   {
    "duration": 16820,
    "start_time": "2025-04-03T15:37:04.327Z"
   },
   {
    "duration": 49,
    "start_time": "2025-04-03T15:37:21.148Z"
   },
   {
    "duration": 16,
    "start_time": "2025-04-03T15:37:21.198Z"
   },
   {
    "duration": 3,
    "start_time": "2025-04-03T15:37:21.216Z"
   },
   {
    "duration": 13,
    "start_time": "2025-04-03T15:37:21.222Z"
   },
   {
    "duration": 14,
    "start_time": "2025-04-03T15:37:37.300Z"
   },
   {
    "duration": 914,
    "start_time": "2025-04-03T15:37:50.911Z"
   },
   {
    "duration": 540,
    "start_time": "2025-04-03T15:37:51.827Z"
   },
   {
    "duration": 75,
    "start_time": "2025-04-03T15:37:52.369Z"
   },
   {
    "duration": 13,
    "start_time": "2025-04-03T15:37:52.445Z"
   },
   {
    "duration": 12,
    "start_time": "2025-04-03T15:37:52.462Z"
   },
   {
    "duration": 36,
    "start_time": "2025-04-03T15:37:52.476Z"
   },
   {
    "duration": 17,
    "start_time": "2025-04-03T15:37:52.514Z"
   },
   {
    "duration": 13,
    "start_time": "2025-04-03T15:37:52.533Z"
   },
   {
    "duration": 11,
    "start_time": "2025-04-03T15:37:52.548Z"
   },
   {
    "duration": 15,
    "start_time": "2025-04-03T15:37:52.561Z"
   },
   {
    "duration": 265,
    "start_time": "2025-04-03T15:37:52.580Z"
   },
   {
    "duration": 10,
    "start_time": "2025-04-03T15:37:52.847Z"
   },
   {
    "duration": 6,
    "start_time": "2025-04-03T15:37:52.859Z"
   },
   {
    "duration": 233,
    "start_time": "2025-04-03T15:37:52.869Z"
   },
   {
    "duration": 230,
    "start_time": "2025-04-03T15:37:53.103Z"
   },
   {
    "duration": 189,
    "start_time": "2025-04-03T15:37:53.335Z"
   },
   {
    "duration": 200,
    "start_time": "2025-04-03T15:37:53.525Z"
   },
   {
    "duration": 252,
    "start_time": "2025-04-03T15:37:53.727Z"
   },
   {
    "duration": 318,
    "start_time": "2025-04-03T15:37:53.981Z"
   },
   {
    "duration": 237,
    "start_time": "2025-04-03T15:37:54.301Z"
   },
   {
    "duration": 4,
    "start_time": "2025-04-03T15:37:54.540Z"
   },
   {
    "duration": 3,
    "start_time": "2025-04-03T15:37:54.546Z"
   },
   {
    "duration": 15,
    "start_time": "2025-04-03T15:37:54.551Z"
   },
   {
    "duration": 9,
    "start_time": "2025-04-03T15:37:54.567Z"
   },
   {
    "duration": 11334,
    "start_time": "2025-04-03T15:37:54.578Z"
   },
   {
    "duration": 5,
    "start_time": "2025-04-03T15:38:05.914Z"
   },
   {
    "duration": 210,
    "start_time": "2025-04-03T15:38:05.921Z"
   },
   {
    "duration": 16832,
    "start_time": "2025-04-03T15:38:06.132Z"
   },
   {
    "duration": 51,
    "start_time": "2025-04-03T15:38:22.966Z"
   },
   {
    "duration": 4,
    "start_time": "2025-04-03T15:38:23.019Z"
   },
   {
    "duration": 3,
    "start_time": "2025-04-03T15:38:23.024Z"
   },
   {
    "duration": 13,
    "start_time": "2025-04-03T15:39:20.604Z"
   },
   {
    "duration": 9,
    "start_time": "2025-04-03T15:39:39.276Z"
   },
   {
    "duration": 6,
    "start_time": "2025-04-03T15:41:13.224Z"
   },
   {
    "duration": 870,
    "start_time": "2025-04-03T15:42:11.126Z"
   },
   {
    "duration": 492,
    "start_time": "2025-04-03T15:42:11.998Z"
   },
   {
    "duration": 67,
    "start_time": "2025-04-03T15:42:12.492Z"
   },
   {
    "duration": 14,
    "start_time": "2025-04-03T15:42:12.560Z"
   },
   {
    "duration": 10,
    "start_time": "2025-04-03T15:42:12.577Z"
   },
   {
    "duration": 33,
    "start_time": "2025-04-03T15:42:12.588Z"
   },
   {
    "duration": 13,
    "start_time": "2025-04-03T15:42:12.623Z"
   },
   {
    "duration": 12,
    "start_time": "2025-04-03T15:42:12.638Z"
   },
   {
    "duration": 9,
    "start_time": "2025-04-03T15:42:12.651Z"
   },
   {
    "duration": 9,
    "start_time": "2025-04-03T15:42:12.662Z"
   },
   {
    "duration": 218,
    "start_time": "2025-04-03T15:42:12.673Z"
   },
   {
    "duration": 18,
    "start_time": "2025-04-03T15:42:12.893Z"
   },
   {
    "duration": 6,
    "start_time": "2025-04-03T15:42:12.913Z"
   },
   {
    "duration": 190,
    "start_time": "2025-04-03T15:42:12.922Z"
   },
   {
    "duration": 179,
    "start_time": "2025-04-03T15:42:13.115Z"
   },
   {
    "duration": 192,
    "start_time": "2025-04-03T15:42:13.296Z"
   },
   {
    "duration": 193,
    "start_time": "2025-04-03T15:42:13.490Z"
   },
   {
    "duration": 240,
    "start_time": "2025-04-03T15:42:13.684Z"
   },
   {
    "duration": 297,
    "start_time": "2025-04-03T15:42:13.926Z"
   },
   {
    "duration": 228,
    "start_time": "2025-04-03T15:42:14.225Z"
   },
   {
    "duration": 6,
    "start_time": "2025-04-03T15:42:14.455Z"
   },
   {
    "duration": 3,
    "start_time": "2025-04-03T15:42:14.462Z"
   },
   {
    "duration": 8,
    "start_time": "2025-04-03T15:42:14.467Z"
   },
   {
    "duration": 11,
    "start_time": "2025-04-03T15:42:14.478Z"
   },
   {
    "duration": 11020,
    "start_time": "2025-04-03T15:42:14.511Z"
   },
   {
    "duration": 3,
    "start_time": "2025-04-03T15:42:25.535Z"
   },
   {
    "duration": 173,
    "start_time": "2025-04-03T15:42:25.540Z"
   },
   {
    "duration": 16918,
    "start_time": "2025-04-03T15:42:25.716Z"
   },
   {
    "duration": 48,
    "start_time": "2025-04-03T15:42:42.635Z"
   },
   {
    "duration": 4,
    "start_time": "2025-04-03T15:42:42.684Z"
   },
   {
    "duration": 3,
    "start_time": "2025-04-03T15:42:42.691Z"
   },
   {
    "duration": 6,
    "start_time": "2025-04-03T15:43:09.926Z"
   },
   {
    "duration": 5,
    "start_time": "2025-04-03T15:43:55.279Z"
   },
   {
    "duration": 918,
    "start_time": "2025-04-03T15:44:15.844Z"
   },
   {
    "duration": 475,
    "start_time": "2025-04-03T15:44:16.764Z"
   },
   {
    "duration": 62,
    "start_time": "2025-04-03T15:44:17.241Z"
   },
   {
    "duration": 17,
    "start_time": "2025-04-03T15:44:17.305Z"
   },
   {
    "duration": 10,
    "start_time": "2025-04-03T15:44:17.323Z"
   },
   {
    "duration": 12,
    "start_time": "2025-04-03T15:44:17.335Z"
   },
   {
    "duration": 12,
    "start_time": "2025-04-03T15:44:17.349Z"
   },
   {
    "duration": 11,
    "start_time": "2025-04-03T15:44:17.363Z"
   },
   {
    "duration": 41,
    "start_time": "2025-04-03T15:44:17.376Z"
   },
   {
    "duration": 10,
    "start_time": "2025-04-03T15:44:17.419Z"
   },
   {
    "duration": 200,
    "start_time": "2025-04-03T15:44:17.430Z"
   },
   {
    "duration": 8,
    "start_time": "2025-04-03T15:44:17.631Z"
   },
   {
    "duration": 5,
    "start_time": "2025-04-03T15:44:17.641Z"
   },
   {
    "duration": 202,
    "start_time": "2025-04-03T15:44:17.647Z"
   },
   {
    "duration": 189,
    "start_time": "2025-04-03T15:44:17.850Z"
   },
   {
    "duration": 193,
    "start_time": "2025-04-03T15:44:18.040Z"
   },
   {
    "duration": 191,
    "start_time": "2025-04-03T15:44:18.234Z"
   },
   {
    "duration": 268,
    "start_time": "2025-04-03T15:44:18.427Z"
   },
   {
    "duration": 305,
    "start_time": "2025-04-03T15:44:18.697Z"
   },
   {
    "duration": 235,
    "start_time": "2025-04-03T15:44:19.004Z"
   },
   {
    "duration": 5,
    "start_time": "2025-04-03T15:44:19.240Z"
   },
   {
    "duration": 4,
    "start_time": "2025-04-03T15:44:19.247Z"
   },
   {
    "duration": 5,
    "start_time": "2025-04-03T15:44:19.252Z"
   },
   {
    "duration": 6,
    "start_time": "2025-04-03T15:44:19.259Z"
   },
   {
    "duration": 4615,
    "start_time": "2025-04-03T15:44:19.268Z"
   },
   {
    "duration": 4,
    "start_time": "2025-04-03T15:44:23.885Z"
   },
   {
    "duration": 45,
    "start_time": "2025-04-03T15:44:23.890Z"
   },
   {
    "duration": 3555,
    "start_time": "2025-04-03T15:44:23.938Z"
   },
   {
    "duration": 0,
    "start_time": "2025-04-03T15:44:27.495Z"
   },
   {
    "duration": 0,
    "start_time": "2025-04-03T15:44:27.496Z"
   },
   {
    "duration": 0,
    "start_time": "2025-04-03T15:44:27.497Z"
   },
   {
    "duration": 862,
    "start_time": "2025-04-03T15:50:05.459Z"
   },
   {
    "duration": 469,
    "start_time": "2025-04-03T15:50:06.324Z"
   },
   {
    "duration": 65,
    "start_time": "2025-04-03T15:50:06.795Z"
   },
   {
    "duration": 12,
    "start_time": "2025-04-03T15:50:06.862Z"
   },
   {
    "duration": 9,
    "start_time": "2025-04-03T15:50:06.877Z"
   },
   {
    "duration": 31,
    "start_time": "2025-04-03T15:50:06.888Z"
   },
   {
    "duration": 12,
    "start_time": "2025-04-03T15:50:06.920Z"
   },
   {
    "duration": 10,
    "start_time": "2025-04-03T15:50:06.934Z"
   },
   {
    "duration": 8,
    "start_time": "2025-04-03T15:50:06.946Z"
   },
   {
    "duration": 10,
    "start_time": "2025-04-03T15:50:06.956Z"
   },
   {
    "duration": 223,
    "start_time": "2025-04-03T15:50:06.968Z"
   },
   {
    "duration": 9,
    "start_time": "2025-04-03T15:50:07.192Z"
   },
   {
    "duration": 5,
    "start_time": "2025-04-03T15:50:07.211Z"
   },
   {
    "duration": 204,
    "start_time": "2025-04-03T15:50:07.221Z"
   },
   {
    "duration": 183,
    "start_time": "2025-04-03T15:50:07.427Z"
   },
   {
    "duration": 189,
    "start_time": "2025-04-03T15:50:07.612Z"
   },
   {
    "duration": 186,
    "start_time": "2025-04-03T15:50:07.803Z"
   },
   {
    "duration": 261,
    "start_time": "2025-04-03T15:50:07.991Z"
   },
   {
    "duration": 311,
    "start_time": "2025-04-03T15:50:08.254Z"
   },
   {
    "duration": 238,
    "start_time": "2025-04-03T15:50:08.566Z"
   },
   {
    "duration": 5,
    "start_time": "2025-04-03T15:50:08.812Z"
   },
   {
    "duration": 4,
    "start_time": "2025-04-03T15:50:08.819Z"
   },
   {
    "duration": 6,
    "start_time": "2025-04-03T15:50:08.824Z"
   },
   {
    "duration": 6,
    "start_time": "2025-04-03T15:50:08.831Z"
   },
   {
    "duration": 0,
    "start_time": "2025-04-03T15:50:08.839Z"
   },
   {
    "duration": 0,
    "start_time": "2025-04-03T15:50:08.844Z"
   },
   {
    "duration": 0,
    "start_time": "2025-04-03T15:50:08.845Z"
   },
   {
    "duration": 0,
    "start_time": "2025-04-03T15:50:08.847Z"
   },
   {
    "duration": 0,
    "start_time": "2025-04-03T15:50:08.848Z"
   },
   {
    "duration": 0,
    "start_time": "2025-04-03T15:50:08.849Z"
   },
   {
    "duration": 0,
    "start_time": "2025-04-03T15:50:08.851Z"
   },
   {
    "duration": 0,
    "start_time": "2025-04-03T15:50:08.852Z"
   },
   {
    "duration": 0,
    "start_time": "2025-04-03T15:50:08.854Z"
   },
   {
    "duration": 0,
    "start_time": "2025-04-03T15:50:08.855Z"
   },
   {
    "duration": 878,
    "start_time": "2025-04-03T16:02:46.511Z"
   },
   {
    "duration": 469,
    "start_time": "2025-04-03T16:02:47.391Z"
   },
   {
    "duration": 66,
    "start_time": "2025-04-03T16:02:47.862Z"
   },
   {
    "duration": 13,
    "start_time": "2025-04-03T16:02:47.930Z"
   },
   {
    "duration": 11,
    "start_time": "2025-04-03T16:02:47.944Z"
   },
   {
    "duration": 12,
    "start_time": "2025-04-03T16:02:47.958Z"
   },
   {
    "duration": 40,
    "start_time": "2025-04-03T16:02:47.972Z"
   },
   {
    "duration": 15,
    "start_time": "2025-04-03T16:02:48.014Z"
   },
   {
    "duration": 10,
    "start_time": "2025-04-03T16:02:48.033Z"
   },
   {
    "duration": 9,
    "start_time": "2025-04-03T16:02:48.046Z"
   },
   {
    "duration": 208,
    "start_time": "2025-04-03T16:02:48.056Z"
   },
   {
    "duration": 9,
    "start_time": "2025-04-03T16:02:48.265Z"
   },
   {
    "duration": 5,
    "start_time": "2025-04-03T16:02:48.275Z"
   },
   {
    "duration": 202,
    "start_time": "2025-04-03T16:02:48.281Z"
   },
   {
    "duration": 194,
    "start_time": "2025-04-03T16:02:48.485Z"
   },
   {
    "duration": 205,
    "start_time": "2025-04-03T16:02:48.680Z"
   },
   {
    "duration": 194,
    "start_time": "2025-04-03T16:02:48.887Z"
   },
   {
    "duration": 250,
    "start_time": "2025-04-03T16:02:49.083Z"
   },
   {
    "duration": 301,
    "start_time": "2025-04-03T16:02:49.335Z"
   },
   {
    "duration": 253,
    "start_time": "2025-04-03T16:02:49.637Z"
   },
   {
    "duration": 4,
    "start_time": "2025-04-03T16:02:49.892Z"
   },
   {
    "duration": 15,
    "start_time": "2025-04-03T16:02:49.897Z"
   },
   {
    "duration": 5,
    "start_time": "2025-04-03T16:02:49.914Z"
   },
   {
    "duration": 4,
    "start_time": "2025-04-03T16:02:49.920Z"
   },
   {
    "duration": 4625,
    "start_time": "2025-04-03T16:02:49.926Z"
   },
   {
    "duration": 283716,
    "start_time": "2025-04-03T16:02:54.553Z"
   },
   {
    "duration": 160,
    "start_time": "2025-04-03T16:07:38.270Z"
   },
   {
    "duration": 12284,
    "start_time": "2025-04-03T16:07:38.511Z"
   },
   {
    "duration": 763815,
    "start_time": "2025-04-03T16:07:50.796Z"
   },
   {
    "duration": 203,
    "start_time": "2025-04-03T16:20:34.613Z"
   },
   {
    "duration": 3574,
    "start_time": "2025-04-03T16:20:34.820Z"
   },
   {
    "duration": 0,
    "start_time": "2025-04-03T16:20:38.396Z"
   },
   {
    "duration": 0,
    "start_time": "2025-04-03T16:20:38.397Z"
   },
   {
    "duration": 0,
    "start_time": "2025-04-03T16:20:38.399Z"
   },
   {
    "duration": 7,
    "start_time": "2025-04-03T16:32:59.141Z"
   },
   {
    "duration": 638,
    "start_time": "2025-04-03T16:33:34.880Z"
   },
   {
    "duration": 39,
    "start_time": "2025-04-03T16:34:35.153Z"
   },
   {
    "duration": 883,
    "start_time": "2025-04-03T16:36:33.942Z"
   },
   {
    "duration": 512,
    "start_time": "2025-04-03T16:36:34.827Z"
   },
   {
    "duration": 70,
    "start_time": "2025-04-03T16:36:35.341Z"
   },
   {
    "duration": 12,
    "start_time": "2025-04-03T16:36:35.413Z"
   },
   {
    "duration": 11,
    "start_time": "2025-04-03T16:36:35.426Z"
   },
   {
    "duration": 13,
    "start_time": "2025-04-03T16:36:35.439Z"
   },
   {
    "duration": 13,
    "start_time": "2025-04-03T16:36:35.453Z"
   },
   {
    "duration": 11,
    "start_time": "2025-04-03T16:36:35.467Z"
   },
   {
    "duration": 37,
    "start_time": "2025-04-03T16:36:35.480Z"
   },
   {
    "duration": 9,
    "start_time": "2025-04-03T16:36:35.521Z"
   },
   {
    "duration": 202,
    "start_time": "2025-04-03T16:36:35.531Z"
   },
   {
    "duration": 9,
    "start_time": "2025-04-03T16:36:35.734Z"
   },
   {
    "duration": 5,
    "start_time": "2025-04-03T16:36:35.744Z"
   },
   {
    "duration": 204,
    "start_time": "2025-04-03T16:36:35.751Z"
   },
   {
    "duration": 185,
    "start_time": "2025-04-03T16:36:35.956Z"
   },
   {
    "duration": 191,
    "start_time": "2025-04-03T16:36:36.143Z"
   },
   {
    "duration": 186,
    "start_time": "2025-04-03T16:36:36.336Z"
   },
   {
    "duration": 248,
    "start_time": "2025-04-03T16:36:36.525Z"
   },
   {
    "duration": 295,
    "start_time": "2025-04-03T16:36:36.774Z"
   },
   {
    "duration": 242,
    "start_time": "2025-04-03T16:36:37.071Z"
   },
   {
    "duration": 4,
    "start_time": "2025-04-03T16:36:37.315Z"
   },
   {
    "duration": 4,
    "start_time": "2025-04-03T16:36:37.320Z"
   },
   {
    "duration": 5,
    "start_time": "2025-04-03T16:36:37.325Z"
   },
   {
    "duration": 244,
    "start_time": "2025-04-03T16:36:37.332Z"
   },
   {
    "duration": 0,
    "start_time": "2025-04-03T16:36:37.578Z"
   },
   {
    "duration": 0,
    "start_time": "2025-04-03T16:36:37.579Z"
   },
   {
    "duration": 0,
    "start_time": "2025-04-03T16:36:37.581Z"
   },
   {
    "duration": 0,
    "start_time": "2025-04-03T16:36:37.582Z"
   },
   {
    "duration": 0,
    "start_time": "2025-04-03T16:36:37.584Z"
   },
   {
    "duration": 0,
    "start_time": "2025-04-03T16:36:37.585Z"
   },
   {
    "duration": 0,
    "start_time": "2025-04-03T16:36:37.587Z"
   },
   {
    "duration": 0,
    "start_time": "2025-04-03T16:36:37.589Z"
   },
   {
    "duration": 0,
    "start_time": "2025-04-03T16:36:37.590Z"
   },
   {
    "duration": 0,
    "start_time": "2025-04-03T16:36:37.591Z"
   },
   {
    "duration": 0,
    "start_time": "2025-04-03T16:36:37.612Z"
   },
   {
    "duration": 684,
    "start_time": "2025-04-03T17:01:43.545Z"
   },
   {
    "duration": 924,
    "start_time": "2025-04-03T17:01:52.631Z"
   },
   {
    "duration": 482,
    "start_time": "2025-04-03T17:01:53.558Z"
   },
   {
    "duration": 70,
    "start_time": "2025-04-03T17:01:54.041Z"
   },
   {
    "duration": 12,
    "start_time": "2025-04-03T17:01:54.114Z"
   },
   {
    "duration": 10,
    "start_time": "2025-04-03T17:01:54.127Z"
   },
   {
    "duration": 13,
    "start_time": "2025-04-03T17:01:54.139Z"
   },
   {
    "duration": 12,
    "start_time": "2025-04-03T17:01:54.153Z"
   },
   {
    "duration": 11,
    "start_time": "2025-04-03T17:01:54.167Z"
   },
   {
    "duration": 38,
    "start_time": "2025-04-03T17:01:54.180Z"
   },
   {
    "duration": 10,
    "start_time": "2025-04-03T17:01:54.220Z"
   },
   {
    "duration": 199,
    "start_time": "2025-04-03T17:01:54.231Z"
   },
   {
    "duration": 8,
    "start_time": "2025-04-03T17:01:54.432Z"
   },
   {
    "duration": 5,
    "start_time": "2025-04-03T17:01:54.441Z"
   },
   {
    "duration": 204,
    "start_time": "2025-04-03T17:01:54.448Z"
   },
   {
    "duration": 183,
    "start_time": "2025-04-03T17:01:54.653Z"
   },
   {
    "duration": 199,
    "start_time": "2025-04-03T17:01:54.838Z"
   },
   {
    "duration": 192,
    "start_time": "2025-04-03T17:01:55.039Z"
   },
   {
    "duration": 244,
    "start_time": "2025-04-03T17:01:55.233Z"
   },
   {
    "duration": 311,
    "start_time": "2025-04-03T17:01:55.479Z"
   },
   {
    "duration": 226,
    "start_time": "2025-04-03T17:01:55.792Z"
   },
   {
    "duration": 4,
    "start_time": "2025-04-03T17:01:56.020Z"
   },
   {
    "duration": 5,
    "start_time": "2025-04-03T17:01:56.025Z"
   },
   {
    "duration": 5,
    "start_time": "2025-04-03T17:01:56.031Z"
   },
   {
    "duration": 243,
    "start_time": "2025-04-03T17:01:56.038Z"
   },
   {
    "duration": 0,
    "start_time": "2025-04-03T17:01:56.283Z"
   },
   {
    "duration": 0,
    "start_time": "2025-04-03T17:01:56.285Z"
   },
   {
    "duration": 0,
    "start_time": "2025-04-03T17:01:56.287Z"
   },
   {
    "duration": 0,
    "start_time": "2025-04-03T17:01:56.288Z"
   },
   {
    "duration": 0,
    "start_time": "2025-04-03T17:01:56.289Z"
   },
   {
    "duration": 0,
    "start_time": "2025-04-03T17:01:56.291Z"
   },
   {
    "duration": 0,
    "start_time": "2025-04-03T17:01:56.292Z"
   },
   {
    "duration": 0,
    "start_time": "2025-04-03T17:01:56.294Z"
   },
   {
    "duration": 0,
    "start_time": "2025-04-03T17:01:56.311Z"
   },
   {
    "duration": 0,
    "start_time": "2025-04-03T17:01:56.313Z"
   },
   {
    "duration": 0,
    "start_time": "2025-04-03T17:01:56.314Z"
   },
   {
    "duration": 985,
    "start_time": "2025-04-03T17:02:26.164Z"
   },
   {
    "duration": 501,
    "start_time": "2025-04-03T17:02:27.151Z"
   },
   {
    "duration": 70,
    "start_time": "2025-04-03T17:02:27.653Z"
   },
   {
    "duration": 15,
    "start_time": "2025-04-03T17:02:27.725Z"
   },
   {
    "duration": 13,
    "start_time": "2025-04-03T17:02:27.742Z"
   },
   {
    "duration": 18,
    "start_time": "2025-04-03T17:02:27.757Z"
   },
   {
    "duration": 41,
    "start_time": "2025-04-03T17:02:27.777Z"
   },
   {
    "duration": 14,
    "start_time": "2025-04-03T17:02:27.821Z"
   },
   {
    "duration": 10,
    "start_time": "2025-04-03T17:02:27.837Z"
   },
   {
    "duration": 12,
    "start_time": "2025-04-03T17:02:27.848Z"
   },
   {
    "duration": 405,
    "start_time": "2025-04-03T17:02:27.862Z"
   },
   {
    "duration": 12,
    "start_time": "2025-04-03T17:02:28.269Z"
   },
   {
    "duration": 7,
    "start_time": "2025-04-03T17:02:28.282Z"
   },
   {
    "duration": 229,
    "start_time": "2025-04-03T17:02:28.293Z"
   },
   {
    "duration": 194,
    "start_time": "2025-04-03T17:02:28.524Z"
   },
   {
    "duration": 212,
    "start_time": "2025-04-03T17:02:28.721Z"
   },
   {
    "duration": 201,
    "start_time": "2025-04-03T17:02:28.935Z"
   },
   {
    "duration": 260,
    "start_time": "2025-04-03T17:02:29.138Z"
   },
   {
    "duration": 317,
    "start_time": "2025-04-03T17:02:29.400Z"
   },
   {
    "duration": 239,
    "start_time": "2025-04-03T17:02:29.719Z"
   },
   {
    "duration": 6,
    "start_time": "2025-04-03T17:02:29.960Z"
   },
   {
    "duration": 4,
    "start_time": "2025-04-03T17:02:29.967Z"
   },
   {
    "duration": 5,
    "start_time": "2025-04-03T17:02:29.973Z"
   },
   {
    "duration": 9,
    "start_time": "2025-04-03T17:02:29.980Z"
   },
   {
    "duration": 25,
    "start_time": "2025-04-03T17:02:29.990Z"
   },
   {
    "duration": 4633,
    "start_time": "2025-04-03T17:02:30.016Z"
   },
   {
    "duration": 4,
    "start_time": "2025-04-03T17:02:34.651Z"
   },
   {
    "duration": 69,
    "start_time": "2025-04-03T17:02:34.656Z"
   },
   {
    "duration": 12337,
    "start_time": "2025-04-03T17:02:34.727Z"
   },
   {
    "duration": 3,
    "start_time": "2025-04-03T17:02:47.066Z"
   },
   {
    "duration": 442,
    "start_time": "2025-04-03T17:02:47.071Z"
   },
   {
    "duration": 12327,
    "start_time": "2025-04-03T17:02:47.515Z"
   },
   {
    "duration": 47,
    "start_time": "2025-04-03T17:02:59.844Z"
   },
   {
    "duration": 4,
    "start_time": "2025-04-03T17:02:59.892Z"
   },
   {
    "duration": 3,
    "start_time": "2025-04-03T17:02:59.911Z"
   },
   {
    "duration": 918,
    "start_time": "2025-04-03T17:23:55.644Z"
   },
   {
    "duration": 501,
    "start_time": "2025-04-03T17:23:56.565Z"
   },
   {
    "duration": 72,
    "start_time": "2025-04-03T17:23:57.069Z"
   },
   {
    "duration": 12,
    "start_time": "2025-04-03T17:23:57.143Z"
   },
   {
    "duration": 9,
    "start_time": "2025-04-03T17:23:57.156Z"
   },
   {
    "duration": 13,
    "start_time": "2025-04-03T17:23:57.167Z"
   },
   {
    "duration": 30,
    "start_time": "2025-04-03T17:23:57.182Z"
   },
   {
    "duration": 19,
    "start_time": "2025-04-03T17:23:57.214Z"
   },
   {
    "duration": 9,
    "start_time": "2025-04-03T17:23:57.235Z"
   },
   {
    "duration": 10,
    "start_time": "2025-04-03T17:23:57.246Z"
   },
   {
    "duration": 207,
    "start_time": "2025-04-03T17:23:57.258Z"
   },
   {
    "duration": 9,
    "start_time": "2025-04-03T17:23:57.466Z"
   },
   {
    "duration": 5,
    "start_time": "2025-04-03T17:23:57.477Z"
   },
   {
    "duration": 200,
    "start_time": "2025-04-03T17:23:57.483Z"
   },
   {
    "duration": 183,
    "start_time": "2025-04-03T17:23:57.686Z"
   },
   {
    "duration": 191,
    "start_time": "2025-04-03T17:23:57.871Z"
   },
   {
    "duration": 207,
    "start_time": "2025-04-03T17:23:58.066Z"
   },
   {
    "duration": 260,
    "start_time": "2025-04-03T17:23:58.275Z"
   },
   {
    "duration": 312,
    "start_time": "2025-04-03T17:23:58.537Z"
   },
   {
    "duration": 237,
    "start_time": "2025-04-03T17:23:58.851Z"
   },
   {
    "duration": 5,
    "start_time": "2025-04-03T17:23:59.089Z"
   },
   {
    "duration": 16,
    "start_time": "2025-04-03T17:23:59.096Z"
   },
   {
    "duration": 9,
    "start_time": "2025-04-03T17:23:59.114Z"
   },
   {
    "duration": 4616,
    "start_time": "2025-04-03T17:23:59.125Z"
   },
   {
    "duration": 3,
    "start_time": "2025-04-03T17:24:03.743Z"
   },
   {
    "duration": 177,
    "start_time": "2025-04-03T17:24:03.748Z"
   },
   {
    "duration": 12748,
    "start_time": "2025-04-03T17:24:03.927Z"
   },
   {
    "duration": 4,
    "start_time": "2025-04-03T17:24:16.679Z"
   },
   {
    "duration": 433,
    "start_time": "2025-04-03T17:24:16.685Z"
   },
   {
    "duration": 12403,
    "start_time": "2025-04-03T17:24:17.125Z"
   },
   {
    "duration": 46,
    "start_time": "2025-04-03T17:24:29.530Z"
   },
   {
    "duration": 4,
    "start_time": "2025-04-03T17:25:32.232Z"
   },
   {
    "duration": 224,
    "start_time": "2025-04-03T17:26:13.175Z"
   },
   {
    "duration": 5,
    "start_time": "2025-04-03T17:26:32.790Z"
   },
   {
    "duration": 942,
    "start_time": "2025-04-03T18:34:39.962Z"
   },
   {
    "duration": 504,
    "start_time": "2025-04-03T18:34:40.911Z"
   },
   {
    "duration": 64,
    "start_time": "2025-04-03T18:34:41.419Z"
   },
   {
    "duration": 30,
    "start_time": "2025-04-03T18:34:41.485Z"
   },
   {
    "duration": 14,
    "start_time": "2025-04-03T18:34:41.516Z"
   },
   {
    "duration": 13,
    "start_time": "2025-04-03T18:34:41.531Z"
   },
   {
    "duration": 12,
    "start_time": "2025-04-03T18:34:41.546Z"
   },
   {
    "duration": 15,
    "start_time": "2025-04-03T18:34:41.560Z"
   },
   {
    "duration": 38,
    "start_time": "2025-04-03T18:34:41.577Z"
   },
   {
    "duration": 10,
    "start_time": "2025-04-03T18:34:41.618Z"
   },
   {
    "duration": 232,
    "start_time": "2025-04-03T18:34:41.630Z"
   },
   {
    "duration": 10,
    "start_time": "2025-04-03T18:34:41.864Z"
   },
   {
    "duration": 5,
    "start_time": "2025-04-03T18:34:41.875Z"
   },
   {
    "duration": 223,
    "start_time": "2025-04-03T18:34:41.882Z"
   },
   {
    "duration": 218,
    "start_time": "2025-04-03T18:34:42.107Z"
   },
   {
    "duration": 207,
    "start_time": "2025-04-03T18:34:42.327Z"
   },
   {
    "duration": 216,
    "start_time": "2025-04-03T18:34:42.536Z"
   },
   {
    "duration": 250,
    "start_time": "2025-04-03T18:34:42.754Z"
   },
   {
    "duration": 323,
    "start_time": "2025-04-03T18:34:43.006Z"
   },
   {
    "duration": 253,
    "start_time": "2025-04-03T18:34:43.331Z"
   },
   {
    "duration": 5,
    "start_time": "2025-04-03T18:34:43.586Z"
   },
   {
    "duration": 6,
    "start_time": "2025-04-03T18:34:43.593Z"
   },
   {
    "duration": 11,
    "start_time": "2025-04-03T18:34:43.612Z"
   },
   {
    "duration": 4689,
    "start_time": "2025-04-03T18:34:43.626Z"
   },
   {
    "duration": 5,
    "start_time": "2025-04-03T18:34:48.317Z"
   },
   {
    "duration": 194,
    "start_time": "2025-04-03T18:34:48.326Z"
   },
   {
    "duration": 12525,
    "start_time": "2025-04-03T18:34:48.523Z"
   },
   {
    "duration": 4,
    "start_time": "2025-04-03T18:35:01.052Z"
   },
   {
    "duration": 170,
    "start_time": "2025-04-03T18:35:01.059Z"
   },
   {
    "duration": 12434,
    "start_time": "2025-04-03T18:35:01.231Z"
   },
   {
    "duration": 73,
    "start_time": "2025-04-03T18:35:13.667Z"
   },
   {
    "duration": 5,
    "start_time": "2025-04-03T18:35:13.741Z"
   },
   {
    "duration": 913,
    "start_time": "2025-04-03T19:04:45.109Z"
   },
   {
    "duration": 530,
    "start_time": "2025-04-03T19:04:46.026Z"
   },
   {
    "duration": 85,
    "start_time": "2025-04-03T19:04:46.558Z"
   },
   {
    "duration": 14,
    "start_time": "2025-04-03T19:04:46.646Z"
   },
   {
    "duration": 12,
    "start_time": "2025-04-03T19:04:46.662Z"
   },
   {
    "duration": 36,
    "start_time": "2025-04-03T19:04:46.676Z"
   },
   {
    "duration": 15,
    "start_time": "2025-04-03T19:04:46.714Z"
   },
   {
    "duration": 13,
    "start_time": "2025-04-03T19:04:46.731Z"
   },
   {
    "duration": 9,
    "start_time": "2025-04-03T19:04:46.746Z"
   },
   {
    "duration": 12,
    "start_time": "2025-04-03T19:04:46.758Z"
   },
   {
    "duration": 220,
    "start_time": "2025-04-03T19:04:46.772Z"
   },
   {
    "duration": 19,
    "start_time": "2025-04-03T19:04:46.994Z"
   },
   {
    "duration": 248,
    "start_time": "2025-04-03T19:04:47.015Z"
   },
   {
    "duration": 10,
    "start_time": "2025-04-03T19:04:47.266Z"
   },
   {
    "duration": 7,
    "start_time": "2025-04-03T19:04:47.277Z"
   },
   {
    "duration": 230,
    "start_time": "2025-04-03T19:04:47.286Z"
   },
   {
    "duration": 196,
    "start_time": "2025-04-03T19:04:47.518Z"
   },
   {
    "duration": 223,
    "start_time": "2025-04-03T19:04:47.716Z"
   },
   {
    "duration": 227,
    "start_time": "2025-04-03T19:04:47.941Z"
   },
   {
    "duration": 290,
    "start_time": "2025-04-03T19:04:48.170Z"
   },
   {
    "duration": 337,
    "start_time": "2025-04-03T19:04:48.461Z"
   },
   {
    "duration": 285,
    "start_time": "2025-04-03T19:04:48.800Z"
   },
   {
    "duration": 4,
    "start_time": "2025-04-03T19:04:49.087Z"
   },
   {
    "duration": 19,
    "start_time": "2025-04-03T19:04:49.093Z"
   },
   {
    "duration": 10,
    "start_time": "2025-04-03T19:04:49.115Z"
   },
   {
    "duration": 4775,
    "start_time": "2025-04-03T19:04:49.127Z"
   },
   {
    "duration": 9,
    "start_time": "2025-04-03T19:04:53.904Z"
   },
   {
    "duration": 218,
    "start_time": "2025-04-03T19:04:53.917Z"
   },
   {
    "duration": 13589,
    "start_time": "2025-04-03T19:04:54.137Z"
   },
   {
    "duration": 4,
    "start_time": "2025-04-03T19:05:07.728Z"
   },
   {
    "duration": 593,
    "start_time": "2025-04-03T19:05:07.733Z"
   },
   {
    "duration": 12604,
    "start_time": "2025-04-03T19:05:08.329Z"
   },
   {
    "duration": 51,
    "start_time": "2025-04-03T19:05:20.935Z"
   },
   {
    "duration": 5,
    "start_time": "2025-04-03T19:05:20.988Z"
   },
   {
    "duration": 12,
    "start_time": "2025-04-03T19:07:11.740Z"
   },
   {
    "duration": 15,
    "start_time": "2025-04-03T19:08:12.949Z"
   },
   {
    "duration": 12,
    "start_time": "2025-04-03T19:10:07.137Z"
   },
   {
    "duration": 13,
    "start_time": "2025-04-03T19:10:32.585Z"
   },
   {
    "duration": 160,
    "start_time": "2025-04-03T19:10:59.870Z"
   },
   {
    "duration": 12,
    "start_time": "2025-04-03T19:11:04.338Z"
   },
   {
    "duration": 10,
    "start_time": "2025-04-03T19:17:59.572Z"
   },
   {
    "duration": 17,
    "start_time": "2025-04-03T19:18:22.945Z"
   },
   {
    "duration": 16,
    "start_time": "2025-04-03T19:20:28.051Z"
   },
   {
    "duration": 60,
    "start_time": "2025-04-03T19:21:47.573Z"
   },
   {
    "duration": 70,
    "start_time": "2025-04-03T19:48:30.645Z"
   },
   {
    "duration": 108,
    "start_time": "2025-04-03T19:49:57.365Z"
   },
   {
    "duration": 22,
    "start_time": "2025-04-03T19:50:27.037Z"
   },
   {
    "duration": 61,
    "start_time": "2025-04-03T19:50:45.033Z"
   },
   {
    "duration": 46,
    "start_time": "2025-04-03T19:51:47.729Z"
   },
   {
    "duration": 10,
    "start_time": "2025-04-03T19:53:57.200Z"
   },
   {
    "duration": 246,
    "start_time": "2025-04-03T19:53:59.899Z"
   },
   {
    "duration": 48,
    "start_time": "2025-04-03T19:54:08.373Z"
   },
   {
    "duration": 54,
    "start_time": "2025-04-03T19:54:34.579Z"
   },
   {
    "duration": 60,
    "start_time": "2025-04-03T19:55:04.824Z"
   },
   {
    "duration": 46,
    "start_time": "2025-04-03T19:56:09.137Z"
   },
   {
    "duration": 330,
    "start_time": "2025-04-03T19:57:33.747Z"
   },
   {
    "duration": 47,
    "start_time": "2025-04-03T19:59:05.932Z"
   },
   {
    "duration": 224,
    "start_time": "2025-04-03T20:00:05.459Z"
   },
   {
    "duration": 232,
    "start_time": "2025-04-03T20:00:27.225Z"
   },
   {
    "duration": 221,
    "start_time": "2025-04-03T20:00:51.184Z"
   },
   {
    "duration": 5,
    "start_time": "2025-04-03T20:01:03.864Z"
   },
   {
    "duration": 4,
    "start_time": "2025-04-03T20:01:46.590Z"
   },
   {
    "duration": 249,
    "start_time": "2025-04-03T20:01:55.868Z"
   },
   {
    "duration": 190,
    "start_time": "2025-04-03T20:02:52.389Z"
   },
   {
    "duration": 4,
    "start_time": "2025-04-03T21:20:41.931Z"
   },
   {
    "duration": 5,
    "start_time": "2025-04-03T21:20:42.282Z"
   },
   {
    "duration": 86,
    "start_time": "2025-04-03T21:21:42.985Z"
   },
   {
    "duration": 3,
    "start_time": "2025-04-03T21:22:21.243Z"
   },
   {
    "duration": 4,
    "start_time": "2025-04-03T21:22:32.114Z"
   },
   {
    "duration": 439,
    "start_time": "2025-04-03T21:25:08.473Z"
   },
   {
    "duration": 107,
    "start_time": "2025-04-03T21:26:09.602Z"
   },
   {
    "duration": 89,
    "start_time": "2025-04-03T21:26:27.775Z"
   },
   {
    "duration": 12,
    "start_time": "2025-04-03T21:26:33.684Z"
   },
   {
    "duration": 176,
    "start_time": "2025-04-03T21:27:46.357Z"
   },
   {
    "duration": 89,
    "start_time": "2025-04-03T21:27:52.747Z"
   },
   {
    "duration": 7,
    "start_time": "2025-04-03T21:30:09.418Z"
   },
   {
    "duration": 17,
    "start_time": "2025-04-03T22:00:36.986Z"
   },
   {
    "duration": 8,
    "start_time": "2025-04-03T22:00:50.777Z"
   },
   {
    "duration": 17,
    "start_time": "2025-04-03T22:00:54.067Z"
   },
   {
    "duration": 834,
    "start_time": "2025-04-03T22:01:31.173Z"
   },
   {
    "duration": 508,
    "start_time": "2025-04-03T22:01:32.009Z"
   },
   {
    "duration": 57,
    "start_time": "2025-04-03T22:01:32.518Z"
   },
   {
    "duration": 11,
    "start_time": "2025-04-03T22:01:32.578Z"
   },
   {
    "duration": 10,
    "start_time": "2025-04-03T22:01:32.612Z"
   },
   {
    "duration": 13,
    "start_time": "2025-04-03T22:01:32.623Z"
   },
   {
    "duration": 13,
    "start_time": "2025-04-03T22:01:32.638Z"
   },
   {
    "duration": 11,
    "start_time": "2025-04-03T22:01:32.652Z"
   },
   {
    "duration": 9,
    "start_time": "2025-04-03T22:01:32.665Z"
   },
   {
    "duration": 38,
    "start_time": "2025-04-03T22:01:32.676Z"
   },
   {
    "duration": 220,
    "start_time": "2025-04-03T22:01:32.716Z"
   },
   {
    "duration": 142,
    "start_time": "2025-04-03T22:01:32.937Z"
   },
   {
    "duration": 0,
    "start_time": "2025-04-03T22:01:33.082Z"
   },
   {
    "duration": 0,
    "start_time": "2025-04-03T22:01:33.084Z"
   },
   {
    "duration": 0,
    "start_time": "2025-04-03T22:01:33.085Z"
   },
   {
    "duration": 0,
    "start_time": "2025-04-03T22:01:33.086Z"
   },
   {
    "duration": 0,
    "start_time": "2025-04-03T22:01:33.088Z"
   },
   {
    "duration": 0,
    "start_time": "2025-04-03T22:01:33.089Z"
   },
   {
    "duration": 1,
    "start_time": "2025-04-03T22:01:33.090Z"
   },
   {
    "duration": 0,
    "start_time": "2025-04-03T22:01:33.113Z"
   },
   {
    "duration": 0,
    "start_time": "2025-04-03T22:01:33.114Z"
   },
   {
    "duration": 0,
    "start_time": "2025-04-03T22:01:33.115Z"
   },
   {
    "duration": 0,
    "start_time": "2025-04-03T22:01:33.116Z"
   },
   {
    "duration": 0,
    "start_time": "2025-04-03T22:01:33.117Z"
   },
   {
    "duration": 0,
    "start_time": "2025-04-03T22:01:33.119Z"
   },
   {
    "duration": 0,
    "start_time": "2025-04-03T22:01:33.120Z"
   },
   {
    "duration": 0,
    "start_time": "2025-04-03T22:01:33.122Z"
   },
   {
    "duration": 0,
    "start_time": "2025-04-03T22:01:33.124Z"
   },
   {
    "duration": 0,
    "start_time": "2025-04-03T22:01:33.125Z"
   },
   {
    "duration": 0,
    "start_time": "2025-04-03T22:01:33.127Z"
   },
   {
    "duration": 0,
    "start_time": "2025-04-03T22:01:33.128Z"
   },
   {
    "duration": 0,
    "start_time": "2025-04-03T22:01:33.130Z"
   },
   {
    "duration": 0,
    "start_time": "2025-04-03T22:01:33.131Z"
   },
   {
    "duration": 0,
    "start_time": "2025-04-03T22:01:33.132Z"
   },
   {
    "duration": 0,
    "start_time": "2025-04-03T22:01:33.133Z"
   },
   {
    "duration": 0,
    "start_time": "2025-04-03T22:01:33.134Z"
   },
   {
    "duration": 220,
    "start_time": "2025-04-03T22:02:22.789Z"
   },
   {
    "duration": 969,
    "start_time": "2025-04-04T01:09:02.657Z"
   },
   {
    "duration": 635,
    "start_time": "2025-04-04T01:09:03.629Z"
   },
   {
    "duration": 70,
    "start_time": "2025-04-04T01:09:04.266Z"
   },
   {
    "duration": 18,
    "start_time": "2025-04-04T01:09:04.339Z"
   },
   {
    "duration": 13,
    "start_time": "2025-04-04T01:09:04.359Z"
   },
   {
    "duration": 38,
    "start_time": "2025-04-04T01:09:04.374Z"
   },
   {
    "duration": 18,
    "start_time": "2025-04-04T01:09:04.414Z"
   },
   {
    "duration": 12,
    "start_time": "2025-04-04T01:09:04.434Z"
   },
   {
    "duration": 9,
    "start_time": "2025-04-04T01:09:04.448Z"
   },
   {
    "duration": 11,
    "start_time": "2025-04-04T01:09:04.461Z"
   },
   {
    "duration": 249,
    "start_time": "2025-04-04T01:09:04.473Z"
   },
   {
    "duration": 7,
    "start_time": "2025-04-04T01:09:04.724Z"
   },
   {
    "duration": 0,
    "start_time": "2025-04-04T01:09:04.733Z"
   },
   {
    "duration": 0,
    "start_time": "2025-04-04T01:09:04.734Z"
   },
   {
    "duration": 0,
    "start_time": "2025-04-04T01:09:04.736Z"
   },
   {
    "duration": 0,
    "start_time": "2025-04-04T01:09:04.737Z"
   },
   {
    "duration": 0,
    "start_time": "2025-04-04T01:09:04.738Z"
   },
   {
    "duration": 0,
    "start_time": "2025-04-04T01:09:04.739Z"
   },
   {
    "duration": 0,
    "start_time": "2025-04-04T01:09:04.741Z"
   },
   {
    "duration": 0,
    "start_time": "2025-04-04T01:09:04.742Z"
   },
   {
    "duration": 0,
    "start_time": "2025-04-04T01:09:04.743Z"
   },
   {
    "duration": 0,
    "start_time": "2025-04-04T01:09:04.744Z"
   },
   {
    "duration": 0,
    "start_time": "2025-04-04T01:09:04.745Z"
   },
   {
    "duration": 0,
    "start_time": "2025-04-04T01:09:04.746Z"
   },
   {
    "duration": 0,
    "start_time": "2025-04-04T01:09:04.747Z"
   },
   {
    "duration": 0,
    "start_time": "2025-04-04T01:09:04.749Z"
   },
   {
    "duration": 0,
    "start_time": "2025-04-04T01:09:04.750Z"
   },
   {
    "duration": 0,
    "start_time": "2025-04-04T01:09:04.751Z"
   },
   {
    "duration": 0,
    "start_time": "2025-04-04T01:09:04.752Z"
   },
   {
    "duration": 0,
    "start_time": "2025-04-04T01:09:04.754Z"
   },
   {
    "duration": 0,
    "start_time": "2025-04-04T01:09:04.755Z"
   },
   {
    "duration": 0,
    "start_time": "2025-04-04T01:09:04.757Z"
   },
   {
    "duration": 0,
    "start_time": "2025-04-04T01:09:04.759Z"
   },
   {
    "duration": 0,
    "start_time": "2025-04-04T01:09:04.760Z"
   },
   {
    "duration": 0,
    "start_time": "2025-04-04T01:09:04.761Z"
   },
   {
    "duration": 0,
    "start_time": "2025-04-04T01:09:04.762Z"
   },
   {
    "duration": 1016,
    "start_time": "2025-04-04T01:09:32.748Z"
   },
   {
    "duration": 545,
    "start_time": "2025-04-04T01:09:33.766Z"
   },
   {
    "duration": 77,
    "start_time": "2025-04-04T01:09:34.314Z"
   },
   {
    "duration": 23,
    "start_time": "2025-04-04T01:09:34.394Z"
   },
   {
    "duration": 12,
    "start_time": "2025-04-04T01:09:34.419Z"
   },
   {
    "duration": 19,
    "start_time": "2025-04-04T01:09:34.433Z"
   },
   {
    "duration": 18,
    "start_time": "2025-04-04T01:09:34.454Z"
   },
   {
    "duration": 44,
    "start_time": "2025-04-04T01:09:34.474Z"
   },
   {
    "duration": 10,
    "start_time": "2025-04-04T01:09:34.521Z"
   },
   {
    "duration": 13,
    "start_time": "2025-04-04T01:09:34.535Z"
   },
   {
    "duration": 251,
    "start_time": "2025-04-04T01:09:34.549Z"
   },
   {
    "duration": 10,
    "start_time": "2025-04-04T01:09:34.803Z"
   },
   {
    "duration": 0,
    "start_time": "2025-04-04T01:09:34.815Z"
   },
   {
    "duration": 0,
    "start_time": "2025-04-04T01:09:34.817Z"
   },
   {
    "duration": 0,
    "start_time": "2025-04-04T01:09:34.818Z"
   },
   {
    "duration": 0,
    "start_time": "2025-04-04T01:09:34.819Z"
   },
   {
    "duration": 0,
    "start_time": "2025-04-04T01:09:34.821Z"
   },
   {
    "duration": 0,
    "start_time": "2025-04-04T01:09:34.822Z"
   },
   {
    "duration": 0,
    "start_time": "2025-04-04T01:09:34.823Z"
   },
   {
    "duration": 0,
    "start_time": "2025-04-04T01:09:34.824Z"
   },
   {
    "duration": 0,
    "start_time": "2025-04-04T01:09:34.825Z"
   },
   {
    "duration": 0,
    "start_time": "2025-04-04T01:09:34.827Z"
   },
   {
    "duration": 0,
    "start_time": "2025-04-04T01:09:34.828Z"
   },
   {
    "duration": 0,
    "start_time": "2025-04-04T01:09:34.829Z"
   },
   {
    "duration": 0,
    "start_time": "2025-04-04T01:09:34.830Z"
   },
   {
    "duration": 0,
    "start_time": "2025-04-04T01:09:34.831Z"
   },
   {
    "duration": 0,
    "start_time": "2025-04-04T01:09:34.833Z"
   },
   {
    "duration": 0,
    "start_time": "2025-04-04T01:09:34.834Z"
   },
   {
    "duration": 0,
    "start_time": "2025-04-04T01:09:34.835Z"
   },
   {
    "duration": 0,
    "start_time": "2025-04-04T01:09:34.837Z"
   },
   {
    "duration": 0,
    "start_time": "2025-04-04T01:09:34.838Z"
   },
   {
    "duration": 0,
    "start_time": "2025-04-04T01:09:34.839Z"
   },
   {
    "duration": 0,
    "start_time": "2025-04-04T01:09:34.840Z"
   },
   {
    "duration": 0,
    "start_time": "2025-04-04T01:09:34.841Z"
   },
   {
    "duration": 0,
    "start_time": "2025-04-04T01:09:34.842Z"
   },
   {
    "duration": 0,
    "start_time": "2025-04-04T01:09:34.843Z"
   },
   {
    "duration": 10,
    "start_time": "2025-04-04T01:11:03.488Z"
   },
   {
    "duration": 15,
    "start_time": "2025-04-04T01:14:07.222Z"
   },
   {
    "duration": 9,
    "start_time": "2025-04-04T01:14:22.034Z"
   },
   {
    "duration": 195,
    "start_time": "2025-04-04T01:14:29.822Z"
   },
   {
    "duration": 893,
    "start_time": "2025-04-04T01:16:02.202Z"
   },
   {
    "duration": 485,
    "start_time": "2025-04-04T01:16:03.097Z"
   },
   {
    "duration": 61,
    "start_time": "2025-04-04T01:16:03.584Z"
   },
   {
    "duration": 13,
    "start_time": "2025-04-04T01:16:03.648Z"
   },
   {
    "duration": 10,
    "start_time": "2025-04-04T01:16:03.664Z"
   },
   {
    "duration": 38,
    "start_time": "2025-04-04T01:16:03.676Z"
   },
   {
    "duration": 22,
    "start_time": "2025-04-04T01:16:03.716Z"
   },
   {
    "duration": 11,
    "start_time": "2025-04-04T01:16:03.740Z"
   },
   {
    "duration": 8,
    "start_time": "2025-04-04T01:16:03.753Z"
   },
   {
    "duration": 5,
    "start_time": "2025-04-04T01:16:03.765Z"
   },
   {
    "duration": 218,
    "start_time": "2025-04-04T01:16:03.772Z"
   },
   {
    "duration": 5,
    "start_time": "2025-04-04T01:16:03.992Z"
   },
   {
    "duration": 15,
    "start_time": "2025-04-04T01:16:03.999Z"
   },
   {
    "duration": 4,
    "start_time": "2025-04-04T01:16:04.016Z"
   },
   {
    "duration": 3,
    "start_time": "2025-04-04T01:16:04.022Z"
   },
   {
    "duration": 9,
    "start_time": "2025-04-04T01:16:04.027Z"
   },
   {
    "duration": 7,
    "start_time": "2025-04-04T01:16:04.037Z"
   },
   {
    "duration": 213,
    "start_time": "2025-04-04T01:16:04.046Z"
   },
   {
    "duration": 191,
    "start_time": "2025-04-04T01:16:04.261Z"
   },
   {
    "duration": 205,
    "start_time": "2025-04-04T01:16:04.454Z"
   },
   {
    "duration": 196,
    "start_time": "2025-04-04T01:16:04.661Z"
   },
   {
    "duration": 265,
    "start_time": "2025-04-04T01:16:04.859Z"
   },
   {
    "duration": 309,
    "start_time": "2025-04-04T01:16:05.125Z"
   },
   {
    "duration": 232,
    "start_time": "2025-04-04T01:16:05.436Z"
   },
   {
    "duration": 5,
    "start_time": "2025-04-04T01:16:05.669Z"
   },
   {
    "duration": 7,
    "start_time": "2025-04-04T01:16:05.675Z"
   },
   {
    "duration": 7,
    "start_time": "2025-04-04T01:16:05.685Z"
   },
   {
    "duration": 163,
    "start_time": "2025-04-04T01:16:05.713Z"
   },
   {
    "duration": 4,
    "start_time": "2025-04-04T01:16:05.897Z"
   },
   {
    "duration": 15,
    "start_time": "2025-04-04T01:16:05.903Z"
   },
   {
    "duration": 187,
    "start_time": "2025-04-04T01:16:05.920Z"
   },
   {
    "duration": 4,
    "start_time": "2025-04-04T01:16:06.112Z"
   },
   {
    "duration": 18,
    "start_time": "2025-04-04T01:16:06.117Z"
   },
   {
    "duration": 470,
    "start_time": "2025-04-04T01:16:06.137Z"
   },
   {
    "duration": 0,
    "start_time": "2025-04-04T01:16:06.612Z"
   },
   {
    "duration": 0,
    "start_time": "2025-04-04T01:16:06.614Z"
   },
   {
    "duration": 581,
    "start_time": "2025-04-04T01:17:35.111Z"
   },
   {
    "duration": 21,
    "start_time": "2025-04-04T01:18:24.677Z"
   },
   {
    "duration": 885,
    "start_time": "2025-04-04T01:20:21.354Z"
   },
   {
    "duration": 506,
    "start_time": "2025-04-04T01:20:22.241Z"
   },
   {
    "duration": 68,
    "start_time": "2025-04-04T01:20:22.749Z"
   },
   {
    "duration": 12,
    "start_time": "2025-04-04T01:20:22.820Z"
   },
   {
    "duration": 9,
    "start_time": "2025-04-04T01:20:22.834Z"
   },
   {
    "duration": 13,
    "start_time": "2025-04-04T01:20:22.845Z"
   },
   {
    "duration": 19,
    "start_time": "2025-04-04T01:20:22.860Z"
   },
   {
    "duration": 38,
    "start_time": "2025-04-04T01:20:22.881Z"
   },
   {
    "duration": 9,
    "start_time": "2025-04-04T01:20:22.920Z"
   },
   {
    "duration": 245,
    "start_time": "2025-04-04T01:20:22.933Z"
   },
   {
    "duration": 0,
    "start_time": "2025-04-04T01:20:23.181Z"
   },
   {
    "duration": 0,
    "start_time": "2025-04-04T01:20:23.182Z"
   },
   {
    "duration": 0,
    "start_time": "2025-04-04T01:20:23.184Z"
   },
   {
    "duration": 0,
    "start_time": "2025-04-04T01:20:23.185Z"
   },
   {
    "duration": 0,
    "start_time": "2025-04-04T01:20:23.186Z"
   },
   {
    "duration": 0,
    "start_time": "2025-04-04T01:20:23.188Z"
   },
   {
    "duration": 0,
    "start_time": "2025-04-04T01:20:23.189Z"
   },
   {
    "duration": 0,
    "start_time": "2025-04-04T01:20:23.190Z"
   },
   {
    "duration": 0,
    "start_time": "2025-04-04T01:20:23.192Z"
   },
   {
    "duration": 0,
    "start_time": "2025-04-04T01:20:23.192Z"
   },
   {
    "duration": 0,
    "start_time": "2025-04-04T01:20:23.193Z"
   },
   {
    "duration": 0,
    "start_time": "2025-04-04T01:20:23.194Z"
   },
   {
    "duration": 0,
    "start_time": "2025-04-04T01:20:23.196Z"
   },
   {
    "duration": 0,
    "start_time": "2025-04-04T01:20:23.211Z"
   },
   {
    "duration": 0,
    "start_time": "2025-04-04T01:20:23.212Z"
   },
   {
    "duration": 0,
    "start_time": "2025-04-04T01:20:23.214Z"
   },
   {
    "duration": 0,
    "start_time": "2025-04-04T01:20:23.215Z"
   },
   {
    "duration": 0,
    "start_time": "2025-04-04T01:20:23.217Z"
   },
   {
    "duration": 0,
    "start_time": "2025-04-04T01:20:23.218Z"
   },
   {
    "duration": 0,
    "start_time": "2025-04-04T01:20:23.219Z"
   },
   {
    "duration": 0,
    "start_time": "2025-04-04T01:20:23.221Z"
   },
   {
    "duration": 0,
    "start_time": "2025-04-04T01:20:23.222Z"
   },
   {
    "duration": 0,
    "start_time": "2025-04-04T01:20:23.223Z"
   },
   {
    "duration": 0,
    "start_time": "2025-04-04T01:20:23.224Z"
   },
   {
    "duration": 0,
    "start_time": "2025-04-04T01:20:23.227Z"
   },
   {
    "duration": 0,
    "start_time": "2025-04-04T01:20:23.228Z"
   },
   {
    "duration": 888,
    "start_time": "2025-04-04T01:20:41.702Z"
   },
   {
    "duration": 496,
    "start_time": "2025-04-04T01:20:42.592Z"
   },
   {
    "duration": 65,
    "start_time": "2025-04-04T01:20:43.090Z"
   },
   {
    "duration": 11,
    "start_time": "2025-04-04T01:20:43.157Z"
   },
   {
    "duration": 10,
    "start_time": "2025-04-04T01:20:43.171Z"
   },
   {
    "duration": 30,
    "start_time": "2025-04-04T01:20:43.182Z"
   },
   {
    "duration": 19,
    "start_time": "2025-04-04T01:20:43.214Z"
   },
   {
    "duration": 10,
    "start_time": "2025-04-04T01:20:43.235Z"
   },
   {
    "duration": 9,
    "start_time": "2025-04-04T01:20:43.247Z"
   },
   {
    "duration": 6,
    "start_time": "2025-04-04T01:20:43.257Z"
   },
   {
    "duration": 211,
    "start_time": "2025-04-04T01:20:43.264Z"
   },
   {
    "duration": 5,
    "start_time": "2025-04-04T01:20:43.477Z"
   },
   {
    "duration": 4,
    "start_time": "2025-04-04T01:20:43.483Z"
   },
   {
    "duration": 21,
    "start_time": "2025-04-04T01:20:43.491Z"
   },
   {
    "duration": 4,
    "start_time": "2025-04-04T01:20:43.513Z"
   },
   {
    "duration": 9,
    "start_time": "2025-04-04T01:20:43.518Z"
   },
   {
    "duration": 5,
    "start_time": "2025-04-04T01:20:43.529Z"
   },
   {
    "duration": 204,
    "start_time": "2025-04-04T01:20:43.535Z"
   },
   {
    "duration": 198,
    "start_time": "2025-04-04T01:20:43.741Z"
   },
   {
    "duration": 200,
    "start_time": "2025-04-04T01:20:43.941Z"
   },
   {
    "duration": 191,
    "start_time": "2025-04-04T01:20:44.143Z"
   },
   {
    "duration": 250,
    "start_time": "2025-04-04T01:20:44.336Z"
   },
   {
    "duration": 300,
    "start_time": "2025-04-04T01:20:44.589Z"
   },
   {
    "duration": 245,
    "start_time": "2025-04-04T01:20:44.891Z"
   },
   {
    "duration": 4,
    "start_time": "2025-04-04T01:20:45.138Z"
   },
   {
    "duration": 7,
    "start_time": "2025-04-04T01:20:45.144Z"
   },
   {
    "duration": 8,
    "start_time": "2025-04-04T01:20:45.152Z"
   },
   {
    "duration": 177,
    "start_time": "2025-04-04T01:20:45.162Z"
   },
   {
    "duration": 4,
    "start_time": "2025-04-04T01:20:45.365Z"
   },
   {
    "duration": 15,
    "start_time": "2025-04-04T01:20:45.371Z"
   },
   {
    "duration": 181,
    "start_time": "2025-04-04T01:20:45.388Z"
   },
   {
    "duration": 4,
    "start_time": "2025-04-04T01:20:45.571Z"
   },
   {
    "duration": 16,
    "start_time": "2025-04-04T01:20:45.577Z"
   },
   {
    "duration": 478,
    "start_time": "2025-04-04T01:20:45.594Z"
   },
   {
    "duration": 0,
    "start_time": "2025-04-04T01:20:46.074Z"
   },
   {
    "duration": 0,
    "start_time": "2025-04-04T01:20:46.075Z"
   },
   {
    "duration": 571,
    "start_time": "2025-04-04T01:22:08.638Z"
   },
   {
    "duration": 19,
    "start_time": "2025-04-04T01:23:16.680Z"
   },
   {
    "duration": 17,
    "start_time": "2025-04-04T01:23:43.952Z"
   },
   {
    "duration": 6,
    "start_time": "2025-04-04T01:24:07.504Z"
   },
   {
    "duration": 158,
    "start_time": "2025-04-04T01:24:11.258Z"
   },
   {
    "duration": 6,
    "start_time": "2025-04-04T01:24:45.341Z"
   },
   {
    "duration": 81,
    "start_time": "2025-04-04T01:24:57.160Z"
   },
   {
    "duration": 895,
    "start_time": "2025-04-04T01:25:41.352Z"
   },
   {
    "duration": 494,
    "start_time": "2025-04-04T01:25:42.248Z"
   },
   {
    "duration": 68,
    "start_time": "2025-04-04T01:25:42.744Z"
   },
   {
    "duration": 11,
    "start_time": "2025-04-04T01:25:42.815Z"
   },
   {
    "duration": 11,
    "start_time": "2025-04-04T01:25:42.828Z"
   },
   {
    "duration": 13,
    "start_time": "2025-04-04T01:25:42.841Z"
   },
   {
    "duration": 22,
    "start_time": "2025-04-04T01:25:42.855Z"
   },
   {
    "duration": 41,
    "start_time": "2025-04-04T01:25:42.878Z"
   },
   {
    "duration": 9,
    "start_time": "2025-04-04T01:25:42.921Z"
   },
   {
    "duration": 5,
    "start_time": "2025-04-04T01:25:42.933Z"
   },
   {
    "duration": 182,
    "start_time": "2025-04-04T01:25:42.939Z"
   },
   {
    "duration": 6,
    "start_time": "2025-04-04T01:25:43.124Z"
   },
   {
    "duration": 80,
    "start_time": "2025-04-04T01:25:43.132Z"
   },
   {
    "duration": 8,
    "start_time": "2025-04-04T01:25:43.214Z"
   },
   {
    "duration": 5,
    "start_time": "2025-04-04T01:25:43.224Z"
   },
   {
    "duration": 226,
    "start_time": "2025-04-04T01:25:43.230Z"
   },
   {
    "duration": 195,
    "start_time": "2025-04-04T01:25:43.458Z"
   },
   {
    "duration": 210,
    "start_time": "2025-04-04T01:25:43.655Z"
   },
   {
    "duration": 195,
    "start_time": "2025-04-04T01:25:43.866Z"
   },
   {
    "duration": 251,
    "start_time": "2025-04-04T01:25:44.062Z"
   },
   {
    "duration": 316,
    "start_time": "2025-04-04T01:25:44.315Z"
   },
   {
    "duration": 248,
    "start_time": "2025-04-04T01:25:44.634Z"
   },
   {
    "duration": 4,
    "start_time": "2025-04-04T01:25:44.884Z"
   },
   {
    "duration": 5,
    "start_time": "2025-04-04T01:25:44.890Z"
   },
   {
    "duration": 954,
    "start_time": "2025-04-04T01:25:44.897Z"
   },
   {
    "duration": 0,
    "start_time": "2025-04-04T01:25:45.853Z"
   },
   {
    "duration": 0,
    "start_time": "2025-04-04T01:25:45.854Z"
   },
   {
    "duration": 0,
    "start_time": "2025-04-04T01:25:45.856Z"
   },
   {
    "duration": 0,
    "start_time": "2025-04-04T01:25:45.858Z"
   },
   {
    "duration": 0,
    "start_time": "2025-04-04T01:25:45.859Z"
   },
   {
    "duration": 0,
    "start_time": "2025-04-04T01:25:45.861Z"
   },
   {
    "duration": 0,
    "start_time": "2025-04-04T01:25:45.862Z"
   },
   {
    "duration": 0,
    "start_time": "2025-04-04T01:25:45.864Z"
   },
   {
    "duration": 0,
    "start_time": "2025-04-04T01:25:45.865Z"
   },
   {
    "duration": 44,
    "start_time": "2025-04-04T01:27:18.780Z"
   },
   {
    "duration": 9,
    "start_time": "2025-04-04T01:27:56.809Z"
   },
   {
    "duration": 5,
    "start_time": "2025-04-04T01:27:59.730Z"
   },
   {
    "duration": 188,
    "start_time": "2025-04-04T01:28:01.554Z"
   },
   {
    "duration": 191,
    "start_time": "2025-04-04T01:28:01.896Z"
   },
   {
    "duration": 200,
    "start_time": "2025-04-04T01:28:02.266Z"
   },
   {
    "duration": 184,
    "start_time": "2025-04-04T01:28:02.697Z"
   },
   {
    "duration": 265,
    "start_time": "2025-04-04T01:28:04.093Z"
   },
   {
    "duration": 245,
    "start_time": "2025-04-04T01:28:04.890Z"
   },
   {
    "duration": 354,
    "start_time": "2025-04-04T01:28:05.724Z"
   },
   {
    "duration": 4,
    "start_time": "2025-04-04T01:28:07.575Z"
   },
   {
    "duration": 6,
    "start_time": "2025-04-04T01:28:09.453Z"
   },
   {
    "duration": 42,
    "start_time": "2025-04-04T01:28:11.439Z"
   },
   {
    "duration": 15,
    "start_time": "2025-04-04T01:30:17.964Z"
   },
   {
    "duration": 8,
    "start_time": "2025-04-04T01:30:33.428Z"
   },
   {
    "duration": 12,
    "start_time": "2025-04-04T01:31:51.899Z"
   },
   {
    "duration": 12,
    "start_time": "2025-04-04T01:32:06.772Z"
   },
   {
    "duration": 12,
    "start_time": "2025-04-04T01:32:19.270Z"
   },
   {
    "duration": 935,
    "start_time": "2025-04-04T01:32:39.154Z"
   },
   {
    "duration": 515,
    "start_time": "2025-04-04T01:32:40.090Z"
   },
   {
    "duration": 66,
    "start_time": "2025-04-04T01:32:40.607Z"
   },
   {
    "duration": 13,
    "start_time": "2025-04-04T01:32:40.677Z"
   },
   {
    "duration": 26,
    "start_time": "2025-04-04T01:32:40.691Z"
   },
   {
    "duration": 13,
    "start_time": "2025-04-04T01:32:40.719Z"
   },
   {
    "duration": 21,
    "start_time": "2025-04-04T01:32:40.733Z"
   },
   {
    "duration": 12,
    "start_time": "2025-04-04T01:32:40.756Z"
   },
   {
    "duration": 10,
    "start_time": "2025-04-04T01:32:40.769Z"
   },
   {
    "duration": 6,
    "start_time": "2025-04-04T01:32:40.811Z"
   },
   {
    "duration": 168,
    "start_time": "2025-04-04T01:32:40.818Z"
   },
   {
    "duration": 5,
    "start_time": "2025-04-04T01:32:40.988Z"
   },
   {
    "duration": 83,
    "start_time": "2025-04-04T01:32:40.994Z"
   },
   {
    "duration": 9,
    "start_time": "2025-04-04T01:32:41.079Z"
   },
   {
    "duration": 23,
    "start_time": "2025-04-04T01:32:41.090Z"
   },
   {
    "duration": 209,
    "start_time": "2025-04-04T01:32:41.115Z"
   },
   {
    "duration": 193,
    "start_time": "2025-04-04T01:32:41.326Z"
   },
   {
    "duration": 235,
    "start_time": "2025-04-04T01:32:41.521Z"
   },
   {
    "duration": 770,
    "start_time": "2025-04-04T01:32:41.758Z"
   },
   {
    "duration": 0,
    "start_time": "2025-04-04T01:32:42.530Z"
   },
   {
    "duration": 0,
    "start_time": "2025-04-04T01:32:42.531Z"
   },
   {
    "duration": 0,
    "start_time": "2025-04-04T01:32:42.532Z"
   },
   {
    "duration": 0,
    "start_time": "2025-04-04T01:32:42.533Z"
   },
   {
    "duration": 0,
    "start_time": "2025-04-04T01:32:42.534Z"
   },
   {
    "duration": 0,
    "start_time": "2025-04-04T01:32:42.535Z"
   },
   {
    "duration": 0,
    "start_time": "2025-04-04T01:32:42.536Z"
   },
   {
    "duration": 0,
    "start_time": "2025-04-04T01:32:42.537Z"
   },
   {
    "duration": 0,
    "start_time": "2025-04-04T01:32:42.538Z"
   },
   {
    "duration": 0,
    "start_time": "2025-04-04T01:32:42.539Z"
   },
   {
    "duration": 1,
    "start_time": "2025-04-04T01:32:42.540Z"
   },
   {
    "duration": 0,
    "start_time": "2025-04-04T01:32:42.542Z"
   },
   {
    "duration": 0,
    "start_time": "2025-04-04T01:32:42.543Z"
   },
   {
    "duration": 0,
    "start_time": "2025-04-04T01:32:42.544Z"
   },
   {
    "duration": 0,
    "start_time": "2025-04-04T01:32:42.544Z"
   },
   {
    "duration": 11,
    "start_time": "2025-04-04T01:33:22.606Z"
   },
   {
    "duration": 893,
    "start_time": "2025-04-04T01:33:59.104Z"
   },
   {
    "duration": 494,
    "start_time": "2025-04-04T01:34:00.000Z"
   },
   {
    "duration": 66,
    "start_time": "2025-04-04T01:34:00.496Z"
   },
   {
    "duration": 12,
    "start_time": "2025-04-04T01:34:00.564Z"
   },
   {
    "duration": 10,
    "start_time": "2025-04-04T01:34:00.578Z"
   },
   {
    "duration": 26,
    "start_time": "2025-04-04T01:34:00.590Z"
   },
   {
    "duration": 20,
    "start_time": "2025-04-04T01:34:00.618Z"
   },
   {
    "duration": 11,
    "start_time": "2025-04-04T01:34:00.639Z"
   },
   {
    "duration": 9,
    "start_time": "2025-04-04T01:34:00.652Z"
   },
   {
    "duration": 5,
    "start_time": "2025-04-04T01:34:00.665Z"
   },
   {
    "duration": 195,
    "start_time": "2025-04-04T01:34:00.672Z"
   },
   {
    "duration": 6,
    "start_time": "2025-04-04T01:34:00.869Z"
   },
   {
    "duration": 82,
    "start_time": "2025-04-04T01:34:00.876Z"
   },
   {
    "duration": 9,
    "start_time": "2025-04-04T01:34:00.959Z"
   },
   {
    "duration": 6,
    "start_time": "2025-04-04T01:34:00.970Z"
   },
   {
    "duration": 228,
    "start_time": "2025-04-04T01:34:00.977Z"
   },
   {
    "duration": 197,
    "start_time": "2025-04-04T01:34:01.207Z"
   },
   {
    "duration": 207,
    "start_time": "2025-04-04T01:34:01.406Z"
   },
   {
    "duration": 188,
    "start_time": "2025-04-04T01:34:01.615Z"
   },
   {
    "duration": 246,
    "start_time": "2025-04-04T01:34:01.805Z"
   },
   {
    "duration": 313,
    "start_time": "2025-04-04T01:34:02.053Z"
   },
   {
    "duration": 238,
    "start_time": "2025-04-04T01:34:02.368Z"
   },
   {
    "duration": 4,
    "start_time": "2025-04-04T01:34:02.611Z"
   },
   {
    "duration": 7,
    "start_time": "2025-04-04T01:34:02.616Z"
   },
   {
    "duration": 952,
    "start_time": "2025-04-04T01:34:02.624Z"
   },
   {
    "duration": 0,
    "start_time": "2025-04-04T01:34:03.578Z"
   },
   {
    "duration": 0,
    "start_time": "2025-04-04T01:34:03.581Z"
   },
   {
    "duration": 0,
    "start_time": "2025-04-04T01:34:03.583Z"
   },
   {
    "duration": 0,
    "start_time": "2025-04-04T01:34:03.584Z"
   },
   {
    "duration": 0,
    "start_time": "2025-04-04T01:34:03.585Z"
   },
   {
    "duration": 0,
    "start_time": "2025-04-04T01:34:03.586Z"
   },
   {
    "duration": 0,
    "start_time": "2025-04-04T01:34:03.587Z"
   },
   {
    "duration": 0,
    "start_time": "2025-04-04T01:34:03.588Z"
   },
   {
    "duration": 0,
    "start_time": "2025-04-04T01:34:03.589Z"
   },
   {
    "duration": 6,
    "start_time": "2025-04-04T01:35:13.137Z"
   },
   {
    "duration": 40,
    "start_time": "2025-04-04T01:35:16.198Z"
   },
   {
    "duration": 12,
    "start_time": "2025-04-04T01:35:53.405Z"
   },
   {
    "duration": 49,
    "start_time": "2025-04-04T01:37:06.555Z"
   },
   {
    "duration": 48,
    "start_time": "2025-04-04T01:38:10.221Z"
   },
   {
    "duration": 45,
    "start_time": "2025-04-04T01:40:19.919Z"
   },
   {
    "duration": 43,
    "start_time": "2025-04-04T01:40:50.842Z"
   },
   {
    "duration": 10,
    "start_time": "2025-04-04T01:42:33.022Z"
   },
   {
    "duration": 10,
    "start_time": "2025-04-04T01:42:52.309Z"
   },
   {
    "duration": 864,
    "start_time": "2025-04-04T01:43:31.284Z"
   },
   {
    "duration": 495,
    "start_time": "2025-04-04T01:43:32.151Z"
   },
   {
    "duration": 73,
    "start_time": "2025-04-04T01:43:32.647Z"
   },
   {
    "duration": 13,
    "start_time": "2025-04-04T01:43:32.723Z"
   },
   {
    "duration": 10,
    "start_time": "2025-04-04T01:43:32.738Z"
   },
   {
    "duration": 13,
    "start_time": "2025-04-04T01:43:32.750Z"
   },
   {
    "duration": 21,
    "start_time": "2025-04-04T01:43:32.764Z"
   },
   {
    "duration": 12,
    "start_time": "2025-04-04T01:43:32.811Z"
   },
   {
    "duration": 9,
    "start_time": "2025-04-04T01:43:32.824Z"
   },
   {
    "duration": 5,
    "start_time": "2025-04-04T01:43:32.836Z"
   },
   {
    "duration": 193,
    "start_time": "2025-04-04T01:43:32.843Z"
   },
   {
    "duration": 6,
    "start_time": "2025-04-04T01:43:33.037Z"
   },
   {
    "duration": 77,
    "start_time": "2025-04-04T01:43:33.044Z"
   },
   {
    "duration": 8,
    "start_time": "2025-04-04T01:43:33.123Z"
   },
   {
    "duration": 11,
    "start_time": "2025-04-04T01:43:33.133Z"
   },
   {
    "duration": 223,
    "start_time": "2025-04-04T01:43:33.146Z"
   },
   {
    "duration": 194,
    "start_time": "2025-04-04T01:43:33.370Z"
   },
   {
    "duration": 207,
    "start_time": "2025-04-04T01:43:33.567Z"
   },
   {
    "duration": 195,
    "start_time": "2025-04-04T01:43:33.777Z"
   },
   {
    "duration": 252,
    "start_time": "2025-04-04T01:43:33.975Z"
   },
   {
    "duration": 304,
    "start_time": "2025-04-04T01:43:34.229Z"
   },
   {
    "duration": 242,
    "start_time": "2025-04-04T01:43:34.535Z"
   },
   {
    "duration": 4,
    "start_time": "2025-04-04T01:43:34.779Z"
   },
   {
    "duration": 7,
    "start_time": "2025-04-04T01:43:34.784Z"
   },
   {
    "duration": 19,
    "start_time": "2025-04-04T01:43:34.793Z"
   },
   {
    "duration": 4099,
    "start_time": "2025-04-04T01:43:34.813Z"
   },
   {
    "duration": 6,
    "start_time": "2025-04-04T01:43:38.914Z"
   },
   {
    "duration": 95,
    "start_time": "2025-04-04T01:43:38.925Z"
   },
   {
    "duration": 11357,
    "start_time": "2025-04-04T01:43:39.021Z"
   },
   {
    "duration": 3,
    "start_time": "2025-04-04T01:43:50.380Z"
   },
   {
    "duration": 141,
    "start_time": "2025-04-04T01:43:50.385Z"
   },
   {
    "duration": 3319,
    "start_time": "2025-04-04T01:43:50.528Z"
   },
   {
    "duration": 0,
    "start_time": "2025-04-04T01:43:53.848Z"
   },
   {
    "duration": 0,
    "start_time": "2025-04-04T01:43:53.850Z"
   },
   {
    "duration": 2904,
    "start_time": "2025-04-04T01:45:11.187Z"
   },
   {
    "duration": 11,
    "start_time": "2025-04-04T01:46:27.572Z"
   },
   {
    "duration": 20,
    "start_time": "2025-04-04T01:47:26.190Z"
   },
   {
    "duration": 675,
    "start_time": "2025-04-04T01:48:20.658Z"
   },
   {
    "duration": 8,
    "start_time": "2025-04-04T01:54:07.545Z"
   },
   {
    "duration": 79,
    "start_time": "2025-04-04T01:54:31.674Z"
   },
   {
    "duration": 17,
    "start_time": "2025-04-04T01:56:50.885Z"
   },
   {
    "duration": 873,
    "start_time": "2025-04-04T01:56:57.020Z"
   },
   {
    "duration": 518,
    "start_time": "2025-04-04T01:56:57.895Z"
   },
   {
    "duration": 58,
    "start_time": "2025-04-04T01:56:58.414Z"
   },
   {
    "duration": 20,
    "start_time": "2025-04-04T01:56:58.474Z"
   },
   {
    "duration": 14,
    "start_time": "2025-04-04T01:56:58.511Z"
   },
   {
    "duration": 12,
    "start_time": "2025-04-04T01:56:58.527Z"
   },
   {
    "duration": 20,
    "start_time": "2025-04-04T01:56:58.541Z"
   },
   {
    "duration": 12,
    "start_time": "2025-04-04T01:56:58.563Z"
   },
   {
    "duration": 9,
    "start_time": "2025-04-04T01:56:58.576Z"
   },
   {
    "duration": 6,
    "start_time": "2025-04-04T01:56:58.612Z"
   },
   {
    "duration": 175,
    "start_time": "2025-04-04T01:56:58.620Z"
   },
   {
    "duration": 5,
    "start_time": "2025-04-04T01:56:58.797Z"
   },
   {
    "duration": 75,
    "start_time": "2025-04-04T01:56:58.803Z"
   },
   {
    "duration": 9,
    "start_time": "2025-04-04T01:56:58.881Z"
   },
   {
    "duration": 26,
    "start_time": "2025-04-04T01:56:58.891Z"
   },
   {
    "duration": 256,
    "start_time": "2025-04-04T01:56:58.919Z"
   },
   {
    "duration": 204,
    "start_time": "2025-04-04T01:56:59.177Z"
   },
   {
    "duration": 200,
    "start_time": "2025-04-04T01:56:59.383Z"
   },
   {
    "duration": 204,
    "start_time": "2025-04-04T01:56:59.585Z"
   },
   {
    "duration": 255,
    "start_time": "2025-04-04T01:56:59.790Z"
   },
   {
    "duration": 287,
    "start_time": "2025-04-04T01:57:00.046Z"
   },
   {
    "duration": 238,
    "start_time": "2025-04-04T01:57:00.335Z"
   },
   {
    "duration": 4,
    "start_time": "2025-04-04T01:57:00.575Z"
   },
   {
    "duration": 6,
    "start_time": "2025-04-04T01:57:00.581Z"
   },
   {
    "duration": 30,
    "start_time": "2025-04-04T01:57:00.588Z"
   },
   {
    "duration": 4047,
    "start_time": "2025-04-04T01:57:00.619Z"
   },
   {
    "duration": 5,
    "start_time": "2025-04-04T01:57:04.667Z"
   },
   {
    "duration": 155,
    "start_time": "2025-04-04T01:57:04.673Z"
   },
   {
    "duration": 10845,
    "start_time": "2025-04-04T01:57:04.830Z"
   },
   {
    "duration": 4,
    "start_time": "2025-04-04T01:57:15.677Z"
   },
   {
    "duration": 329,
    "start_time": "2025-04-04T01:57:15.682Z"
   },
   {
    "duration": 3170,
    "start_time": "2025-04-04T01:57:16.014Z"
   },
   {
    "duration": 0,
    "start_time": "2025-04-04T01:57:19.186Z"
   },
   {
    "duration": 0,
    "start_time": "2025-04-04T01:57:19.188Z"
   },
   {
    "duration": 674,
    "start_time": "2025-04-04T02:01:45.872Z"
   },
   {
    "duration": 50,
    "start_time": "2025-04-04T02:02:07.952Z"
   },
   {
    "duration": 1008,
    "start_time": "2025-04-04T02:02:35.402Z"
   },
   {
    "duration": 499,
    "start_time": "2025-04-04T02:02:36.412Z"
   },
   {
    "duration": 78,
    "start_time": "2025-04-04T02:02:36.913Z"
   },
   {
    "duration": 25,
    "start_time": "2025-04-04T02:02:36.992Z"
   },
   {
    "duration": 13,
    "start_time": "2025-04-04T02:02:37.020Z"
   },
   {
    "duration": 16,
    "start_time": "2025-04-04T02:02:37.035Z"
   },
   {
    "duration": 26,
    "start_time": "2025-04-04T02:02:37.053Z"
   },
   {
    "duration": 34,
    "start_time": "2025-04-04T02:02:37.081Z"
   },
   {
    "duration": 11,
    "start_time": "2025-04-04T02:02:37.117Z"
   },
   {
    "duration": 6,
    "start_time": "2025-04-04T02:02:37.131Z"
   },
   {
    "duration": 204,
    "start_time": "2025-04-04T02:02:37.138Z"
   },
   {
    "duration": 6,
    "start_time": "2025-04-04T02:02:37.345Z"
   },
   {
    "duration": 94,
    "start_time": "2025-04-04T02:02:37.353Z"
   },
   {
    "duration": 10,
    "start_time": "2025-04-04T02:02:37.451Z"
   },
   {
    "duration": 7,
    "start_time": "2025-04-04T02:02:37.464Z"
   },
   {
    "duration": 276,
    "start_time": "2025-04-04T02:02:37.473Z"
   },
   {
    "duration": 193,
    "start_time": "2025-04-04T02:02:37.751Z"
   },
   {
    "duration": 207,
    "start_time": "2025-04-04T02:02:37.945Z"
   },
   {
    "duration": 187,
    "start_time": "2025-04-04T02:02:38.154Z"
   },
   {
    "duration": 274,
    "start_time": "2025-04-04T02:02:38.343Z"
   },
   {
    "duration": 300,
    "start_time": "2025-04-04T02:02:38.619Z"
   },
   {
    "duration": 246,
    "start_time": "2025-04-04T02:02:38.920Z"
   },
   {
    "duration": 5,
    "start_time": "2025-04-04T02:02:39.168Z"
   },
   {
    "duration": 7,
    "start_time": "2025-04-04T02:02:39.174Z"
   },
   {
    "duration": 45,
    "start_time": "2025-04-04T02:02:39.182Z"
   },
   {
    "duration": 4152,
    "start_time": "2025-04-04T02:02:39.228Z"
   },
   {
    "duration": 4,
    "start_time": "2025-04-04T02:02:43.382Z"
   },
   {
    "duration": 45,
    "start_time": "2025-04-04T02:02:43.388Z"
   },
   {
    "duration": 11043,
    "start_time": "2025-04-04T02:02:43.435Z"
   },
   {
    "duration": 4,
    "start_time": "2025-04-04T02:02:54.480Z"
   },
   {
    "duration": 146,
    "start_time": "2025-04-04T02:02:54.485Z"
   },
   {
    "duration": 3268,
    "start_time": "2025-04-04T02:02:54.713Z"
   },
   {
    "duration": 0,
    "start_time": "2025-04-04T02:02:57.983Z"
   },
   {
    "duration": 0,
    "start_time": "2025-04-04T02:02:57.984Z"
   },
   {
    "duration": 868,
    "start_time": "2025-04-04T02:03:23.788Z"
   },
   {
    "duration": 488,
    "start_time": "2025-04-04T02:03:24.659Z"
   },
   {
    "duration": 67,
    "start_time": "2025-04-04T02:03:25.148Z"
   },
   {
    "duration": 12,
    "start_time": "2025-04-04T02:03:25.217Z"
   },
   {
    "duration": 10,
    "start_time": "2025-04-04T02:03:25.231Z"
   },
   {
    "duration": 13,
    "start_time": "2025-04-04T02:03:25.243Z"
   },
   {
    "duration": 18,
    "start_time": "2025-04-04T02:03:25.258Z"
   },
   {
    "duration": 35,
    "start_time": "2025-04-04T02:03:25.278Z"
   },
   {
    "duration": 10,
    "start_time": "2025-04-04T02:03:25.314Z"
   },
   {
    "duration": 5,
    "start_time": "2025-04-04T02:03:25.325Z"
   },
   {
    "duration": 174,
    "start_time": "2025-04-04T02:03:25.332Z"
   },
   {
    "duration": 5,
    "start_time": "2025-04-04T02:03:25.511Z"
   },
   {
    "duration": 66,
    "start_time": "2025-04-04T02:03:25.518Z"
   },
   {
    "duration": 28,
    "start_time": "2025-04-04T02:03:25.588Z"
   },
   {
    "duration": 6,
    "start_time": "2025-04-04T02:03:25.618Z"
   },
   {
    "duration": 213,
    "start_time": "2025-04-04T02:03:25.625Z"
   },
   {
    "duration": 195,
    "start_time": "2025-04-04T02:03:25.840Z"
   },
   {
    "duration": 204,
    "start_time": "2025-04-04T02:03:26.037Z"
   },
   {
    "duration": 190,
    "start_time": "2025-04-04T02:03:26.243Z"
   },
   {
    "duration": 245,
    "start_time": "2025-04-04T02:03:26.435Z"
   },
   {
    "duration": 290,
    "start_time": "2025-04-04T02:03:26.682Z"
   },
   {
    "duration": 255,
    "start_time": "2025-04-04T02:03:26.974Z"
   },
   {
    "duration": 7,
    "start_time": "2025-04-04T02:03:27.231Z"
   },
   {
    "duration": 8,
    "start_time": "2025-04-04T02:03:27.240Z"
   },
   {
    "duration": 28,
    "start_time": "2025-04-04T02:03:27.249Z"
   },
   {
    "duration": 4081,
    "start_time": "2025-04-04T02:03:27.279Z"
   },
   {
    "duration": 4,
    "start_time": "2025-04-04T02:03:31.362Z"
   },
   {
    "duration": 62,
    "start_time": "2025-04-04T02:03:31.367Z"
   },
   {
    "duration": 10918,
    "start_time": "2025-04-04T02:03:31.431Z"
   },
   {
    "duration": 4,
    "start_time": "2025-04-04T02:03:42.351Z"
   },
   {
    "duration": 275,
    "start_time": "2025-04-04T02:03:42.357Z"
   },
   {
    "duration": 10571,
    "start_time": "2025-04-04T02:03:42.635Z"
   },
   {
    "duration": 564,
    "start_time": "2025-04-04T02:03:53.211Z"
   },
   {
    "duration": 0,
    "start_time": "2025-04-04T02:03:53.777Z"
   },
   {
    "duration": 3,
    "start_time": "2025-04-04T02:06:29.080Z"
   },
   {
    "duration": 2568,
    "start_time": "2025-04-07T16:53:52.075Z"
   },
   {
    "duration": 622,
    "start_time": "2025-04-07T16:53:54.645Z"
   },
   {
    "duration": 16,
    "start_time": "2025-04-07T16:53:55.269Z"
   },
   {
    "duration": 11,
    "start_time": "2025-04-07T16:53:55.287Z"
   },
   {
    "duration": 9,
    "start_time": "2025-04-07T16:53:55.310Z"
   },
   {
    "duration": 12,
    "start_time": "2025-04-07T16:53:55.321Z"
   },
   {
    "duration": 18,
    "start_time": "2025-04-07T16:53:55.335Z"
   },
   {
    "duration": 12,
    "start_time": "2025-04-07T16:53:55.355Z"
   },
   {
    "duration": 9,
    "start_time": "2025-04-07T16:53:55.369Z"
   },
   {
    "duration": 5,
    "start_time": "2025-04-07T16:53:55.411Z"
   },
   {
    "duration": 168,
    "start_time": "2025-04-07T16:53:55.417Z"
   },
   {
    "duration": 6,
    "start_time": "2025-04-07T16:53:55.586Z"
   },
   {
    "duration": 74,
    "start_time": "2025-04-07T16:53:55.593Z"
   },
   {
    "duration": 2,
    "start_time": "2025-04-07T16:53:55.669Z"
   },
   {
    "duration": 9,
    "start_time": "2025-04-07T16:53:55.673Z"
   },
   {
    "duration": 6,
    "start_time": "2025-04-07T16:53:55.683Z"
   },
   {
    "duration": 234,
    "start_time": "2025-04-07T16:53:55.690Z"
   },
   {
    "duration": 240,
    "start_time": "2025-04-07T16:53:55.926Z"
   },
   {
    "duration": 200,
    "start_time": "2025-04-07T16:53:56.168Z"
   },
   {
    "duration": 204,
    "start_time": "2025-04-07T16:53:56.369Z"
   },
   {
    "duration": 260,
    "start_time": "2025-04-07T16:53:56.574Z"
   },
   {
    "duration": 241,
    "start_time": "2025-04-07T16:53:56.836Z"
   },
   {
    "duration": 309,
    "start_time": "2025-04-07T16:53:57.079Z"
   },
   {
    "duration": 4,
    "start_time": "2025-04-07T16:53:57.390Z"
   },
   {
    "duration": 17,
    "start_time": "2025-04-07T16:53:57.396Z"
   },
   {
    "duration": 926,
    "start_time": "2025-04-07T16:53:57.414Z"
   },
   {
    "duration": 0,
    "start_time": "2025-04-07T16:53:58.343Z"
   },
   {
    "duration": 0,
    "start_time": "2025-04-07T16:53:58.344Z"
   },
   {
    "duration": 0,
    "start_time": "2025-04-07T16:53:58.345Z"
   },
   {
    "duration": 0,
    "start_time": "2025-04-07T16:53:58.346Z"
   },
   {
    "duration": 0,
    "start_time": "2025-04-07T16:53:58.347Z"
   },
   {
    "duration": 0,
    "start_time": "2025-04-07T16:53:58.349Z"
   },
   {
    "duration": 0,
    "start_time": "2025-04-07T16:53:58.350Z"
   },
   {
    "duration": 0,
    "start_time": "2025-04-07T16:53:58.351Z"
   },
   {
    "duration": 0,
    "start_time": "2025-04-07T16:53:58.352Z"
   },
   {
    "duration": 0,
    "start_time": "2025-04-07T16:53:58.354Z"
   },
   {
    "duration": 36,
    "start_time": "2025-04-07T16:55:26.698Z"
   },
   {
    "duration": 36,
    "start_time": "2025-04-07T16:55:31.950Z"
   },
   {
    "duration": 880,
    "start_time": "2025-04-07T16:56:03.610Z"
   },
   {
    "duration": 492,
    "start_time": "2025-04-07T16:56:04.492Z"
   },
   {
    "duration": 61,
    "start_time": "2025-04-07T16:56:04.985Z"
   },
   {
    "duration": 12,
    "start_time": "2025-04-07T16:56:05.048Z"
   },
   {
    "duration": 10,
    "start_time": "2025-04-07T16:56:05.062Z"
   },
   {
    "duration": 13,
    "start_time": "2025-04-07T16:56:05.073Z"
   },
   {
    "duration": 40,
    "start_time": "2025-04-07T16:56:05.088Z"
   },
   {
    "duration": 12,
    "start_time": "2025-04-07T16:56:05.130Z"
   },
   {
    "duration": 9,
    "start_time": "2025-04-07T16:56:05.143Z"
   },
   {
    "duration": 5,
    "start_time": "2025-04-07T16:56:05.154Z"
   },
   {
    "duration": 185,
    "start_time": "2025-04-07T16:56:05.161Z"
   },
   {
    "duration": 5,
    "start_time": "2025-04-07T16:56:05.347Z"
   },
   {
    "duration": 84,
    "start_time": "2025-04-07T16:56:05.354Z"
   },
   {
    "duration": 2,
    "start_time": "2025-04-07T16:56:05.442Z"
   },
   {
    "duration": 8,
    "start_time": "2025-04-07T16:56:05.446Z"
   },
   {
    "duration": 7,
    "start_time": "2025-04-07T16:56:05.455Z"
   },
   {
    "duration": 214,
    "start_time": "2025-04-07T16:56:05.463Z"
   },
   {
    "duration": 192,
    "start_time": "2025-04-07T16:56:05.679Z"
   },
   {
    "duration": 210,
    "start_time": "2025-04-07T16:56:05.873Z"
   },
   {
    "duration": 188,
    "start_time": "2025-04-07T16:56:06.085Z"
   },
   {
    "duration": 254,
    "start_time": "2025-04-07T16:56:06.275Z"
   },
   {
    "duration": 304,
    "start_time": "2025-04-07T16:56:06.531Z"
   },
   {
    "duration": 254,
    "start_time": "2025-04-07T16:56:06.837Z"
   },
   {
    "duration": 5,
    "start_time": "2025-04-07T16:56:07.093Z"
   },
   {
    "duration": 5,
    "start_time": "2025-04-07T16:56:07.109Z"
   },
   {
    "duration": 8,
    "start_time": "2025-04-07T16:56:07.116Z"
   },
   {
    "duration": 4074,
    "start_time": "2025-04-07T16:56:07.126Z"
   },
   {
    "duration": 9,
    "start_time": "2025-04-07T16:56:11.202Z"
   },
   {
    "duration": 197,
    "start_time": "2025-04-07T16:56:11.213Z"
   },
   {
    "duration": 11957,
    "start_time": "2025-04-07T16:56:11.412Z"
   },
   {
    "duration": 4,
    "start_time": "2025-04-07T16:56:23.371Z"
   },
   {
    "duration": 256,
    "start_time": "2025-04-07T16:56:23.376Z"
   },
   {
    "duration": 11790,
    "start_time": "2025-04-07T16:56:23.633Z"
   },
   {
    "duration": 596,
    "start_time": "2025-04-07T16:56:35.425Z"
   },
   {
    "duration": 0,
    "start_time": "2025-04-07T16:56:36.023Z"
   },
   {
    "duration": 55,
    "start_time": "2025-04-07T16:57:47.884Z"
   },
   {
    "duration": 907,
    "start_time": "2025-04-07T16:59:39.378Z"
   },
   {
    "duration": 497,
    "start_time": "2025-04-07T16:59:40.287Z"
   },
   {
    "duration": 63,
    "start_time": "2025-04-07T16:59:40.786Z"
   },
   {
    "duration": 12,
    "start_time": "2025-04-07T16:59:40.851Z"
   },
   {
    "duration": 10,
    "start_time": "2025-04-07T16:59:40.865Z"
   },
   {
    "duration": 13,
    "start_time": "2025-04-07T16:59:40.877Z"
   },
   {
    "duration": 19,
    "start_time": "2025-04-07T16:59:40.910Z"
   },
   {
    "duration": 12,
    "start_time": "2025-04-07T16:59:40.930Z"
   },
   {
    "duration": 9,
    "start_time": "2025-04-07T16:59:40.943Z"
   },
   {
    "duration": 5,
    "start_time": "2025-04-07T16:59:40.954Z"
   },
   {
    "duration": 190,
    "start_time": "2025-04-07T16:59:40.961Z"
   },
   {
    "duration": 6,
    "start_time": "2025-04-07T16:59:41.153Z"
   },
   {
    "duration": 78,
    "start_time": "2025-04-07T16:59:41.160Z"
   },
   {
    "duration": 2,
    "start_time": "2025-04-07T16:59:41.241Z"
   },
   {
    "duration": 8,
    "start_time": "2025-04-07T16:59:41.245Z"
   },
   {
    "duration": 8,
    "start_time": "2025-04-07T16:59:41.254Z"
   },
   {
    "duration": 215,
    "start_time": "2025-04-07T16:59:41.263Z"
   },
   {
    "duration": 186,
    "start_time": "2025-04-07T16:59:41.480Z"
   },
   {
    "duration": 206,
    "start_time": "2025-04-07T16:59:41.667Z"
   },
   {
    "duration": 196,
    "start_time": "2025-04-07T16:59:41.874Z"
   },
   {
    "duration": 247,
    "start_time": "2025-04-07T16:59:42.072Z"
   },
   {
    "duration": 299,
    "start_time": "2025-04-07T16:59:42.321Z"
   },
   {
    "duration": 237,
    "start_time": "2025-04-07T16:59:42.622Z"
   },
   {
    "duration": 4,
    "start_time": "2025-04-07T16:59:42.860Z"
   },
   {
    "duration": 5,
    "start_time": "2025-04-07T16:59:42.866Z"
   },
   {
    "duration": 7,
    "start_time": "2025-04-07T16:59:42.873Z"
   },
   {
    "duration": 4066,
    "start_time": "2025-04-07T16:59:42.881Z"
   },
   {
    "duration": 4,
    "start_time": "2025-04-07T16:59:46.949Z"
   },
   {
    "duration": 72,
    "start_time": "2025-04-07T16:59:46.955Z"
   },
   {
    "duration": 12302,
    "start_time": "2025-04-07T16:59:47.029Z"
   },
   {
    "duration": 4,
    "start_time": "2025-04-07T16:59:59.333Z"
   },
   {
    "duration": 494,
    "start_time": "2025-04-07T16:59:59.338Z"
   },
   {
    "duration": 3112,
    "start_time": "2025-04-07T16:59:59.910Z"
   },
   {
    "duration": 0,
    "start_time": "2025-04-07T17:00:03.024Z"
   },
   {
    "duration": 0,
    "start_time": "2025-04-07T17:00:03.024Z"
   },
   {
    "duration": 2861,
    "start_time": "2025-04-07T17:00:56.669Z"
   },
   {
    "duration": 2776,
    "start_time": "2025-04-07T17:01:15.651Z"
   },
   {
    "duration": 8,
    "start_time": "2025-04-07T17:01:43.481Z"
   },
   {
    "duration": 908,
    "start_time": "2025-04-07T17:01:47.479Z"
   },
   {
    "duration": 545,
    "start_time": "2025-04-07T17:01:48.390Z"
   },
   {
    "duration": 82,
    "start_time": "2025-04-07T17:01:48.937Z"
   },
   {
    "duration": 13,
    "start_time": "2025-04-07T17:01:49.021Z"
   },
   {
    "duration": 10,
    "start_time": "2025-04-07T17:01:49.036Z"
   },
   {
    "duration": 13,
    "start_time": "2025-04-07T17:01:49.047Z"
   },
   {
    "duration": 19,
    "start_time": "2025-04-07T17:01:49.062Z"
   },
   {
    "duration": 35,
    "start_time": "2025-04-07T17:01:49.083Z"
   },
   {
    "duration": 9,
    "start_time": "2025-04-07T17:01:49.121Z"
   },
   {
    "duration": 5,
    "start_time": "2025-04-07T17:01:49.132Z"
   },
   {
    "duration": 182,
    "start_time": "2025-04-07T17:01:49.139Z"
   },
   {
    "duration": 6,
    "start_time": "2025-04-07T17:01:49.323Z"
   },
   {
    "duration": 82,
    "start_time": "2025-04-07T17:01:49.330Z"
   },
   {
    "duration": 2,
    "start_time": "2025-04-07T17:01:49.415Z"
   },
   {
    "duration": 8,
    "start_time": "2025-04-07T17:01:49.419Z"
   },
   {
    "duration": 6,
    "start_time": "2025-04-07T17:01:49.429Z"
   },
   {
    "duration": 218,
    "start_time": "2025-04-07T17:01:49.437Z"
   },
   {
    "duration": 202,
    "start_time": "2025-04-07T17:01:49.657Z"
   },
   {
    "duration": 204,
    "start_time": "2025-04-07T17:01:49.861Z"
   },
   {
    "duration": 187,
    "start_time": "2025-04-07T17:01:50.067Z"
   },
   {
    "duration": 242,
    "start_time": "2025-04-07T17:01:50.256Z"
   },
   {
    "duration": 291,
    "start_time": "2025-04-07T17:01:50.508Z"
   },
   {
    "duration": 236,
    "start_time": "2025-04-07T17:01:50.801Z"
   },
   {
    "duration": 4,
    "start_time": "2025-04-07T17:01:51.038Z"
   },
   {
    "duration": 5,
    "start_time": "2025-04-07T17:01:51.044Z"
   },
   {
    "duration": 7,
    "start_time": "2025-04-07T17:01:51.050Z"
   },
   {
    "duration": 4218,
    "start_time": "2025-04-07T17:01:51.059Z"
   },
   {
    "duration": 4,
    "start_time": "2025-04-07T17:01:55.279Z"
   },
   {
    "duration": 45,
    "start_time": "2025-04-07T17:01:55.285Z"
   },
   {
    "duration": 12263,
    "start_time": "2025-04-07T17:01:55.332Z"
   },
   {
    "duration": 4,
    "start_time": "2025-04-07T17:02:07.597Z"
   },
   {
    "duration": 206,
    "start_time": "2025-04-07T17:02:07.609Z"
   },
   {
    "duration": 11778,
    "start_time": "2025-04-07T17:02:07.818Z"
   },
   {
    "duration": 50,
    "start_time": "2025-04-07T17:02:19.597Z"
   },
   {
    "duration": 5,
    "start_time": "2025-04-07T17:02:19.648Z"
   },
   {
    "duration": 44,
    "start_time": "2025-04-07T17:02:30.181Z"
   },
   {
    "duration": 5,
    "start_time": "2025-04-07T17:04:23.716Z"
   },
   {
    "duration": 4,
    "start_time": "2025-04-07T17:04:51.776Z"
   },
   {
    "duration": 160,
    "start_time": "2025-04-07T17:04:52.595Z"
   },
   {
    "duration": 4,
    "start_time": "2025-04-07T17:04:53.479Z"
   },
   {
    "duration": 66,
    "start_time": "2025-04-07T17:04:54.028Z"
   },
   {
    "duration": 921,
    "start_time": "2025-04-07T17:07:29.362Z"
   },
   {
    "duration": 489,
    "start_time": "2025-04-07T17:07:30.285Z"
   },
   {
    "duration": 72,
    "start_time": "2025-04-07T17:07:30.776Z"
   },
   {
    "duration": 12,
    "start_time": "2025-04-07T17:07:30.851Z"
   },
   {
    "duration": 9,
    "start_time": "2025-04-07T17:07:30.865Z"
   },
   {
    "duration": 13,
    "start_time": "2025-04-07T17:07:30.876Z"
   },
   {
    "duration": 36,
    "start_time": "2025-04-07T17:07:30.890Z"
   },
   {
    "duration": 11,
    "start_time": "2025-04-07T17:07:30.928Z"
   },
   {
    "duration": 9,
    "start_time": "2025-04-07T17:07:30.941Z"
   },
   {
    "duration": 3,
    "start_time": "2025-04-07T17:07:30.953Z"
   },
   {
    "duration": 197,
    "start_time": "2025-04-07T17:07:30.958Z"
   },
   {
    "duration": 4,
    "start_time": "2025-04-07T17:07:31.157Z"
   },
   {
    "duration": 80,
    "start_time": "2025-04-07T17:07:31.162Z"
   },
   {
    "duration": 3,
    "start_time": "2025-04-07T17:07:31.243Z"
   },
   {
    "duration": 8,
    "start_time": "2025-04-07T17:07:31.248Z"
   },
   {
    "duration": 6,
    "start_time": "2025-04-07T17:07:31.258Z"
   },
   {
    "duration": 211,
    "start_time": "2025-04-07T17:07:31.266Z"
   },
   {
    "duration": 188,
    "start_time": "2025-04-07T17:07:31.479Z"
   },
   {
    "duration": 207,
    "start_time": "2025-04-07T17:07:31.668Z"
   },
   {
    "duration": 191,
    "start_time": "2025-04-07T17:07:31.877Z"
   },
   {
    "duration": 252,
    "start_time": "2025-04-07T17:07:32.070Z"
   },
   {
    "duration": 295,
    "start_time": "2025-04-07T17:07:32.324Z"
   },
   {
    "duration": 234,
    "start_time": "2025-04-07T17:07:32.621Z"
   },
   {
    "duration": 4,
    "start_time": "2025-04-07T17:07:32.857Z"
   },
   {
    "duration": 4,
    "start_time": "2025-04-07T17:07:32.863Z"
   },
   {
    "duration": 7,
    "start_time": "2025-04-07T17:07:32.869Z"
   },
   {
    "duration": 4084,
    "start_time": "2025-04-07T17:07:32.877Z"
   },
   {
    "duration": 3,
    "start_time": "2025-04-07T17:07:36.965Z"
   },
   {
    "duration": 64,
    "start_time": "2025-04-07T17:07:36.970Z"
   },
   {
    "duration": 12054,
    "start_time": "2025-04-07T17:07:37.037Z"
   },
   {
    "duration": 4,
    "start_time": "2025-04-07T17:07:49.093Z"
   },
   {
    "duration": 219,
    "start_time": "2025-04-07T17:07:49.098Z"
   },
   {
    "duration": 11732,
    "start_time": "2025-04-07T17:07:49.319Z"
   },
   {
    "duration": 45,
    "start_time": "2025-04-07T17:08:01.055Z"
   },
   {
    "duration": 4,
    "start_time": "2025-04-07T17:08:01.109Z"
   },
   {
    "duration": 942,
    "start_time": "2025-04-07T17:10:52.589Z"
   },
   {
    "duration": 576,
    "start_time": "2025-04-07T17:10:53.533Z"
   },
   {
    "duration": 65,
    "start_time": "2025-04-07T17:10:54.111Z"
   },
   {
    "duration": 14,
    "start_time": "2025-04-07T17:10:54.178Z"
   },
   {
    "duration": 23,
    "start_time": "2025-04-07T17:10:54.195Z"
   },
   {
    "duration": 15,
    "start_time": "2025-04-07T17:10:54.220Z"
   },
   {
    "duration": 22,
    "start_time": "2025-04-07T17:10:54.236Z"
   },
   {
    "duration": 12,
    "start_time": "2025-04-07T17:10:54.259Z"
   },
   {
    "duration": 38,
    "start_time": "2025-04-07T17:10:54.273Z"
   },
   {
    "duration": 4,
    "start_time": "2025-04-07T17:10:54.312Z"
   },
   {
    "duration": 193,
    "start_time": "2025-04-07T17:10:54.318Z"
   },
   {
    "duration": 4,
    "start_time": "2025-04-07T17:10:54.513Z"
   },
   {
    "duration": 111,
    "start_time": "2025-04-07T17:10:54.519Z"
   },
   {
    "duration": 3,
    "start_time": "2025-04-07T17:10:54.634Z"
   },
   {
    "duration": 8,
    "start_time": "2025-04-07T17:10:54.639Z"
   },
   {
    "duration": 6,
    "start_time": "2025-04-07T17:10:54.649Z"
   },
   {
    "duration": 251,
    "start_time": "2025-04-07T17:10:54.657Z"
   },
   {
    "duration": 210,
    "start_time": "2025-04-07T17:10:54.910Z"
   },
   {
    "duration": 214,
    "start_time": "2025-04-07T17:10:55.122Z"
   },
   {
    "duration": 216,
    "start_time": "2025-04-07T17:10:55.338Z"
   },
   {
    "duration": 276,
    "start_time": "2025-04-07T17:10:55.556Z"
   },
   {
    "duration": 329,
    "start_time": "2025-04-07T17:10:55.835Z"
   },
   {
    "duration": 282,
    "start_time": "2025-04-07T17:10:56.166Z"
   },
   {
    "duration": 7,
    "start_time": "2025-04-07T17:10:56.451Z"
   },
   {
    "duration": 6,
    "start_time": "2025-04-07T17:10:56.460Z"
   },
   {
    "duration": 8,
    "start_time": "2025-04-07T17:10:56.468Z"
   },
   {
    "duration": 4124,
    "start_time": "2025-04-07T17:10:56.478Z"
   },
   {
    "duration": 681683,
    "start_time": "2025-04-07T17:11:00.604Z"
   },
   {
    "duration": 42,
    "start_time": "2025-04-07T17:22:22.289Z"
   },
   {
    "duration": 12020,
    "start_time": "2025-04-07T17:22:22.410Z"
   },
   {
    "duration": 908,
    "start_time": "2025-04-07T17:43:52.977Z"
   },
   {
    "duration": 479,
    "start_time": "2025-04-07T17:43:53.888Z"
   },
   {
    "duration": 75,
    "start_time": "2025-04-07T17:43:54.369Z"
   },
   {
    "duration": 12,
    "start_time": "2025-04-07T17:43:54.446Z"
   },
   {
    "duration": 10,
    "start_time": "2025-04-07T17:43:54.461Z"
   },
   {
    "duration": 37,
    "start_time": "2025-04-07T17:43:54.472Z"
   },
   {
    "duration": 20,
    "start_time": "2025-04-07T17:43:54.511Z"
   },
   {
    "duration": 11,
    "start_time": "2025-04-07T17:43:54.533Z"
   },
   {
    "duration": 9,
    "start_time": "2025-04-07T17:43:54.546Z"
   },
   {
    "duration": 4,
    "start_time": "2025-04-07T17:43:54.556Z"
   },
   {
    "duration": 182,
    "start_time": "2025-04-07T17:43:54.561Z"
   },
   {
    "duration": 4,
    "start_time": "2025-04-07T17:43:54.745Z"
   },
   {
    "duration": 80,
    "start_time": "2025-04-07T17:43:54.751Z"
   },
   {
    "duration": 2,
    "start_time": "2025-04-07T17:43:54.835Z"
   },
   {
    "duration": 8,
    "start_time": "2025-04-07T17:43:54.839Z"
   },
   {
    "duration": 7,
    "start_time": "2025-04-07T17:43:54.849Z"
   },
   {
    "duration": 5,
    "start_time": "2025-04-07T17:43:54.858Z"
   },
   {
    "duration": 221,
    "start_time": "2025-04-07T17:43:54.865Z"
   },
   {
    "duration": 206,
    "start_time": "2025-04-07T17:43:55.088Z"
   },
   {
    "duration": 205,
    "start_time": "2025-04-07T17:43:55.296Z"
   },
   {
    "duration": 255,
    "start_time": "2025-04-07T17:43:55.503Z"
   },
   {
    "duration": 280,
    "start_time": "2025-04-07T17:43:55.760Z"
   },
   {
    "duration": 310,
    "start_time": "2025-04-07T17:43:56.042Z"
   },
   {
    "duration": 286,
    "start_time": "2025-04-07T17:43:56.354Z"
   },
   {
    "duration": 4,
    "start_time": "2025-04-07T17:43:56.642Z"
   },
   {
    "duration": 5,
    "start_time": "2025-04-07T17:43:56.649Z"
   },
   {
    "duration": 8,
    "start_time": "2025-04-07T17:43:56.655Z"
   },
   {
    "duration": 4079,
    "start_time": "2025-04-07T17:43:56.664Z"
   },
   {
    "duration": 951,
    "start_time": "2025-04-07T17:48:06.243Z"
   },
   {
    "duration": 482,
    "start_time": "2025-04-07T17:48:07.197Z"
   },
   {
    "duration": 80,
    "start_time": "2025-04-07T17:48:07.681Z"
   },
   {
    "duration": 17,
    "start_time": "2025-04-07T17:48:07.764Z"
   },
   {
    "duration": 24,
    "start_time": "2025-04-07T17:48:07.785Z"
   },
   {
    "duration": 14,
    "start_time": "2025-04-07T17:48:07.810Z"
   },
   {
    "duration": 21,
    "start_time": "2025-04-07T17:48:07.826Z"
   },
   {
    "duration": 14,
    "start_time": "2025-04-07T17:48:07.849Z"
   },
   {
    "duration": 10,
    "start_time": "2025-04-07T17:48:07.865Z"
   },
   {
    "duration": 34,
    "start_time": "2025-04-07T17:48:07.877Z"
   },
   {
    "duration": 196,
    "start_time": "2025-04-07T17:48:07.913Z"
   },
   {
    "duration": 4,
    "start_time": "2025-04-07T17:48:08.112Z"
   },
   {
    "duration": 73,
    "start_time": "2025-04-07T17:48:08.118Z"
   },
   {
    "duration": 15,
    "start_time": "2025-04-07T17:48:08.195Z"
   },
   {
    "duration": 9,
    "start_time": "2025-04-07T17:48:08.212Z"
   },
   {
    "duration": 7,
    "start_time": "2025-04-07T17:48:08.225Z"
   },
   {
    "duration": 8,
    "start_time": "2025-04-07T17:48:08.235Z"
   },
   {
    "duration": 217,
    "start_time": "2025-04-07T17:48:08.245Z"
   },
   {
    "duration": 208,
    "start_time": "2025-04-07T17:48:08.464Z"
   },
   {
    "duration": 216,
    "start_time": "2025-04-07T17:48:08.674Z"
   },
   {
    "duration": 196,
    "start_time": "2025-04-07T17:48:08.892Z"
   },
   {
    "duration": 254,
    "start_time": "2025-04-07T17:48:09.090Z"
   },
   {
    "duration": 301,
    "start_time": "2025-04-07T17:48:09.346Z"
   },
   {
    "duration": 245,
    "start_time": "2025-04-07T17:48:09.648Z"
   },
   {
    "duration": 5,
    "start_time": "2025-04-07T17:48:09.894Z"
   },
   {
    "duration": 6,
    "start_time": "2025-04-07T17:48:09.908Z"
   },
   {
    "duration": 8,
    "start_time": "2025-04-07T17:48:09.915Z"
   },
   {
    "duration": 4044,
    "start_time": "2025-04-07T17:48:09.924Z"
   },
   {
    "duration": 683055,
    "start_time": "2025-04-07T17:48:13.969Z"
   },
   {
    "duration": 86,
    "start_time": "2025-04-07T17:59:37.026Z"
   },
   {
    "duration": 12067,
    "start_time": "2025-04-07T17:59:37.113Z"
   },
   {
    "duration": 2043848,
    "start_time": "2025-04-07T17:59:49.182Z"
   },
   {
    "duration": 176,
    "start_time": "2025-04-07T18:33:53.032Z"
   },
   {
    "duration": 20203,
    "start_time": "2025-04-07T18:33:53.209Z"
   },
   {
    "duration": 47,
    "start_time": "2025-04-07T18:34:13.414Z"
   },
   {
    "duration": 4,
    "start_time": "2025-04-07T18:34:13.463Z"
   },
   {
    "duration": 210,
    "start_time": "2025-04-07T18:38:07.834Z"
   },
   {
    "duration": 5,
    "start_time": "2025-04-07T18:38:27.231Z"
   },
   {
    "duration": 258,
    "start_time": "2025-04-07T18:38:39.221Z"
   },
   {
    "duration": 270,
    "start_time": "2025-04-07T18:38:54.304Z"
   },
   {
    "duration": 832,
    "start_time": "2025-04-07T18:39:59.334Z"
   },
   {
    "duration": 60,
    "start_time": "2025-04-07T19:03:39.347Z"
   },
   {
    "duration": 973,
    "start_time": "2025-04-07T19:08:45.900Z"
   },
   {
    "duration": 543,
    "start_time": "2025-04-07T19:08:46.875Z"
   },
   {
    "duration": 60,
    "start_time": "2025-04-07T19:08:47.420Z"
   },
   {
    "duration": 27,
    "start_time": "2025-04-07T19:08:47.482Z"
   },
   {
    "duration": 11,
    "start_time": "2025-04-07T19:08:47.512Z"
   },
   {
    "duration": 13,
    "start_time": "2025-04-07T19:08:47.524Z"
   },
   {
    "duration": 19,
    "start_time": "2025-04-07T19:08:47.538Z"
   },
   {
    "duration": 11,
    "start_time": "2025-04-07T19:08:47.558Z"
   },
   {
    "duration": 37,
    "start_time": "2025-04-07T19:08:47.572Z"
   },
   {
    "duration": 5,
    "start_time": "2025-04-07T19:08:47.610Z"
   },
   {
    "duration": 203,
    "start_time": "2025-04-07T19:08:47.617Z"
   },
   {
    "duration": 5,
    "start_time": "2025-04-07T19:08:47.822Z"
   },
   {
    "duration": 64,
    "start_time": "2025-04-07T19:08:47.829Z"
   },
   {
    "duration": 4,
    "start_time": "2025-04-07T19:08:47.909Z"
   },
   {
    "duration": 10,
    "start_time": "2025-04-07T19:08:47.914Z"
   },
   {
    "duration": 7,
    "start_time": "2025-04-07T19:08:47.925Z"
   },
   {
    "duration": 4,
    "start_time": "2025-04-07T19:08:47.934Z"
   },
   {
    "duration": 237,
    "start_time": "2025-04-07T19:08:47.940Z"
   },
   {
    "duration": 203,
    "start_time": "2025-04-07T19:08:48.181Z"
   },
   {
    "duration": 253,
    "start_time": "2025-04-07T19:08:48.385Z"
   },
   {
    "duration": 240,
    "start_time": "2025-04-07T19:08:48.640Z"
   },
   {
    "duration": 10,
    "start_time": "2025-04-07T19:08:48.883Z"
   },
   {
    "duration": 333,
    "start_time": "2025-04-07T19:08:48.895Z"
   },
   {
    "duration": 0,
    "start_time": "2025-04-07T19:08:49.230Z"
   },
   {
    "duration": 0,
    "start_time": "2025-04-07T19:08:49.232Z"
   },
   {
    "duration": 0,
    "start_time": "2025-04-07T19:08:49.233Z"
   },
   {
    "duration": 0,
    "start_time": "2025-04-07T19:08:49.234Z"
   },
   {
    "duration": 0,
    "start_time": "2025-04-07T19:08:49.235Z"
   },
   {
    "duration": 0,
    "start_time": "2025-04-07T19:08:49.237Z"
   },
   {
    "duration": 0,
    "start_time": "2025-04-07T19:08:49.238Z"
   },
   {
    "duration": 0,
    "start_time": "2025-04-07T19:08:49.240Z"
   },
   {
    "duration": 0,
    "start_time": "2025-04-07T19:08:49.242Z"
   },
   {
    "duration": 0,
    "start_time": "2025-04-07T19:08:49.243Z"
   },
   {
    "duration": 0,
    "start_time": "2025-04-07T19:08:49.244Z"
   },
   {
    "duration": 0,
    "start_time": "2025-04-07T19:08:49.245Z"
   },
   {
    "duration": 0,
    "start_time": "2025-04-07T19:08:49.246Z"
   },
   {
    "duration": 0,
    "start_time": "2025-04-07T19:08:49.249Z"
   },
   {
    "duration": 3,
    "start_time": "2025-04-07T19:09:00.000Z"
   },
   {
    "duration": 5,
    "start_time": "2025-04-07T19:09:10.052Z"
   },
   {
    "duration": 10,
    "start_time": "2025-04-07T19:11:03.624Z"
   },
   {
    "duration": 7,
    "start_time": "2025-04-07T19:12:21.944Z"
   },
   {
    "duration": 10,
    "start_time": "2025-04-07T19:12:46.509Z"
   },
   {
    "duration": 9,
    "start_time": "2025-04-07T19:14:27.794Z"
   },
   {
    "duration": 6,
    "start_time": "2025-04-07T19:14:37.218Z"
   },
   {
    "duration": 6,
    "start_time": "2025-04-07T19:16:01.834Z"
   },
   {
    "duration": 7,
    "start_time": "2025-04-07T19:18:36.847Z"
   },
   {
    "duration": 7,
    "start_time": "2025-04-07T19:18:49.185Z"
   },
   {
    "duration": 899,
    "start_time": "2025-04-07T22:03:29.451Z"
   },
   {
    "duration": 481,
    "start_time": "2025-04-07T22:03:30.353Z"
   },
   {
    "duration": 65,
    "start_time": "2025-04-07T22:03:30.835Z"
   },
   {
    "duration": 15,
    "start_time": "2025-04-07T22:03:30.909Z"
   },
   {
    "duration": 11,
    "start_time": "2025-04-07T22:03:30.926Z"
   },
   {
    "duration": 12,
    "start_time": "2025-04-07T22:03:30.939Z"
   },
   {
    "duration": 20,
    "start_time": "2025-04-07T22:03:30.953Z"
   },
   {
    "duration": 36,
    "start_time": "2025-04-07T22:03:30.974Z"
   },
   {
    "duration": 8,
    "start_time": "2025-04-07T22:03:31.012Z"
   },
   {
    "duration": 4,
    "start_time": "2025-04-07T22:03:31.023Z"
   },
   {
    "duration": 177,
    "start_time": "2025-04-07T22:03:31.028Z"
   },
   {
    "duration": 5,
    "start_time": "2025-04-07T22:03:31.206Z"
   },
   {
    "duration": 66,
    "start_time": "2025-04-07T22:03:31.212Z"
   },
   {
    "duration": 2,
    "start_time": "2025-04-07T22:03:31.280Z"
   },
   {
    "duration": 28,
    "start_time": "2025-04-07T22:03:31.284Z"
   },
   {
    "duration": 6,
    "start_time": "2025-04-07T22:03:31.314Z"
   },
   {
    "duration": 4,
    "start_time": "2025-04-07T22:03:31.322Z"
   },
   {
    "duration": 219,
    "start_time": "2025-04-07T22:03:31.328Z"
   },
   {
    "duration": 197,
    "start_time": "2025-04-07T22:03:31.549Z"
   },
   {
    "duration": 214,
    "start_time": "2025-04-07T22:03:31.747Z"
   },
   {
    "duration": 222,
    "start_time": "2025-04-07T22:03:31.963Z"
   },
   {
    "duration": 6,
    "start_time": "2025-04-07T22:03:32.187Z"
   },
   {
    "duration": 18,
    "start_time": "2025-04-07T22:03:32.194Z"
   },
   {
    "duration": 245,
    "start_time": "2025-04-07T22:03:32.214Z"
   },
   {
    "duration": 300,
    "start_time": "2025-04-07T22:03:32.461Z"
   },
   {
    "duration": 246,
    "start_time": "2025-04-07T22:03:32.763Z"
   },
   {
    "duration": 4,
    "start_time": "2025-04-07T22:03:33.010Z"
   },
   {
    "duration": 4,
    "start_time": "2025-04-07T22:03:33.019Z"
   },
   {
    "duration": 7,
    "start_time": "2025-04-07T22:03:33.025Z"
   },
   {
    "duration": 4200,
    "start_time": "2025-04-07T22:03:33.034Z"
   },
   {
    "duration": 372299,
    "start_time": "2025-04-07T22:03:37.236Z"
   },
   {
    "duration": 82,
    "start_time": "2025-04-07T22:09:49.537Z"
   },
   {
    "duration": 12156,
    "start_time": "2025-04-07T22:09:49.620Z"
   },
   {
    "duration": 1103180,
    "start_time": "2025-04-07T22:10:01.778Z"
   },
   {
    "duration": 353,
    "start_time": "2025-04-07T22:28:24.960Z"
   },
   {
    "duration": 20463,
    "start_time": "2025-04-07T22:28:25.317Z"
   },
   {
    "duration": 50,
    "start_time": "2025-04-07T22:28:45.782Z"
   },
   {
    "duration": 935,
    "start_time": "2025-04-07T23:29:30.228Z"
   },
   {
    "duration": 532,
    "start_time": "2025-04-07T23:29:31.165Z"
   },
   {
    "duration": 68,
    "start_time": "2025-04-07T23:29:31.699Z"
   },
   {
    "duration": 18,
    "start_time": "2025-04-07T23:29:31.770Z"
   },
   {
    "duration": 29,
    "start_time": "2025-04-07T23:29:31.789Z"
   },
   {
    "duration": 12,
    "start_time": "2025-04-07T23:29:31.820Z"
   },
   {
    "duration": 20,
    "start_time": "2025-04-07T23:29:31.834Z"
   },
   {
    "duration": 15,
    "start_time": "2025-04-07T23:29:31.856Z"
   },
   {
    "duration": 36,
    "start_time": "2025-04-07T23:29:31.873Z"
   },
   {
    "duration": 5,
    "start_time": "2025-04-07T23:29:31.912Z"
   },
   {
    "duration": 171,
    "start_time": "2025-04-07T23:29:31.918Z"
   },
   {
    "duration": 5,
    "start_time": "2025-04-07T23:29:32.092Z"
   },
   {
    "duration": 100,
    "start_time": "2025-04-07T23:29:32.109Z"
   },
   {
    "duration": 5,
    "start_time": "2025-04-07T23:29:32.211Z"
   },
   {
    "duration": 10,
    "start_time": "2025-04-07T23:29:32.218Z"
   },
   {
    "duration": 8,
    "start_time": "2025-04-07T23:29:32.230Z"
   },
   {
    "duration": 5,
    "start_time": "2025-04-07T23:29:32.240Z"
   },
   {
    "duration": 264,
    "start_time": "2025-04-07T23:29:32.247Z"
   },
   {
    "duration": 210,
    "start_time": "2025-04-07T23:29:32.513Z"
   },
   {
    "duration": 238,
    "start_time": "2025-04-07T23:29:32.725Z"
   },
   {
    "duration": 206,
    "start_time": "2025-04-07T23:29:32.966Z"
   },
   {
    "duration": 8,
    "start_time": "2025-04-07T23:29:33.174Z"
   },
   {
    "duration": 7,
    "start_time": "2025-04-07T23:29:33.184Z"
   },
   {
    "duration": 270,
    "start_time": "2025-04-07T23:29:33.193Z"
   },
   {
    "duration": 349,
    "start_time": "2025-04-07T23:29:33.466Z"
   },
   {
    "duration": 266,
    "start_time": "2025-04-07T23:29:33.817Z"
   },
   {
    "duration": 6,
    "start_time": "2025-04-07T23:29:34.085Z"
   },
   {
    "duration": 15,
    "start_time": "2025-04-07T23:29:34.098Z"
   },
   {
    "duration": 7,
    "start_time": "2025-04-07T23:29:34.115Z"
   },
   {
    "duration": 4292,
    "start_time": "2025-04-07T23:29:34.124Z"
   },
   {
    "duration": 4,
    "start_time": "2025-04-07T23:29:38.418Z"
   },
   {
    "duration": 185,
    "start_time": "2025-04-07T23:29:38.424Z"
   },
   {
    "duration": 12208,
    "start_time": "2025-04-07T23:29:38.613Z"
   },
   {
    "duration": 908,
    "start_time": "2025-04-07T23:34:03.047Z"
   },
   {
    "duration": 570,
    "start_time": "2025-04-07T23:34:03.957Z"
   },
   {
    "duration": 88,
    "start_time": "2025-04-07T23:34:04.529Z"
   },
   {
    "duration": 16,
    "start_time": "2025-04-07T23:34:04.620Z"
   },
   {
    "duration": 13,
    "start_time": "2025-04-07T23:34:04.638Z"
   },
   {
    "duration": 12,
    "start_time": "2025-04-07T23:34:04.655Z"
   },
   {
    "duration": 44,
    "start_time": "2025-04-07T23:34:04.669Z"
   },
   {
    "duration": 11,
    "start_time": "2025-04-07T23:34:04.715Z"
   },
   {
    "duration": 9,
    "start_time": "2025-04-07T23:34:04.727Z"
   },
   {
    "duration": 5,
    "start_time": "2025-04-07T23:34:04.741Z"
   },
   {
    "duration": 293,
    "start_time": "2025-04-07T23:34:04.748Z"
   },
   {
    "duration": 5,
    "start_time": "2025-04-07T23:34:05.043Z"
   },
   {
    "duration": 97,
    "start_time": "2025-04-07T23:34:05.052Z"
   },
   {
    "duration": 3,
    "start_time": "2025-04-07T23:34:05.151Z"
   },
   {
    "duration": 9,
    "start_time": "2025-04-07T23:34:05.155Z"
   },
   {
    "duration": 7,
    "start_time": "2025-04-07T23:34:05.166Z"
   },
   {
    "duration": 6,
    "start_time": "2025-04-07T23:34:05.176Z"
   },
   {
    "duration": 252,
    "start_time": "2025-04-07T23:34:05.185Z"
   },
   {
    "duration": 203,
    "start_time": "2025-04-07T23:34:05.439Z"
   },
   {
    "duration": 243,
    "start_time": "2025-04-07T23:34:05.645Z"
   },
   {
    "duration": 237,
    "start_time": "2025-04-07T23:34:05.890Z"
   },
   {
    "duration": 7,
    "start_time": "2025-04-07T23:34:06.129Z"
   },
   {
    "duration": 8,
    "start_time": "2025-04-07T23:34:06.138Z"
   },
   {
    "duration": 268,
    "start_time": "2025-04-07T23:34:06.148Z"
   },
   {
    "duration": 368,
    "start_time": "2025-04-07T23:34:06.419Z"
   },
   {
    "duration": 254,
    "start_time": "2025-04-07T23:34:06.789Z"
   },
   {
    "duration": 4,
    "start_time": "2025-04-07T23:34:07.045Z"
   },
   {
    "duration": 5,
    "start_time": "2025-04-07T23:34:07.053Z"
   },
   {
    "duration": 7,
    "start_time": "2025-04-07T23:34:07.060Z"
   },
   {
    "duration": 4184,
    "start_time": "2025-04-07T23:34:07.068Z"
   },
   {
    "duration": 375877,
    "start_time": "2025-04-07T23:34:11.255Z"
   },
   {
    "duration": 279,
    "start_time": "2025-04-07T23:40:27.134Z"
   },
   {
    "duration": 12207,
    "start_time": "2025-04-07T23:40:27.416Z"
   },
   {
    "duration": 941,
    "start_time": "2025-04-07T23:43:16.057Z"
   },
   {
    "duration": 650,
    "start_time": "2025-04-07T23:43:17.000Z"
   },
   {
    "duration": 73,
    "start_time": "2025-04-07T23:43:17.653Z"
   },
   {
    "duration": 16,
    "start_time": "2025-04-07T23:43:17.729Z"
   },
   {
    "duration": 13,
    "start_time": "2025-04-07T23:43:17.747Z"
   },
   {
    "duration": 13,
    "start_time": "2025-04-07T23:43:17.762Z"
   },
   {
    "duration": 42,
    "start_time": "2025-04-07T23:43:17.777Z"
   },
   {
    "duration": 13,
    "start_time": "2025-04-07T23:43:17.820Z"
   },
   {
    "duration": 11,
    "start_time": "2025-04-07T23:43:17.834Z"
   },
   {
    "duration": 4,
    "start_time": "2025-04-07T23:43:17.849Z"
   },
   {
    "duration": 202,
    "start_time": "2025-04-07T23:43:17.855Z"
   },
   {
    "duration": 5,
    "start_time": "2025-04-07T23:43:18.059Z"
   },
   {
    "duration": 116,
    "start_time": "2025-04-07T23:43:18.065Z"
   },
   {
    "duration": 5,
    "start_time": "2025-04-07T23:43:18.183Z"
   },
   {
    "duration": 18,
    "start_time": "2025-04-07T23:43:18.191Z"
   },
   {
    "duration": 8,
    "start_time": "2025-04-07T23:43:18.212Z"
   },
   {
    "duration": 7,
    "start_time": "2025-04-07T23:43:18.223Z"
   },
   {
    "duration": 222,
    "start_time": "2025-04-07T23:43:18.232Z"
   },
   {
    "duration": 254,
    "start_time": "2025-04-07T23:43:18.456Z"
   },
   {
    "duration": 226,
    "start_time": "2025-04-07T23:43:18.713Z"
   },
   {
    "duration": 211,
    "start_time": "2025-04-07T23:43:18.941Z"
   },
   {
    "duration": 7,
    "start_time": "2025-04-07T23:43:19.154Z"
   },
   {
    "duration": 7,
    "start_time": "2025-04-07T23:43:19.163Z"
   },
   {
    "duration": 284,
    "start_time": "2025-04-07T23:43:19.172Z"
   },
   {
    "duration": 366,
    "start_time": "2025-04-07T23:43:19.458Z"
   },
   {
    "duration": 254,
    "start_time": "2025-04-07T23:43:19.826Z"
   },
   {
    "duration": 4,
    "start_time": "2025-04-07T23:43:20.082Z"
   },
   {
    "duration": 7,
    "start_time": "2025-04-07T23:43:20.091Z"
   },
   {
    "duration": 8,
    "start_time": "2025-04-07T23:43:20.110Z"
   },
   {
    "duration": 4120,
    "start_time": "2025-04-07T23:43:20.120Z"
   },
   {
    "duration": 4,
    "start_time": "2025-04-07T23:43:24.242Z"
   },
   {
    "duration": 169,
    "start_time": "2025-04-07T23:43:24.250Z"
   },
   {
    "duration": 12174,
    "start_time": "2025-04-07T23:43:24.421Z"
   },
   {
    "duration": 912,
    "start_time": "2025-04-07T23:47:36.947Z"
   },
   {
    "duration": 500,
    "start_time": "2025-04-07T23:47:37.862Z"
   },
   {
    "duration": 68,
    "start_time": "2025-04-07T23:47:38.364Z"
   },
   {
    "duration": 11,
    "start_time": "2025-04-07T23:47:38.434Z"
   },
   {
    "duration": 9,
    "start_time": "2025-04-07T23:47:38.448Z"
   },
   {
    "duration": 13,
    "start_time": "2025-04-07T23:47:38.459Z"
   },
   {
    "duration": 46,
    "start_time": "2025-04-07T23:47:38.475Z"
   },
   {
    "duration": 12,
    "start_time": "2025-04-07T23:47:38.523Z"
   },
   {
    "duration": 10,
    "start_time": "2025-04-07T23:47:38.536Z"
   },
   {
    "duration": 4,
    "start_time": "2025-04-07T23:47:38.548Z"
   },
   {
    "duration": 196,
    "start_time": "2025-04-07T23:47:38.554Z"
   },
   {
    "duration": 4,
    "start_time": "2025-04-07T23:47:38.753Z"
   },
   {
    "duration": 82,
    "start_time": "2025-04-07T23:47:38.759Z"
   },
   {
    "duration": 3,
    "start_time": "2025-04-07T23:47:38.844Z"
   },
   {
    "duration": 9,
    "start_time": "2025-04-07T23:47:38.848Z"
   },
   {
    "duration": 8,
    "start_time": "2025-04-07T23:47:38.859Z"
   },
   {
    "duration": 5,
    "start_time": "2025-04-07T23:47:38.868Z"
   },
   {
    "duration": 235,
    "start_time": "2025-04-07T23:47:38.874Z"
   },
   {
    "duration": 201,
    "start_time": "2025-04-07T23:47:39.111Z"
   },
   {
    "duration": 213,
    "start_time": "2025-04-07T23:47:39.314Z"
   },
   {
    "duration": 201,
    "start_time": "2025-04-07T23:47:39.529Z"
   },
   {
    "duration": 6,
    "start_time": "2025-04-07T23:47:39.731Z"
   },
   {
    "duration": 6,
    "start_time": "2025-04-07T23:47:39.739Z"
   },
   {
    "duration": 299,
    "start_time": "2025-04-07T23:47:39.746Z"
   },
   {
    "duration": 297,
    "start_time": "2025-04-07T23:47:40.047Z"
   },
   {
    "duration": 244,
    "start_time": "2025-04-07T23:47:40.345Z"
   },
   {
    "duration": 5,
    "start_time": "2025-04-07T23:47:40.591Z"
   },
   {
    "duration": 6,
    "start_time": "2025-04-07T23:47:40.608Z"
   },
   {
    "duration": 7,
    "start_time": "2025-04-07T23:47:40.615Z"
   },
   {
    "duration": 4073,
    "start_time": "2025-04-07T23:47:40.624Z"
   },
   {
    "duration": 12,
    "start_time": "2025-04-07T23:47:44.699Z"
   },
   {
    "duration": 99,
    "start_time": "2025-04-07T23:47:44.713Z"
   },
   {
    "duration": 11981,
    "start_time": "2025-04-07T23:47:44.813Z"
   },
   {
    "duration": 4,
    "start_time": "2025-04-07T23:47:56.795Z"
   },
   {
    "duration": 213,
    "start_time": "2025-04-07T23:47:56.809Z"
   },
   {
    "duration": 20303,
    "start_time": "2025-04-07T23:47:57.024Z"
   },
   {
    "duration": 47,
    "start_time": "2025-04-07T23:48:17.329Z"
   },
   {
    "duration": 13,
    "start_time": "2025-04-07T23:49:19.293Z"
   },
   {
    "duration": 5,
    "start_time": "2025-04-07T23:49:56.188Z"
   },
   {
    "duration": 12715,
    "start_time": "2025-04-07T23:51:44.536Z"
   },
   {
    "duration": 963,
    "start_time": "2025-04-07T23:53:23.821Z"
   },
   {
    "duration": 517,
    "start_time": "2025-04-07T23:53:24.786Z"
   },
   {
    "duration": 75,
    "start_time": "2025-04-07T23:53:25.305Z"
   },
   {
    "duration": 13,
    "start_time": "2025-04-07T23:53:25.382Z"
   },
   {
    "duration": 12,
    "start_time": "2025-04-07T23:53:25.410Z"
   },
   {
    "duration": 15,
    "start_time": "2025-04-07T23:53:25.423Z"
   },
   {
    "duration": 22,
    "start_time": "2025-04-07T23:53:25.440Z"
   },
   {
    "duration": 14,
    "start_time": "2025-04-07T23:53:25.464Z"
   },
   {
    "duration": 11,
    "start_time": "2025-04-07T23:53:25.510Z"
   },
   {
    "duration": 5,
    "start_time": "2025-04-07T23:53:25.523Z"
   },
   {
    "duration": 173,
    "start_time": "2025-04-07T23:53:25.530Z"
   },
   {
    "duration": 6,
    "start_time": "2025-04-07T23:53:25.704Z"
   },
   {
    "duration": 66,
    "start_time": "2025-04-07T23:53:25.711Z"
   },
   {
    "duration": 2,
    "start_time": "2025-04-07T23:53:25.783Z"
   },
   {
    "duration": 29,
    "start_time": "2025-04-07T23:53:25.787Z"
   },
   {
    "duration": 9,
    "start_time": "2025-04-07T23:53:25.818Z"
   },
   {
    "duration": 5,
    "start_time": "2025-04-07T23:53:25.828Z"
   },
   {
    "duration": 233,
    "start_time": "2025-04-07T23:53:25.835Z"
   },
   {
    "duration": 214,
    "start_time": "2025-04-07T23:53:26.070Z"
   },
   {
    "duration": 225,
    "start_time": "2025-04-07T23:53:26.286Z"
   },
   {
    "duration": 236,
    "start_time": "2025-04-07T23:53:26.513Z"
   },
   {
    "duration": 6,
    "start_time": "2025-04-07T23:53:26.752Z"
   },
   {
    "duration": 7,
    "start_time": "2025-04-07T23:53:26.760Z"
   },
   {
    "duration": 287,
    "start_time": "2025-04-07T23:53:26.768Z"
   },
   {
    "duration": 345,
    "start_time": "2025-04-07T23:53:27.056Z"
   },
   {
    "duration": 260,
    "start_time": "2025-04-07T23:53:27.404Z"
   },
   {
    "duration": 6,
    "start_time": "2025-04-07T23:53:27.666Z"
   },
   {
    "duration": 6,
    "start_time": "2025-04-07T23:53:27.674Z"
   },
   {
    "duration": 8,
    "start_time": "2025-04-07T23:53:27.682Z"
   },
   {
    "duration": 4166,
    "start_time": "2025-04-07T23:53:27.709Z"
   },
   {
    "duration": 4,
    "start_time": "2025-04-07T23:53:31.877Z"
   },
   {
    "duration": 126,
    "start_time": "2025-04-07T23:53:31.883Z"
   },
   {
    "duration": 12183,
    "start_time": "2025-04-07T23:53:32.011Z"
   },
   {
    "duration": 4,
    "start_time": "2025-04-07T23:53:44.196Z"
   },
   {
    "duration": 316,
    "start_time": "2025-04-07T23:53:44.209Z"
   },
   {
    "duration": 20603,
    "start_time": "2025-04-07T23:53:44.531Z"
   },
   {
    "duration": 47,
    "start_time": "2025-04-07T23:54:05.136Z"
   },
   {
    "duration": 12191,
    "start_time": "2025-04-07T23:56:42.239Z"
   },
   {
    "duration": 12243,
    "start_time": "2025-04-07T23:57:14.781Z"
   },
   {
    "duration": 7562,
    "start_time": "2025-04-07T23:58:29.827Z"
   },
   {
    "duration": 10,
    "start_time": "2025-04-08T00:00:01.972Z"
   },
   {
    "duration": 5,
    "start_time": "2025-04-08T00:00:10.070Z"
   },
   {
    "duration": 14,
    "start_time": "2025-04-08T00:00:39.795Z"
   },
   {
    "duration": 4,
    "start_time": "2025-04-08T00:00:46.091Z"
   },
   {
    "duration": 12177,
    "start_time": "2025-04-08T00:02:31.216Z"
   },
   {
    "duration": 912,
    "start_time": "2025-04-08T00:12:51.229Z"
   },
   {
    "duration": 502,
    "start_time": "2025-04-08T00:12:52.143Z"
   },
   {
    "duration": 72,
    "start_time": "2025-04-08T00:12:52.647Z"
   },
   {
    "duration": 12,
    "start_time": "2025-04-08T00:12:52.720Z"
   },
   {
    "duration": 10,
    "start_time": "2025-04-08T00:12:52.734Z"
   },
   {
    "duration": 13,
    "start_time": "2025-04-08T00:12:52.745Z"
   },
   {
    "duration": 20,
    "start_time": "2025-04-08T00:12:52.760Z"
   },
   {
    "duration": 35,
    "start_time": "2025-04-08T00:12:52.782Z"
   },
   {
    "duration": 8,
    "start_time": "2025-04-08T00:12:52.819Z"
   },
   {
    "duration": 4,
    "start_time": "2025-04-08T00:12:52.829Z"
   },
   {
    "duration": 176,
    "start_time": "2025-04-08T00:12:52.835Z"
   },
   {
    "duration": 4,
    "start_time": "2025-04-08T00:12:53.013Z"
   },
   {
    "duration": 64,
    "start_time": "2025-04-08T00:12:53.018Z"
   },
   {
    "duration": 2,
    "start_time": "2025-04-08T00:12:53.086Z"
   },
   {
    "duration": 21,
    "start_time": "2025-04-08T00:12:53.090Z"
   },
   {
    "duration": 6,
    "start_time": "2025-04-08T00:12:53.112Z"
   },
   {
    "duration": 5,
    "start_time": "2025-04-08T00:12:53.119Z"
   },
   {
    "duration": 226,
    "start_time": "2025-04-08T00:12:53.125Z"
   },
   {
    "duration": 205,
    "start_time": "2025-04-08T00:12:53.352Z"
   },
   {
    "duration": 223,
    "start_time": "2025-04-08T00:12:53.558Z"
   },
   {
    "duration": 204,
    "start_time": "2025-04-08T00:12:53.782Z"
   },
   {
    "duration": 6,
    "start_time": "2025-04-08T00:12:53.988Z"
   },
   {
    "duration": 19,
    "start_time": "2025-04-08T00:12:53.995Z"
   },
   {
    "duration": 277,
    "start_time": "2025-04-08T00:12:54.016Z"
   },
   {
    "duration": 302,
    "start_time": "2025-04-08T00:12:54.295Z"
   },
   {
    "duration": 276,
    "start_time": "2025-04-08T00:12:54.599Z"
   },
   {
    "duration": 4,
    "start_time": "2025-04-08T00:12:54.877Z"
   },
   {
    "duration": 5,
    "start_time": "2025-04-08T00:12:54.883Z"
   },
   {
    "duration": 23,
    "start_time": "2025-04-08T00:12:54.890Z"
   },
   {
    "duration": 12,
    "start_time": "2025-04-08T00:12:54.915Z"
   },
   {
    "duration": 4,
    "start_time": "2025-04-08T00:12:54.928Z"
   },
   {
    "duration": 4106,
    "start_time": "2025-04-08T00:12:54.935Z"
   },
   {
    "duration": 4,
    "start_time": "2025-04-08T00:12:59.043Z"
   },
   {
    "duration": 76,
    "start_time": "2025-04-08T00:12:59.049Z"
   },
   {
    "duration": 12182,
    "start_time": "2025-04-08T00:12:59.127Z"
   },
   {
    "duration": 4,
    "start_time": "2025-04-08T00:13:11.310Z"
   },
   {
    "duration": 296,
    "start_time": "2025-04-08T00:13:11.316Z"
   },
   {
    "duration": 20603,
    "start_time": "2025-04-08T00:13:11.614Z"
   },
   {
    "duration": 54,
    "start_time": "2025-04-08T00:13:32.219Z"
   },
   {
    "duration": 906,
    "start_time": "2025-04-08T00:16:50.157Z"
   },
   {
    "duration": 564,
    "start_time": "2025-04-08T00:16:51.066Z"
   },
   {
    "duration": 67,
    "start_time": "2025-04-08T00:16:51.632Z"
   },
   {
    "duration": 15,
    "start_time": "2025-04-08T00:16:51.710Z"
   },
   {
    "duration": 14,
    "start_time": "2025-04-08T00:16:51.727Z"
   },
   {
    "duration": 14,
    "start_time": "2025-04-08T00:16:51.743Z"
   },
   {
    "duration": 22,
    "start_time": "2025-04-08T00:16:51.758Z"
   },
   {
    "duration": 34,
    "start_time": "2025-04-08T00:16:51.782Z"
   },
   {
    "duration": 9,
    "start_time": "2025-04-08T00:16:51.818Z"
   },
   {
    "duration": 4,
    "start_time": "2025-04-08T00:16:51.830Z"
   },
   {
    "duration": 182,
    "start_time": "2025-04-08T00:16:51.835Z"
   },
   {
    "duration": 4,
    "start_time": "2025-04-08T00:16:52.019Z"
   },
   {
    "duration": 65,
    "start_time": "2025-04-08T00:16:52.025Z"
   },
   {
    "duration": 2,
    "start_time": "2025-04-08T00:16:52.108Z"
   },
   {
    "duration": 9,
    "start_time": "2025-04-08T00:16:52.112Z"
   },
   {
    "duration": 7,
    "start_time": "2025-04-08T00:16:52.122Z"
   },
   {
    "duration": 5,
    "start_time": "2025-04-08T00:16:52.130Z"
   },
   {
    "duration": 223,
    "start_time": "2025-04-08T00:16:52.137Z"
   },
   {
    "duration": 229,
    "start_time": "2025-04-08T00:16:52.362Z"
   },
   {
    "duration": 216,
    "start_time": "2025-04-08T00:16:52.592Z"
   },
   {
    "duration": 202,
    "start_time": "2025-04-08T00:16:52.810Z"
   },
   {
    "duration": 7,
    "start_time": "2025-04-08T00:16:53.014Z"
   },
   {
    "duration": 6,
    "start_time": "2025-04-08T00:16:53.023Z"
   },
   {
    "duration": 270,
    "start_time": "2025-04-08T00:16:53.031Z"
   },
   {
    "duration": 313,
    "start_time": "2025-04-08T00:16:53.303Z"
   },
   {
    "duration": 257,
    "start_time": "2025-04-08T00:16:53.618Z"
   },
   {
    "duration": 4,
    "start_time": "2025-04-08T00:16:53.877Z"
   },
   {
    "duration": 5,
    "start_time": "2025-04-08T00:16:53.885Z"
   },
   {
    "duration": 20,
    "start_time": "2025-04-08T00:16:53.892Z"
   },
   {
    "duration": 12,
    "start_time": "2025-04-08T00:16:53.913Z"
   },
   {
    "duration": 3,
    "start_time": "2025-04-08T00:16:53.927Z"
   },
   {
    "duration": 4108,
    "start_time": "2025-04-08T00:16:53.933Z"
   },
   {
    "duration": 5,
    "start_time": "2025-04-08T00:16:58.043Z"
   },
   {
    "duration": 76,
    "start_time": "2025-04-08T00:16:58.050Z"
   },
   {
    "duration": 12088,
    "start_time": "2025-04-08T00:16:58.128Z"
   },
   {
    "duration": 4,
    "start_time": "2025-04-08T00:17:10.219Z"
   },
   {
    "duration": 294,
    "start_time": "2025-04-08T00:17:10.225Z"
   },
   {
    "duration": 20292,
    "start_time": "2025-04-08T00:17:10.523Z"
   },
   {
    "duration": 44,
    "start_time": "2025-04-08T00:17:30.819Z"
   },
   {
    "duration": 6,
    "start_time": "2025-04-08T00:25:32.827Z"
   },
   {
    "duration": 7,
    "start_time": "2025-04-08T00:26:00.677Z"
   },
   {
    "duration": 4079,
    "start_time": "2025-04-08T00:26:05.327Z"
   },
   {
    "duration": 11947,
    "start_time": "2025-04-08T00:26:13.180Z"
   },
   {
    "duration": 4,
    "start_time": "2025-04-08T00:26:58.441Z"
   },
   {
    "duration": 11,
    "start_time": "2025-04-08T00:27:05.226Z"
   },
   {
    "duration": 6,
    "start_time": "2025-04-08T00:27:39.970Z"
   },
   {
    "duration": 4,
    "start_time": "2025-04-08T00:28:04.538Z"
   },
   {
    "duration": 137,
    "start_time": "2025-04-08T00:28:40.809Z"
   },
   {
    "duration": 4,
    "start_time": "2025-04-08T00:28:48.081Z"
   },
   {
    "duration": 7,
    "start_time": "2025-04-08T00:30:48.097Z"
   },
   {
    "duration": 3,
    "start_time": "2025-04-08T00:30:49.538Z"
   },
   {
    "duration": 7,
    "start_time": "2025-04-08T00:31:31.800Z"
   },
   {
    "duration": 3,
    "start_time": "2025-04-08T00:31:34.034Z"
   },
   {
    "duration": 7,
    "start_time": "2025-04-08T00:32:14.692Z"
   },
   {
    "duration": 3,
    "start_time": "2025-04-08T00:32:16.219Z"
   },
   {
    "duration": 7,
    "start_time": "2025-04-08T00:32:36.428Z"
   },
   {
    "duration": 3,
    "start_time": "2025-04-08T00:32:37.959Z"
   },
   {
    "duration": 850,
    "start_time": "2025-04-08T00:33:05.888Z"
   },
   {
    "duration": 0,
    "start_time": "2025-04-08T00:33:06.741Z"
   },
   {
    "duration": 5,
    "start_time": "2025-04-08T00:34:42.076Z"
   },
   {
    "duration": 3,
    "start_time": "2025-04-08T00:34:42.469Z"
   },
   {
    "duration": 47,
    "start_time": "2025-04-08T00:34:50.290Z"
   },
   {
    "duration": 4,
    "start_time": "2025-04-08T00:35:07.794Z"
   },
   {
    "duration": 893,
    "start_time": "2025-04-08T00:35:13.487Z"
   },
   {
    "duration": 532,
    "start_time": "2025-04-08T00:35:14.382Z"
   },
   {
    "duration": 70,
    "start_time": "2025-04-08T00:35:14.915Z"
   },
   {
    "duration": 25,
    "start_time": "2025-04-08T00:35:14.987Z"
   },
   {
    "duration": 10,
    "start_time": "2025-04-08T00:35:15.014Z"
   },
   {
    "duration": 14,
    "start_time": "2025-04-08T00:35:15.059Z"
   },
   {
    "duration": 23,
    "start_time": "2025-04-08T00:35:15.521Z"
   },
   {
    "duration": 14,
    "start_time": "2025-04-08T00:35:16.177Z"
   },
   {
    "duration": 10,
    "start_time": "2025-04-08T00:35:16.844Z"
   },
   {
    "duration": 4,
    "start_time": "2025-04-08T00:35:17.919Z"
   },
   {
    "duration": 155,
    "start_time": "2025-04-08T00:35:18.271Z"
   },
   {
    "duration": 4,
    "start_time": "2025-04-08T00:35:21.272Z"
   },
   {
    "duration": 64,
    "start_time": "2025-04-08T00:35:21.854Z"
   },
   {
    "duration": 4,
    "start_time": "2025-04-08T00:35:23.708Z"
   },
   {
    "duration": 8,
    "start_time": "2025-04-08T00:35:24.875Z"
   },
   {
    "duration": 8,
    "start_time": "2025-04-08T00:35:25.374Z"
   },
   {
    "duration": 4,
    "start_time": "2025-04-08T00:35:25.807Z"
   },
   {
    "duration": 216,
    "start_time": "2025-04-08T00:35:36.203Z"
   },
   {
    "duration": 198,
    "start_time": "2025-04-08T00:35:36.593Z"
   },
   {
    "duration": 237,
    "start_time": "2025-04-08T00:35:36.941Z"
   },
   {
    "duration": 203,
    "start_time": "2025-04-08T00:35:37.445Z"
   },
   {
    "duration": 7,
    "start_time": "2025-04-08T00:35:37.791Z"
   },
   {
    "duration": 6,
    "start_time": "2025-04-08T00:35:40.924Z"
   },
   {
    "duration": 243,
    "start_time": "2025-04-08T00:35:42.980Z"
   },
   {
    "duration": 314,
    "start_time": "2025-04-08T00:35:43.395Z"
   },
   {
    "duration": 243,
    "start_time": "2025-04-08T00:35:43.730Z"
   },
   {
    "duration": 4,
    "start_time": "2025-04-08T00:35:44.982Z"
   },
   {
    "duration": 897,
    "start_time": "2025-04-08T00:35:51.884Z"
   },
   {
    "duration": 107,
    "start_time": "2025-04-08T00:36:48.461Z"
   },
   {
    "duration": 49,
    "start_time": "2025-04-08T00:37:25.998Z"
   },
   {
    "duration": 915,
    "start_time": "2025-04-08T00:37:35.122Z"
   },
   {
    "duration": 520,
    "start_time": "2025-04-08T00:37:36.039Z"
   },
   {
    "duration": 68,
    "start_time": "2025-04-08T00:37:36.561Z"
   },
   {
    "duration": 13,
    "start_time": "2025-04-08T00:37:36.631Z"
   },
   {
    "duration": 11,
    "start_time": "2025-04-08T00:37:36.645Z"
   },
   {
    "duration": 13,
    "start_time": "2025-04-08T00:37:36.657Z"
   },
   {
    "duration": 19,
    "start_time": "2025-04-08T00:37:36.860Z"
   },
   {
    "duration": 13,
    "start_time": "2025-04-08T00:37:37.071Z"
   },
   {
    "duration": 10,
    "start_time": "2025-04-08T00:37:37.309Z"
   },
   {
    "duration": 4,
    "start_time": "2025-04-08T00:37:37.969Z"
   },
   {
    "duration": 153,
    "start_time": "2025-04-08T00:37:38.184Z"
   },
   {
    "duration": 5,
    "start_time": "2025-04-08T00:37:38.671Z"
   },
   {
    "duration": 68,
    "start_time": "2025-04-08T00:37:38.794Z"
   },
   {
    "duration": 3,
    "start_time": "2025-04-08T00:37:39.038Z"
   },
   {
    "duration": 9,
    "start_time": "2025-04-08T00:37:39.403Z"
   },
   {
    "duration": 6,
    "start_time": "2025-04-08T00:37:39.737Z"
   },
   {
    "duration": 5,
    "start_time": "2025-04-08T00:37:40.234Z"
   },
   {
    "duration": 202,
    "start_time": "2025-04-08T00:37:42.051Z"
   },
   {
    "duration": 193,
    "start_time": "2025-04-08T00:37:42.700Z"
   },
   {
    "duration": 203,
    "start_time": "2025-04-08T00:37:43.033Z"
   },
   {
    "duration": 193,
    "start_time": "2025-04-08T00:37:43.518Z"
   },
   {
    "duration": 8,
    "start_time": "2025-04-08T00:37:44.377Z"
   },
   {
    "duration": 7,
    "start_time": "2025-04-08T00:37:45.140Z"
   },
   {
    "duration": 243,
    "start_time": "2025-04-08T00:37:46.581Z"
   },
   {
    "duration": 304,
    "start_time": "2025-04-08T00:37:47.277Z"
   },
   {
    "duration": 254,
    "start_time": "2025-04-08T00:37:47.594Z"
   },
   {
    "duration": 4,
    "start_time": "2025-04-08T00:37:48.609Z"
   },
   {
    "duration": 6,
    "start_time": "2025-04-08T00:37:51.036Z"
   },
   {
    "duration": 3,
    "start_time": "2025-04-08T00:37:54.612Z"
   },
   {
    "duration": 4051,
    "start_time": "2025-04-08T00:38:18.196Z"
   },
   {
    "duration": 6591,
    "start_time": "2025-04-08T00:38:26.306Z"
   },
   {
    "duration": 6,
    "start_time": "2025-04-08T00:39:44.202Z"
   },
   {
    "duration": 4,
    "start_time": "2025-04-08T00:39:58.506Z"
   },
   {
    "duration": 12134,
    "start_time": "2025-04-08T00:40:07.622Z"
   },
   {
    "duration": 2839,
    "start_time": "2025-04-08T13:25:04.415Z"
   },
   {
    "duration": 634,
    "start_time": "2025-04-08T13:25:07.256Z"
   },
   {
    "duration": 82,
    "start_time": "2025-04-08T13:25:07.892Z"
   },
   {
    "duration": 14,
    "start_time": "2025-04-08T13:25:07.976Z"
   },
   {
    "duration": 31,
    "start_time": "2025-04-08T13:25:07.994Z"
   },
   {
    "duration": 16,
    "start_time": "2025-04-08T13:25:08.027Z"
   },
   {
    "duration": 23,
    "start_time": "2025-04-08T13:25:08.045Z"
   },
   {
    "duration": 14,
    "start_time": "2025-04-08T13:25:08.070Z"
   },
   {
    "duration": 42,
    "start_time": "2025-04-08T13:25:08.086Z"
   },
   {
    "duration": 4,
    "start_time": "2025-04-08T13:25:08.131Z"
   },
   {
    "duration": 175,
    "start_time": "2025-04-08T13:25:08.136Z"
   },
   {
    "duration": 5,
    "start_time": "2025-04-08T13:25:08.313Z"
   },
   {
    "duration": 69,
    "start_time": "2025-04-08T13:25:08.325Z"
   },
   {
    "duration": 3,
    "start_time": "2025-04-08T13:25:08.399Z"
   },
   {
    "duration": 10,
    "start_time": "2025-04-08T13:25:08.424Z"
   },
   {
    "duration": 8,
    "start_time": "2025-04-08T13:25:08.436Z"
   },
   {
    "duration": 6,
    "start_time": "2025-04-08T13:25:08.446Z"
   },
   {
    "duration": 244,
    "start_time": "2025-04-08T13:25:08.453Z"
   },
   {
    "duration": 206,
    "start_time": "2025-04-08T13:25:08.699Z"
   },
   {
    "duration": 222,
    "start_time": "2025-04-08T13:25:08.907Z"
   },
   {
    "duration": 219,
    "start_time": "2025-04-08T13:25:09.131Z"
   },
   {
    "duration": 6,
    "start_time": "2025-04-08T13:25:09.352Z"
   },
   {
    "duration": 6,
    "start_time": "2025-04-08T13:25:09.360Z"
   },
   {
    "duration": 299,
    "start_time": "2025-04-08T13:25:09.367Z"
   },
   {
    "duration": 358,
    "start_time": "2025-04-08T13:25:09.668Z"
   },
   {
    "duration": 263,
    "start_time": "2025-04-08T13:25:10.028Z"
   },
   {
    "duration": 5,
    "start_time": "2025-04-08T13:25:10.293Z"
   },
   {
    "duration": 5,
    "start_time": "2025-04-08T13:25:10.300Z"
   },
   {
    "duration": 18,
    "start_time": "2025-04-08T13:25:10.307Z"
   },
   {
    "duration": 9,
    "start_time": "2025-04-08T13:25:10.327Z"
   },
   {
    "duration": 4143,
    "start_time": "2025-04-08T13:25:10.338Z"
   },
   {
    "duration": 4,
    "start_time": "2025-04-08T13:25:14.483Z"
   },
   {
    "duration": 147,
    "start_time": "2025-04-08T13:25:14.488Z"
   },
   {
    "duration": 12151,
    "start_time": "2025-04-08T13:25:14.641Z"
   },
   {
    "duration": 4,
    "start_time": "2025-04-08T13:25:26.794Z"
   },
   {
    "duration": 247,
    "start_time": "2025-04-08T13:25:26.800Z"
   },
   {
    "duration": 20262,
    "start_time": "2025-04-08T13:25:27.126Z"
   },
   {
    "duration": 50,
    "start_time": "2025-04-08T13:25:47.389Z"
   },
   {
    "duration": 135,
    "start_time": "2025-04-08T13:29:10.923Z"
   },
   {
    "duration": 4,
    "start_time": "2025-04-08T13:29:15.240Z"
   },
   {
    "duration": 5,
    "start_time": "2025-04-08T13:29:30.104Z"
   },
   {
    "duration": 861,
    "start_time": "2025-04-08T13:29:48.309Z"
   },
   {
    "duration": 530,
    "start_time": "2025-04-08T13:29:49.172Z"
   },
   {
    "duration": 70,
    "start_time": "2025-04-08T13:29:49.703Z"
   },
   {
    "duration": 12,
    "start_time": "2025-04-08T13:29:49.775Z"
   },
   {
    "duration": 14,
    "start_time": "2025-04-08T13:29:49.789Z"
   },
   {
    "duration": 14,
    "start_time": "2025-04-08T13:29:50.868Z"
   },
   {
    "duration": 20,
    "start_time": "2025-04-08T13:29:55.522Z"
   },
   {
    "duration": 12,
    "start_time": "2025-04-08T13:29:55.960Z"
   },
   {
    "duration": 10,
    "start_time": "2025-04-08T13:29:56.937Z"
   },
   {
    "duration": 4,
    "start_time": "2025-04-08T13:29:58.593Z"
   },
   {
    "duration": 159,
    "start_time": "2025-04-08T13:29:59.856Z"
   },
   {
    "duration": 4,
    "start_time": "2025-04-08T13:30:02.167Z"
   },
   {
    "duration": 67,
    "start_time": "2025-04-08T13:30:02.665Z"
   },
   {
    "duration": 6,
    "start_time": "2025-04-08T13:30:05.273Z"
   },
   {
    "duration": 244,
    "start_time": "2025-04-08T13:36:34.703Z"
   },
   {
    "duration": 9,
    "start_time": "2025-04-08T13:36:44.549Z"
   },
   {
    "duration": 8,
    "start_time": "2025-04-08T13:36:45.127Z"
   },
   {
    "duration": 5,
    "start_time": "2025-04-08T13:36:45.589Z"
   },
   {
    "duration": 5,
    "start_time": "2025-04-08T13:39:32.476Z"
   },
   {
    "duration": 88,
    "start_time": "2025-04-08T13:39:33.029Z"
   },
   {
    "duration": 4,
    "start_time": "2025-04-08T13:40:01.883Z"
   },
   {
    "duration": 74,
    "start_time": "2025-04-08T13:40:02.282Z"
   },
   {
    "duration": 4,
    "start_time": "2025-04-08T13:40:34.221Z"
   },
   {
    "duration": 158,
    "start_time": "2025-04-08T13:40:34.853Z"
   },
   {
    "duration": 4,
    "start_time": "2025-04-08T13:40:36.142Z"
   },
   {
    "duration": 66,
    "start_time": "2025-04-08T13:40:36.645Z"
   },
   {
    "duration": 4,
    "start_time": "2025-04-08T13:41:17.351Z"
   },
   {
    "duration": 66,
    "start_time": "2025-04-08T13:41:17.747Z"
   },
   {
    "duration": 3,
    "start_time": "2025-04-08T13:42:17.810Z"
   },
   {
    "duration": 507,
    "start_time": "2025-04-08T13:42:18.066Z"
   },
   {
    "duration": 15,
    "start_time": "2025-04-08T13:42:18.576Z"
   },
   {
    "duration": 14,
    "start_time": "2025-04-08T13:42:18.800Z"
   },
   {
    "duration": 11,
    "start_time": "2025-04-08T13:42:19.114Z"
   },
   {
    "duration": 13,
    "start_time": "2025-04-08T13:42:19.403Z"
   },
   {
    "duration": 17,
    "start_time": "2025-04-08T13:42:19.975Z"
   },
   {
    "duration": 12,
    "start_time": "2025-04-08T13:42:20.348Z"
   },
   {
    "duration": 11,
    "start_time": "2025-04-08T13:42:20.879Z"
   },
   {
    "duration": 4,
    "start_time": "2025-04-08T13:42:22.745Z"
   },
   {
    "duration": 166,
    "start_time": "2025-04-08T13:42:23.856Z"
   },
   {
    "duration": 5,
    "start_time": "2025-04-08T13:42:25.616Z"
   },
   {
    "duration": 68,
    "start_time": "2025-04-08T13:42:26.408Z"
   },
   {
    "duration": 3,
    "start_time": "2025-04-08T13:42:31.169Z"
   },
   {
    "duration": 9,
    "start_time": "2025-04-08T13:42:34.678Z"
   },
   {
    "duration": 11,
    "start_time": "2025-04-08T13:47:25.428Z"
   },
   {
    "duration": 8,
    "start_time": "2025-04-08T13:50:49.609Z"
   },
   {
    "duration": 14,
    "start_time": "2025-04-08T13:51:04.635Z"
   },
   {
    "duration": 8,
    "start_time": "2025-04-08T13:53:03.058Z"
   },
   {
    "duration": 4140,
    "start_time": "2025-04-08T13:53:50.658Z"
   },
   {
    "duration": 97,
    "start_time": "2025-04-08T13:54:06.927Z"
   },
   {
    "duration": 6514,
    "start_time": "2025-04-08T13:54:10.838Z"
   },
   {
    "duration": 44417,
    "start_time": "2025-04-08T13:54:42.539Z"
   },
   {
    "duration": 9,
    "start_time": "2025-04-08T13:56:37.458Z"
   },
   {
    "duration": 6310,
    "start_time": "2025-04-08T13:56:47.549Z"
   },
   {
    "duration": 15,
    "start_time": "2025-04-08T13:57:25.414Z"
   },
   {
    "duration": 13,
    "start_time": "2025-04-08T13:59:06.177Z"
   },
   {
    "duration": 6480,
    "start_time": "2025-04-08T13:59:09.570Z"
   },
   {
    "duration": 5566,
    "start_time": "2025-04-08T13:59:21.621Z"
   },
   {
    "duration": 26,
    "start_time": "2025-04-08T13:59:39.940Z"
   },
   {
    "duration": 896,
    "start_time": "2025-04-08T14:02:26.676Z"
   },
   {
    "duration": 503,
    "start_time": "2025-04-08T14:02:27.574Z"
   },
   {
    "duration": 66,
    "start_time": "2025-04-08T14:02:28.079Z"
   },
   {
    "duration": 12,
    "start_time": "2025-04-08T14:02:28.148Z"
   },
   {
    "duration": 9,
    "start_time": "2025-04-08T14:02:28.161Z"
   },
   {
    "duration": 12,
    "start_time": "2025-04-08T14:02:28.172Z"
   },
   {
    "duration": 45,
    "start_time": "2025-04-08T14:02:28.186Z"
   },
   {
    "duration": 12,
    "start_time": "2025-04-08T14:02:28.232Z"
   },
   {
    "duration": 9,
    "start_time": "2025-04-08T14:02:28.245Z"
   },
   {
    "duration": 4,
    "start_time": "2025-04-08T14:02:28.257Z"
   },
   {
    "duration": 182,
    "start_time": "2025-04-08T14:02:28.262Z"
   },
   {
    "duration": 4,
    "start_time": "2025-04-08T14:02:28.445Z"
   },
   {
    "duration": 77,
    "start_time": "2025-04-08T14:02:28.450Z"
   },
   {
    "duration": 2,
    "start_time": "2025-04-08T14:02:28.529Z"
   },
   {
    "duration": 8,
    "start_time": "2025-04-08T14:02:28.533Z"
   },
   {
    "duration": 7,
    "start_time": "2025-04-08T14:02:28.543Z"
   },
   {
    "duration": 4,
    "start_time": "2025-04-08T14:02:28.552Z"
   },
   {
    "duration": 224,
    "start_time": "2025-04-08T14:02:28.558Z"
   },
   {
    "duration": 214,
    "start_time": "2025-04-08T14:02:28.784Z"
   },
   {
    "duration": 212,
    "start_time": "2025-04-08T14:02:29.001Z"
   },
   {
    "duration": 194,
    "start_time": "2025-04-08T14:02:29.215Z"
   },
   {
    "duration": 14,
    "start_time": "2025-04-08T14:02:29.411Z"
   },
   {
    "duration": 7,
    "start_time": "2025-04-08T14:02:29.427Z"
   },
   {
    "duration": 268,
    "start_time": "2025-04-08T14:02:29.435Z"
   },
   {
    "duration": 314,
    "start_time": "2025-04-08T14:02:29.704Z"
   },
   {
    "duration": 243,
    "start_time": "2025-04-08T14:02:30.024Z"
   },
   {
    "duration": 5,
    "start_time": "2025-04-08T14:02:30.268Z"
   },
   {
    "duration": 12,
    "start_time": "2025-04-08T14:02:30.276Z"
   },
   {
    "duration": 7,
    "start_time": "2025-04-08T14:02:30.290Z"
   },
   {
    "duration": 6432,
    "start_time": "2025-04-08T14:02:30.298Z"
   },
   {
    "duration": 371877,
    "start_time": "2025-04-08T14:02:36.731Z"
   },
   {
    "duration": 116,
    "start_time": "2025-04-08T14:08:48.611Z"
   },
   {
    "duration": 5641,
    "start_time": "2025-04-08T14:08:48.729Z"
   },
   {
    "duration": 287795,
    "start_time": "2025-04-08T14:08:54.373Z"
   },
   {
    "duration": 67,
    "start_time": "2025-04-08T14:13:42.170Z"
   },
   {
    "duration": 9599,
    "start_time": "2025-04-08T14:13:42.239Z"
   },
   {
    "duration": 0,
    "start_time": "2025-04-08T14:13:51.840Z"
   },
   {
    "duration": 921,
    "start_time": "2025-04-08T16:49:00.693Z"
   },
   {
    "duration": 530,
    "start_time": "2025-04-08T16:49:01.616Z"
   },
   {
    "duration": 85,
    "start_time": "2025-04-08T16:49:02.148Z"
   },
   {
    "duration": 12,
    "start_time": "2025-04-08T16:49:02.234Z"
   },
   {
    "duration": 9,
    "start_time": "2025-04-08T16:49:02.249Z"
   },
   {
    "duration": 13,
    "start_time": "2025-04-08T16:49:02.260Z"
   },
   {
    "duration": 49,
    "start_time": "2025-04-08T16:49:02.275Z"
   },
   {
    "duration": 13,
    "start_time": "2025-04-08T16:49:02.326Z"
   },
   {
    "duration": 9,
    "start_time": "2025-04-08T16:49:02.341Z"
   },
   {
    "duration": 4,
    "start_time": "2025-04-08T16:49:02.352Z"
   },
   {
    "duration": 180,
    "start_time": "2025-04-08T16:49:02.358Z"
   },
   {
    "duration": 5,
    "start_time": "2025-04-08T16:49:02.539Z"
   },
   {
    "duration": 79,
    "start_time": "2025-04-08T16:49:02.546Z"
   },
   {
    "duration": 3,
    "start_time": "2025-04-08T16:49:02.629Z"
   },
   {
    "duration": 10,
    "start_time": "2025-04-08T16:49:02.633Z"
   },
   {
    "duration": 6,
    "start_time": "2025-04-08T16:49:02.645Z"
   },
   {
    "duration": 5,
    "start_time": "2025-04-08T16:49:02.653Z"
   },
   {
    "duration": 239,
    "start_time": "2025-04-08T16:49:02.660Z"
   },
   {
    "duration": 217,
    "start_time": "2025-04-08T16:49:02.900Z"
   },
   {
    "duration": 229,
    "start_time": "2025-04-08T16:49:03.119Z"
   },
   {
    "duration": 209,
    "start_time": "2025-04-08T16:49:03.349Z"
   },
   {
    "duration": 8,
    "start_time": "2025-04-08T16:49:03.562Z"
   },
   {
    "duration": 7,
    "start_time": "2025-04-08T16:49:03.571Z"
   },
   {
    "duration": 277,
    "start_time": "2025-04-08T16:49:03.579Z"
   },
   {
    "duration": 359,
    "start_time": "2025-04-08T16:49:03.858Z"
   },
   {
    "duration": 254,
    "start_time": "2025-04-08T16:49:04.219Z"
   },
   {
    "duration": 4,
    "start_time": "2025-04-08T16:49:04.475Z"
   },
   {
    "duration": 14,
    "start_time": "2025-04-08T16:49:04.481Z"
   },
   {
    "duration": 7,
    "start_time": "2025-04-08T16:49:04.497Z"
   },
   {
    "duration": 6573,
    "start_time": "2025-04-08T16:49:04.527Z"
   },
   {
    "duration": 960,
    "start_time": "2025-04-08T16:51:21.879Z"
   },
   {
    "duration": 640,
    "start_time": "2025-04-08T16:51:22.843Z"
   },
   {
    "duration": 70,
    "start_time": "2025-04-08T16:51:23.485Z"
   },
   {
    "duration": 15,
    "start_time": "2025-04-08T16:51:23.557Z"
   },
   {
    "duration": 10,
    "start_time": "2025-04-08T16:51:23.575Z"
   },
   {
    "duration": 13,
    "start_time": "2025-04-08T16:51:23.587Z"
   },
   {
    "duration": 21,
    "start_time": "2025-04-08T16:51:23.624Z"
   },
   {
    "duration": 16,
    "start_time": "2025-04-08T16:51:23.647Z"
   },
   {
    "duration": 11,
    "start_time": "2025-04-08T16:51:23.666Z"
   },
   {
    "duration": 6,
    "start_time": "2025-04-08T16:51:23.679Z"
   },
   {
    "duration": 298,
    "start_time": "2025-04-08T16:51:23.686Z"
   },
   {
    "duration": 9,
    "start_time": "2025-04-08T16:51:23.988Z"
   },
   {
    "duration": 103,
    "start_time": "2025-04-08T16:51:24.000Z"
   },
   {
    "duration": 4,
    "start_time": "2025-04-08T16:51:24.108Z"
   },
   {
    "duration": 9,
    "start_time": "2025-04-08T16:51:24.115Z"
   },
   {
    "duration": 9,
    "start_time": "2025-04-08T16:51:24.127Z"
   },
   {
    "duration": 7,
    "start_time": "2025-04-08T16:51:24.137Z"
   },
   {
    "duration": 247,
    "start_time": "2025-04-08T16:51:24.146Z"
   },
   {
    "duration": 316,
    "start_time": "2025-04-08T16:51:24.394Z"
   },
   {
    "duration": 350,
    "start_time": "2025-04-08T16:51:24.712Z"
   },
   {
    "duration": 381,
    "start_time": "2025-04-08T16:51:25.065Z"
   },
   {
    "duration": 9,
    "start_time": "2025-04-08T16:51:25.448Z"
   },
   {
    "duration": 8,
    "start_time": "2025-04-08T16:51:25.459Z"
   },
   {
    "duration": 346,
    "start_time": "2025-04-08T16:51:25.469Z"
   },
   {
    "duration": 427,
    "start_time": "2025-04-08T16:51:25.826Z"
   },
   {
    "duration": 397,
    "start_time": "2025-04-08T16:51:26.259Z"
   },
   {
    "duration": 6,
    "start_time": "2025-04-08T16:51:26.662Z"
   },
   {
    "duration": 26,
    "start_time": "2025-04-08T16:51:26.674Z"
   },
   {
    "duration": 13,
    "start_time": "2025-04-08T16:51:26.706Z"
   },
   {
    "duration": 6607,
    "start_time": "2025-04-08T16:51:26.724Z"
   },
   {
    "duration": 4,
    "start_time": "2025-04-08T16:51:33.332Z"
   },
   {
    "duration": 0,
    "start_time": "2025-04-08T16:51:33.339Z"
   },
   {
    "duration": 0,
    "start_time": "2025-04-08T16:51:33.340Z"
   },
   {
    "duration": 0,
    "start_time": "2025-04-08T16:51:33.341Z"
   },
   {
    "duration": 0,
    "start_time": "2025-04-08T16:51:33.343Z"
   },
   {
    "duration": 0,
    "start_time": "2025-04-08T16:51:33.344Z"
   },
   {
    "duration": 0,
    "start_time": "2025-04-08T16:51:33.345Z"
   },
   {
    "duration": 871,
    "start_time": "2025-04-08T16:51:57.883Z"
   },
   {
    "duration": 497,
    "start_time": "2025-04-08T16:51:58.756Z"
   },
   {
    "duration": 75,
    "start_time": "2025-04-08T16:51:59.255Z"
   },
   {
    "duration": 12,
    "start_time": "2025-04-08T16:51:59.332Z"
   },
   {
    "duration": 10,
    "start_time": "2025-04-08T16:51:59.347Z"
   },
   {
    "duration": 13,
    "start_time": "2025-04-08T16:51:59.358Z"
   },
   {
    "duration": 19,
    "start_time": "2025-04-08T16:51:59.372Z"
   },
   {
    "duration": 41,
    "start_time": "2025-04-08T16:51:59.393Z"
   },
   {
    "duration": 8,
    "start_time": "2025-04-08T16:51:59.436Z"
   },
   {
    "duration": 3,
    "start_time": "2025-04-08T16:51:59.446Z"
   },
   {
    "duration": 202,
    "start_time": "2025-04-08T16:51:59.451Z"
   },
   {
    "duration": 5,
    "start_time": "2025-04-08T16:51:59.655Z"
   },
   {
    "duration": 85,
    "start_time": "2025-04-08T16:51:59.662Z"
   },
   {
    "duration": 3,
    "start_time": "2025-04-08T16:51:59.751Z"
   },
   {
    "duration": 8,
    "start_time": "2025-04-08T16:51:59.755Z"
   },
   {
    "duration": 6,
    "start_time": "2025-04-08T16:51:59.765Z"
   },
   {
    "duration": 4,
    "start_time": "2025-04-08T16:51:59.772Z"
   },
   {
    "duration": 236,
    "start_time": "2025-04-08T16:51:59.777Z"
   },
   {
    "duration": 200,
    "start_time": "2025-04-08T16:52:00.015Z"
   },
   {
    "duration": 210,
    "start_time": "2025-04-08T16:52:00.224Z"
   },
   {
    "duration": 202,
    "start_time": "2025-04-08T16:52:00.436Z"
   },
   {
    "duration": 6,
    "start_time": "2025-04-08T16:52:00.640Z"
   },
   {
    "duration": 5,
    "start_time": "2025-04-08T16:52:00.649Z"
   },
   {
    "duration": 268,
    "start_time": "2025-04-08T16:52:00.656Z"
   },
   {
    "duration": 308,
    "start_time": "2025-04-08T16:52:00.926Z"
   },
   {
    "duration": 244,
    "start_time": "2025-04-08T16:52:01.237Z"
   },
   {
    "duration": 4,
    "start_time": "2025-04-08T16:52:01.484Z"
   },
   {
    "duration": 13,
    "start_time": "2025-04-08T16:52:01.490Z"
   },
   {
    "duration": 23,
    "start_time": "2025-04-08T16:52:01.504Z"
   },
   {
    "duration": 6484,
    "start_time": "2025-04-08T16:52:01.528Z"
   },
   {
    "duration": 13465,
    "start_time": "2025-04-08T16:52:08.013Z"
   },
   {
    "duration": 161,
    "start_time": "2025-04-08T16:52:21.480Z"
   },
   {
    "duration": 20141,
    "start_time": "2025-04-08T16:52:21.643Z"
   },
   {
    "duration": 43230,
    "start_time": "2025-04-08T16:52:41.786Z"
   },
   {
    "duration": 119,
    "start_time": "2025-04-08T16:53:25.018Z"
   },
   {
    "duration": 20380,
    "start_time": "2025-04-08T16:53:25.139Z"
   },
   {
    "duration": 45,
    "start_time": "2025-04-08T16:53:45.522Z"
   },
   {
    "duration": 150,
    "start_time": "2025-04-08T16:54:53.024Z"
   },
   {
    "duration": 21,
    "start_time": "2025-04-08T16:55:12.118Z"
   },
   {
    "duration": 21,
    "start_time": "2025-04-08T16:55:20.565Z"
   },
   {
    "duration": 15,
    "start_time": "2025-04-08T16:55:27.624Z"
   },
   {
    "duration": 14,
    "start_time": "2025-04-08T16:55:39.772Z"
   },
   {
    "duration": 22,
    "start_time": "2025-04-08T16:56:25.592Z"
   },
   {
    "duration": 7,
    "start_time": "2025-04-08T16:59:45.797Z"
   },
   {
    "duration": 9774,
    "start_time": "2025-04-08T17:00:04.983Z"
   },
   {
    "duration": 10162,
    "start_time": "2025-04-08T17:00:33.190Z"
   },
   {
    "duration": 10031,
    "start_time": "2025-04-08T17:00:49.358Z"
   },
   {
    "duration": 878,
    "start_time": "2025-04-08T17:13:22.688Z"
   },
   {
    "duration": 495,
    "start_time": "2025-04-08T17:13:23.568Z"
   },
   {
    "duration": 63,
    "start_time": "2025-04-08T17:13:24.064Z"
   },
   {
    "duration": 13,
    "start_time": "2025-04-08T17:13:24.129Z"
   },
   {
    "duration": 10,
    "start_time": "2025-04-08T17:13:24.145Z"
   },
   {
    "duration": 12,
    "start_time": "2025-04-08T17:13:24.156Z"
   },
   {
    "duration": 19,
    "start_time": "2025-04-08T17:13:24.170Z"
   },
   {
    "duration": 41,
    "start_time": "2025-04-08T17:13:24.191Z"
   },
   {
    "duration": 9,
    "start_time": "2025-04-08T17:13:24.234Z"
   },
   {
    "duration": 5,
    "start_time": "2025-04-08T17:13:24.245Z"
   },
   {
    "duration": 178,
    "start_time": "2025-04-08T17:13:24.251Z"
   },
   {
    "duration": 5,
    "start_time": "2025-04-08T17:13:24.430Z"
   },
   {
    "duration": 66,
    "start_time": "2025-04-08T17:13:24.436Z"
   },
   {
    "duration": 2,
    "start_time": "2025-04-08T17:13:24.505Z"
   },
   {
    "duration": 8,
    "start_time": "2025-04-08T17:13:24.525Z"
   },
   {
    "duration": 6,
    "start_time": "2025-04-08T17:13:24.535Z"
   },
   {
    "duration": 4,
    "start_time": "2025-04-08T17:13:24.542Z"
   },
   {
    "duration": 235,
    "start_time": "2025-04-08T17:13:24.548Z"
   },
   {
    "duration": 202,
    "start_time": "2025-04-08T17:13:24.785Z"
   },
   {
    "duration": 226,
    "start_time": "2025-04-08T17:13:24.988Z"
   },
   {
    "duration": 235,
    "start_time": "2025-04-08T17:13:25.217Z"
   },
   {
    "duration": 8,
    "start_time": "2025-04-08T17:13:25.454Z"
   },
   {
    "duration": 6,
    "start_time": "2025-04-08T17:13:25.463Z"
   },
   {
    "duration": 279,
    "start_time": "2025-04-08T17:13:25.471Z"
   },
   {
    "duration": 333,
    "start_time": "2025-04-08T17:13:25.752Z"
   },
   {
    "duration": 254,
    "start_time": "2025-04-08T17:13:26.087Z"
   },
   {
    "duration": 4,
    "start_time": "2025-04-08T17:13:26.343Z"
   },
   {
    "duration": 10,
    "start_time": "2025-04-08T17:13:26.349Z"
   },
   {
    "duration": 6,
    "start_time": "2025-04-08T17:13:26.360Z"
   },
   {
    "duration": 6485,
    "start_time": "2025-04-08T17:13:26.368Z"
   },
   {
    "duration": 13573,
    "start_time": "2025-04-08T17:13:32.855Z"
   },
   {
    "duration": 202,
    "start_time": "2025-04-08T17:13:46.430Z"
   },
   {
    "duration": 11403,
    "start_time": "2025-04-08T17:13:46.635Z"
   },
   {
    "duration": 6228,
    "start_time": "2025-04-08T17:13:58.040Z"
   },
   {
    "duration": 68,
    "start_time": "2025-04-08T17:14:04.270Z"
   },
   {
    "duration": 13741,
    "start_time": "2025-04-08T17:14:04.341Z"
   },
   {
    "duration": 0,
    "start_time": "2025-04-08T17:14:18.084Z"
   },
   {
    "duration": 12260,
    "start_time": "2025-04-08T17:17:09.573Z"
   },
   {
    "duration": 97041,
    "start_time": "2025-04-08T17:20:24.807Z"
   },
   {
    "duration": 9621,
    "start_time": "2025-04-08T17:25:44.047Z"
   },
   {
    "duration": 14,
    "start_time": "2025-04-08T17:26:43.957Z"
   },
   {
    "duration": 6,
    "start_time": "2025-04-08T18:35:34.434Z"
   },
   {
    "duration": 19,
    "start_time": "2025-04-08T18:35:45.204Z"
   },
   {
    "duration": 6370,
    "start_time": "2025-04-08T18:35:53.667Z"
   },
   {
    "duration": 5497,
    "start_time": "2025-04-08T18:36:11.172Z"
   },
   {
    "duration": 889,
    "start_time": "2025-04-08T18:37:09.014Z"
   },
   {
    "duration": 517,
    "start_time": "2025-04-08T18:37:09.906Z"
   },
   {
    "duration": 63,
    "start_time": "2025-04-08T18:37:10.424Z"
   },
   {
    "duration": 12,
    "start_time": "2025-04-08T18:37:10.490Z"
   },
   {
    "duration": 9,
    "start_time": "2025-04-08T18:37:10.524Z"
   },
   {
    "duration": 12,
    "start_time": "2025-04-08T18:37:10.536Z"
   },
   {
    "duration": 20,
    "start_time": "2025-04-08T18:37:10.550Z"
   },
   {
    "duration": 11,
    "start_time": "2025-04-08T18:37:10.571Z"
   },
   {
    "duration": 9,
    "start_time": "2025-04-08T18:37:10.584Z"
   },
   {
    "duration": 4,
    "start_time": "2025-04-08T18:37:10.624Z"
   },
   {
    "duration": 167,
    "start_time": "2025-04-08T18:37:10.630Z"
   },
   {
    "duration": 4,
    "start_time": "2025-04-08T18:37:10.799Z"
   },
   {
    "duration": 79,
    "start_time": "2025-04-08T18:37:10.805Z"
   },
   {
    "duration": 3,
    "start_time": "2025-04-08T18:37:10.886Z"
   },
   {
    "duration": 9,
    "start_time": "2025-04-08T18:37:10.890Z"
   },
   {
    "duration": 23,
    "start_time": "2025-04-08T18:37:10.900Z"
   },
   {
    "duration": 4,
    "start_time": "2025-04-08T18:37:10.925Z"
   },
   {
    "duration": 236,
    "start_time": "2025-04-08T18:37:10.931Z"
   },
   {
    "duration": 209,
    "start_time": "2025-04-08T18:37:11.169Z"
   },
   {
    "duration": 220,
    "start_time": "2025-04-08T18:37:11.380Z"
   },
   {
    "duration": 201,
    "start_time": "2025-04-08T18:37:11.602Z"
   },
   {
    "duration": 6,
    "start_time": "2025-04-08T18:37:11.804Z"
   },
   {
    "duration": 5,
    "start_time": "2025-04-08T18:37:11.824Z"
   },
   {
    "duration": 266,
    "start_time": "2025-04-08T18:37:11.831Z"
   },
   {
    "duration": 310,
    "start_time": "2025-04-08T18:37:12.099Z"
   },
   {
    "duration": 245,
    "start_time": "2025-04-08T18:37:12.411Z"
   },
   {
    "duration": 4,
    "start_time": "2025-04-08T18:37:12.659Z"
   },
   {
    "duration": 14,
    "start_time": "2025-04-08T18:37:12.667Z"
   },
   {
    "duration": 6,
    "start_time": "2025-04-08T18:37:12.683Z"
   },
   {
    "duration": 6442,
    "start_time": "2025-04-08T18:37:12.690Z"
   },
   {
    "duration": 4,
    "start_time": "2025-04-08T18:37:19.134Z"
   },
   {
    "duration": 191,
    "start_time": "2025-04-08T18:37:19.140Z"
   },
   {
    "duration": 6418,
    "start_time": "2025-04-08T18:37:19.334Z"
   },
   {
    "duration": 5515,
    "start_time": "2025-04-08T18:37:25.754Z"
   },
   {
    "duration": 64,
    "start_time": "2025-04-08T18:37:31.270Z"
   },
   {
    "duration": 10210,
    "start_time": "2025-04-08T18:37:31.337Z"
   },
   {
    "duration": 0,
    "start_time": "2025-04-08T18:37:41.549Z"
   },
   {
    "duration": 13,
    "start_time": "2025-04-08T21:42:33.474Z"
   },
   {
    "duration": 9,
    "start_time": "2025-04-08T21:44:00.048Z"
   },
   {
    "duration": 27,
    "start_time": "2025-04-08T21:44:56.023Z"
   },
   {
    "duration": 13,
    "start_time": "2025-04-08T21:45:08.251Z"
   },
   {
    "duration": 6,
    "start_time": "2025-04-08T21:50:55.140Z"
   },
   {
    "duration": 15,
    "start_time": "2025-04-08T21:51:03.046Z"
   },
   {
    "duration": 4703,
    "start_time": "2025-04-08T21:51:22.753Z"
   },
   {
    "duration": 4049,
    "start_time": "2025-04-08T21:51:40.980Z"
   },
   {
    "duration": 468,
    "start_time": "2025-04-08T22:58:37.897Z"
   },
   {
    "duration": 3,
    "start_time": "2025-04-08T22:58:49.764Z"
   },
   {
    "duration": 604,
    "start_time": "2025-04-08T22:58:50.087Z"
   },
   {
    "duration": 13,
    "start_time": "2025-04-08T22:58:50.694Z"
   },
   {
    "duration": 17,
    "start_time": "2025-04-08T22:58:50.894Z"
   },
   {
    "duration": 10,
    "start_time": "2025-04-08T22:58:51.151Z"
   },
   {
    "duration": 14,
    "start_time": "2025-04-08T22:58:51.460Z"
   },
   {
    "duration": 22,
    "start_time": "2025-04-08T22:58:52.340Z"
   },
   {
    "duration": 16,
    "start_time": "2025-04-08T22:58:54.091Z"
   },
   {
    "duration": 10,
    "start_time": "2025-04-08T22:58:55.164Z"
   },
   {
    "duration": 4,
    "start_time": "2025-04-08T22:58:56.567Z"
   },
   {
    "duration": 196,
    "start_time": "2025-04-08T22:58:56.971Z"
   },
   {
    "duration": 4,
    "start_time": "2025-04-08T22:58:58.298Z"
   },
   {
    "duration": 88,
    "start_time": "2025-04-08T22:58:58.516Z"
   },
   {
    "duration": 3,
    "start_time": "2025-04-08T22:58:59.180Z"
   },
   {
    "duration": 10,
    "start_time": "2025-04-08T22:59:00.056Z"
   },
   {
    "duration": 9,
    "start_time": "2025-04-08T22:59:00.444Z"
   },
   {
    "duration": 4,
    "start_time": "2025-04-08T22:59:00.716Z"
   },
   {
    "duration": 303,
    "start_time": "2025-04-08T22:59:02.207Z"
   },
   {
    "duration": 236,
    "start_time": "2025-04-08T22:59:02.603Z"
   },
   {
    "duration": 257,
    "start_time": "2025-04-08T22:59:03.136Z"
   },
   {
    "duration": 232,
    "start_time": "2025-04-08T22:59:04.851Z"
   },
   {
    "duration": 8,
    "start_time": "2025-04-08T22:59:05.249Z"
   },
   {
    "duration": 7,
    "start_time": "2025-04-08T22:59:06.782Z"
   },
   {
    "duration": 334,
    "start_time": "2025-04-08T22:59:08.413Z"
   },
   {
    "duration": 255,
    "start_time": "2025-04-08T22:59:08.749Z"
   },
   {
    "duration": 275,
    "start_time": "2025-04-08T22:59:09.044Z"
   },
   {
    "duration": 4,
    "start_time": "2025-04-08T22:59:11.454Z"
   },
   {
    "duration": 230,
    "start_time": "2025-04-08T22:59:13.749Z"
   },
   {
    "duration": 4,
    "start_time": "2025-04-08T23:00:32.796Z"
   },
   {
    "duration": 11,
    "start_time": "2025-04-08T23:00:44.660Z"
   },
   {
    "duration": 8,
    "start_time": "2025-04-08T23:00:53.769Z"
   },
   {
    "duration": 1547,
    "start_time": "2025-04-08T23:02:24.018Z"
   },
   {
    "duration": 1561,
    "start_time": "2025-04-08T23:02:32.725Z"
   },
   {
    "duration": 1639,
    "start_time": "2025-04-08T23:04:04.481Z"
   },
   {
    "duration": 5,
    "start_time": "2025-04-08T23:04:22.184Z"
   },
   {
    "duration": 1582,
    "start_time": "2025-04-08T23:04:26.808Z"
   },
   {
    "duration": 1894,
    "start_time": "2025-04-08T23:05:21.857Z"
   },
   {
    "duration": 1978,
    "start_time": "2025-04-08T23:05:38.969Z"
   },
   {
    "duration": 1909,
    "start_time": "2025-04-08T23:06:32.648Z"
   },
   {
    "duration": 1892,
    "start_time": "2025-04-08T23:06:40.718Z"
   },
   {
    "duration": 1998,
    "start_time": "2025-04-08T23:06:52.181Z"
   },
   {
    "duration": 1458,
    "start_time": "2025-04-08T23:07:11.188Z"
   },
   {
    "duration": 1466,
    "start_time": "2025-04-08T23:07:19.190Z"
   },
   {
    "duration": 15,
    "start_time": "2025-04-08T23:11:18.555Z"
   },
   {
    "duration": 1020,
    "start_time": "2025-04-08T23:11:32.532Z"
   },
   {
    "duration": 611,
    "start_time": "2025-04-08T23:11:33.554Z"
   },
   {
    "duration": 15,
    "start_time": "2025-04-08T23:11:34.168Z"
   },
   {
    "duration": 12,
    "start_time": "2025-04-08T23:11:34.186Z"
   },
   {
    "duration": 10,
    "start_time": "2025-04-08T23:11:34.199Z"
   },
   {
    "duration": 42,
    "start_time": "2025-04-08T23:11:34.210Z"
   },
   {
    "duration": 30,
    "start_time": "2025-04-08T23:11:34.409Z"
   },
   {
    "duration": 11,
    "start_time": "2025-04-08T23:11:34.669Z"
   },
   {
    "duration": 9,
    "start_time": "2025-04-08T23:11:34.955Z"
   },
   {
    "duration": 13,
    "start_time": "2025-04-08T23:11:35.936Z"
   },
   {
    "duration": 177,
    "start_time": "2025-04-08T23:11:36.244Z"
   },
   {
    "duration": 5,
    "start_time": "2025-04-08T23:11:36.957Z"
   },
   {
    "duration": 80,
    "start_time": "2025-04-08T23:11:37.132Z"
   },
   {
    "duration": 3,
    "start_time": "2025-04-08T23:11:37.476Z"
   },
   {
    "duration": 9,
    "start_time": "2025-04-08T23:11:38.072Z"
   },
   {
    "duration": 8,
    "start_time": "2025-04-08T23:11:38.349Z"
   },
   {
    "duration": 8,
    "start_time": "2025-04-08T23:11:38.619Z"
   },
   {
    "duration": 238,
    "start_time": "2025-04-08T23:11:39.562Z"
   },
   {
    "duration": 284,
    "start_time": "2025-04-08T23:11:39.804Z"
   },
   {
    "duration": 300,
    "start_time": "2025-04-08T23:11:40.373Z"
   },
   {
    "duration": 330,
    "start_time": "2025-04-08T23:11:40.957Z"
   },
   {
    "duration": 7,
    "start_time": "2025-04-08T23:11:41.289Z"
   },
   {
    "duration": 7,
    "start_time": "2025-04-08T23:11:41.605Z"
   },
   {
    "duration": 274,
    "start_time": "2025-04-08T23:11:42.681Z"
   },
   {
    "duration": 286,
    "start_time": "2025-04-08T23:11:43.261Z"
   },
   {
    "duration": 255,
    "start_time": "2025-04-08T23:11:43.652Z"
   },
   {
    "duration": 5,
    "start_time": "2025-04-08T23:11:44.890Z"
   },
   {
    "duration": 6,
    "start_time": "2025-04-08T23:11:47.212Z"
   },
   {
    "duration": 9,
    "start_time": "2025-04-08T23:11:48.212Z"
   },
   {
    "duration": 1122,
    "start_time": "2025-04-08T23:15:01.817Z"
   },
   {
    "duration": 706,
    "start_time": "2025-04-08T23:15:02.941Z"
   },
   {
    "duration": 106,
    "start_time": "2025-04-08T23:15:03.649Z"
   },
   {
    "duration": 16,
    "start_time": "2025-04-08T23:15:03.759Z"
   },
   {
    "duration": 12,
    "start_time": "2025-04-08T23:15:03.778Z"
   },
   {
    "duration": 14,
    "start_time": "2025-04-08T23:15:03.791Z"
   },
   {
    "duration": 56,
    "start_time": "2025-04-08T23:15:03.807Z"
   },
   {
    "duration": 15,
    "start_time": "2025-04-08T23:15:03.865Z"
   },
   {
    "duration": 9,
    "start_time": "2025-04-08T23:15:03.884Z"
   },
   {
    "duration": 4,
    "start_time": "2025-04-08T23:15:03.895Z"
   },
   {
    "duration": 206,
    "start_time": "2025-04-08T23:15:03.901Z"
   },
   {
    "duration": 5,
    "start_time": "2025-04-08T23:15:04.110Z"
   },
   {
    "duration": 135,
    "start_time": "2025-04-08T23:15:04.120Z"
   },
   {
    "duration": 3,
    "start_time": "2025-04-08T23:15:04.267Z"
   },
   {
    "duration": 11,
    "start_time": "2025-04-08T23:15:04.272Z"
   },
   {
    "duration": 7,
    "start_time": "2025-04-08T23:15:04.285Z"
   },
   {
    "duration": 7,
    "start_time": "2025-04-08T23:15:04.293Z"
   },
   {
    "duration": 315,
    "start_time": "2025-04-08T23:15:04.301Z"
   },
   {
    "duration": 257,
    "start_time": "2025-04-08T23:15:04.618Z"
   },
   {
    "duration": 238,
    "start_time": "2025-04-08T23:15:04.877Z"
   },
   {
    "duration": 280,
    "start_time": "2025-04-08T23:15:05.118Z"
   },
   {
    "duration": 7,
    "start_time": "2025-04-08T23:15:05.400Z"
   },
   {
    "duration": 9,
    "start_time": "2025-04-08T23:15:05.409Z"
   },
   {
    "duration": 339,
    "start_time": "2025-04-08T23:15:05.428Z"
   },
   {
    "duration": 354,
    "start_time": "2025-04-08T23:15:05.768Z"
   },
   {
    "duration": 290,
    "start_time": "2025-04-08T23:15:06.123Z"
   },
   {
    "duration": 4,
    "start_time": "2025-04-08T23:15:06.415Z"
   },
   {
    "duration": 8,
    "start_time": "2025-04-08T23:15:06.421Z"
   },
   {
    "duration": 21,
    "start_time": "2025-04-08T23:15:06.436Z"
   },
   {
    "duration": 4,
    "start_time": "2025-04-08T23:15:06.459Z"
   },
   {
    "duration": 0,
    "start_time": "2025-04-08T23:15:06.464Z"
   },
   {
    "duration": 0,
    "start_time": "2025-04-08T23:15:06.466Z"
   },
   {
    "duration": 0,
    "start_time": "2025-04-08T23:15:06.467Z"
   },
   {
    "duration": 0,
    "start_time": "2025-04-08T23:15:06.467Z"
   },
   {
    "duration": 0,
    "start_time": "2025-04-08T23:15:06.468Z"
   },
   {
    "duration": 0,
    "start_time": "2025-04-08T23:15:06.469Z"
   },
   {
    "duration": 0,
    "start_time": "2025-04-08T23:15:06.470Z"
   },
   {
    "duration": 0,
    "start_time": "2025-04-08T23:15:06.471Z"
   },
   {
    "duration": 0,
    "start_time": "2025-04-08T23:15:06.472Z"
   },
   {
    "duration": 0,
    "start_time": "2025-04-08T23:15:06.473Z"
   },
   {
    "duration": 0,
    "start_time": "2025-04-08T23:15:06.474Z"
   },
   {
    "duration": 0,
    "start_time": "2025-04-08T23:15:06.475Z"
   },
   {
    "duration": 0,
    "start_time": "2025-04-08T23:15:06.476Z"
   },
   {
    "duration": 963,
    "start_time": "2025-04-08T23:16:16.914Z"
   },
   {
    "duration": 573,
    "start_time": "2025-04-08T23:16:17.879Z"
   },
   {
    "duration": 56,
    "start_time": "2025-04-08T23:16:18.454Z"
   },
   {
    "duration": 31,
    "start_time": "2025-04-08T23:16:18.512Z"
   },
   {
    "duration": 11,
    "start_time": "2025-04-08T23:16:18.549Z"
   },
   {
    "duration": 12,
    "start_time": "2025-04-08T23:16:18.562Z"
   },
   {
    "duration": 20,
    "start_time": "2025-04-08T23:16:18.576Z"
   },
   {
    "duration": 11,
    "start_time": "2025-04-08T23:16:18.597Z"
   },
   {
    "duration": 38,
    "start_time": "2025-04-08T23:16:18.610Z"
   },
   {
    "duration": 5,
    "start_time": "2025-04-08T23:16:18.652Z"
   },
   {
    "duration": 211,
    "start_time": "2025-04-08T23:16:18.658Z"
   },
   {
    "duration": 6,
    "start_time": "2025-04-08T23:16:18.870Z"
   },
   {
    "duration": 81,
    "start_time": "2025-04-08T23:16:18.877Z"
   },
   {
    "duration": 3,
    "start_time": "2025-04-08T23:16:18.960Z"
   },
   {
    "duration": 8,
    "start_time": "2025-04-08T23:16:18.965Z"
   },
   {
    "duration": 6,
    "start_time": "2025-04-08T23:16:18.975Z"
   },
   {
    "duration": 5,
    "start_time": "2025-04-08T23:16:18.983Z"
   },
   {
    "duration": 264,
    "start_time": "2025-04-08T23:16:18.989Z"
   },
   {
    "duration": 210,
    "start_time": "2025-04-08T23:16:19.255Z"
   },
   {
    "duration": 284,
    "start_time": "2025-04-08T23:16:19.467Z"
   },
   {
    "duration": 239,
    "start_time": "2025-04-08T23:16:19.753Z"
   },
   {
    "duration": 7,
    "start_time": "2025-04-08T23:16:19.994Z"
   },
   {
    "duration": 5,
    "start_time": "2025-04-08T23:16:20.003Z"
   },
   {
    "duration": 291,
    "start_time": "2025-04-08T23:16:20.010Z"
   },
   {
    "duration": 363,
    "start_time": "2025-04-08T23:16:20.302Z"
   },
   {
    "duration": 276,
    "start_time": "2025-04-08T23:16:20.667Z"
   },
   {
    "duration": 5,
    "start_time": "2025-04-08T23:16:20.944Z"
   },
   {
    "duration": 12,
    "start_time": "2025-04-08T23:16:20.956Z"
   },
   {
    "duration": 9,
    "start_time": "2025-04-08T23:16:20.970Z"
   },
   {
    "duration": 971,
    "start_time": "2025-04-08T23:18:08.751Z"
   },
   {
    "duration": 585,
    "start_time": "2025-04-08T23:18:09.732Z"
   },
   {
    "duration": 70,
    "start_time": "2025-04-08T23:18:10.319Z"
   },
   {
    "duration": 35,
    "start_time": "2025-04-08T23:18:10.392Z"
   },
   {
    "duration": 30,
    "start_time": "2025-04-08T23:18:10.429Z"
   },
   {
    "duration": 17,
    "start_time": "2025-04-08T23:18:10.465Z"
   },
   {
    "duration": 25,
    "start_time": "2025-04-08T23:18:10.484Z"
   },
   {
    "duration": 44,
    "start_time": "2025-04-08T23:18:10.511Z"
   },
   {
    "duration": 13,
    "start_time": "2025-04-08T23:18:10.565Z"
   },
   {
    "duration": 4,
    "start_time": "2025-04-08T23:18:10.585Z"
   },
   {
    "duration": 279,
    "start_time": "2025-04-08T23:18:10.592Z"
   },
   {
    "duration": 4,
    "start_time": "2025-04-08T23:18:10.873Z"
   },
   {
    "duration": 76,
    "start_time": "2025-04-08T23:18:10.879Z"
   },
   {
    "duration": 3,
    "start_time": "2025-04-08T23:18:10.959Z"
   },
   {
    "duration": 9,
    "start_time": "2025-04-08T23:18:10.963Z"
   },
   {
    "duration": 15,
    "start_time": "2025-04-08T23:18:10.974Z"
   },
   {
    "duration": 5,
    "start_time": "2025-04-08T23:18:10.992Z"
   },
   {
    "duration": 236,
    "start_time": "2025-04-08T23:18:10.999Z"
   },
   {
    "duration": 237,
    "start_time": "2025-04-08T23:18:11.237Z"
   },
   {
    "duration": 272,
    "start_time": "2025-04-08T23:18:11.476Z"
   },
   {
    "duration": 233,
    "start_time": "2025-04-08T23:18:11.754Z"
   },
   {
    "duration": 7,
    "start_time": "2025-04-08T23:18:11.989Z"
   },
   {
    "duration": 7,
    "start_time": "2025-04-08T23:18:11.998Z"
   },
   {
    "duration": 287,
    "start_time": "2025-04-08T23:18:12.007Z"
   },
   {
    "duration": 382,
    "start_time": "2025-04-08T23:18:12.295Z"
   },
   {
    "duration": 280,
    "start_time": "2025-04-08T23:18:12.678Z"
   },
   {
    "duration": 4,
    "start_time": "2025-04-08T23:18:12.961Z"
   },
   {
    "duration": 4,
    "start_time": "2025-04-08T23:18:12.969Z"
   },
   {
    "duration": 8,
    "start_time": "2025-04-08T23:18:12.975Z"
   },
   {
    "duration": 915,
    "start_time": "2025-04-08T23:36:35.344Z"
   },
   {
    "duration": 486,
    "start_time": "2025-04-08T23:36:36.261Z"
   },
   {
    "duration": 66,
    "start_time": "2025-04-08T23:36:36.749Z"
   },
   {
    "duration": 13,
    "start_time": "2025-04-08T23:36:36.824Z"
   },
   {
    "duration": 9,
    "start_time": "2025-04-08T23:36:36.840Z"
   },
   {
    "duration": 12,
    "start_time": "2025-04-08T23:36:36.851Z"
   },
   {
    "duration": 19,
    "start_time": "2025-04-08T23:36:36.865Z"
   },
   {
    "duration": 43,
    "start_time": "2025-04-08T23:36:36.885Z"
   },
   {
    "duration": 8,
    "start_time": "2025-04-08T23:36:36.930Z"
   },
   {
    "duration": 4,
    "start_time": "2025-04-08T23:36:36.940Z"
   },
   {
    "duration": 171,
    "start_time": "2025-04-08T23:36:36.945Z"
   },
   {
    "duration": 9,
    "start_time": "2025-04-08T23:36:37.117Z"
   },
   {
    "duration": 66,
    "start_time": "2025-04-08T23:36:37.127Z"
   },
   {
    "duration": 3,
    "start_time": "2025-04-08T23:36:37.197Z"
   },
   {
    "duration": 26,
    "start_time": "2025-04-08T23:36:37.201Z"
   },
   {
    "duration": 6,
    "start_time": "2025-04-08T23:36:37.229Z"
   },
   {
    "duration": 4,
    "start_time": "2025-04-08T23:36:37.236Z"
   },
   {
    "duration": 218,
    "start_time": "2025-04-08T23:36:37.242Z"
   },
   {
    "duration": 200,
    "start_time": "2025-04-08T23:36:37.462Z"
   },
   {
    "duration": 223,
    "start_time": "2025-04-08T23:36:37.664Z"
   },
   {
    "duration": 199,
    "start_time": "2025-04-08T23:36:37.889Z"
   },
   {
    "duration": 6,
    "start_time": "2025-04-08T23:36:38.090Z"
   },
   {
    "duration": 6,
    "start_time": "2025-04-08T23:36:38.097Z"
   },
   {
    "duration": 279,
    "start_time": "2025-04-08T23:36:38.106Z"
   },
   {
    "duration": 300,
    "start_time": "2025-04-08T23:36:38.387Z"
   },
   {
    "duration": 241,
    "start_time": "2025-04-08T23:36:38.689Z"
   },
   {
    "duration": 6,
    "start_time": "2025-04-08T23:36:38.933Z"
   },
   {
    "duration": 4,
    "start_time": "2025-04-08T23:36:38.941Z"
   },
   {
    "duration": 9,
    "start_time": "2025-04-08T23:36:38.948Z"
   },
   {
    "duration": 1077,
    "start_time": "2025-04-08T23:40:51.966Z"
   },
   {
    "duration": 509,
    "start_time": "2025-04-08T23:40:53.045Z"
   },
   {
    "duration": 71,
    "start_time": "2025-04-08T23:40:53.556Z"
   },
   {
    "duration": 13,
    "start_time": "2025-04-08T23:40:53.630Z"
   },
   {
    "duration": 10,
    "start_time": "2025-04-08T23:40:53.644Z"
   },
   {
    "duration": 13,
    "start_time": "2025-04-08T23:40:53.656Z"
   },
   {
    "duration": 23,
    "start_time": "2025-04-08T23:40:53.671Z"
   },
   {
    "duration": 35,
    "start_time": "2025-04-08T23:40:53.696Z"
   },
   {
    "duration": 9,
    "start_time": "2025-04-08T23:40:53.732Z"
   },
   {
    "duration": 4,
    "start_time": "2025-04-08T23:40:53.744Z"
   },
   {
    "duration": 183,
    "start_time": "2025-04-08T23:40:53.749Z"
   },
   {
    "duration": 4,
    "start_time": "2025-04-08T23:40:53.934Z"
   },
   {
    "duration": 70,
    "start_time": "2025-04-08T23:40:53.939Z"
   },
   {
    "duration": 3,
    "start_time": "2025-04-08T23:40:54.024Z"
   },
   {
    "duration": 9,
    "start_time": "2025-04-08T23:40:54.028Z"
   },
   {
    "duration": 6,
    "start_time": "2025-04-08T23:40:54.038Z"
   },
   {
    "duration": 5,
    "start_time": "2025-04-08T23:40:54.045Z"
   },
   {
    "duration": 225,
    "start_time": "2025-04-08T23:40:54.052Z"
   },
   {
    "duration": 204,
    "start_time": "2025-04-08T23:40:54.279Z"
   },
   {
    "duration": 216,
    "start_time": "2025-04-08T23:40:54.485Z"
   },
   {
    "duration": 202,
    "start_time": "2025-04-08T23:40:54.703Z"
   },
   {
    "duration": 6,
    "start_time": "2025-04-08T23:40:54.908Z"
   },
   {
    "duration": 7,
    "start_time": "2025-04-08T23:40:54.925Z"
   },
   {
    "duration": 262,
    "start_time": "2025-04-08T23:40:54.934Z"
   },
   {
    "duration": 317,
    "start_time": "2025-04-08T23:40:55.198Z"
   },
   {
    "duration": 250,
    "start_time": "2025-04-08T23:40:55.517Z"
   },
   {
    "duration": 5,
    "start_time": "2025-04-08T23:40:55.768Z"
   },
   {
    "duration": 4,
    "start_time": "2025-04-08T23:40:55.777Z"
   },
   {
    "duration": 9,
    "start_time": "2025-04-08T23:40:55.782Z"
   },
   {
    "duration": 1897676,
    "start_time": "2025-04-08T23:40:55.794Z"
   },
   {
    "duration": 644,
    "start_time": "2025-04-09T00:12:33.472Z"
   },
   {
    "duration": 0,
    "start_time": "2025-04-09T00:12:34.117Z"
   },
   {
    "duration": 0,
    "start_time": "2025-04-09T00:12:34.119Z"
   },
   {
    "duration": 0,
    "start_time": "2025-04-09T00:12:34.124Z"
   },
   {
    "duration": 0,
    "start_time": "2025-04-09T00:12:34.125Z"
   },
   {
    "duration": 0,
    "start_time": "2025-04-09T00:12:34.127Z"
   },
   {
    "duration": 0,
    "start_time": "2025-04-09T00:12:34.128Z"
   },
   {
    "duration": 0,
    "start_time": "2025-04-09T00:12:34.129Z"
   },
   {
    "duration": 0,
    "start_time": "2025-04-09T00:12:34.131Z"
   },
   {
    "duration": 0,
    "start_time": "2025-04-09T00:12:34.132Z"
   },
   {
    "duration": 0,
    "start_time": "2025-04-09T00:12:34.133Z"
   },
   {
    "duration": 0,
    "start_time": "2025-04-09T00:12:34.135Z"
   },
   {
    "duration": 0,
    "start_time": "2025-04-09T00:12:34.136Z"
   },
   {
    "duration": 887,
    "start_time": "2025-04-09T00:45:44.881Z"
   },
   {
    "duration": 506,
    "start_time": "2025-04-09T00:45:45.772Z"
   },
   {
    "duration": 70,
    "start_time": "2025-04-09T00:45:46.280Z"
   },
   {
    "duration": 12,
    "start_time": "2025-04-09T00:45:46.353Z"
   },
   {
    "duration": 9,
    "start_time": "2025-04-09T00:45:46.366Z"
   },
   {
    "duration": 12,
    "start_time": "2025-04-09T00:45:46.378Z"
   },
   {
    "duration": 44,
    "start_time": "2025-04-09T00:45:46.392Z"
   },
   {
    "duration": 11,
    "start_time": "2025-04-09T00:45:46.438Z"
   },
   {
    "duration": 9,
    "start_time": "2025-04-09T00:45:46.450Z"
   },
   {
    "duration": 3,
    "start_time": "2025-04-09T00:45:46.462Z"
   },
   {
    "duration": 182,
    "start_time": "2025-04-09T00:45:46.466Z"
   },
   {
    "duration": 4,
    "start_time": "2025-04-09T00:45:46.651Z"
   },
   {
    "duration": 74,
    "start_time": "2025-04-09T00:45:46.656Z"
   },
   {
    "duration": 3,
    "start_time": "2025-04-09T00:45:46.732Z"
   },
   {
    "duration": 9,
    "start_time": "2025-04-09T00:45:46.736Z"
   },
   {
    "duration": 6,
    "start_time": "2025-04-09T00:45:46.747Z"
   },
   {
    "duration": 4,
    "start_time": "2025-04-09T00:45:46.755Z"
   },
   {
    "duration": 234,
    "start_time": "2025-04-09T00:45:46.760Z"
   },
   {
    "duration": 196,
    "start_time": "2025-04-09T00:45:46.996Z"
   },
   {
    "duration": 228,
    "start_time": "2025-04-09T00:45:47.194Z"
   },
   {
    "duration": 204,
    "start_time": "2025-04-09T00:45:47.424Z"
   },
   {
    "duration": 7,
    "start_time": "2025-04-09T00:45:47.630Z"
   },
   {
    "duration": 6,
    "start_time": "2025-04-09T00:45:47.639Z"
   },
   {
    "duration": 266,
    "start_time": "2025-04-09T00:45:47.646Z"
   },
   {
    "duration": 318,
    "start_time": "2025-04-09T00:45:47.914Z"
   },
   {
    "duration": 247,
    "start_time": "2025-04-09T00:45:48.234Z"
   },
   {
    "duration": 4,
    "start_time": "2025-04-09T00:45:48.483Z"
   },
   {
    "duration": 4,
    "start_time": "2025-04-09T00:45:48.491Z"
   },
   {
    "duration": 8,
    "start_time": "2025-04-09T00:45:48.497Z"
   },
   {
    "duration": 2871321,
    "start_time": "2025-04-09T00:45:48.525Z"
   },
   {
    "duration": 628,
    "start_time": "2025-04-09T01:33:39.848Z"
   },
   {
    "duration": 0,
    "start_time": "2025-04-09T01:33:40.478Z"
   },
   {
    "duration": 0,
    "start_time": "2025-04-09T01:33:40.480Z"
   },
   {
    "duration": 0,
    "start_time": "2025-04-09T01:33:40.481Z"
   },
   {
    "duration": 0,
    "start_time": "2025-04-09T01:33:40.483Z"
   },
   {
    "duration": 0,
    "start_time": "2025-04-09T01:33:40.484Z"
   },
   {
    "duration": 0,
    "start_time": "2025-04-09T01:33:40.486Z"
   },
   {
    "duration": 0,
    "start_time": "2025-04-09T01:33:40.487Z"
   },
   {
    "duration": 0,
    "start_time": "2025-04-09T01:33:40.489Z"
   },
   {
    "duration": 1,
    "start_time": "2025-04-09T01:33:40.490Z"
   },
   {
    "duration": 0,
    "start_time": "2025-04-09T01:33:40.492Z"
   },
   {
    "duration": 0,
    "start_time": "2025-04-09T01:33:40.494Z"
   },
   {
    "duration": 0,
    "start_time": "2025-04-09T01:33:40.523Z"
   },
   {
    "duration": 998,
    "start_time": "2025-04-09T02:02:56.753Z"
   },
   {
    "duration": 540,
    "start_time": "2025-04-09T02:02:57.754Z"
   },
   {
    "duration": 94,
    "start_time": "2025-04-09T02:02:58.296Z"
   },
   {
    "duration": 14,
    "start_time": "2025-04-09T02:02:58.392Z"
   },
   {
    "duration": 20,
    "start_time": "2025-04-09T02:02:58.409Z"
   },
   {
    "duration": 14,
    "start_time": "2025-04-09T02:02:58.430Z"
   },
   {
    "duration": 22,
    "start_time": "2025-04-09T02:02:58.445Z"
   },
   {
    "duration": 13,
    "start_time": "2025-04-09T02:02:58.469Z"
   },
   {
    "duration": 43,
    "start_time": "2025-04-09T02:02:58.485Z"
   },
   {
    "duration": 5,
    "start_time": "2025-04-09T02:02:58.530Z"
   },
   {
    "duration": 170,
    "start_time": "2025-04-09T02:02:58.537Z"
   },
   {
    "duration": 5,
    "start_time": "2025-04-09T02:02:58.709Z"
   },
   {
    "duration": 74,
    "start_time": "2025-04-09T02:02:58.725Z"
   },
   {
    "duration": 4,
    "start_time": "2025-04-09T02:02:58.804Z"
   },
   {
    "duration": 21,
    "start_time": "2025-04-09T02:02:58.810Z"
   },
   {
    "duration": 6,
    "start_time": "2025-04-09T02:02:58.833Z"
   },
   {
    "duration": 5,
    "start_time": "2025-04-09T02:02:58.841Z"
   },
   {
    "duration": 234,
    "start_time": "2025-04-09T02:02:58.847Z"
   },
   {
    "duration": 210,
    "start_time": "2025-04-09T02:02:59.083Z"
   },
   {
    "duration": 229,
    "start_time": "2025-04-09T02:02:59.295Z"
   },
   {
    "duration": 221,
    "start_time": "2025-04-09T02:02:59.526Z"
   },
   {
    "duration": 8,
    "start_time": "2025-04-09T02:02:59.749Z"
   },
   {
    "duration": 6,
    "start_time": "2025-04-09T02:02:59.758Z"
   },
   {
    "duration": 286,
    "start_time": "2025-04-09T02:02:59.766Z"
   },
   {
    "duration": 315,
    "start_time": "2025-04-09T02:03:00.054Z"
   },
   {
    "duration": 253,
    "start_time": "2025-04-09T02:03:00.371Z"
   },
   {
    "duration": 5,
    "start_time": "2025-04-09T02:03:00.625Z"
   },
   {
    "duration": 4,
    "start_time": "2025-04-09T02:03:00.632Z"
   },
   {
    "duration": 5,
    "start_time": "2025-04-09T02:03:00.637Z"
   },
   {
    "duration": 20841,
    "start_time": "2025-04-09T02:03:00.644Z"
   },
   {
    "duration": 3,
    "start_time": "2025-04-09T02:03:21.488Z"
   },
   {
    "duration": 233,
    "start_time": "2025-04-09T02:03:21.493Z"
   },
   {
    "duration": 329,
    "start_time": "2025-04-09T02:03:21.731Z"
   },
   {
    "duration": 0,
    "start_time": "2025-04-09T02:03:22.061Z"
   },
   {
    "duration": 5,
    "start_time": "2025-04-09T02:06:50.727Z"
   },
   {
    "duration": 5,
    "start_time": "2025-04-09T02:06:51.791Z"
   },
   {
    "duration": 4,
    "start_time": "2025-04-09T02:06:52.683Z"
   },
   {
    "duration": 686,
    "start_time": "2025-04-09T02:07:31.561Z"
   },
   {
    "duration": 0,
    "start_time": "2025-04-09T02:07:32.248Z"
   },
   {
    "duration": 898,
    "start_time": "2025-04-09T02:07:44.883Z"
   },
   {
    "duration": 501,
    "start_time": "2025-04-09T02:07:45.783Z"
   },
   {
    "duration": 69,
    "start_time": "2025-04-09T02:07:46.286Z"
   },
   {
    "duration": 12,
    "start_time": "2025-04-09T02:07:46.357Z"
   },
   {
    "duration": 9,
    "start_time": "2025-04-09T02:07:46.372Z"
   },
   {
    "duration": 12,
    "start_time": "2025-04-09T02:07:46.384Z"
   },
   {
    "duration": 45,
    "start_time": "2025-04-09T02:07:46.397Z"
   },
   {
    "duration": 10,
    "start_time": "2025-04-09T02:07:46.444Z"
   },
   {
    "duration": 9,
    "start_time": "2025-04-09T02:07:46.456Z"
   },
   {
    "duration": 4,
    "start_time": "2025-04-09T02:07:46.466Z"
   },
   {
    "duration": 188,
    "start_time": "2025-04-09T02:07:46.471Z"
   },
   {
    "duration": 4,
    "start_time": "2025-04-09T02:07:46.661Z"
   },
   {
    "duration": 77,
    "start_time": "2025-04-09T02:07:46.667Z"
   },
   {
    "duration": 3,
    "start_time": "2025-04-09T02:07:46.748Z"
   },
   {
    "duration": 9,
    "start_time": "2025-04-09T02:07:46.752Z"
   },
   {
    "duration": 8,
    "start_time": "2025-04-09T02:07:46.762Z"
   },
   {
    "duration": 4,
    "start_time": "2025-04-09T02:07:46.772Z"
   },
   {
    "duration": 228,
    "start_time": "2025-04-09T02:07:46.778Z"
   },
   {
    "duration": 195,
    "start_time": "2025-04-09T02:07:47.008Z"
   },
   {
    "duration": 221,
    "start_time": "2025-04-09T02:07:47.205Z"
   },
   {
    "duration": 207,
    "start_time": "2025-04-09T02:07:47.428Z"
   },
   {
    "duration": 6,
    "start_time": "2025-04-09T02:07:47.636Z"
   },
   {
    "duration": 5,
    "start_time": "2025-04-09T02:07:47.644Z"
   },
   {
    "duration": 289,
    "start_time": "2025-04-09T02:07:47.651Z"
   },
   {
    "duration": 304,
    "start_time": "2025-04-09T02:07:47.941Z"
   },
   {
    "duration": 248,
    "start_time": "2025-04-09T02:07:48.247Z"
   },
   {
    "duration": 5,
    "start_time": "2025-04-09T02:07:48.497Z"
   },
   {
    "duration": 20,
    "start_time": "2025-04-09T02:07:48.504Z"
   },
   {
    "duration": 3,
    "start_time": "2025-04-09T02:07:48.525Z"
   },
   {
    "duration": 9,
    "start_time": "2025-04-09T02:07:48.530Z"
   },
   {
    "duration": 21247,
    "start_time": "2025-04-09T02:07:48.541Z"
   },
   {
    "duration": 4,
    "start_time": "2025-04-09T02:08:09.790Z"
   },
   {
    "duration": 229,
    "start_time": "2025-04-09T02:08:09.797Z"
   },
   {
    "duration": 326,
    "start_time": "2025-04-09T02:08:10.028Z"
   },
   {
    "duration": 0,
    "start_time": "2025-04-09T02:08:10.356Z"
   },
   {
    "duration": 15,
    "start_time": "2025-04-09T02:08:50.685Z"
   },
   {
    "duration": 10,
    "start_time": "2025-04-09T02:11:18.115Z"
   },
   {
    "duration": 3,
    "start_time": "2025-04-09T02:14:36.657Z"
   },
   {
    "duration": 4,
    "start_time": "2025-04-09T02:14:54.366Z"
   },
   {
    "duration": 680,
    "start_time": "2025-04-09T02:15:28.107Z"
   },
   {
    "duration": 895,
    "start_time": "2025-04-09T02:15:48.015Z"
   },
   {
    "duration": 529,
    "start_time": "2025-04-09T02:15:48.912Z"
   },
   {
    "duration": 59,
    "start_time": "2025-04-09T02:15:49.443Z"
   },
   {
    "duration": 28,
    "start_time": "2025-04-09T02:15:49.504Z"
   },
   {
    "duration": 10,
    "start_time": "2025-04-09T02:15:49.533Z"
   },
   {
    "duration": 13,
    "start_time": "2025-04-09T02:15:49.544Z"
   },
   {
    "duration": 22,
    "start_time": "2025-04-09T02:15:49.558Z"
   },
   {
    "duration": 42,
    "start_time": "2025-04-09T02:15:49.583Z"
   },
   {
    "duration": 13,
    "start_time": "2025-04-09T02:15:49.626Z"
   },
   {
    "duration": 4,
    "start_time": "2025-04-09T02:15:49.642Z"
   },
   {
    "duration": 171,
    "start_time": "2025-04-09T02:15:49.648Z"
   },
   {
    "duration": 6,
    "start_time": "2025-04-09T02:15:49.823Z"
   },
   {
    "duration": 67,
    "start_time": "2025-04-09T02:15:49.831Z"
   },
   {
    "duration": 3,
    "start_time": "2025-04-09T02:15:49.900Z"
   },
   {
    "duration": 11,
    "start_time": "2025-04-09T02:15:49.924Z"
   },
   {
    "duration": 7,
    "start_time": "2025-04-09T02:15:49.937Z"
   },
   {
    "duration": 7,
    "start_time": "2025-04-09T02:15:49.945Z"
   },
   {
    "duration": 219,
    "start_time": "2025-04-09T02:15:49.953Z"
   },
   {
    "duration": 207,
    "start_time": "2025-04-09T02:15:50.174Z"
   },
   {
    "duration": 228,
    "start_time": "2025-04-09T02:15:50.383Z"
   },
   {
    "duration": 202,
    "start_time": "2025-04-09T02:15:50.613Z"
   },
   {
    "duration": 10,
    "start_time": "2025-04-09T02:15:50.817Z"
   },
   {
    "duration": 6,
    "start_time": "2025-04-09T02:15:50.828Z"
   },
   {
    "duration": 258,
    "start_time": "2025-04-09T02:15:50.835Z"
   },
   {
    "duration": 317,
    "start_time": "2025-04-09T02:15:51.095Z"
   },
   {
    "duration": 278,
    "start_time": "2025-04-09T02:15:51.414Z"
   },
   {
    "duration": 4,
    "start_time": "2025-04-09T02:15:51.694Z"
   },
   {
    "duration": 3,
    "start_time": "2025-04-09T02:15:51.703Z"
   },
   {
    "duration": 17,
    "start_time": "2025-04-09T02:15:51.708Z"
   },
   {
    "duration": 4,
    "start_time": "2025-04-09T02:15:51.727Z"
   },
   {
    "duration": 937,
    "start_time": "2025-04-09T02:15:51.732Z"
   },
   {
    "duration": 0,
    "start_time": "2025-04-09T02:15:52.671Z"
   },
   {
    "duration": 0,
    "start_time": "2025-04-09T02:15:52.672Z"
   },
   {
    "duration": 0,
    "start_time": "2025-04-09T02:15:52.673Z"
   },
   {
    "duration": 0,
    "start_time": "2025-04-09T02:15:52.674Z"
   },
   {
    "duration": 0,
    "start_time": "2025-04-09T02:15:52.675Z"
   },
   {
    "duration": 37,
    "start_time": "2025-04-09T02:16:16.320Z"
   },
   {
    "duration": 888,
    "start_time": "2025-04-09T02:16:23.972Z"
   },
   {
    "duration": 544,
    "start_time": "2025-04-09T02:16:24.863Z"
   },
   {
    "duration": 70,
    "start_time": "2025-04-09T02:16:25.408Z"
   },
   {
    "duration": 12,
    "start_time": "2025-04-09T02:16:25.480Z"
   },
   {
    "duration": 10,
    "start_time": "2025-04-09T02:16:25.494Z"
   },
   {
    "duration": 13,
    "start_time": "2025-04-09T02:16:25.523Z"
   },
   {
    "duration": 19,
    "start_time": "2025-04-09T02:16:25.537Z"
   },
   {
    "duration": 12,
    "start_time": "2025-04-09T02:16:25.558Z"
   },
   {
    "duration": 9,
    "start_time": "2025-04-09T02:16:25.572Z"
   },
   {
    "duration": 4,
    "start_time": "2025-04-09T02:16:25.583Z"
   },
   {
    "duration": 189,
    "start_time": "2025-04-09T02:16:25.589Z"
   },
   {
    "duration": 4,
    "start_time": "2025-04-09T02:16:25.780Z"
   },
   {
    "duration": 75,
    "start_time": "2025-04-09T02:16:25.785Z"
   },
   {
    "duration": 2,
    "start_time": "2025-04-09T02:16:25.862Z"
   },
   {
    "duration": 9,
    "start_time": "2025-04-09T02:16:25.866Z"
   },
   {
    "duration": 7,
    "start_time": "2025-04-09T02:16:25.876Z"
   },
   {
    "duration": 4,
    "start_time": "2025-04-09T02:16:25.885Z"
   },
   {
    "duration": 226,
    "start_time": "2025-04-09T02:16:25.891Z"
   },
   {
    "duration": 200,
    "start_time": "2025-04-09T02:16:26.124Z"
   },
   {
    "duration": 209,
    "start_time": "2025-04-09T02:16:26.327Z"
   },
   {
    "duration": 207,
    "start_time": "2025-04-09T02:16:26.538Z"
   },
   {
    "duration": 7,
    "start_time": "2025-04-09T02:16:26.747Z"
   },
   {
    "duration": 6,
    "start_time": "2025-04-09T02:16:26.755Z"
   },
   {
    "duration": 264,
    "start_time": "2025-04-09T02:16:26.762Z"
   },
   {
    "duration": 313,
    "start_time": "2025-04-09T02:16:27.028Z"
   },
   {
    "duration": 270,
    "start_time": "2025-04-09T02:16:27.343Z"
   },
   {
    "duration": 9,
    "start_time": "2025-04-09T02:16:27.615Z"
   },
   {
    "duration": 4,
    "start_time": "2025-04-09T02:16:27.629Z"
   },
   {
    "duration": 4,
    "start_time": "2025-04-09T02:16:27.635Z"
   },
   {
    "duration": 3,
    "start_time": "2025-04-09T02:16:27.642Z"
   },
   {
    "duration": 5,
    "start_time": "2025-04-09T02:16:27.646Z"
   },
   {
    "duration": 20855,
    "start_time": "2025-04-09T02:16:27.653Z"
   },
   {
    "duration": 4,
    "start_time": "2025-04-09T02:16:48.510Z"
   },
   {
    "duration": 209,
    "start_time": "2025-04-09T02:16:48.516Z"
   },
   {
    "duration": 317,
    "start_time": "2025-04-09T02:16:48.727Z"
   },
   {
    "duration": 0,
    "start_time": "2025-04-09T02:16:49.046Z"
   },
   {
    "duration": 7193,
    "start_time": "2025-04-09T02:18:25.619Z"
   },
   {
    "duration": 7317,
    "start_time": "2025-04-09T02:18:46.415Z"
   },
   {
    "duration": 7181,
    "start_time": "2025-04-09T02:21:02.852Z"
   },
   {
    "duration": 5,
    "start_time": "2025-04-09T02:21:44.684Z"
   },
   {
    "duration": 7173,
    "start_time": "2025-04-09T02:22:35.887Z"
   },
   {
    "duration": 50,
    "start_time": "2025-04-09T02:22:43.062Z"
   },
   {
    "duration": 3,
    "start_time": "2025-04-09T02:24:50.033Z"
   },
   {
    "duration": 7184,
    "start_time": "2025-04-09T02:25:13.198Z"
   },
   {
    "duration": 3,
    "start_time": "2025-04-09T02:25:20.384Z"
   },
   {
    "duration": 7184,
    "start_time": "2025-04-09T02:25:54.944Z"
   },
   {
    "duration": 3,
    "start_time": "2025-04-09T02:26:02.799Z"
   },
   {
    "duration": 46,
    "start_time": "2025-04-09T02:26:07.300Z"
   },
   {
    "duration": 18,
    "start_time": "2025-04-09T02:26:59.186Z"
   },
   {
    "duration": 47,
    "start_time": "2025-04-09T02:27:01.732Z"
   },
   {
    "duration": 164,
    "start_time": "2025-04-09T02:27:27.861Z"
   },
   {
    "duration": 12,
    "start_time": "2025-04-09T02:27:46.983Z"
   },
   {
    "duration": 48,
    "start_time": "2025-04-09T02:27:48.993Z"
   },
   {
    "duration": 67,
    "start_time": "2025-04-09T02:34:28.721Z"
   },
   {
    "duration": 79,
    "start_time": "2025-04-09T02:35:08.049Z"
   },
   {
    "duration": 157,
    "start_time": "2025-04-09T02:35:30.005Z"
   },
   {
    "duration": 74,
    "start_time": "2025-04-09T02:36:46.374Z"
   },
   {
    "duration": 38,
    "start_time": "2025-04-09T02:37:39.908Z"
   },
   {
    "duration": 5,
    "start_time": "2025-04-09T02:38:02.364Z"
   },
   {
    "duration": 380,
    "start_time": "2025-04-09T02:38:47.584Z"
   },
   {
    "duration": 77,
    "start_time": "2025-04-09T02:39:09.031Z"
   },
   {
    "duration": 89,
    "start_time": "2025-04-09T02:40:20.097Z"
   },
   {
    "duration": 102,
    "start_time": "2025-04-09T02:40:30.087Z"
   },
   {
    "duration": 372,
    "start_time": "2025-04-09T02:41:52.657Z"
   },
   {
    "duration": 119,
    "start_time": "2025-04-09T02:42:10.335Z"
   },
   {
    "duration": 274,
    "start_time": "2025-04-09T02:42:41.663Z"
   },
   {
    "duration": 109,
    "start_time": "2025-04-09T02:43:15.208Z"
   },
   {
    "duration": 122,
    "start_time": "2025-04-09T02:43:37.022Z"
   },
   {
    "duration": 101,
    "start_time": "2025-04-09T02:43:49.266Z"
   },
   {
    "duration": 365,
    "start_time": "2025-04-09T02:44:15.309Z"
   },
   {
    "duration": 104,
    "start_time": "2025-04-09T02:44:23.024Z"
   },
   {
    "duration": 100,
    "start_time": "2025-04-09T02:44:57.573Z"
   },
   {
    "duration": 118,
    "start_time": "2025-04-09T02:49:05.253Z"
   },
   {
    "duration": 122,
    "start_time": "2025-04-09T02:49:10.013Z"
   },
   {
    "duration": 101,
    "start_time": "2025-04-09T02:49:14.453Z"
   },
   {
    "duration": 6,
    "start_time": "2025-04-09T02:50:42.821Z"
   },
   {
    "duration": 3,
    "start_time": "2025-04-09T02:50:50.972Z"
   },
   {
    "duration": 106,
    "start_time": "2025-04-09T02:51:00.195Z"
   },
   {
    "duration": 107,
    "start_time": "2025-04-09T02:51:06.090Z"
   },
   {
    "duration": 101,
    "start_time": "2025-04-09T02:51:42.303Z"
   },
   {
    "duration": 101,
    "start_time": "2025-04-09T02:51:46.917Z"
   },
   {
    "duration": 102,
    "start_time": "2025-04-09T02:51:51.508Z"
   },
   {
    "duration": 125,
    "start_time": "2025-04-09T02:52:58.733Z"
   },
   {
    "duration": 263,
    "start_time": "2025-04-09T02:53:04.178Z"
   },
   {
    "duration": 120,
    "start_time": "2025-04-09T02:53:31.264Z"
   },
   {
    "duration": 112,
    "start_time": "2025-04-09T02:53:38.478Z"
   },
   {
    "duration": 110,
    "start_time": "2025-04-09T02:53:56.687Z"
   },
   {
    "duration": 233,
    "start_time": "2025-04-09T02:53:57.438Z"
   },
   {
    "duration": 109,
    "start_time": "2025-04-09T02:53:58.068Z"
   },
   {
    "duration": 115,
    "start_time": "2025-04-09T02:55:11.122Z"
   },
   {
    "duration": 123,
    "start_time": "2025-04-09T02:55:19.534Z"
   },
   {
    "duration": 212,
    "start_time": "2025-04-09T02:58:25.947Z"
   },
   {
    "duration": 1032,
    "start_time": "2025-04-09T02:58:34.899Z"
   },
   {
    "duration": 511,
    "start_time": "2025-04-09T02:58:35.933Z"
   },
   {
    "duration": 14,
    "start_time": "2025-04-09T02:58:36.446Z"
   },
   {
    "duration": 12,
    "start_time": "2025-04-09T02:58:36.462Z"
   },
   {
    "duration": 10,
    "start_time": "2025-04-09T02:58:36.476Z"
   },
   {
    "duration": 12,
    "start_time": "2025-04-09T02:58:36.488Z"
   },
   {
    "duration": 19,
    "start_time": "2025-04-09T02:58:36.524Z"
   },
   {
    "duration": 12,
    "start_time": "2025-04-09T02:58:36.544Z"
   },
   {
    "duration": 8,
    "start_time": "2025-04-09T02:58:36.558Z"
   },
   {
    "duration": 5,
    "start_time": "2025-04-09T02:58:36.568Z"
   },
   {
    "duration": 192,
    "start_time": "2025-04-09T02:58:36.574Z"
   },
   {
    "duration": 5,
    "start_time": "2025-04-09T02:58:36.767Z"
   },
   {
    "duration": 80,
    "start_time": "2025-04-09T02:58:36.773Z"
   },
   {
    "duration": 3,
    "start_time": "2025-04-09T02:58:36.857Z"
   },
   {
    "duration": 9,
    "start_time": "2025-04-09T02:58:36.861Z"
   },
   {
    "duration": 6,
    "start_time": "2025-04-09T02:58:36.872Z"
   },
   {
    "duration": 4,
    "start_time": "2025-04-09T02:58:36.880Z"
   },
   {
    "duration": 233,
    "start_time": "2025-04-09T02:58:36.885Z"
   },
   {
    "duration": 201,
    "start_time": "2025-04-09T02:58:37.120Z"
   },
   {
    "duration": 225,
    "start_time": "2025-04-09T02:58:37.323Z"
   },
   {
    "duration": 202,
    "start_time": "2025-04-09T02:58:37.550Z"
   },
   {
    "duration": 11,
    "start_time": "2025-04-09T02:58:37.754Z"
   },
   {
    "duration": 6,
    "start_time": "2025-04-09T02:58:37.766Z"
   },
   {
    "duration": 340,
    "start_time": "2025-04-09T02:58:37.774Z"
   },
   {
    "duration": 125,
    "start_time": "2025-04-09T02:58:38.116Z"
   },
   {
    "duration": 242,
    "start_time": "2025-04-09T02:58:38.242Z"
   },
   {
    "duration": 121,
    "start_time": "2025-04-09T02:58:38.486Z"
   },
   {
    "duration": 247,
    "start_time": "2025-04-09T02:58:38.609Z"
   },
   {
    "duration": 120,
    "start_time": "2025-04-09T02:58:38.859Z"
   },
   {
    "duration": 4,
    "start_time": "2025-04-09T02:58:38.981Z"
   },
   {
    "duration": 5,
    "start_time": "2025-04-09T02:58:38.987Z"
   },
   {
    "duration": 4,
    "start_time": "2025-04-09T02:58:38.994Z"
   },
   {
    "duration": 24,
    "start_time": "2025-04-09T02:58:39.000Z"
   },
   {
    "duration": 5,
    "start_time": "2025-04-09T02:58:39.025Z"
   },
   {
    "duration": 20961,
    "start_time": "2025-04-09T02:58:39.031Z"
   },
   {
    "duration": 5,
    "start_time": "2025-04-09T02:58:59.993Z"
   },
   {
    "duration": 225,
    "start_time": "2025-04-09T02:59:00.000Z"
   },
   {
    "duration": 7273,
    "start_time": "2025-04-09T02:59:00.228Z"
   },
   {
    "duration": 53,
    "start_time": "2025-04-09T02:59:07.504Z"
   },
   {
    "duration": 748,
    "start_time": "2025-04-09T03:00:21.259Z"
   },
   {
    "duration": 994,
    "start_time": "2025-04-09T03:00:33.469Z"
   },
   {
    "duration": 554,
    "start_time": "2025-04-09T03:00:34.466Z"
   },
   {
    "duration": 15,
    "start_time": "2025-04-09T03:00:35.022Z"
   },
   {
    "duration": 12,
    "start_time": "2025-04-09T03:00:35.040Z"
   },
   {
    "duration": 9,
    "start_time": "2025-04-09T03:00:35.054Z"
   },
   {
    "duration": 13,
    "start_time": "2025-04-09T03:00:35.065Z"
   },
   {
    "duration": 45,
    "start_time": "2025-04-09T03:00:35.080Z"
   },
   {
    "duration": 10,
    "start_time": "2025-04-09T03:00:35.127Z"
   },
   {
    "duration": 9,
    "start_time": "2025-04-09T03:00:35.139Z"
   },
   {
    "duration": 4,
    "start_time": "2025-04-09T03:00:35.151Z"
   },
   {
    "duration": 199,
    "start_time": "2025-04-09T03:00:35.157Z"
   },
   {
    "duration": 5,
    "start_time": "2025-04-09T03:00:35.358Z"
   },
   {
    "duration": 75,
    "start_time": "2025-04-09T03:00:35.364Z"
   },
   {
    "duration": 3,
    "start_time": "2025-04-09T03:00:35.441Z"
   },
   {
    "duration": 10,
    "start_time": "2025-04-09T03:00:35.446Z"
   },
   {
    "duration": 7,
    "start_time": "2025-04-09T03:00:35.457Z"
   },
   {
    "duration": 5,
    "start_time": "2025-04-09T03:00:35.465Z"
   },
   {
    "duration": 227,
    "start_time": "2025-04-09T03:00:35.471Z"
   },
   {
    "duration": 201,
    "start_time": "2025-04-09T03:00:35.700Z"
   },
   {
    "duration": 222,
    "start_time": "2025-04-09T03:00:35.903Z"
   },
   {
    "duration": 201,
    "start_time": "2025-04-09T03:00:36.127Z"
   },
   {
    "duration": 9,
    "start_time": "2025-04-09T03:00:36.330Z"
   },
   {
    "duration": 6,
    "start_time": "2025-04-09T03:00:36.340Z"
   },
   {
    "duration": 325,
    "start_time": "2025-04-09T03:00:36.348Z"
   },
   {
    "duration": 115,
    "start_time": "2025-04-09T03:00:36.675Z"
   },
   {
    "duration": 252,
    "start_time": "2025-04-09T03:00:36.791Z"
   },
   {
    "duration": 124,
    "start_time": "2025-04-09T03:00:37.045Z"
   },
   {
    "duration": 245,
    "start_time": "2025-04-09T03:00:37.173Z"
   },
   {
    "duration": 116,
    "start_time": "2025-04-09T03:00:37.424Z"
   },
   {
    "duration": 7,
    "start_time": "2025-04-09T03:00:37.541Z"
   },
   {
    "duration": 5,
    "start_time": "2025-04-09T03:00:37.549Z"
   },
   {
    "duration": 4,
    "start_time": "2025-04-09T03:00:37.555Z"
   },
   {
    "duration": 4,
    "start_time": "2025-04-09T03:00:37.560Z"
   },
   {
    "duration": 4,
    "start_time": "2025-04-09T03:00:37.566Z"
   },
   {
    "duration": 20988,
    "start_time": "2025-04-09T03:00:37.572Z"
   },
   {
    "duration": 4,
    "start_time": "2025-04-09T03:00:58.562Z"
   },
   {
    "duration": 165,
    "start_time": "2025-04-09T03:00:58.568Z"
   },
   {
    "duration": 7335,
    "start_time": "2025-04-09T03:00:58.739Z"
   },
   {
    "duration": 63,
    "start_time": "2025-04-09T03:01:06.076Z"
   },
   {
    "duration": 4,
    "start_time": "2025-04-09T03:01:09.830Z"
   },
   {
    "duration": 521,
    "start_time": "2025-04-09T03:01:10.139Z"
   },
   {
    "duration": 14,
    "start_time": "2025-04-09T03:01:10.661Z"
   },
   {
    "duration": 13,
    "start_time": "2025-04-09T03:01:10.898Z"
   },
   {
    "duration": 10,
    "start_time": "2025-04-09T03:01:11.135Z"
   },
   {
    "duration": 14,
    "start_time": "2025-04-09T03:01:11.361Z"
   },
   {
    "duration": 16,
    "start_time": "2025-04-09T03:01:11.738Z"
   },
   {
    "duration": 12,
    "start_time": "2025-04-09T03:01:12.726Z"
   },
   {
    "duration": 9,
    "start_time": "2025-04-09T03:01:13.675Z"
   },
   {
    "duration": 5,
    "start_time": "2025-04-09T03:01:15.121Z"
   },
   {
    "duration": 176,
    "start_time": "2025-04-09T03:01:15.569Z"
   },
   {
    "duration": 4,
    "start_time": "2025-04-09T03:01:16.318Z"
   },
   {
    "duration": 68,
    "start_time": "2025-04-09T03:01:16.539Z"
   },
   {
    "duration": 3,
    "start_time": "2025-04-09T03:01:17.231Z"
   },
   {
    "duration": 9,
    "start_time": "2025-04-09T03:01:18.586Z"
   },
   {
    "duration": 8,
    "start_time": "2025-04-09T03:01:19.362Z"
   },
   {
    "duration": 4,
    "start_time": "2025-04-09T03:01:20.105Z"
   },
   {
    "duration": 190,
    "start_time": "2025-04-09T03:01:22.274Z"
   },
   {
    "duration": 277,
    "start_time": "2025-04-09T03:01:23.049Z"
   },
   {
    "duration": 201,
    "start_time": "2025-04-09T03:01:24.373Z"
   },
   {
    "duration": 191,
    "start_time": "2025-04-09T03:01:25.664Z"
   },
   {
    "duration": 11,
    "start_time": "2025-04-09T03:01:27.297Z"
   },
   {
    "duration": 9,
    "start_time": "2025-04-09T03:01:35.339Z"
   },
   {
    "duration": 10,
    "start_time": "2025-04-09T03:02:01.241Z"
   },
   {
    "duration": 10,
    "start_time": "2025-04-09T03:02:39.033Z"
   },
   {
    "duration": 9,
    "start_time": "2025-04-09T03:03:15.740Z"
   },
   {
    "duration": 9,
    "start_time": "2025-04-09T03:03:23.628Z"
   },
   {
    "duration": 8,
    "start_time": "2025-04-09T03:04:19.801Z"
   }
  ],
  "kernelspec": {
   "display_name": "Python 3 (ipykernel)",
   "language": "python",
   "name": "python3"
  },
  "language_info": {
   "codemirror_mode": {
    "name": "ipython",
    "version": 3
   },
   "file_extension": ".py",
   "mimetype": "text/x-python",
   "name": "python",
   "nbconvert_exporter": "python",
   "pygments_lexer": "ipython3",
   "version": "3.9.19"
  },
  "toc": {
   "base_numbering": 1,
   "nav_menu": {},
   "number_sections": true,
   "sideBar": true,
   "skip_h1_title": true,
   "title_cell": "Table of Contents",
   "title_sidebar": "Contents",
   "toc_cell": false,
   "toc_position": {},
   "toc_section_display": true,
   "toc_window_display": false
  }
 },
 "nbformat": 4,
 "nbformat_minor": 2
}
